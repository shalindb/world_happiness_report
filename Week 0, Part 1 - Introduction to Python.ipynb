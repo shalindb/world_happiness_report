{
 "cells": [
  {
   "cell_type": "markdown",
   "id": "postal-timber",
   "metadata": {},
   "source": [
    "# Week 0 (Part 1): Python Introduction\n",
    "\n",
    "Hello hello, if you are reading this then you must be here for a little tutorial on some of the technologies we will be using over the course of the semester. It's honestly going to be pretty hard to teach you Python and pandas if you have never seen it before, so if you have not, hopefully this is enough for you to get a little taste of what we will be working with. Moreover, I will provide some links for you to check out for extra practice!"
   ]
  },
  {
   "cell_type": "markdown",
   "id": "fitting-monkey",
   "metadata": {},
   "source": [
    "# 1.1 Python Basics\n",
    "I have adapted [this](https://colab.research.google.com/github/jckantor/CBE30338/blob/master/docs/01.02-Python-Basics.ipynb#scrollTo=LSb7pCBOSwKA) Python tutorial from Jacob Gerace, he deserves 99% of the credit."
   ]
  },
  {
   "cell_type": "markdown",
   "id": "falling-stone",
   "metadata": {},
   "source": [
    "## Variables"
   ]
  },
  {
   "cell_type": "code",
   "execution_count": 3,
   "id": "instant-maintenance",
   "metadata": {},
   "outputs": [
    {
     "name": "stdout",
     "output_type": "stream",
     "text": [
      "42\n",
      "3.1415\n"
     ]
    }
   ],
   "source": [
    "#A variable stores a piece of data and gives it a name\n",
    "answer = 42\n",
    "\n",
    "#answer contained an integer because we gave it an integer!\n",
    "\n",
    "is_it_thursday = True\n",
    "is_it_wednesday = False\n",
    "\n",
    "#these both are 'booleans' or true/false values\n",
    "\n",
    "pi_approx = 3.1415\n",
    "\n",
    "#This will be a floating point number, or a number containing digits after the decimal point\n",
    "\n",
    "what_is_this_project_about = \"Happiness\"\n",
    "#This is a string datatype, the name coming from a string of characters\n",
    "\n",
    "#Data doesn't have to be a singular unit\n",
    "\n",
    "#p.s., we can print all of these with a print command. For Example:\n",
    "print(answer)\n",
    "print(pi_approx)"
   ]
  },
  {
   "cell_type": "markdown",
   "id": "hawaiian-training",
   "metadata": {},
   "source": [
    "## More Complicated Data Types"
   ]
  },
  {
   "cell_type": "code",
   "execution_count": 4,
   "id": "independent-amount",
   "metadata": {},
   "outputs": [
    {
     "name": "stdout",
     "output_type": "stream",
     "text": [
      "['Green', 'Blue', 'Red']\n",
      "[10, 20, 30, 40, 50, 'Sixty']\n",
      "Green\n",
      "Red\n",
      "Rosa Parks\n"
     ]
    }
   ],
   "source": [
    "\n",
    "#What if we want to store many integers? We need a list!\n",
    "prices = [10, 20, 30, 40, 50]\n",
    "\n",
    "#This is a way to define a list in place. We can also make an empty list and add to it.\n",
    "colors = []\n",
    "\n",
    "colors.append(\"Green\")\n",
    "colors.append(\"Blue\")\n",
    "colors.append(\"Red\")\n",
    "\n",
    "print(colors)\n",
    "\n",
    "#We can also add unlike data to a list\n",
    "prices.append(\"Sixty\")\n",
    "\n",
    "#As an exercise, look up lists in python and find out how to add in the middle of a list!\n",
    "\n",
    "print(prices)\n",
    "#We can access a specific element of a list too:\n",
    "\n",
    "print(colors[0])\n",
    "print(colors[2])\n",
    "\n",
    "#Notice here how the first element of the list is index 0, not 1! \n",
    "\n",
    "#In addition to lists, there are tuples\n",
    "#Tuples behave very similarly to lists except that you can't change them \n",
    "# after you make them\n",
    "\n",
    "#An empty Tuple isn't very useful:\n",
    "empty_tuple = ()\n",
    "\n",
    "#Nor is a tuple with just one value:\n",
    "one_tuple = (\"first\",)\n",
    "\n",
    "#But tuples with many values are useful:\n",
    "rosa_parks_info = (\"Rosa\", \"Parks\", 1913, \"February\", 4)\n",
    "\n",
    "#You can access tuples just like lists\n",
    "print(rosa_parks_info[0] + \" \" + rosa_parks_info[1])\n",
    "\n",
    "# You cannot modify existing tuples, but you can make new tuples that extend \n",
    "# the information.\n",
    "# I expect Tuples to come up less than lists. So we'll just leave it at that. "
   ]
  },
  {
   "cell_type": "markdown",
   "id": "wrapped-stability",
   "metadata": {},
   "source": [
    "## Using Variables"
   ]
  },
  {
   "cell_type": "code",
   "execution_count": 5,
   "id": "lesbian-greene",
   "metadata": {},
   "outputs": [
    {
     "name": "stdout",
     "output_type": "stream",
     "text": [
      "8.0\n",
      "3.5\n",
      "12.9375\n",
      "2.5555555555555554\n",
      "1\n"
     ]
    }
   ],
   "source": [
    "float1 = 5.75\n",
    "float2 = 2.25\n",
    "#Addition, subtraction, multiplication, division are as you expect\n",
    "\n",
    "print(float1 + float2)\n",
    "print(float1 - float2)\n",
    "print(float1 * float2)\n",
    "print(float1 / float2)\n",
    "\n",
    "#Here's an interesting one that showed up in the first homework in 2017. Modulus: \n",
    "print(5 % 2)"
   ]
  },
  {
   "cell_type": "markdown",
   "id": "composed-balance",
   "metadata": {},
   "source": [
    "## Importing in Python: Math and Plotting"
   ]
  },
  {
   "cell_type": "code",
   "execution_count": 6,
   "id": "turned-visitor",
   "metadata": {},
   "outputs": [
    {
     "name": "stdout",
     "output_type": "stream",
     "text": [
      "1.749199854809259\n",
      "9.487735836358526\n",
      "32.0\n",
      "32.0\n",
      "[1, 2, 3, 4, 5, 1, 2, 3, 4, 5]\n"
     ]
    }
   ],
   "source": [
    "#Just about every standard math function on a calculator has a python equivalent pre made.\n",
    "#however, they are from the 'math' package in python. Let's add that package!\n",
    "import math\n",
    "print(math.log(float1))\n",
    "print(math.exp(float2))\n",
    "print(math.pow(2,5))\n",
    "# There is a quicker way to write exponents if you want:\n",
    "print(2.0**5.0)\n",
    "\n",
    "#Like in MATLAB, you can expand the math to entire lists\n",
    "list3 = [1, 2, 3, 4, 5]\n",
    "print(2 * list3)"
   ]
  },
  {
   "cell_type": "code",
   "execution_count": 8,
   "id": "removable-bruce",
   "metadata": {},
   "outputs": [
    {
     "name": "stdout",
     "output_type": "stream",
     "text": [
      "Requirement already satisfied: matplotlib in /Library/Frameworks/Python.framework/Versions/3.7/lib/python3.7/site-packages (3.1.1)\n",
      "Requirement already satisfied: cycler>=0.10 in /Library/Frameworks/Python.framework/Versions/3.7/lib/python3.7/site-packages (from matplotlib) (0.10.0)\n",
      "Requirement already satisfied: python-dateutil>=2.1 in /Library/Frameworks/Python.framework/Versions/3.7/lib/python3.7/site-packages (from matplotlib) (2.8.1)\n",
      "Requirement already satisfied: numpy>=1.11 in /Library/Frameworks/Python.framework/Versions/3.7/lib/python3.7/site-packages (from matplotlib) (1.19.5)\n",
      "Requirement already satisfied: kiwisolver>=1.0.1 in /Library/Frameworks/Python.framework/Versions/3.7/lib/python3.7/site-packages (from matplotlib) (1.1.0)\n",
      "Requirement already satisfied: pyparsing!=2.0.4,!=2.1.2,!=2.1.6,>=2.0.1 in /Library/Frameworks/Python.framework/Versions/3.7/lib/python3.7/site-packages (from matplotlib) (2.4.5)\n",
      "Requirement already satisfied: six in /Library/Frameworks/Python.framework/Versions/3.7/lib/python3.7/site-packages (from cycler>=0.10->matplotlib) (1.15.0)\n",
      "Requirement already satisfied: setuptools in /Library/Frameworks/Python.framework/Versions/3.7/lib/python3.7/site-packages (from kiwisolver>=1.0.1->matplotlib) (53.0.0)\n",
      "\u001b[33mWARNING: You are using pip version 21.0.1; however, version 21.2.4 is available.\n",
      "You should consider upgrading via the '/Library/Frameworks/Python.framework/Versions/3.7/bin/python3.7 -m pip install --upgrade pip' command.\u001b[0m\n"
     ]
    },
    {
     "data": {
      "text/plain": [
       "[<matplotlib.lines.Line2D at 0x7fc62d5b51d0>]"
      ]
     },
     "execution_count": 8,
     "metadata": {},
     "output_type": "execute_result"
    },
    {
     "data": {
      "image/png": "[encoded data removed]",
      "text/plain": [
       "<Figure size 432x288 with 1 Axes>"
      ]
     },
     "metadata": {
      "needs_background": "light"
     },
     "output_type": "display_data"
    }
   ],
   "source": [
    "#We can plot easily in Python, just import the relevant package!\n",
    "!pip install matplotlib\n",
    "%matplotlib inline\n",
    "import matplotlib.pyplot as plt\n",
    "\n",
    "x_vals = [-2, -1, 0, 1, 2]\n",
    "y_vals = [-4, -2, 0, 2, 4]\n",
    "plt.plot(x_vals, y_vals)"
   ]
  },
  {
   "cell_type": "markdown",
   "id": "fundamental-wrong",
   "metadata": {},
   "source": [
    "## Loops in Python"
   ]
  },
  {
   "cell_type": "code",
   "execution_count": 9,
   "id": "judicial-force",
   "metadata": {},
   "outputs": [
    {
     "name": "stdout",
     "output_type": "stream",
     "text": [
      "1\n",
      "1\n",
      "2\n",
      "3\n",
      "5\n",
      "8\n",
      "Let's try that again\n",
      "1\n",
      "1\n",
      "2\n",
      "3\n",
      "5\n",
      "8\n",
      "One more time:\n",
      "1\n",
      "1\n",
      "2\n",
      "3\n",
      "5\n",
      "8\n"
     ]
    }
   ],
   "source": [
    "#Repeat code until a conditional statement ends the loop\n",
    "\n",
    "#Let's try printing a list\n",
    "fib = [1, 1, 2, 3, 5, 8]\n",
    "\n",
    "#While loops are the basic type\n",
    "i = 0\n",
    "while(i < len(fib)):\n",
    "    print(fib[i])\n",
    "    i = i + 1\n",
    "    \n",
    "#The above type of loop is so common that the 'for' loop is the way to write it faster.\n",
    "\n",
    "print(\"Let's try that again\")\n",
    "#This is most similar to for loops in matlab\n",
    "for i in range(0, len(fib)) :\n",
    "    print(fib[i])\n",
    "\n",
    "print(\"One more time:\")\n",
    "#Or you can do so even neater\n",
    "for e in fib:\n",
    "    print(e)"
   ]
  },
  {
   "cell_type": "markdown",
   "id": "plain-average",
   "metadata": {},
   "source": [
    "## Additional Resources\n",
    "## 1.2.3 Additional Resources\n",
    "* If you still feel VERY lost: [Code Academy](https://www.codecademy.com/learn/python)\n",
    "\n",
    "* If you want a good reference site: [Official Python Reference](https://docs.python.org/2/reference/)\n",
    "\n",
    "* If you want to learn python robustly: [Learn Python the Hard Way](https://learnpythonthehardway.org/book/)"
   ]
  },
  {
   "cell_type": "code",
   "execution_count": null,
   "id": "configured-economy",
   "metadata": {},
   "outputs": [],
   "source": []
  }
 ],
 "metadata": {
  "kernelspec": {
   "display_name": "Python 3",
   "language": "python",
   "name": "python3"
  },
  "language_info": {
   "codemirror_mode": {
    "name": "ipython",
    "version": 3
   },
   "file_extension": ".py",
   "mimetype": "text/x-python",
   "name": "python",
   "nbconvert_exporter": "python",
   "pygments_lexer": "ipython3",
   "version": "3.7.3"
  }
 },
 "nbformat": 4,
 "nbformat_minor": 5
}
