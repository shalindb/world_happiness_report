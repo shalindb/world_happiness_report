{
 "cells": [
  {
   "cell_type": "markdown",
   "id": "voluntary-robertson",
   "metadata": {},
   "source": [
    "# Week 3: Silly goofy Visualizations + Outlier Extravaganza\n",
    "\n",
    "## This Week's Content\n",
    "This week, we will be taking it step by step and starting with some visualizations via Plotly and Matplotlib to explore the dataset (think of it like an extended EDA) a little more and get a grasp on what the data looks like from a few perspectives. I thought this was a fun one because there are so many ways data scientists can view a dataset with the literal bajillions of options to visualize something these days. Let's explore a few of them : )\n",
    "\n",
    "So the way this week will work will be that I will *attempt* to teach what each visualization is, why it may be important, ask a short coding and qualitative question, and then provide a demo for you guys!\n",
    "\n",
    "### Relevant Libraries\n",
    "[pandas](https://pandas.pydata.org/): a fast, powerful, flexible and easy to use open source data analysis and manipulation tool built on top of the Python programming language. It is one of the most common libraries used in data analysis and we will primarily be using the pandas DataFrame to manipulate our data.\n",
    "\n",
    "[numpy](https://numpy.org/): the fundamental package for scientific computing in Python. It is a Python library that provides a multidimensional array object, various derived objects (such as masked arrays and matrices), and an assortment of routines for fast operations on arrays, including mathematical, logical, shape manipulation, sorting, selecting, I/O, discrete Fourier transforms, basic linear algebra, basic statistical operations, random simulation and much more.\n",
    "\n",
    "[matplotlib](https://matplotlib.org/): a comprehensive library for creating static, animated, and interactive visualizations in Python. Many of the matplotlib functions are built into pandas DataFrames, so we will likely not have to call them directly.\n",
    "\n",
    "[plotly](https://plotly.com/python/): Plotly's Python graphing library makes interactive, publication-quality graphs. Examples of how to make line plots, scatter plots, area charts, bar charts, error bars, box plots, histograms, heatmaps, subplots, multiple-axes, polar charts, and bubble charts.\n",
    "\n",
    "[scipy](https://docs.scipy.org/doc/scipy/reference/stats.html): This module contains a large number of probability distributions, summary and frequency statistics, correlation functions and statistical tests, masked statistics, kernel density estimation, quasi-Monte Carlo functionality, and more."
   ]
  },
  {
   "cell_type": "code",
   "execution_count": 2,
   "id": "automotive-arbor",
   "metadata": {},
   "outputs": [
    {
     "data": {
      "text/html": [
       "        <script type=\"text/javascript\">\n",
       "        window.PlotlyConfig = {MathJaxConfig: 'local'};\n",
       "        if (window.MathJax) {MathJax.Hub.Config({SVG: {font: \"STIX-Web\"}});}\n",
       "        if (typeof require !== 'undefined') {\n",
       "        require.undef(\"plotly\");\n",
       "        requirejs.config({\n",
       "            paths: {\n",
       "                'plotly': ['https://cdn.plot.ly/plotly-latest.min']\n",
       "            }\n",
       "        });\n",
       "        require(['plotly'], function(Plotly) {\n",
       "            window._Plotly = Plotly;\n",
       "        });\n",
       "        }\n",
       "        </script>\n",
       "        "
      ]
     },
     "metadata": {},
     "output_type": "display_data"
    }
   ],
   "source": [
    "# Uncomment and run the lines below if the code below causes an issue, you may need to download some of these pkgs\n",
    "# !pip install plotly\n",
    "# !pip install scipy\n",
    "\n",
    "import numpy as np\n",
    "import pandas as pd\n",
    "from plotly.offline import init_notebook_mode, iplot, plot\n",
    "import plotly as py\n",
    "init_notebook_mode(connected=True)\n",
    "import plotly.graph_objs as go\n",
    "import matplotlib.pyplot as plt\n",
    "from scipy import stats"
   ]
  },
  {
   "cell_type": "markdown",
   "id": "afraid-warehouse",
   "metadata": {},
   "source": [
    "# Now for the content!\n",
    "## First, load in our beautifully cleaned dataset"
   ]
  },
  {
   "cell_type": "code",
   "execution_count": 3,
   "id": "eligible-apache",
   "metadata": {},
   "outputs": [
    {
     "data": {
      "text/html": [
       "<div>\n",
       "<style scoped>\n",
       "    .dataframe tbody tr th:only-of-type {\n",
       "        vertical-align: middle;\n",
       "    }\n",
       "\n",
       "    .dataframe tbody tr th {\n",
       "        vertical-align: top;\n",
       "    }\n",
       "\n",
       "    .dataframe thead th {\n",
       "        text-align: right;\n",
       "    }\n",
       "</style>\n",
       "<table border=\"1\" class=\"dataframe\">\n",
       "  <thead>\n",
       "    <tr style=\"text-align: right;\">\n",
       "      <th></th>\n",
       "      <th>Country</th>\n",
       "      <th>Region</th>\n",
       "      <th>Happiness Rank</th>\n",
       "      <th>Happiness Score</th>\n",
       "      <th>Economy (GDP per Capita)</th>\n",
       "      <th>Family</th>\n",
       "      <th>Health (Life Expectancy)</th>\n",
       "      <th>Freedom</th>\n",
       "      <th>Trust (Government Corruption)</th>\n",
       "      <th>Generosity</th>\n",
       "      <th>Dystopia Residual</th>\n",
       "      <th>Year</th>\n",
       "    </tr>\n",
       "  </thead>\n",
       "  <tbody>\n",
       "    <tr>\n",
       "      <th>0</th>\n",
       "      <td>Switzerland</td>\n",
       "      <td>Western Europe</td>\n",
       "      <td>1</td>\n",
       "      <td>7.587</td>\n",
       "      <td>1.39651</td>\n",
       "      <td>1.34951</td>\n",
       "      <td>0.94143</td>\n",
       "      <td>0.66557</td>\n",
       "      <td>0.41978</td>\n",
       "      <td>0.29678</td>\n",
       "      <td>2.51738</td>\n",
       "      <td>2015</td>\n",
       "    </tr>\n",
       "    <tr>\n",
       "      <th>1</th>\n",
       "      <td>Iceland</td>\n",
       "      <td>Western Europe</td>\n",
       "      <td>2</td>\n",
       "      <td>7.561</td>\n",
       "      <td>1.30232</td>\n",
       "      <td>1.40223</td>\n",
       "      <td>0.94784</td>\n",
       "      <td>0.62877</td>\n",
       "      <td>0.14145</td>\n",
       "      <td>0.43630</td>\n",
       "      <td>2.70201</td>\n",
       "      <td>2015</td>\n",
       "    </tr>\n",
       "    <tr>\n",
       "      <th>2</th>\n",
       "      <td>Denmark</td>\n",
       "      <td>Western Europe</td>\n",
       "      <td>3</td>\n",
       "      <td>7.527</td>\n",
       "      <td>1.32548</td>\n",
       "      <td>1.36058</td>\n",
       "      <td>0.87464</td>\n",
       "      <td>0.64938</td>\n",
       "      <td>0.48357</td>\n",
       "      <td>0.34139</td>\n",
       "      <td>2.49204</td>\n",
       "      <td>2015</td>\n",
       "    </tr>\n",
       "    <tr>\n",
       "      <th>3</th>\n",
       "      <td>Norway</td>\n",
       "      <td>Western Europe</td>\n",
       "      <td>4</td>\n",
       "      <td>7.522</td>\n",
       "      <td>1.45900</td>\n",
       "      <td>1.33095</td>\n",
       "      <td>0.88521</td>\n",
       "      <td>0.66973</td>\n",
       "      <td>0.36503</td>\n",
       "      <td>0.34699</td>\n",
       "      <td>2.46531</td>\n",
       "      <td>2015</td>\n",
       "    </tr>\n",
       "    <tr>\n",
       "      <th>4</th>\n",
       "      <td>Canada</td>\n",
       "      <td>North America</td>\n",
       "      <td>5</td>\n",
       "      <td>7.427</td>\n",
       "      <td>1.32629</td>\n",
       "      <td>1.32261</td>\n",
       "      <td>0.90563</td>\n",
       "      <td>0.63297</td>\n",
       "      <td>0.32957</td>\n",
       "      <td>0.45811</td>\n",
       "      <td>2.45176</td>\n",
       "      <td>2015</td>\n",
       "    </tr>\n",
       "    <tr>\n",
       "      <th>...</th>\n",
       "      <td>...</td>\n",
       "      <td>...</td>\n",
       "      <td>...</td>\n",
       "      <td>...</td>\n",
       "      <td>...</td>\n",
       "      <td>...</td>\n",
       "      <td>...</td>\n",
       "      <td>...</td>\n",
       "      <td>...</td>\n",
       "      <td>...</td>\n",
       "      <td>...</td>\n",
       "      <td>...</td>\n",
       "    </tr>\n",
       "    <tr>\n",
       "      <th>777</th>\n",
       "      <td>Rwanda</td>\n",
       "      <td>Sub-Saharan Africa</td>\n",
       "      <td>152</td>\n",
       "      <td>3.334</td>\n",
       "      <td>0.35900</td>\n",
       "      <td>0.71100</td>\n",
       "      <td>0.61400</td>\n",
       "      <td>0.55500</td>\n",
       "      <td>0.41100</td>\n",
       "      <td>0.21700</td>\n",
       "      <td>0.00000</td>\n",
       "      <td>2019</td>\n",
       "    </tr>\n",
       "    <tr>\n",
       "      <th>778</th>\n",
       "      <td>Tanzania</td>\n",
       "      <td>Sub-Saharan Africa</td>\n",
       "      <td>153</td>\n",
       "      <td>3.231</td>\n",
       "      <td>0.47600</td>\n",
       "      <td>0.88500</td>\n",
       "      <td>0.49900</td>\n",
       "      <td>0.41700</td>\n",
       "      <td>0.14700</td>\n",
       "      <td>0.27600</td>\n",
       "      <td>0.00000</td>\n",
       "      <td>2019</td>\n",
       "    </tr>\n",
       "    <tr>\n",
       "      <th>779</th>\n",
       "      <td>Afghanistan</td>\n",
       "      <td>Southern Asia</td>\n",
       "      <td>154</td>\n",
       "      <td>3.203</td>\n",
       "      <td>0.35000</td>\n",
       "      <td>0.51700</td>\n",
       "      <td>0.36100</td>\n",
       "      <td>0.00000</td>\n",
       "      <td>0.02500</td>\n",
       "      <td>0.15800</td>\n",
       "      <td>0.00000</td>\n",
       "      <td>2019</td>\n",
       "    </tr>\n",
       "    <tr>\n",
       "      <th>780</th>\n",
       "      <td>Central African Republic</td>\n",
       "      <td>Sub-Saharan Africa</td>\n",
       "      <td>155</td>\n",
       "      <td>3.083</td>\n",
       "      <td>0.02600</td>\n",
       "      <td>0.00000</td>\n",
       "      <td>0.10500</td>\n",
       "      <td>0.22500</td>\n",
       "      <td>0.03500</td>\n",
       "      <td>0.23500</td>\n",
       "      <td>0.00000</td>\n",
       "      <td>2019</td>\n",
       "    </tr>\n",
       "    <tr>\n",
       "      <th>781</th>\n",
       "      <td>South Sudan</td>\n",
       "      <td>Sub-Saharan Africa</td>\n",
       "      <td>156</td>\n",
       "      <td>2.853</td>\n",
       "      <td>0.30600</td>\n",
       "      <td>0.57500</td>\n",
       "      <td>0.29500</td>\n",
       "      <td>0.01000</td>\n",
       "      <td>0.09100</td>\n",
       "      <td>0.20200</td>\n",
       "      <td>0.00000</td>\n",
       "      <td>2019</td>\n",
       "    </tr>\n",
       "  </tbody>\n",
       "</table>\n",
       "<p>782 rows × 12 columns</p>\n",
       "</div>"
      ],
      "text/plain": [
       "                      Country              Region  Happiness Rank  \\\n",
       "0                 Switzerland      Western Europe               1   \n",
       "1                     Iceland      Western Europe               2   \n",
       "2                     Denmark      Western Europe               3   \n",
       "3                      Norway      Western Europe               4   \n",
       "4                      Canada       North America               5   \n",
       "..                        ...                 ...             ...   \n",
       "777                    Rwanda  Sub-Saharan Africa             152   \n",
       "778                  Tanzania  Sub-Saharan Africa             153   \n",
       "779               Afghanistan       Southern Asia             154   \n",
       "780  Central African Republic  Sub-Saharan Africa             155   \n",
       "781               South Sudan  Sub-Saharan Africa             156   \n",
       "\n",
       "     Happiness Score  Economy (GDP per Capita)   Family  \\\n",
       "0              7.587                   1.39651  1.34951   \n",
       "1              7.561                   1.30232  1.40223   \n",
       "2              7.527                   1.32548  1.36058   \n",
       "3              7.522                   1.45900  1.33095   \n",
       "4              7.427                   1.32629  1.32261   \n",
       "..               ...                       ...      ...   \n",
       "777            3.334                   0.35900  0.71100   \n",
       "778            3.231                   0.47600  0.88500   \n",
       "779            3.203                   0.35000  0.51700   \n",
       "780            3.083                   0.02600  0.00000   \n",
       "781            2.853                   0.30600  0.57500   \n",
       "\n",
       "     Health (Life Expectancy)  Freedom  Trust (Government Corruption)  \\\n",
       "0                     0.94143  0.66557                        0.41978   \n",
       "1                     0.94784  0.62877                        0.14145   \n",
       "2                     0.87464  0.64938                        0.48357   \n",
       "3                     0.88521  0.66973                        0.36503   \n",
       "4                     0.90563  0.63297                        0.32957   \n",
       "..                        ...      ...                            ...   \n",
       "777                   0.61400  0.55500                        0.41100   \n",
       "778                   0.49900  0.41700                        0.14700   \n",
       "779                   0.36100  0.00000                        0.02500   \n",
       "780                   0.10500  0.22500                        0.03500   \n",
       "781                   0.29500  0.01000                        0.09100   \n",
       "\n",
       "     Generosity  Dystopia Residual  Year  \n",
       "0       0.29678            2.51738  2015  \n",
       "1       0.43630            2.70201  2015  \n",
       "2       0.34139            2.49204  2015  \n",
       "3       0.34699            2.46531  2015  \n",
       "4       0.45811            2.45176  2015  \n",
       "..          ...                ...   ...  \n",
       "777     0.21700            0.00000  2019  \n",
       "778     0.27600            0.00000  2019  \n",
       "779     0.15800            0.00000  2019  \n",
       "780     0.23500            0.00000  2019  \n",
       "781     0.20200            0.00000  2019  \n",
       "\n",
       "[782 rows x 12 columns]"
      ]
     },
     "execution_count": 3,
     "metadata": {},
     "output_type": "execute_result"
    }
   ],
   "source": [
    "# For some reason when we load in the data a random Unnamed column shows up, so we are gonna drop it like it's hot\n",
    "whr_data = pd.read_csv('https://github.com/shalindb/world_happiness_report/blob/main/data/cleaned_WHR_data.csv?raw=true').drop('Unnamed: 0', axis=1) \n",
    "whr_data"
   ]
  },
  {
   "cell_type": "markdown",
   "id": "removable-duplicate",
   "metadata": {},
   "source": [
    "# Scatterplots\n",
    "Let's start with a common visualization method most people have heard of and are pretty familiar with: scatterplots!\n",
    "\n",
    "To start us off, scatterplots are a type of data visualization that lets us compare two numerical variables and check for correlations (positive, negative, or neutral). Pretty simple, but these allow us to visualize things like certain correlations that we saw in an earlier week's correlation matrix, the change in happiness scores over time, etc!\n"
   ]
  },
  {
   "cell_type": "markdown",
   "id": "neural-agriculture",
   "metadata": {},
   "source": [
    "Alright, before we get into something crazy like an overlaid scatterplot (wtf is that, you may ask? I just learned about it 5 minutes ago, so we are going through this together), my task for you is to create the x and y values you'd like to use - AKA, what two features would you like to plot against each other?\n",
    "\n",
    "I have some skeleton code for you to use below, and I set up the plotly visualization below!\n",
    "Below are some hints for the ellipses. If you are stuck for too long, double click on the associated hint to get the answer : )"
   ]
  },
  {
   "cell_type": "markdown",
   "id": "assumed-bradley",
   "metadata": {},
   "source": [
    "Hint for first set of ellipses: We want to find out where the Year is 2015!\n",
    "<!-- Answer: whr_data['Year'] == 2015 -->"
   ]
  },
  {
   "cell_type": "markdown",
   "id": "dental-salvation",
   "metadata": {},
   "source": [
    "Hint for second set of ellipses: We want to get the first twenty rows (Try using [this](https://pandas.pydata.org/pandas-docs/stable/reference/api/pandas.DataFrame.iloc.html))\n",
    "\n",
    "<!-- Answer: .iloc[:20, :] -->"
   ]
  },
  {
   "cell_type": "markdown",
   "id": "divine-reach",
   "metadata": {},
   "source": [
    "Hint for third set of ellipses: We simply want to index the feature name we are trying to get\n",
    "\n",
    "<!-- Answer: 'Feature Name' -->\n",
    "<!-- What I mean by this is that you can use any of the feature names i.e. Family, Freedom, Generosity, etc -->"
   ]
  },
  {
   "cell_type": "code",
   "execution_count": 4,
   "id": "handed-timothy",
   "metadata": {},
   "outputs": [],
   "source": [
    "x_data = whr_data.loc[whr_data['Year'] == 2015].iloc[:20, :]['Family']\n",
    "\n",
    "y_data = whr_data.loc[whr_data['Year'] == 2015].iloc[:20, :]['Freedom'] # fill this out with the same exact code as above, just change your feature name!\n"
   ]
  },
  {
   "cell_type": "code",
   "execution_count": 113,
   "id": "chronic-crawford",
   "metadata": {},
   "outputs": [
    {
     "data": {
      "application/vnd.plotly.v1+json": {
       "config": {
        "linkText": "Export to plot.ly",
        "plotlyServerURL": "https://plot.ly",
        "showLink": false
       },
       "data": [
        {
         "marker": {
          "color": "blue"
         },
         "mode": "markers",
         "name": "2015",
         "text": [
          "Switzerland",
          "Iceland",
          "Denmark",
          "Norway",
          "Canada",
          "Finland",
          "Netherlands",
          "Sweden",
          "New Zealand",
          "Australia",
          "Israel",
          "Costa Rica",
          "Austria",
          "Mexico",
          "United States",
          "Brazil",
          "Luxembourg",
          "Ireland",
          "Belgium",
          "United Arab Emirates",
          "United Kingdom",
          "Oman",
          "Venezuela",
          "Singapore",
          "Panama",
          "Germany",
          "Chile",
          "Qatar",
          "France",
          "Argentina",
          "Czech Republic",
          "Uruguay",
          "Colombia",
          "Thailand",
          "Saudi Arabia",
          "Spain",
          "Malta",
          "Taiwan",
          "Kuwait",
          "Suriname",
          "Trinidad and Tobago",
          "El Salvador",
          "Guatemala",
          "Uzbekistan",
          "Slovakia",
          "Japan",
          "South Korea",
          "Ecuador",
          "Bahrain",
          "Italy",
          "Bolivia",
          "Moldova",
          "Paraguay",
          "Kazakhstan",
          "Slovenia",
          "Lithuania",
          "Nicaragua",
          "Peru",
          "Belarus",
          "Poland",
          "Malaysia",
          "Croatia",
          "Libya",
          "Russia",
          "Jamaica",
          "North Cyprus",
          "Cyprus",
          "Algeria",
          "Kosovo",
          "Turkmenistan",
          "Mauritius",
          "Hong Kong",
          "Estonia",
          "Indonesia",
          "Vietnam",
          "Turkey",
          "Kyrgyzstan",
          "Nigeria",
          "Bhutan",
          "Azerbaijan",
          "Pakistan",
          "Jordan",
          "Montenegro",
          "China",
          "Zambia",
          "Romania",
          "Serbia",
          "Portugal",
          "Latvia",
          "Philippines",
          "Somaliland region",
          "Morocco",
          "Macedonia",
          "Mozambique",
          "Albania",
          "Bosnia and Herzegovina",
          "Lesotho",
          "Dominican Republic",
          "Laos",
          "Mongolia",
          "Swaziland",
          "Greece",
          "Lebanon",
          "Hungary",
          "Honduras",
          "Tajikistan",
          "Tunisia",
          "Palestinian Territories",
          "Bangladesh",
          "Iran",
          "Ukraine",
          "Iraq",
          "South Africa",
          "Ghana",
          "Zimbabwe",
          "Liberia",
          "India",
          "Sudan",
          "Haiti",
          "Congo (Kinshasa)",
          "Nepal",
          "Ethiopia",
          "Sierra Leone",
          "Mauritania",
          "Kenya",
          "Djibouti",
          "Armenia",
          "Botswana",
          "Myanmar",
          "Georgia",
          "Malawi",
          "Sri Lanka",
          "Cameroon",
          "Bulgaria",
          "Egypt",
          "Yemen",
          "Angola",
          "Mali",
          "Congo (Brazzaville)",
          "Comoros",
          "Uganda",
          "Senegal",
          "Gabon",
          "Niger",
          "Cambodia",
          "Tanzania",
          "Madagascar",
          "Central African Republic",
          "Chad",
          "Guinea",
          "Ivory Coast",
          "Burkina Faso",
          "Afghanistan",
          "Rwanda",
          "Benin",
          "Syria",
          "Burundi",
          "Togo"
         ],
         "type": "scatter",
         "x": [
          1.34951,
          1.40223,
          1.36058,
          1.33095,
          1.32261,
          1.31826,
          1.28017,
          1.28907,
          1.31967,
          1.30923,
          1.22393,
          1.23788,
          1.29704,
          0.91451,
          1.24711,
          1.23287,
          1.21963,
          1.36948,
          1.28566,
          1.12575
         ],
         "y": [
          0.66557,
          0.62877,
          0.64938,
          0.66973,
          0.63297,
          0.64169,
          0.61576,
          0.6598,
          0.63938,
          0.65124,
          0.41319,
          0.63376,
          0.62433,
          0.48181,
          0.54604,
          0.49049,
          0.61583,
          0.61777,
          0.5845,
          0.64157
         ]
        }
       ],
       "layout": {
        "hovermode": "x",
        "template": {
         "data": {
          "bar": [
           {
            "error_x": {
             "color": "#2a3f5f"
            },
            "error_y": {
             "color": "#2a3f5f"
            },
            "marker": {
             "line": {
              "color": "#E5ECF6",
              "width": 0.5
             }
            },
            "type": "bar"
           }
          ],
          "barpolar": [
           {
            "marker": {
             "line": {
              "color": "#E5ECF6",
              "width": 0.5
             }
            },
            "type": "barpolar"
           }
          ],
          "carpet": [
           {
            "aaxis": {
             "endlinecolor": "#2a3f5f",
             "gridcolor": "white",
             "linecolor": "white",
             "minorgridcolor": "white",
             "startlinecolor": "#2a3f5f"
            },
            "baxis": {
             "endlinecolor": "#2a3f5f",
             "gridcolor": "white",
             "linecolor": "white",
             "minorgridcolor": "white",
             "startlinecolor": "#2a3f5f"
            },
            "type": "carpet"
           }
          ],
          "choropleth": [
           {
            "colorbar": {
             "outlinewidth": 0,
             "ticks": ""
            },
            "type": "choropleth"
           }
          ],
          "contour": [
           {
            "colorbar": {
             "outlinewidth": 0,
             "ticks": ""
            },
            "colorscale": [
             [
              0,
              "#0d0887"
             ],
             [
              0.1111111111111111,
              "#46039f"
             ],
             [
              0.2222222222222222,
              "#7201a8"
             ],
             [
              0.3333333333333333,
              "#9c179e"
             ],
             [
              0.4444444444444444,
              "#bd3786"
             ],
             [
              0.5555555555555556,
              "#d8576b"
             ],
             [
              0.6666666666666666,
              "#ed7953"
             ],
             [
              0.7777777777777778,
              "#fb9f3a"
             ],
             [
              0.8888888888888888,
              "#fdca26"
             ],
             [
              1,
              "#f0f921"
             ]
            ],
            "type": "contour"
           }
          ],
          "contourcarpet": [
           {
            "colorbar": {
             "outlinewidth": 0,
             "ticks": ""
            },
            "type": "contourcarpet"
           }
          ],
          "heatmap": [
           {
            "colorbar": {
             "outlinewidth": 0,
             "ticks": ""
            },
            "colorscale": [
             [
              0,
              "#0d0887"
             ],
             [
              0.1111111111111111,
              "#46039f"
             ],
             [
              0.2222222222222222,
              "#7201a8"
             ],
             [
              0.3333333333333333,
              "#9c179e"
             ],
             [
              0.4444444444444444,
              "#bd3786"
             ],
             [
              0.5555555555555556,
              "#d8576b"
             ],
             [
              0.6666666666666666,
              "#ed7953"
             ],
             [
              0.7777777777777778,
              "#fb9f3a"
             ],
             [
              0.8888888888888888,
              "#fdca26"
             ],
             [
              1,
              "#f0f921"
             ]
            ],
            "type": "heatmap"
           }
          ],
          "heatmapgl": [
           {
            "colorbar": {
             "outlinewidth": 0,
             "ticks": ""
            },
            "colorscale": [
             [
              0,
              "#0d0887"
             ],
             [
              0.1111111111111111,
              "#46039f"
             ],
             [
              0.2222222222222222,
              "#7201a8"
             ],
             [
              0.3333333333333333,
              "#9c179e"
             ],
             [
              0.4444444444444444,
              "#bd3786"
             ],
             [
              0.5555555555555556,
              "#d8576b"
             ],
             [
              0.6666666666666666,
              "#ed7953"
             ],
             [
              0.7777777777777778,
              "#fb9f3a"
             ],
             [
              0.8888888888888888,
              "#fdca26"
             ],
             [
              1,
              "#f0f921"
             ]
            ],
            "type": "heatmapgl"
           }
          ],
          "histogram": [
           {
            "marker": {
             "colorbar": {
              "outlinewidth": 0,
              "ticks": ""
             }
            },
            "type": "histogram"
           }
          ],
          "histogram2d": [
           {
            "colorbar": {
             "outlinewidth": 0,
             "ticks": ""
            },
            "colorscale": [
             [
              0,
              "#0d0887"
             ],
             [
              0.1111111111111111,
              "#46039f"
             ],
             [
              0.2222222222222222,
              "#7201a8"
             ],
             [
              0.3333333333333333,
              "#9c179e"
             ],
             [
              0.4444444444444444,
              "#bd3786"
             ],
             [
              0.5555555555555556,
              "#d8576b"
             ],
             [
              0.6666666666666666,
              "#ed7953"
             ],
             [
              0.7777777777777778,
              "#fb9f3a"
             ],
             [
              0.8888888888888888,
              "#fdca26"
             ],
             [
              1,
              "#f0f921"
             ]
            ],
            "type": "histogram2d"
           }
          ],
          "histogram2dcontour": [
           {
            "colorbar": {
             "outlinewidth": 0,
             "ticks": ""
            },
            "colorscale": [
             [
              0,
              "#0d0887"
             ],
             [
              0.1111111111111111,
              "#46039f"
             ],
             [
              0.2222222222222222,
              "#7201a8"
             ],
             [
              0.3333333333333333,
              "#9c179e"
             ],
             [
              0.4444444444444444,
              "#bd3786"
             ],
             [
              0.5555555555555556,
              "#d8576b"
             ],
             [
              0.6666666666666666,
              "#ed7953"
             ],
             [
              0.7777777777777778,
              "#fb9f3a"
             ],
             [
              0.8888888888888888,
              "#fdca26"
             ],
             [
              1,
              "#f0f921"
             ]
            ],
            "type": "histogram2dcontour"
           }
          ],
          "mesh3d": [
           {
            "colorbar": {
             "outlinewidth": 0,
             "ticks": ""
            },
            "type": "mesh3d"
           }
          ],
          "parcoords": [
           {
            "line": {
             "colorbar": {
              "outlinewidth": 0,
              "ticks": ""
             }
            },
            "type": "parcoords"
           }
          ],
          "pie": [
           {
            "automargin": true,
            "type": "pie"
           }
          ],
          "scatter": [
           {
            "marker": {
             "colorbar": {
              "outlinewidth": 0,
              "ticks": ""
             }
            },
            "type": "scatter"
           }
          ],
          "scatter3d": [
           {
            "line": {
             "colorbar": {
              "outlinewidth": 0,
              "ticks": ""
             }
            },
            "marker": {
             "colorbar": {
              "outlinewidth": 0,
              "ticks": ""
             }
            },
            "type": "scatter3d"
           }
          ],
          "scattercarpet": [
           {
            "marker": {
             "colorbar": {
              "outlinewidth": 0,
              "ticks": ""
             }
            },
            "type": "scattercarpet"
           }
          ],
          "scattergeo": [
           {
            "marker": {
             "colorbar": {
              "outlinewidth": 0,
              "ticks": ""
             }
            },
            "type": "scattergeo"
           }
          ],
          "scattergl": [
           {
            "marker": {
             "colorbar": {
              "outlinewidth": 0,
              "ticks": ""
             }
            },
            "type": "scattergl"
           }
          ],
          "scattermapbox": [
           {
            "marker": {
             "colorbar": {
              "outlinewidth": 0,
              "ticks": ""
             }
            },
            "type": "scattermapbox"
           }
          ],
          "scatterpolar": [
           {
            "marker": {
             "colorbar": {
              "outlinewidth": 0,
              "ticks": ""
             }
            },
            "type": "scatterpolar"
           }
          ],
          "scatterpolargl": [
           {
            "marker": {
             "colorbar": {
              "outlinewidth": 0,
              "ticks": ""
             }
            },
            "type": "scatterpolargl"
           }
          ],
          "scatterternary": [
           {
            "marker": {
             "colorbar": {
              "outlinewidth": 0,
              "ticks": ""
             }
            },
            "type": "scatterternary"
           }
          ],
          "surface": [
           {
            "colorbar": {
             "outlinewidth": 0,
             "ticks": ""
            },
            "colorscale": [
             [
              0,
              "#0d0887"
             ],
             [
              0.1111111111111111,
              "#46039f"
             ],
             [
              0.2222222222222222,
              "#7201a8"
             ],
             [
              0.3333333333333333,
              "#9c179e"
             ],
             [
              0.4444444444444444,
              "#bd3786"
             ],
             [
              0.5555555555555556,
              "#d8576b"
             ],
             [
              0.6666666666666666,
              "#ed7953"
             ],
             [
              0.7777777777777778,
              "#fb9f3a"
             ],
             [
              0.8888888888888888,
              "#fdca26"
             ],
             [
              1,
              "#f0f921"
             ]
            ],
            "type": "surface"
           }
          ],
          "table": [
           {
            "cells": {
             "fill": {
              "color": "#EBF0F8"
             },
             "line": {
              "color": "white"
             }
            },
            "header": {
             "fill": {
              "color": "#C8D4E3"
             },
             "line": {
              "color": "white"
             }
            },
            "type": "table"
           }
          ]
         },
         "layout": {
          "annotationdefaults": {
           "arrowcolor": "#2a3f5f",
           "arrowhead": 0,
           "arrowwidth": 1
          },
          "autotypenumbers": "strict",
          "coloraxis": {
           "colorbar": {
            "outlinewidth": 0,
            "ticks": ""
           }
          },
          "colorscale": {
           "diverging": [
            [
             0,
             "#8e0152"
            ],
            [
             0.1,
             "#c51b7d"
            ],
            [
             0.2,
             "#de77ae"
            ],
            [
             0.3,
             "#f1b6da"
            ],
            [
             0.4,
             "#fde0ef"
            ],
            [
             0.5,
             "#f7f7f7"
            ],
            [
             0.6,
             "#e6f5d0"
            ],
            [
             0.7,
             "#b8e186"
            ],
            [
             0.8,
             "#7fbc41"
            ],
            [
             0.9,
             "#4d9221"
            ],
            [
             1,
             "#276419"
            ]
           ],
           "sequential": [
            [
             0,
             "#0d0887"
            ],
            [
             0.1111111111111111,
             "#46039f"
            ],
            [
             0.2222222222222222,
             "#7201a8"
            ],
            [
             0.3333333333333333,
             "#9c179e"
            ],
            [
             0.4444444444444444,
             "#bd3786"
            ],
            [
             0.5555555555555556,
             "#d8576b"
            ],
            [
             0.6666666666666666,
             "#ed7953"
            ],
            [
             0.7777777777777778,
             "#fb9f3a"
            ],
            [
             0.8888888888888888,
             "#fdca26"
            ],
            [
             1,
             "#f0f921"
            ]
           ],
           "sequentialminus": [
            [
             0,
             "#0d0887"
            ],
            [
             0.1111111111111111,
             "#46039f"
            ],
            [
             0.2222222222222222,
             "#7201a8"
            ],
            [
             0.3333333333333333,
             "#9c179e"
            ],
            [
             0.4444444444444444,
             "#bd3786"
            ],
            [
             0.5555555555555556,
             "#d8576b"
            ],
            [
             0.6666666666666666,
             "#ed7953"
            ],
            [
             0.7777777777777778,
             "#fb9f3a"
            ],
            [
             0.8888888888888888,
             "#fdca26"
            ],
            [
             1,
             "#f0f921"
            ]
           ]
          },
          "colorway": [
           "#636efa",
           "#EF553B",
           "#00cc96",
           "#ab63fa",
           "#FFA15A",
           "#19d3f3",
           "#FF6692",
           "#B6E880",
           "#FF97FF",
           "#FECB52"
          ],
          "font": {
           "color": "#2a3f5f"
          },
          "geo": {
           "bgcolor": "white",
           "lakecolor": "white",
           "landcolor": "#E5ECF6",
           "showlakes": true,
           "showland": true,
           "subunitcolor": "white"
          },
          "hoverlabel": {
           "align": "left"
          },
          "hovermode": "closest",
          "mapbox": {
           "style": "light"
          },
          "paper_bgcolor": "white",
          "plot_bgcolor": "#E5ECF6",
          "polar": {
           "angularaxis": {
            "gridcolor": "white",
            "linecolor": "white",
            "ticks": ""
           },
           "bgcolor": "#E5ECF6",
           "radialaxis": {
            "gridcolor": "white",
            "linecolor": "white",
            "ticks": ""
           }
          },
          "scene": {
           "xaxis": {
            "backgroundcolor": "#E5ECF6",
            "gridcolor": "white",
            "gridwidth": 2,
            "linecolor": "white",
            "showbackground": true,
            "ticks": "",
            "zerolinecolor": "white"
           },
           "yaxis": {
            "backgroundcolor": "#E5ECF6",
            "gridcolor": "white",
            "gridwidth": 2,
            "linecolor": "white",
            "showbackground": true,
            "ticks": "",
            "zerolinecolor": "white"
           },
           "zaxis": {
            "backgroundcolor": "#E5ECF6",
            "gridcolor": "white",
            "gridwidth": 2,
            "linecolor": "white",
            "showbackground": true,
            "ticks": "",
            "zerolinecolor": "white"
           }
          },
          "shapedefaults": {
           "line": {
            "color": "#2a3f5f"
           }
          },
          "ternary": {
           "aaxis": {
            "gridcolor": "white",
            "linecolor": "white",
            "ticks": ""
           },
           "baxis": {
            "gridcolor": "white",
            "linecolor": "white",
            "ticks": ""
           },
           "bgcolor": "#E5ECF6",
           "caxis": {
            "gridcolor": "white",
            "linecolor": "white",
            "ticks": ""
           }
          },
          "title": {
           "x": 0.05
          },
          "xaxis": {
           "automargin": true,
           "gridcolor": "white",
           "linecolor": "white",
           "ticks": "",
           "title": {
            "standoff": 15
           },
           "zerolinecolor": "white",
           "zerolinewidth": 2
          },
          "yaxis": {
           "automargin": true,
           "gridcolor": "white",
           "linecolor": "white",
           "ticks": "",
           "title": {
            "standoff": 15
           },
           "zerolinecolor": "white",
           "zerolinewidth": 2
          }
         }
        },
        "title": {
         "text": "Happiness Rate Changing 2015 to 2019 for Top 20 Countries"
        },
        "xaxis": {
         "ticklen": 5,
         "title": {
          "text": "Family"
         },
         "zeroline": false
        },
        "yaxis": {
         "ticklen": 5,
         "title": {
          "text": "Happiness"
         },
         "zeroline": false
        }
       }
      },
      "text/html": [
       "<div>                            <div id=\"63477b4a-17a2-4dbd-9d82-791e10c48596\" class=\"plotly-graph-div\" style=\"height:525px; width:100%;\"></div>            <script type=\"text/javascript\">                require([\"plotly\"], function(Plotly) {                    window.PLOTLYENV=window.PLOTLYENV || {};                                    if (document.getElementById(\"63477b4a-17a2-4dbd-9d82-791e10c48596\")) {                    Plotly.newPlot(                        \"63477b4a-17a2-4dbd-9d82-791e10c48596\",                        [{\"marker\": {\"color\": \"blue\"}, \"mode\": \"markers\", \"name\": \"2015\", \"text\": [\"Switzerland\", \"Iceland\", \"Denmark\", \"Norway\", \"Canada\", \"Finland\", \"Netherlands\", \"Sweden\", \"New Zealand\", \"Australia\", \"Israel\", \"Costa Rica\", \"Austria\", \"Mexico\", \"United States\", \"Brazil\", \"Luxembourg\", \"Ireland\", \"Belgium\", \"United Arab Emirates\", \"United Kingdom\", \"Oman\", \"Venezuela\", \"Singapore\", \"Panama\", \"Germany\", \"Chile\", \"Qatar\", \"France\", \"Argentina\", \"Czech Republic\", \"Uruguay\", \"Colombia\", \"Thailand\", \"Saudi Arabia\", \"Spain\", \"Malta\", \"Taiwan\", \"Kuwait\", \"Suriname\", \"Trinidad and Tobago\", \"El Salvador\", \"Guatemala\", \"Uzbekistan\", \"Slovakia\", \"Japan\", \"South Korea\", \"Ecuador\", \"Bahrain\", \"Italy\", \"Bolivia\", \"Moldova\", \"Paraguay\", \"Kazakhstan\", \"Slovenia\", \"Lithuania\", \"Nicaragua\", \"Peru\", \"Belarus\", \"Poland\", \"Malaysia\", \"Croatia\", \"Libya\", \"Russia\", \"Jamaica\", \"North Cyprus\", \"Cyprus\", \"Algeria\", \"Kosovo\", \"Turkmenistan\", \"Mauritius\", \"Hong Kong\", \"Estonia\", \"Indonesia\", \"Vietnam\", \"Turkey\", \"Kyrgyzstan\", \"Nigeria\", \"Bhutan\", \"Azerbaijan\", \"Pakistan\", \"Jordan\", \"Montenegro\", \"China\", \"Zambia\", \"Romania\", \"Serbia\", \"Portugal\", \"Latvia\", \"Philippines\", \"Somaliland region\", \"Morocco\", \"Macedonia\", \"Mozambique\", \"Albania\", \"Bosnia and Herzegovina\", \"Lesotho\", \"Dominican Republic\", \"Laos\", \"Mongolia\", \"Swaziland\", \"Greece\", \"Lebanon\", \"Hungary\", \"Honduras\", \"Tajikistan\", \"Tunisia\", \"Palestinian Territories\", \"Bangladesh\", \"Iran\", \"Ukraine\", \"Iraq\", \"South Africa\", \"Ghana\", \"Zimbabwe\", \"Liberia\", \"India\", \"Sudan\", \"Haiti\", \"Congo (Kinshasa)\", \"Nepal\", \"Ethiopia\", \"Sierra Leone\", \"Mauritania\", \"Kenya\", \"Djibouti\", \"Armenia\", \"Botswana\", \"Myanmar\", \"Georgia\", \"Malawi\", \"Sri Lanka\", \"Cameroon\", \"Bulgaria\", \"Egypt\", \"Yemen\", \"Angola\", \"Mali\", \"Congo (Brazzaville)\", \"Comoros\", \"Uganda\", \"Senegal\", \"Gabon\", \"Niger\", \"Cambodia\", \"Tanzania\", \"Madagascar\", \"Central African Republic\", \"Chad\", \"Guinea\", \"Ivory Coast\", \"Burkina Faso\", \"Afghanistan\", \"Rwanda\", \"Benin\", \"Syria\", \"Burundi\", \"Togo\"], \"type\": \"scatter\", \"x\": [1.34951, 1.40223, 1.36058, 1.33095, 1.32261, 1.31826, 1.28017, 1.28907, 1.31967, 1.30923, 1.22393, 1.23788, 1.29704, 0.91451, 1.24711, 1.23287, 1.21963, 1.36948, 1.28566, 1.12575], \"y\": [0.66557, 0.62877, 0.64938, 0.66973, 0.63297, 0.64169, 0.61576, 0.6598, 0.63938, 0.65124, 0.41319, 0.63376, 0.62433, 0.48181, 0.54604, 0.49049, 0.61583, 0.61777, 0.5845, 0.64157]}],                        {\"hovermode\": \"x\", \"template\": {\"data\": {\"bar\": [{\"error_x\": {\"color\": \"#2a3f5f\"}, \"error_y\": {\"color\": \"#2a3f5f\"}, \"marker\": {\"line\": {\"color\": \"#E5ECF6\", \"width\": 0.5}}, \"type\": \"bar\"}], \"barpolar\": [{\"marker\": {\"line\": {\"color\": \"#E5ECF6\", \"width\": 0.5}}, \"type\": \"barpolar\"}], \"carpet\": [{\"aaxis\": {\"endlinecolor\": \"#2a3f5f\", \"gridcolor\": \"white\", \"linecolor\": \"white\", \"minorgridcolor\": \"white\", \"startlinecolor\": \"#2a3f5f\"}, \"baxis\": {\"endlinecolor\": \"#2a3f5f\", \"gridcolor\": \"white\", \"linecolor\": \"white\", \"minorgridcolor\": \"white\", \"startlinecolor\": \"#2a3f5f\"}, \"type\": \"carpet\"}], \"choropleth\": [{\"colorbar\": {\"outlinewidth\": 0, \"ticks\": \"\"}, \"type\": \"choropleth\"}], \"contour\": [{\"colorbar\": {\"outlinewidth\": 0, \"ticks\": \"\"}, \"colorscale\": [[0.0, \"#0d0887\"], [0.1111111111111111, \"#46039f\"], [0.2222222222222222, \"#7201a8\"], [0.3333333333333333, \"#9c179e\"], [0.4444444444444444, \"#bd3786\"], [0.5555555555555556, \"#d8576b\"], [0.6666666666666666, \"#ed7953\"], [0.7777777777777778, \"#fb9f3a\"], [0.8888888888888888, \"#fdca26\"], [1.0, \"#f0f921\"]], \"type\": \"contour\"}], \"contourcarpet\": [{\"colorbar\": {\"outlinewidth\": 0, \"ticks\": \"\"}, \"type\": \"contourcarpet\"}], \"heatmap\": [{\"colorbar\": {\"outlinewidth\": 0, \"ticks\": \"\"}, \"colorscale\": [[0.0, \"#0d0887\"], [0.1111111111111111, \"#46039f\"], [0.2222222222222222, \"#7201a8\"], [0.3333333333333333, \"#9c179e\"], [0.4444444444444444, \"#bd3786\"], [0.5555555555555556, \"#d8576b\"], [0.6666666666666666, \"#ed7953\"], [0.7777777777777778, \"#fb9f3a\"], [0.8888888888888888, \"#fdca26\"], [1.0, \"#f0f921\"]], \"type\": \"heatmap\"}], \"heatmapgl\": [{\"colorbar\": {\"outlinewidth\": 0, \"ticks\": \"\"}, \"colorscale\": [[0.0, \"#0d0887\"], [0.1111111111111111, \"#46039f\"], [0.2222222222222222, \"#7201a8\"], [0.3333333333333333, \"#9c179e\"], [0.4444444444444444, \"#bd3786\"], [0.5555555555555556, \"#d8576b\"], [0.6666666666666666, \"#ed7953\"], [0.7777777777777778, \"#fb9f3a\"], [0.8888888888888888, \"#fdca26\"], [1.0, \"#f0f921\"]], \"type\": \"heatmapgl\"}], \"histogram\": [{\"marker\": {\"colorbar\": {\"outlinewidth\": 0, \"ticks\": \"\"}}, \"type\": \"histogram\"}], \"histogram2d\": [{\"colorbar\": {\"outlinewidth\": 0, \"ticks\": \"\"}, \"colorscale\": [[0.0, \"#0d0887\"], [0.1111111111111111, \"#46039f\"], [0.2222222222222222, \"#7201a8\"], [0.3333333333333333, \"#9c179e\"], [0.4444444444444444, \"#bd3786\"], [0.5555555555555556, \"#d8576b\"], [0.6666666666666666, \"#ed7953\"], [0.7777777777777778, \"#fb9f3a\"], [0.8888888888888888, \"#fdca26\"], [1.0, \"#f0f921\"]], \"type\": \"histogram2d\"}], \"histogram2dcontour\": [{\"colorbar\": {\"outlinewidth\": 0, \"ticks\": \"\"}, \"colorscale\": [[0.0, \"#0d0887\"], [0.1111111111111111, \"#46039f\"], [0.2222222222222222, \"#7201a8\"], [0.3333333333333333, \"#9c179e\"], [0.4444444444444444, \"#bd3786\"], [0.5555555555555556, \"#d8576b\"], [0.6666666666666666, \"#ed7953\"], [0.7777777777777778, \"#fb9f3a\"], [0.8888888888888888, \"#fdca26\"], [1.0, \"#f0f921\"]], \"type\": \"histogram2dcontour\"}], \"mesh3d\": [{\"colorbar\": {\"outlinewidth\": 0, \"ticks\": \"\"}, \"type\": \"mesh3d\"}], \"parcoords\": [{\"line\": {\"colorbar\": {\"outlinewidth\": 0, \"ticks\": \"\"}}, \"type\": \"parcoords\"}], \"pie\": [{\"automargin\": true, \"type\": \"pie\"}], \"scatter\": [{\"marker\": {\"colorbar\": {\"outlinewidth\": 0, \"ticks\": \"\"}}, \"type\": \"scatter\"}], \"scatter3d\": [{\"line\": {\"colorbar\": {\"outlinewidth\": 0, \"ticks\": \"\"}}, \"marker\": {\"colorbar\": {\"outlinewidth\": 0, \"ticks\": \"\"}}, \"type\": \"scatter3d\"}], \"scattercarpet\": [{\"marker\": {\"colorbar\": {\"outlinewidth\": 0, \"ticks\": \"\"}}, \"type\": \"scattercarpet\"}], \"scattergeo\": [{\"marker\": {\"colorbar\": {\"outlinewidth\": 0, \"ticks\": \"\"}}, \"type\": \"scattergeo\"}], \"scattergl\": [{\"marker\": {\"colorbar\": {\"outlinewidth\": 0, \"ticks\": \"\"}}, \"type\": \"scattergl\"}], \"scattermapbox\": [{\"marker\": {\"colorbar\": {\"outlinewidth\": 0, \"ticks\": \"\"}}, \"type\": \"scattermapbox\"}], \"scatterpolar\": [{\"marker\": {\"colorbar\": {\"outlinewidth\": 0, \"ticks\": \"\"}}, \"type\": \"scatterpolar\"}], \"scatterpolargl\": [{\"marker\": {\"colorbar\": {\"outlinewidth\": 0, \"ticks\": \"\"}}, \"type\": \"scatterpolargl\"}], \"scatterternary\": [{\"marker\": {\"colorbar\": {\"outlinewidth\": 0, \"ticks\": \"\"}}, \"type\": \"scatterternary\"}], \"surface\": [{\"colorbar\": {\"outlinewidth\": 0, \"ticks\": \"\"}, \"colorscale\": [[0.0, \"#0d0887\"], [0.1111111111111111, \"#46039f\"], [0.2222222222222222, \"#7201a8\"], [0.3333333333333333, \"#9c179e\"], [0.4444444444444444, \"#bd3786\"], [0.5555555555555556, \"#d8576b\"], [0.6666666666666666, \"#ed7953\"], [0.7777777777777778, \"#fb9f3a\"], [0.8888888888888888, \"#fdca26\"], [1.0, \"#f0f921\"]], \"type\": \"surface\"}], \"table\": [{\"cells\": {\"fill\": {\"color\": \"#EBF0F8\"}, \"line\": {\"color\": \"white\"}}, \"header\": {\"fill\": {\"color\": \"#C8D4E3\"}, \"line\": {\"color\": \"white\"}}, \"type\": \"table\"}]}, \"layout\": {\"annotationdefaults\": {\"arrowcolor\": \"#2a3f5f\", \"arrowhead\": 0, \"arrowwidth\": 1}, \"autotypenumbers\": \"strict\", \"coloraxis\": {\"colorbar\": {\"outlinewidth\": 0, \"ticks\": \"\"}}, \"colorscale\": {\"diverging\": [[0, \"#8e0152\"], [0.1, \"#c51b7d\"], [0.2, \"#de77ae\"], [0.3, \"#f1b6da\"], [0.4, \"#fde0ef\"], [0.5, \"#f7f7f7\"], [0.6, \"#e6f5d0\"], [0.7, \"#b8e186\"], [0.8, \"#7fbc41\"], [0.9, \"#4d9221\"], [1, \"#276419\"]], \"sequential\": [[0.0, \"#0d0887\"], [0.1111111111111111, \"#46039f\"], [0.2222222222222222, \"#7201a8\"], [0.3333333333333333, \"#9c179e\"], [0.4444444444444444, \"#bd3786\"], [0.5555555555555556, \"#d8576b\"], [0.6666666666666666, \"#ed7953\"], [0.7777777777777778, \"#fb9f3a\"], [0.8888888888888888, \"#fdca26\"], [1.0, \"#f0f921\"]], \"sequentialminus\": [[0.0, \"#0d0887\"], [0.1111111111111111, \"#46039f\"], [0.2222222222222222, \"#7201a8\"], [0.3333333333333333, \"#9c179e\"], [0.4444444444444444, \"#bd3786\"], [0.5555555555555556, \"#d8576b\"], [0.6666666666666666, \"#ed7953\"], [0.7777777777777778, \"#fb9f3a\"], [0.8888888888888888, \"#fdca26\"], [1.0, \"#f0f921\"]]}, \"colorway\": [\"#636efa\", \"#EF553B\", \"#00cc96\", \"#ab63fa\", \"#FFA15A\", \"#19d3f3\", \"#FF6692\", \"#B6E880\", \"#FF97FF\", \"#FECB52\"], \"font\": {\"color\": \"#2a3f5f\"}, \"geo\": {\"bgcolor\": \"white\", \"lakecolor\": \"white\", \"landcolor\": \"#E5ECF6\", \"showlakes\": true, \"showland\": true, \"subunitcolor\": \"white\"}, \"hoverlabel\": {\"align\": \"left\"}, \"hovermode\": \"closest\", \"mapbox\": {\"style\": \"light\"}, \"paper_bgcolor\": \"white\", \"plot_bgcolor\": \"#E5ECF6\", \"polar\": {\"angularaxis\": {\"gridcolor\": \"white\", \"linecolor\": \"white\", \"ticks\": \"\"}, \"bgcolor\": \"#E5ECF6\", \"radialaxis\": {\"gridcolor\": \"white\", \"linecolor\": \"white\", \"ticks\": \"\"}}, \"scene\": {\"xaxis\": {\"backgroundcolor\": \"#E5ECF6\", \"gridcolor\": \"white\", \"gridwidth\": 2, \"linecolor\": \"white\", \"showbackground\": true, \"ticks\": \"\", \"zerolinecolor\": \"white\"}, \"yaxis\": {\"backgroundcolor\": \"#E5ECF6\", \"gridcolor\": \"white\", \"gridwidth\": 2, \"linecolor\": \"white\", \"showbackground\": true, \"ticks\": \"\", \"zerolinecolor\": \"white\"}, \"zaxis\": {\"backgroundcolor\": \"#E5ECF6\", \"gridcolor\": \"white\", \"gridwidth\": 2, \"linecolor\": \"white\", \"showbackground\": true, \"ticks\": \"\", \"zerolinecolor\": \"white\"}}, \"shapedefaults\": {\"line\": {\"color\": \"#2a3f5f\"}}, \"ternary\": {\"aaxis\": {\"gridcolor\": \"white\", \"linecolor\": \"white\", \"ticks\": \"\"}, \"baxis\": {\"gridcolor\": \"white\", \"linecolor\": \"white\", \"ticks\": \"\"}, \"bgcolor\": \"#E5ECF6\", \"caxis\": {\"gridcolor\": \"white\", \"linecolor\": \"white\", \"ticks\": \"\"}}, \"title\": {\"x\": 0.05}, \"xaxis\": {\"automargin\": true, \"gridcolor\": \"white\", \"linecolor\": \"white\", \"ticks\": \"\", \"title\": {\"standoff\": 15}, \"zerolinecolor\": \"white\", \"zerolinewidth\": 2}, \"yaxis\": {\"automargin\": true, \"gridcolor\": \"white\", \"linecolor\": \"white\", \"ticks\": \"\", \"title\": {\"standoff\": 15}, \"zerolinecolor\": \"white\", \"zerolinewidth\": 2}}}, \"title\": {\"text\": \"Happiness Rate Changing 2015 to 2019 for Top 20 Countries\"}, \"xaxis\": {\"ticklen\": 5, \"title\": {\"text\": \"Family\"}, \"zeroline\": false}, \"yaxis\": {\"ticklen\": 5, \"title\": {\"text\": \"Happiness\"}, \"zeroline\": false}},                        {\"responsive\": true}                    ).then(function(){\n",
       "                            \n",
       "var gd = document.getElementById('63477b4a-17a2-4dbd-9d82-791e10c48596');\n",
       "var x = new MutationObserver(function (mutations, observer) {{\n",
       "        var display = window.getComputedStyle(gd).display;\n",
       "        if (!display || display === 'none') {{\n",
       "            console.log([gd, 'removed!']);\n",
       "            Plotly.purge(gd);\n",
       "            observer.disconnect();\n",
       "        }}\n",
       "}});\n",
       "\n",
       "// Listen for the removal of the full notebook cells\n",
       "var notebookContainer = gd.closest('#notebook-container');\n",
       "if (notebookContainer) {{\n",
       "    x.observe(notebookContainer, {childList: true});\n",
       "}}\n",
       "\n",
       "// Listen for the clearing of the current output cell\n",
       "var outputEl = gd.closest('.output');\n",
       "if (outputEl) {{\n",
       "    x.observe(outputEl, {childList: true});\n",
       "}}\n",
       "\n",
       "                        })                };                });            </script>        </div>"
      ]
     },
     "metadata": {},
     "output_type": "display_data"
    }
   ],
   "source": [
    "data = go.Scatter(  x = x_data,\n",
    "                    y = y_data,\n",
    "                    mode = \"markers\",\n",
    "                    name = \"2015\",\n",
    "                    marker = dict(color = 'blue'),\n",
    "                    #line = dict(color='firebrick', width=4, dash='dot'),\n",
    "                    text= whr_data.loc[whr_data['Year'] == 2015].Country)\n",
    "layout = dict(title = 'Happiness Rate Changing 2015 to 2019 for Top 20 Countries',\n",
    "              xaxis= dict(title= 'Family',ticklen= 5,zeroline= False),\n",
    "              yaxis= dict(title= 'Happiness',ticklen= 5,zeroline= False),\n",
    "              hovermode=\"x\"\n",
    "             )\n",
    "fig = dict(data = data, layout = layout)\n",
    "iplot(fig)"
   ]
  },
  {
   "cell_type": "markdown",
   "id": "political-austin",
   "metadata": {},
   "source": [
    "Below, we will make an overlaid scatterplot of the changes in reported happiness for the top 20 countries"
   ]
  },
  {
   "cell_type": "code",
   "execution_count": 7,
   "id": "swedish-congo",
   "metadata": {},
   "outputs": [
    {
     "data": {
      "application/vnd.plotly.v1+json": {
       "config": {
        "linkText": "Export to plot.ly",
        "plotlyServerURL": "https://plot.ly",
        "showLink": false
       },
       "data": [
        {
         "marker": {
          "color": "red"
         },
         "mode": "markers",
         "name": "2015",
         "text": [
          "Switzerland",
          "Iceland",
          "Denmark",
          "Norway",
          "Canada",
          "Finland",
          "Netherlands",
          "Sweden",
          "New Zealand",
          "Australia",
          "Israel",
          "Costa Rica",
          "Austria",
          "Mexico",
          "United States",
          "Brazil",
          "Luxembourg",
          "Ireland",
          "Belgium",
          "United Arab Emirates",
          "United Kingdom",
          "Oman",
          "Venezuela",
          "Singapore",
          "Panama",
          "Germany",
          "Chile",
          "Qatar",
          "France",
          "Argentina",
          "Czech Republic",
          "Uruguay",
          "Colombia",
          "Thailand",
          "Saudi Arabia",
          "Spain",
          "Malta",
          "Taiwan",
          "Kuwait",
          "Suriname",
          "Trinidad and Tobago",
          "El Salvador",
          "Guatemala",
          "Uzbekistan",
          "Slovakia",
          "Japan",
          "South Korea",
          "Ecuador",
          "Bahrain",
          "Italy",
          "Bolivia",
          "Moldova",
          "Paraguay",
          "Kazakhstan",
          "Slovenia",
          "Lithuania",
          "Nicaragua",
          "Peru",
          "Belarus",
          "Poland",
          "Malaysia",
          "Croatia",
          "Libya",
          "Russia",
          "Jamaica",
          "North Cyprus",
          "Cyprus",
          "Algeria",
          "Kosovo",
          "Turkmenistan",
          "Mauritius",
          "Hong Kong",
          "Estonia",
          "Indonesia",
          "Vietnam",
          "Turkey",
          "Kyrgyzstan",
          "Nigeria",
          "Bhutan",
          "Azerbaijan",
          "Pakistan",
          "Jordan",
          "Montenegro",
          "China",
          "Zambia",
          "Romania",
          "Serbia",
          "Portugal",
          "Latvia",
          "Philippines",
          "Somaliland region",
          "Morocco",
          "Macedonia",
          "Mozambique",
          "Albania",
          "Bosnia and Herzegovina",
          "Lesotho",
          "Dominican Republic",
          "Laos",
          "Mongolia",
          "Swaziland",
          "Greece",
          "Lebanon",
          "Hungary",
          "Honduras",
          "Tajikistan",
          "Tunisia",
          "Palestinian Territories",
          "Bangladesh",
          "Iran",
          "Ukraine",
          "Iraq",
          "South Africa",
          "Ghana",
          "Zimbabwe",
          "Liberia",
          "India",
          "Sudan",
          "Haiti",
          "Congo (Kinshasa)",
          "Nepal",
          "Ethiopia",
          "Sierra Leone",
          "Mauritania",
          "Kenya",
          "Djibouti",
          "Armenia",
          "Botswana",
          "Myanmar",
          "Georgia",
          "Malawi",
          "Sri Lanka",
          "Cameroon",
          "Bulgaria",
          "Egypt",
          "Yemen",
          "Angola",
          "Mali",
          "Congo (Brazzaville)",
          "Comoros",
          "Uganda",
          "Senegal",
          "Gabon",
          "Niger",
          "Cambodia",
          "Tanzania",
          "Madagascar",
          "Central African Republic",
          "Chad",
          "Guinea",
          "Ivory Coast",
          "Burkina Faso",
          "Afghanistan",
          "Rwanda",
          "Benin",
          "Syria",
          "Burundi",
          "Togo"
         ],
         "type": "scatter",
         "x": [
          "Switzerland",
          "Iceland",
          "Denmark",
          "Norway",
          "Canada",
          "Finland",
          "Netherlands",
          "Sweden",
          "New Zealand",
          "Australia",
          "Israel",
          "Costa Rica",
          "Austria",
          "Mexico",
          "United States",
          "Brazil",
          "Luxembourg",
          "Ireland",
          "Belgium",
          "United Arab Emirates"
         ],
         "y": [
          7.587,
          7.561,
          7.527,
          7.522,
          7.427,
          7.406,
          7.378,
          7.364,
          7.286,
          7.284,
          7.278,
          7.226,
          7.2,
          7.187,
          7.119,
          6.983,
          6.946,
          6.94,
          6.937,
          6.901
         ]
        },
        {
         "marker": {
          "color": "green"
         },
         "mode": "markers",
         "name": "2016",
         "text": [
          "Denmark",
          "Switzerland",
          "Iceland",
          "Norway",
          "Finland",
          "Canada",
          "Netherlands",
          "New Zealand",
          "Australia",
          "Sweden",
          "Israel",
          "Austria",
          "United States",
          "Costa Rica",
          "Puerto Rico",
          "Germany",
          "Brazil",
          "Belgium",
          "Ireland",
          "Luxembourg",
          "Mexico",
          "Singapore",
          "United Kingdom",
          "Chile",
          "Panama",
          "Argentina",
          "Czech Republic",
          "United Arab Emirates",
          "Uruguay",
          "Malta",
          "Colombia",
          "France",
          "Thailand",
          "Saudi Arabia",
          "Taiwan",
          "Qatar",
          "Spain",
          "Algeria",
          "Guatemala",
          "Suriname",
          "Kuwait",
          "Bahrain",
          "Trinidad and Tobago",
          "Venezuela",
          "Slovakia",
          "El Salvador",
          "Malaysia",
          "Nicaragua",
          "Uzbekistan",
          "Italy",
          "Ecuador",
          "Belize",
          "Japan",
          "Kazakhstan",
          "Moldova",
          "Russia",
          "Poland",
          "South Korea",
          "Bolivia",
          "Lithuania",
          "Belarus",
          "North Cyprus",
          "Slovenia",
          "Peru",
          "Turkmenistan",
          "Mauritius",
          "Libya",
          "Latvia",
          "Cyprus",
          "Paraguay",
          "Romania",
          "Estonia",
          "Jamaica",
          "Croatia",
          "Hong Kong",
          "Somalia",
          "Kosovo",
          "Turkey",
          "Indonesia",
          "Jordan",
          "Azerbaijan",
          "Philippines",
          "China",
          "Bhutan",
          "Kyrgyzstan",
          "Serbia",
          "Bosnia and Herzegovina",
          "Montenegro",
          "Dominican Republic",
          "Morocco",
          "Hungary",
          "Pakistan",
          "Lebanon",
          "Portugal",
          "Macedonia",
          "Vietnam",
          "Somaliland Region",
          "Tunisia",
          "Greece",
          "Tajikistan",
          "Mongolia",
          "Laos",
          "Nigeria",
          "Honduras",
          "Iran",
          "Zambia",
          "Nepal",
          "Palestinian Territories",
          "Albania",
          "Bangladesh",
          "Sierra Leone",
          "Iraq",
          "Namibia",
          "Cameroon",
          "Ethiopia",
          "South Africa",
          "Sri Lanka",
          "India",
          "Myanmar",
          "Egypt",
          "Armenia",
          "Kenya",
          "Ukraine",
          "Ghana",
          "Congo (Kinshasa)",
          "Georgia",
          "Congo (Brazzaville)",
          "Senegal",
          "Bulgaria",
          "Mauritania",
          "Zimbabwe",
          "Malawi",
          "Sudan",
          "Gabon",
          "Mali",
          "Haiti",
          "Botswana",
          "Comoros",
          "Ivory Coast",
          "Cambodia",
          "Angola",
          "Niger",
          "South Sudan",
          "Chad",
          "Burkina Faso",
          "Uganda",
          "Yemen",
          "Madagascar",
          "Tanzania",
          "Liberia",
          "Guinea",
          "Rwanda",
          "Benin",
          "Afghanistan",
          "Togo",
          "Syria",
          "Burundi"
         ],
         "type": "scatter",
         "x": [
          "Switzerland",
          "Iceland",
          "Denmark",
          "Norway",
          "Canada",
          "Finland",
          "Netherlands",
          "Sweden",
          "New Zealand",
          "Australia",
          "Israel",
          "Costa Rica",
          "Austria",
          "Mexico",
          "United States",
          "Brazil",
          "Luxembourg",
          "Ireland",
          "Belgium",
          "United Arab Emirates"
         ],
         "y": [
          7.526,
          7.509,
          7.501,
          7.498,
          7.413,
          7.404,
          7.339,
          7.334,
          7.313,
          7.291,
          7.267,
          7.119,
          7.104,
          7.087,
          7.039,
          6.994,
          6.952,
          6.929,
          6.907,
          6.871
         ]
        },
        {
         "marker": {
          "color": "blue"
         },
         "mode": "markers",
         "name": "2017",
         "text": [
          "Norway",
          "Denmark",
          "Iceland",
          "Switzerland",
          "Finland",
          "Netherlands",
          "Canada",
          "New Zealand",
          "Sweden",
          "Australia",
          "Israel",
          "Costa Rica",
          "Austria",
          "United States",
          "Ireland",
          "Germany",
          "Belgium",
          "Luxembourg",
          "United Kingdom",
          "Chile",
          "United Arab Emirates",
          "Brazil",
          "Czech Republic",
          "Argentina",
          "Mexico",
          "Singapore",
          "Malta",
          "Uruguay",
          "Guatemala",
          "Panama",
          "France",
          "Thailand",
          "Taiwan Province of China",
          "Spain",
          "Qatar",
          "Colombia",
          "Saudi Arabia",
          "Trinidad and Tobago",
          "Kuwait",
          "Slovakia",
          "Bahrain",
          "Malaysia",
          "Nicaragua",
          "Ecuador",
          "El Salvador",
          "Poland",
          "Uzbekistan",
          "Italy",
          "Russia",
          "Belize",
          "Japan",
          "Lithuania",
          "Algeria",
          "Latvia",
          "South Korea",
          "Moldova",
          "Romania",
          "Bolivia",
          "Turkmenistan",
          "Kazakhstan",
          "North Cyprus",
          "Slovenia",
          "Peru",
          "Mauritius",
          "Cyprus",
          "Estonia",
          "Belarus",
          "Libya",
          "Turkey",
          "Paraguay",
          "Hong Kong S.A.R., China",
          "Philippines",
          "Serbia",
          "Jordan",
          "Hungary",
          "Jamaica",
          "Croatia",
          "Kosovo",
          "China",
          "Pakistan",
          "Indonesia",
          "Venezuela",
          "Montenegro",
          "Morocco",
          "Azerbaijan",
          "Dominican Republic",
          "Greece",
          "Lebanon",
          "Portugal",
          "Bosnia and Herzegovina",
          "Honduras",
          "Macedonia",
          "Somalia",
          "Vietnam",
          "Nigeria",
          "Tajikistan",
          "Bhutan",
          "Kyrgyzstan",
          "Nepal",
          "Mongolia",
          "South Africa",
          "Tunisia",
          "Palestinian Territories",
          "Egypt",
          "Bulgaria",
          "Sierra Leone",
          "Cameroon",
          "Iran",
          "Albania",
          "Bangladesh",
          "Namibia",
          "Kenya",
          "Mozambique",
          "Myanmar",
          "Senegal",
          "Zambia",
          "Iraq",
          "Gabon",
          "Ethiopia",
          "Sri Lanka",
          "Armenia",
          "India",
          "Mauritania",
          "Congo (Brazzaville)",
          "Georgia",
          "Congo (Kinshasa)",
          "Mali",
          "Ivory Coast",
          "Cambodia",
          "Sudan",
          "Ghana",
          "Ukraine",
          "Uganda",
          "Burkina Faso",
          "Niger",
          "Malawi",
          "Chad",
          "Zimbabwe",
          "Lesotho",
          "Angola",
          "Afghanistan",
          "Botswana",
          "Benin",
          "Madagascar",
          "Haiti",
          "Yemen",
          "South Sudan",
          "Liberia",
          "Guinea",
          "Togo",
          "Rwanda",
          "Syria",
          "Tanzania",
          "Burundi",
          "Central African Republic"
         ],
         "type": "scatter",
         "x": [
          "Switzerland",
          "Iceland",
          "Denmark",
          "Norway",
          "Canada",
          "Finland",
          "Netherlands",
          "Sweden",
          "New Zealand",
          "Australia",
          "Israel",
          "Costa Rica",
          "Austria",
          "Mexico",
          "United States",
          "Brazil",
          "Luxembourg",
          "Ireland",
          "Belgium",
          "United Arab Emirates"
         ],
         "y": [
          7.53700017929077,
          7.52199983596802,
          7.50400018692017,
          7.49399995803833,
          7.4689998626709,
          7.3769998550415,
          7.31599998474121,
          7.31400012969971,
          7.28399991989136,
          7.28399991989136,
          7.21299982070923,
          7.0789999961853,
          7.00600004196167,
          6.99300003051758,
          6.97700023651123,
          6.95100021362305,
          6.89099979400635,
          6.86299991607666,
          6.71400022506714,
          6.65199995040894
         ]
        },
        {
         "marker": {
          "color": "black"
         },
         "mode": "markers",
         "name": "2018",
         "text": [
          "Finland",
          "Norway",
          "Denmark",
          "Iceland",
          "Switzerland",
          "Netherlands",
          "Canada",
          "New Zealand",
          "Sweden",
          "Australia",
          "United Kingdom",
          "Austria",
          "Costa Rica",
          "Ireland",
          "Germany",
          "Belgium",
          "Luxembourg",
          "United States",
          "Israel",
          "United Arab Emirates",
          "Czech Republic",
          "Malta",
          "France",
          "Mexico",
          "Chile",
          "Taiwan",
          "Panama",
          "Brazil",
          "Argentina",
          "Guatemala",
          "Uruguay",
          "Qatar",
          "Saudi Arabia",
          "Singapore",
          "Malaysia",
          "Spain",
          "Colombia",
          "Trinidad & Tobago",
          "Slovakia",
          "El Salvador",
          "Nicaragua",
          "Poland",
          "Bahrain",
          "Uzbekistan",
          "Kuwait",
          "Thailand",
          "Italy",
          "Ecuador",
          "Belize",
          "Lithuania",
          "Slovenia",
          "Romania",
          "Latvia",
          "Japan",
          "Mauritius",
          "Jamaica",
          "South Korea",
          "Northern Cyprus",
          "Russia",
          "Kazakhstan",
          "Cyprus",
          "Bolivia",
          "Estonia",
          "Paraguay",
          "Peru",
          "Kosovo",
          "Moldova",
          "Turkmenistan",
          "Hungary",
          "Libya",
          "Philippines",
          "Honduras",
          "Belarus",
          "Turkey",
          "Pakistan",
          "Hong Kong",
          "Portugal",
          "Serbia",
          "Greece",
          "Lebanon",
          "Montenegro",
          "Croatia",
          "Dominican Republic",
          "Algeria",
          "Morocco",
          "China",
          "Azerbaijan",
          "Tajikistan",
          "Macedonia",
          "Jordan",
          "Nigeria",
          "Kyrgyzstan",
          "Bosnia and Herzegovina",
          "Mongolia",
          "Vietnam",
          "Indonesia",
          "Bhutan",
          "Somalia",
          "Cameroon",
          "Bulgaria",
          "Nepal",
          "Venezuela",
          "Gabon",
          "Palestinian Territories",
          "South Africa",
          "Iran",
          "Ivory Coast",
          "Ghana",
          "Senegal",
          "Laos",
          "Tunisia",
          "Albania",
          "Sierra Leone",
          "Congo (Brazzaville)",
          "Bangladesh",
          "Sri Lanka",
          "Iraq",
          "Mali",
          "Namibia",
          "Cambodia",
          "Burkina Faso",
          "Egypt",
          "Mozambique",
          "Kenya",
          "Zambia",
          "Mauritania",
          "Ethiopia",
          "Georgia",
          "Armenia",
          "Myanmar",
          "Chad",
          "Congo (Kinshasa)",
          "India",
          "Niger",
          "Uganda",
          "Benin",
          "Sudan",
          "Ukraine",
          "Togo",
          "Guinea",
          "Lesotho",
          "Angola",
          "Madagascar",
          "Zimbabwe",
          "Afghanistan",
          "Botswana",
          "Malawi",
          "Haiti",
          "Liberia",
          "Syria",
          "Rwanda",
          "Yemen",
          "Tanzania",
          "South Sudan",
          "Central African Republic",
          "Burundi"
         ],
         "type": "scatter",
         "x": [
          "Switzerland",
          "Iceland",
          "Denmark",
          "Norway",
          "Canada",
          "Finland",
          "Netherlands",
          "Sweden",
          "New Zealand",
          "Australia",
          "Israel",
          "Costa Rica",
          "Austria",
          "Mexico",
          "United States",
          "Brazil",
          "Luxembourg",
          "Ireland",
          "Belgium",
          "United Arab Emirates"
         ],
         "y": [
          7.632,
          7.594,
          7.555,
          7.495,
          7.487,
          7.441,
          7.328,
          7.324,
          7.314,
          7.272,
          7.19,
          7.139,
          7.072,
          6.977,
          6.965,
          6.927,
          6.91,
          6.886,
          6.814,
          6.774
         ]
        },
        {
         "marker": {
          "color": "pink"
         },
         "mode": "markers",
         "name": "2019",
         "text": [
          "Finland",
          "Denmark",
          "Norway",
          "Iceland",
          "Netherlands",
          "Switzerland",
          "Sweden",
          "New Zealand",
          "Canada",
          "Austria",
          "Australia",
          "Costa Rica",
          "Israel",
          "Luxembourg",
          "United Kingdom",
          "Ireland",
          "Germany",
          "Belgium",
          "United States",
          "Czech Republic",
          "United Arab Emirates",
          "Malta",
          "Mexico",
          "France",
          "Taiwan",
          "Chile",
          "Guatemala",
          "Saudi Arabia",
          "Qatar",
          "Spain",
          "Panama",
          "Brazil",
          "Uruguay",
          "Singapore",
          "El Salvador",
          "Italy",
          "Bahrain",
          "Slovakia",
          "Trinidad & Tobago",
          "Poland",
          "Uzbekistan",
          "Lithuania",
          "Colombia",
          "Slovenia",
          "Nicaragua",
          "Kosovo",
          "Argentina",
          "Romania",
          "Cyprus",
          "Ecuador",
          "Kuwait",
          "Thailand",
          "Latvia",
          "South Korea",
          "Estonia",
          "Jamaica",
          "Mauritius",
          "Japan",
          "Honduras",
          "Kazakhstan",
          "Bolivia",
          "Hungary",
          "Paraguay",
          "Northern Cyprus",
          "Peru",
          "Portugal",
          "Pakistan",
          "Russia",
          "Philippines",
          "Serbia",
          "Moldova",
          "Libya",
          "Montenegro",
          "Tajikistan",
          "Croatia",
          "Hong Kong",
          "Dominican Republic",
          "Bosnia and Herzegovina",
          "Turkey",
          "Malaysia",
          "Belarus",
          "Greece",
          "Mongolia",
          "North Macedonia",
          "Nigeria",
          "Kyrgyzstan",
          "Turkmenistan",
          "Algeria",
          "Morocco",
          "Azerbaijan",
          "Lebanon",
          "Indonesia",
          "China",
          "Vietnam",
          "Bhutan",
          "Cameroon",
          "Bulgaria",
          "Ghana",
          "Ivory Coast",
          "Nepal",
          "Jordan",
          "Benin",
          "Congo (Brazzaville)",
          "Gabon",
          "Laos",
          "South Africa",
          "Albania",
          "Venezuela",
          "Cambodia",
          "Palestinian Territories",
          "Senegal",
          "Somalia",
          "Namibia",
          "Niger",
          "Burkina Faso",
          "Armenia",
          "Iran",
          "Guinea",
          "Georgia",
          "Gambia",
          "Kenya",
          "Mauritania",
          "Mozambique",
          "Tunisia",
          "Bangladesh",
          "Iraq",
          "Congo (Kinshasa)",
          "Mali",
          "Sierra Leone",
          "Sri Lanka",
          "Myanmar",
          "Chad",
          "Ukraine",
          "Ethiopia",
          "Swaziland",
          "Uganda",
          "Egypt",
          "Zambia",
          "Togo",
          "India",
          "Liberia",
          "Comoros",
          "Madagascar",
          "Lesotho",
          "Burundi",
          "Zimbabwe",
          "Haiti",
          "Botswana",
          "Syria",
          "Malawi",
          "Yemen",
          "Rwanda",
          "Tanzania",
          "Afghanistan",
          "Central African Republic",
          "South Sudan"
         ],
         "type": "scatter",
         "x": [
          "Switzerland",
          "Iceland",
          "Denmark",
          "Norway",
          "Canada",
          "Finland",
          "Netherlands",
          "Sweden",
          "New Zealand",
          "Australia",
          "Israel",
          "Costa Rica",
          "Austria",
          "Mexico",
          "United States",
          "Brazil",
          "Luxembourg",
          "Ireland",
          "Belgium",
          "United Arab Emirates"
         ],
         "y": [
          7.769,
          7.6,
          7.554,
          7.494,
          7.488,
          7.48,
          7.343,
          7.307,
          7.278,
          7.246,
          7.228,
          7.167,
          7.139,
          7.09,
          7.054,
          7.021,
          6.985,
          6.923,
          6.892,
          6.852
         ]
        }
       ],
       "layout": {
        "hovermode": "x unified",
        "template": {
         "data": {
          "bar": [
           {
            "error_x": {
             "color": "#2a3f5f"
            },
            "error_y": {
             "color": "#2a3f5f"
            },
            "marker": {
             "line": {
              "color": "#E5ECF6",
              "width": 0.5
             }
            },
            "type": "bar"
           }
          ],
          "barpolar": [
           {
            "marker": {
             "line": {
              "color": "#E5ECF6",
              "width": 0.5
             }
            },
            "type": "barpolar"
           }
          ],
          "carpet": [
           {
            "aaxis": {
             "endlinecolor": "#2a3f5f",
             "gridcolor": "white",
             "linecolor": "white",
             "minorgridcolor": "white",
             "startlinecolor": "#2a3f5f"
            },
            "baxis": {
             "endlinecolor": "#2a3f5f",
             "gridcolor": "white",
             "linecolor": "white",
             "minorgridcolor": "white",
             "startlinecolor": "#2a3f5f"
            },
            "type": "carpet"
           }
          ],
          "choropleth": [
           {
            "colorbar": {
             "outlinewidth": 0,
             "ticks": ""
            },
            "type": "choropleth"
           }
          ],
          "contour": [
           {
            "colorbar": {
             "outlinewidth": 0,
             "ticks": ""
            },
            "colorscale": [
             [
              0,
              "#0d0887"
             ],
             [
              0.1111111111111111,
              "#46039f"
             ],
             [
              0.2222222222222222,
              "#7201a8"
             ],
             [
              0.3333333333333333,
              "#9c179e"
             ],
             [
              0.4444444444444444,
              "#bd3786"
             ],
             [
              0.5555555555555556,
              "#d8576b"
             ],
             [
              0.6666666666666666,
              "#ed7953"
             ],
             [
              0.7777777777777778,
              "#fb9f3a"
             ],
             [
              0.8888888888888888,
              "#fdca26"
             ],
             [
              1,
              "#f0f921"
             ]
            ],
            "type": "contour"
           }
          ],
          "contourcarpet": [
           {
            "colorbar": {
             "outlinewidth": 0,
             "ticks": ""
            },
            "type": "contourcarpet"
           }
          ],
          "heatmap": [
           {
            "colorbar": {
             "outlinewidth": 0,
             "ticks": ""
            },
            "colorscale": [
             [
              0,
              "#0d0887"
             ],
             [
              0.1111111111111111,
              "#46039f"
             ],
             [
              0.2222222222222222,
              "#7201a8"
             ],
             [
              0.3333333333333333,
              "#9c179e"
             ],
             [
              0.4444444444444444,
              "#bd3786"
             ],
             [
              0.5555555555555556,
              "#d8576b"
             ],
             [
              0.6666666666666666,
              "#ed7953"
             ],
             [
              0.7777777777777778,
              "#fb9f3a"
             ],
             [
              0.8888888888888888,
              "#fdca26"
             ],
             [
              1,
              "#f0f921"
             ]
            ],
            "type": "heatmap"
           }
          ],
          "heatmapgl": [
           {
            "colorbar": {
             "outlinewidth": 0,
             "ticks": ""
            },
            "colorscale": [
             [
              0,
              "#0d0887"
             ],
             [
              0.1111111111111111,
              "#46039f"
             ],
             [
              0.2222222222222222,
              "#7201a8"
             ],
             [
              0.3333333333333333,
              "#9c179e"
             ],
             [
              0.4444444444444444,
              "#bd3786"
             ],
             [
              0.5555555555555556,
              "#d8576b"
             ],
             [
              0.6666666666666666,
              "#ed7953"
             ],
             [
              0.7777777777777778,
              "#fb9f3a"
             ],
             [
              0.8888888888888888,
              "#fdca26"
             ],
             [
              1,
              "#f0f921"
             ]
            ],
            "type": "heatmapgl"
           }
          ],
          "histogram": [
           {
            "marker": {
             "colorbar": {
              "outlinewidth": 0,
              "ticks": ""
             }
            },
            "type": "histogram"
           }
          ],
          "histogram2d": [
           {
            "colorbar": {
             "outlinewidth": 0,
             "ticks": ""
            },
            "colorscale": [
             [
              0,
              "#0d0887"
             ],
             [
              0.1111111111111111,
              "#46039f"
             ],
             [
              0.2222222222222222,
              "#7201a8"
             ],
             [
              0.3333333333333333,
              "#9c179e"
             ],
             [
              0.4444444444444444,
              "#bd3786"
             ],
             [
              0.5555555555555556,
              "#d8576b"
             ],
             [
              0.6666666666666666,
              "#ed7953"
             ],
             [
              0.7777777777777778,
              "#fb9f3a"
             ],
             [
              0.8888888888888888,
              "#fdca26"
             ],
             [
              1,
              "#f0f921"
             ]
            ],
            "type": "histogram2d"
           }
          ],
          "histogram2dcontour": [
           {
            "colorbar": {
             "outlinewidth": 0,
             "ticks": ""
            },
            "colorscale": [
             [
              0,
              "#0d0887"
             ],
             [
              0.1111111111111111,
              "#46039f"
             ],
             [
              0.2222222222222222,
              "#7201a8"
             ],
             [
              0.3333333333333333,
              "#9c179e"
             ],
             [
              0.4444444444444444,
              "#bd3786"
             ],
             [
              0.5555555555555556,
              "#d8576b"
             ],
             [
              0.6666666666666666,
              "#ed7953"
             ],
             [
              0.7777777777777778,
              "#fb9f3a"
             ],
             [
              0.8888888888888888,
              "#fdca26"
             ],
             [
              1,
              "#f0f921"
             ]
            ],
            "type": "histogram2dcontour"
           }
          ],
          "mesh3d": [
           {
            "colorbar": {
             "outlinewidth": 0,
             "ticks": ""
            },
            "type": "mesh3d"
           }
          ],
          "parcoords": [
           {
            "line": {
             "colorbar": {
              "outlinewidth": 0,
              "ticks": ""
             }
            },
            "type": "parcoords"
           }
          ],
          "pie": [
           {
            "automargin": true,
            "type": "pie"
           }
          ],
          "scatter": [
           {
            "marker": {
             "colorbar": {
              "outlinewidth": 0,
              "ticks": ""
             }
            },
            "type": "scatter"
           }
          ],
          "scatter3d": [
           {
            "line": {
             "colorbar": {
              "outlinewidth": 0,
              "ticks": ""
             }
            },
            "marker": {
             "colorbar": {
              "outlinewidth": 0,
              "ticks": ""
             }
            },
            "type": "scatter3d"
           }
          ],
          "scattercarpet": [
           {
            "marker": {
             "colorbar": {
              "outlinewidth": 0,
              "ticks": ""
             }
            },
            "type": "scattercarpet"
           }
          ],
          "scattergeo": [
           {
            "marker": {
             "colorbar": {
              "outlinewidth": 0,
              "ticks": ""
             }
            },
            "type": "scattergeo"
           }
          ],
          "scattergl": [
           {
            "marker": {
             "colorbar": {
              "outlinewidth": 0,
              "ticks": ""
             }
            },
            "type": "scattergl"
           }
          ],
          "scattermapbox": [
           {
            "marker": {
             "colorbar": {
              "outlinewidth": 0,
              "ticks": ""
             }
            },
            "type": "scattermapbox"
           }
          ],
          "scatterpolar": [
           {
            "marker": {
             "colorbar": {
              "outlinewidth": 0,
              "ticks": ""
             }
            },
            "type": "scatterpolar"
           }
          ],
          "scatterpolargl": [
           {
            "marker": {
             "colorbar": {
              "outlinewidth": 0,
              "ticks": ""
             }
            },
            "type": "scatterpolargl"
           }
          ],
          "scatterternary": [
           {
            "marker": {
             "colorbar": {
              "outlinewidth": 0,
              "ticks": ""
             }
            },
            "type": "scatterternary"
           }
          ],
          "surface": [
           {
            "colorbar": {
             "outlinewidth": 0,
             "ticks": ""
            },
            "colorscale": [
             [
              0,
              "#0d0887"
             ],
             [
              0.1111111111111111,
              "#46039f"
             ],
             [
              0.2222222222222222,
              "#7201a8"
             ],
             [
              0.3333333333333333,
              "#9c179e"
             ],
             [
              0.4444444444444444,
              "#bd3786"
             ],
             [
              0.5555555555555556,
              "#d8576b"
             ],
             [
              0.6666666666666666,
              "#ed7953"
             ],
             [
              0.7777777777777778,
              "#fb9f3a"
             ],
             [
              0.8888888888888888,
              "#fdca26"
             ],
             [
              1,
              "#f0f921"
             ]
            ],
            "type": "surface"
           }
          ],
          "table": [
           {
            "cells": {
             "fill": {
              "color": "#EBF0F8"
             },
             "line": {
              "color": "white"
             }
            },
            "header": {
             "fill": {
              "color": "#C8D4E3"
             },
             "line": {
              "color": "white"
             }
            },
            "type": "table"
           }
          ]
         },
         "layout": {
          "annotationdefaults": {
           "arrowcolor": "#2a3f5f",
           "arrowhead": 0,
           "arrowwidth": 1
          },
          "autotypenumbers": "strict",
          "coloraxis": {
           "colorbar": {
            "outlinewidth": 0,
            "ticks": ""
           }
          },
          "colorscale": {
           "diverging": [
            [
             0,
             "#8e0152"
            ],
            [
             0.1,
             "#c51b7d"
            ],
            [
             0.2,
             "#de77ae"
            ],
            [
             0.3,
             "#f1b6da"
            ],
            [
             0.4,
             "#fde0ef"
            ],
            [
             0.5,
             "#f7f7f7"
            ],
            [
             0.6,
             "#e6f5d0"
            ],
            [
             0.7,
             "#b8e186"
            ],
            [
             0.8,
             "#7fbc41"
            ],
            [
             0.9,
             "#4d9221"
            ],
            [
             1,
             "#276419"
            ]
           ],
           "sequential": [
            [
             0,
             "#0d0887"
            ],
            [
             0.1111111111111111,
             "#46039f"
            ],
            [
             0.2222222222222222,
             "#7201a8"
            ],
            [
             0.3333333333333333,
             "#9c179e"
            ],
            [
             0.4444444444444444,
             "#bd3786"
            ],
            [
             0.5555555555555556,
             "#d8576b"
            ],
            [
             0.6666666666666666,
             "#ed7953"
            ],
            [
             0.7777777777777778,
             "#fb9f3a"
            ],
            [
             0.8888888888888888,
             "#fdca26"
            ],
            [
             1,
             "#f0f921"
            ]
           ],
           "sequentialminus": [
            [
             0,
             "#0d0887"
            ],
            [
             0.1111111111111111,
             "#46039f"
            ],
            [
             0.2222222222222222,
             "#7201a8"
            ],
            [
             0.3333333333333333,
             "#9c179e"
            ],
            [
             0.4444444444444444,
             "#bd3786"
            ],
            [
             0.5555555555555556,
             "#d8576b"
            ],
            [
             0.6666666666666666,
             "#ed7953"
            ],
            [
             0.7777777777777778,
             "#fb9f3a"
            ],
            [
             0.8888888888888888,
             "#fdca26"
            ],
            [
             1,
             "#f0f921"
            ]
           ]
          },
          "colorway": [
           "#636efa",
           "#EF553B",
           "#00cc96",
           "#ab63fa",
           "#FFA15A",
           "#19d3f3",
           "#FF6692",
           "#B6E880",
           "#FF97FF",
           "#FECB52"
          ],
          "font": {
           "color": "#2a3f5f"
          },
          "geo": {
           "bgcolor": "white",
           "lakecolor": "white",
           "landcolor": "#E5ECF6",
           "showlakes": true,
           "showland": true,
           "subunitcolor": "white"
          },
          "hoverlabel": {
           "align": "left"
          },
          "hovermode": "closest",
          "mapbox": {
           "style": "light"
          },
          "paper_bgcolor": "white",
          "plot_bgcolor": "#E5ECF6",
          "polar": {
           "angularaxis": {
            "gridcolor": "white",
            "linecolor": "white",
            "ticks": ""
           },
           "bgcolor": "#E5ECF6",
           "radialaxis": {
            "gridcolor": "white",
            "linecolor": "white",
            "ticks": ""
           }
          },
          "scene": {
           "xaxis": {
            "backgroundcolor": "#E5ECF6",
            "gridcolor": "white",
            "gridwidth": 2,
            "linecolor": "white",
            "showbackground": true,
            "ticks": "",
            "zerolinecolor": "white"
           },
           "yaxis": {
            "backgroundcolor": "#E5ECF6",
            "gridcolor": "white",
            "gridwidth": 2,
            "linecolor": "white",
            "showbackground": true,
            "ticks": "",
            "zerolinecolor": "white"
           },
           "zaxis": {
            "backgroundcolor": "#E5ECF6",
            "gridcolor": "white",
            "gridwidth": 2,
            "linecolor": "white",
            "showbackground": true,
            "ticks": "",
            "zerolinecolor": "white"
           }
          },
          "shapedefaults": {
           "line": {
            "color": "#2a3f5f"
           }
          },
          "ternary": {
           "aaxis": {
            "gridcolor": "white",
            "linecolor": "white",
            "ticks": ""
           },
           "baxis": {
            "gridcolor": "white",
            "linecolor": "white",
            "ticks": ""
           },
           "bgcolor": "#E5ECF6",
           "caxis": {
            "gridcolor": "white",
            "linecolor": "white",
            "ticks": ""
           }
          },
          "title": {
           "x": 0.05
          },
          "xaxis": {
           "automargin": true,
           "gridcolor": "white",
           "linecolor": "white",
           "ticks": "",
           "title": {
            "standoff": 15
           },
           "zerolinecolor": "white",
           "zerolinewidth": 2
          },
          "yaxis": {
           "automargin": true,
           "gridcolor": "white",
           "linecolor": "white",
           "ticks": "",
           "title": {
            "standoff": 15
           },
           "zerolinecolor": "white",
           "zerolinewidth": 2
          }
         }
        },
        "title": {
         "text": "Happiness Rate Changing 2015 to 2019 for Top 20 Countries"
        },
        "xaxis": {
         "ticklen": 5,
         "title": {
          "text": "Country"
         },
         "zeroline": false
        },
        "yaxis": {
         "ticklen": 5,
         "title": {
          "text": "Happiness"
         },
         "zeroline": false
        }
       }
      },
      "text/html": [
       "<div>                            <div id=\"4fdc353d-ad50-4491-b791-35127598e25b\" class=\"plotly-graph-div\" style=\"height:525px; width:100%;\"></div>            <script type=\"text/javascript\">                require([\"plotly\"], function(Plotly) {                    window.PLOTLYENV=window.PLOTLYENV || {};                                    if (document.getElementById(\"4fdc353d-ad50-4491-b791-35127598e25b\")) {                    Plotly.newPlot(                        \"4fdc353d-ad50-4491-b791-35127598e25b\",                        [{\"marker\": {\"color\": \"red\"}, \"mode\": \"markers\", \"name\": \"2015\", \"text\": [\"Switzerland\", \"Iceland\", \"Denmark\", \"Norway\", \"Canada\", \"Finland\", \"Netherlands\", \"Sweden\", \"New Zealand\", \"Australia\", \"Israel\", \"Costa Rica\", \"Austria\", \"Mexico\", \"United States\", \"Brazil\", \"Luxembourg\", \"Ireland\", \"Belgium\", \"United Arab Emirates\", \"United Kingdom\", \"Oman\", \"Venezuela\", \"Singapore\", \"Panama\", \"Germany\", \"Chile\", \"Qatar\", \"France\", \"Argentina\", \"Czech Republic\", \"Uruguay\", \"Colombia\", \"Thailand\", \"Saudi Arabia\", \"Spain\", \"Malta\", \"Taiwan\", \"Kuwait\", \"Suriname\", \"Trinidad and Tobago\", \"El Salvador\", \"Guatemala\", \"Uzbekistan\", \"Slovakia\", \"Japan\", \"South Korea\", \"Ecuador\", \"Bahrain\", \"Italy\", \"Bolivia\", \"Moldova\", \"Paraguay\", \"Kazakhstan\", \"Slovenia\", \"Lithuania\", \"Nicaragua\", \"Peru\", \"Belarus\", \"Poland\", \"Malaysia\", \"Croatia\", \"Libya\", \"Russia\", \"Jamaica\", \"North Cyprus\", \"Cyprus\", \"Algeria\", \"Kosovo\", \"Turkmenistan\", \"Mauritius\", \"Hong Kong\", \"Estonia\", \"Indonesia\", \"Vietnam\", \"Turkey\", \"Kyrgyzstan\", \"Nigeria\", \"Bhutan\", \"Azerbaijan\", \"Pakistan\", \"Jordan\", \"Montenegro\", \"China\", \"Zambia\", \"Romania\", \"Serbia\", \"Portugal\", \"Latvia\", \"Philippines\", \"Somaliland region\", \"Morocco\", \"Macedonia\", \"Mozambique\", \"Albania\", \"Bosnia and Herzegovina\", \"Lesotho\", \"Dominican Republic\", \"Laos\", \"Mongolia\", \"Swaziland\", \"Greece\", \"Lebanon\", \"Hungary\", \"Honduras\", \"Tajikistan\", \"Tunisia\", \"Palestinian Territories\", \"Bangladesh\", \"Iran\", \"Ukraine\", \"Iraq\", \"South Africa\", \"Ghana\", \"Zimbabwe\", \"Liberia\", \"India\", \"Sudan\", \"Haiti\", \"Congo (Kinshasa)\", \"Nepal\", \"Ethiopia\", \"Sierra Leone\", \"Mauritania\", \"Kenya\", \"Djibouti\", \"Armenia\", \"Botswana\", \"Myanmar\", \"Georgia\", \"Malawi\", \"Sri Lanka\", \"Cameroon\", \"Bulgaria\", \"Egypt\", \"Yemen\", \"Angola\", \"Mali\", \"Congo (Brazzaville)\", \"Comoros\", \"Uganda\", \"Senegal\", \"Gabon\", \"Niger\", \"Cambodia\", \"Tanzania\", \"Madagascar\", \"Central African Republic\", \"Chad\", \"Guinea\", \"Ivory Coast\", \"Burkina Faso\", \"Afghanistan\", \"Rwanda\", \"Benin\", \"Syria\", \"Burundi\", \"Togo\"], \"type\": \"scatter\", \"x\": [\"Switzerland\", \"Iceland\", \"Denmark\", \"Norway\", \"Canada\", \"Finland\", \"Netherlands\", \"Sweden\", \"New Zealand\", \"Australia\", \"Israel\", \"Costa Rica\", \"Austria\", \"Mexico\", \"United States\", \"Brazil\", \"Luxembourg\", \"Ireland\", \"Belgium\", \"United Arab Emirates\"], \"y\": [7.587, 7.561, 7.527, 7.522, 7.427, 7.406, 7.378, 7.364, 7.286, 7.284, 7.278, 7.226, 7.2, 7.187, 7.119, 6.983, 6.946, 6.94, 6.937, 6.901]}, {\"marker\": {\"color\": \"green\"}, \"mode\": \"markers\", \"name\": \"2016\", \"text\": [\"Denmark\", \"Switzerland\", \"Iceland\", \"Norway\", \"Finland\", \"Canada\", \"Netherlands\", \"New Zealand\", \"Australia\", \"Sweden\", \"Israel\", \"Austria\", \"United States\", \"Costa Rica\", \"Puerto Rico\", \"Germany\", \"Brazil\", \"Belgium\", \"Ireland\", \"Luxembourg\", \"Mexico\", \"Singapore\", \"United Kingdom\", \"Chile\", \"Panama\", \"Argentina\", \"Czech Republic\", \"United Arab Emirates\", \"Uruguay\", \"Malta\", \"Colombia\", \"France\", \"Thailand\", \"Saudi Arabia\", \"Taiwan\", \"Qatar\", \"Spain\", \"Algeria\", \"Guatemala\", \"Suriname\", \"Kuwait\", \"Bahrain\", \"Trinidad and Tobago\", \"Venezuela\", \"Slovakia\", \"El Salvador\", \"Malaysia\", \"Nicaragua\", \"Uzbekistan\", \"Italy\", \"Ecuador\", \"Belize\", \"Japan\", \"Kazakhstan\", \"Moldova\", \"Russia\", \"Poland\", \"South Korea\", \"Bolivia\", \"Lithuania\", \"Belarus\", \"North Cyprus\", \"Slovenia\", \"Peru\", \"Turkmenistan\", \"Mauritius\", \"Libya\", \"Latvia\", \"Cyprus\", \"Paraguay\", \"Romania\", \"Estonia\", \"Jamaica\", \"Croatia\", \"Hong Kong\", \"Somalia\", \"Kosovo\", \"Turkey\", \"Indonesia\", \"Jordan\", \"Azerbaijan\", \"Philippines\", \"China\", \"Bhutan\", \"Kyrgyzstan\", \"Serbia\", \"Bosnia and Herzegovina\", \"Montenegro\", \"Dominican Republic\", \"Morocco\", \"Hungary\", \"Pakistan\", \"Lebanon\", \"Portugal\", \"Macedonia\", \"Vietnam\", \"Somaliland Region\", \"Tunisia\", \"Greece\", \"Tajikistan\", \"Mongolia\", \"Laos\", \"Nigeria\", \"Honduras\", \"Iran\", \"Zambia\", \"Nepal\", \"Palestinian Territories\", \"Albania\", \"Bangladesh\", \"Sierra Leone\", \"Iraq\", \"Namibia\", \"Cameroon\", \"Ethiopia\", \"South Africa\", \"Sri Lanka\", \"India\", \"Myanmar\", \"Egypt\", \"Armenia\", \"Kenya\", \"Ukraine\", \"Ghana\", \"Congo (Kinshasa)\", \"Georgia\", \"Congo (Brazzaville)\", \"Senegal\", \"Bulgaria\", \"Mauritania\", \"Zimbabwe\", \"Malawi\", \"Sudan\", \"Gabon\", \"Mali\", \"Haiti\", \"Botswana\", \"Comoros\", \"Ivory Coast\", \"Cambodia\", \"Angola\", \"Niger\", \"South Sudan\", \"Chad\", \"Burkina Faso\", \"Uganda\", \"Yemen\", \"Madagascar\", \"Tanzania\", \"Liberia\", \"Guinea\", \"Rwanda\", \"Benin\", \"Afghanistan\", \"Togo\", \"Syria\", \"Burundi\"], \"type\": \"scatter\", \"x\": [\"Switzerland\", \"Iceland\", \"Denmark\", \"Norway\", \"Canada\", \"Finland\", \"Netherlands\", \"Sweden\", \"New Zealand\", \"Australia\", \"Israel\", \"Costa Rica\", \"Austria\", \"Mexico\", \"United States\", \"Brazil\", \"Luxembourg\", \"Ireland\", \"Belgium\", \"United Arab Emirates\"], \"y\": [7.526, 7.509, 7.501, 7.498, 7.413, 7.404, 7.339, 7.334, 7.313, 7.291, 7.267, 7.119, 7.104, 7.087, 7.039, 6.994, 6.952, 6.929, 6.907, 6.871]}, {\"marker\": {\"color\": \"blue\"}, \"mode\": \"markers\", \"name\": \"2017\", \"text\": [\"Norway\", \"Denmark\", \"Iceland\", \"Switzerland\", \"Finland\", \"Netherlands\", \"Canada\", \"New Zealand\", \"Sweden\", \"Australia\", \"Israel\", \"Costa Rica\", \"Austria\", \"United States\", \"Ireland\", \"Germany\", \"Belgium\", \"Luxembourg\", \"United Kingdom\", \"Chile\", \"United Arab Emirates\", \"Brazil\", \"Czech Republic\", \"Argentina\", \"Mexico\", \"Singapore\", \"Malta\", \"Uruguay\", \"Guatemala\", \"Panama\", \"France\", \"Thailand\", \"Taiwan Province of China\", \"Spain\", \"Qatar\", \"Colombia\", \"Saudi Arabia\", \"Trinidad and Tobago\", \"Kuwait\", \"Slovakia\", \"Bahrain\", \"Malaysia\", \"Nicaragua\", \"Ecuador\", \"El Salvador\", \"Poland\", \"Uzbekistan\", \"Italy\", \"Russia\", \"Belize\", \"Japan\", \"Lithuania\", \"Algeria\", \"Latvia\", \"South Korea\", \"Moldova\", \"Romania\", \"Bolivia\", \"Turkmenistan\", \"Kazakhstan\", \"North Cyprus\", \"Slovenia\", \"Peru\", \"Mauritius\", \"Cyprus\", \"Estonia\", \"Belarus\", \"Libya\", \"Turkey\", \"Paraguay\", \"Hong Kong S.A.R., China\", \"Philippines\", \"Serbia\", \"Jordan\", \"Hungary\", \"Jamaica\", \"Croatia\", \"Kosovo\", \"China\", \"Pakistan\", \"Indonesia\", \"Venezuela\", \"Montenegro\", \"Morocco\", \"Azerbaijan\", \"Dominican Republic\", \"Greece\", \"Lebanon\", \"Portugal\", \"Bosnia and Herzegovina\", \"Honduras\", \"Macedonia\", \"Somalia\", \"Vietnam\", \"Nigeria\", \"Tajikistan\", \"Bhutan\", \"Kyrgyzstan\", \"Nepal\", \"Mongolia\", \"South Africa\", \"Tunisia\", \"Palestinian Territories\", \"Egypt\", \"Bulgaria\", \"Sierra Leone\", \"Cameroon\", \"Iran\", \"Albania\", \"Bangladesh\", \"Namibia\", \"Kenya\", \"Mozambique\", \"Myanmar\", \"Senegal\", \"Zambia\", \"Iraq\", \"Gabon\", \"Ethiopia\", \"Sri Lanka\", \"Armenia\", \"India\", \"Mauritania\", \"Congo (Brazzaville)\", \"Georgia\", \"Congo (Kinshasa)\", \"Mali\", \"Ivory Coast\", \"Cambodia\", \"Sudan\", \"Ghana\", \"Ukraine\", \"Uganda\", \"Burkina Faso\", \"Niger\", \"Malawi\", \"Chad\", \"Zimbabwe\", \"Lesotho\", \"Angola\", \"Afghanistan\", \"Botswana\", \"Benin\", \"Madagascar\", \"Haiti\", \"Yemen\", \"South Sudan\", \"Liberia\", \"Guinea\", \"Togo\", \"Rwanda\", \"Syria\", \"Tanzania\", \"Burundi\", \"Central African Republic\"], \"type\": \"scatter\", \"x\": [\"Switzerland\", \"Iceland\", \"Denmark\", \"Norway\", \"Canada\", \"Finland\", \"Netherlands\", \"Sweden\", \"New Zealand\", \"Australia\", \"Israel\", \"Costa Rica\", \"Austria\", \"Mexico\", \"United States\", \"Brazil\", \"Luxembourg\", \"Ireland\", \"Belgium\", \"United Arab Emirates\"], \"y\": [7.53700017929077, 7.52199983596802, 7.50400018692017, 7.49399995803833, 7.4689998626709, 7.3769998550415, 7.31599998474121, 7.31400012969971, 7.28399991989136, 7.28399991989136, 7.21299982070923, 7.0789999961853, 7.00600004196167, 6.99300003051758, 6.97700023651123, 6.95100021362305, 6.89099979400635, 6.86299991607666, 6.71400022506714, 6.65199995040894]}, {\"marker\": {\"color\": \"black\"}, \"mode\": \"markers\", \"name\": \"2018\", \"text\": [\"Finland\", \"Norway\", \"Denmark\", \"Iceland\", \"Switzerland\", \"Netherlands\", \"Canada\", \"New Zealand\", \"Sweden\", \"Australia\", \"United Kingdom\", \"Austria\", \"Costa Rica\", \"Ireland\", \"Germany\", \"Belgium\", \"Luxembourg\", \"United States\", \"Israel\", \"United Arab Emirates\", \"Czech Republic\", \"Malta\", \"France\", \"Mexico\", \"Chile\", \"Taiwan\", \"Panama\", \"Brazil\", \"Argentina\", \"Guatemala\", \"Uruguay\", \"Qatar\", \"Saudi Arabia\", \"Singapore\", \"Malaysia\", \"Spain\", \"Colombia\", \"Trinidad & Tobago\", \"Slovakia\", \"El Salvador\", \"Nicaragua\", \"Poland\", \"Bahrain\", \"Uzbekistan\", \"Kuwait\", \"Thailand\", \"Italy\", \"Ecuador\", \"Belize\", \"Lithuania\", \"Slovenia\", \"Romania\", \"Latvia\", \"Japan\", \"Mauritius\", \"Jamaica\", \"South Korea\", \"Northern Cyprus\", \"Russia\", \"Kazakhstan\", \"Cyprus\", \"Bolivia\", \"Estonia\", \"Paraguay\", \"Peru\", \"Kosovo\", \"Moldova\", \"Turkmenistan\", \"Hungary\", \"Libya\", \"Philippines\", \"Honduras\", \"Belarus\", \"Turkey\", \"Pakistan\", \"Hong Kong\", \"Portugal\", \"Serbia\", \"Greece\", \"Lebanon\", \"Montenegro\", \"Croatia\", \"Dominican Republic\", \"Algeria\", \"Morocco\", \"China\", \"Azerbaijan\", \"Tajikistan\", \"Macedonia\", \"Jordan\", \"Nigeria\", \"Kyrgyzstan\", \"Bosnia and Herzegovina\", \"Mongolia\", \"Vietnam\", \"Indonesia\", \"Bhutan\", \"Somalia\", \"Cameroon\", \"Bulgaria\", \"Nepal\", \"Venezuela\", \"Gabon\", \"Palestinian Territories\", \"South Africa\", \"Iran\", \"Ivory Coast\", \"Ghana\", \"Senegal\", \"Laos\", \"Tunisia\", \"Albania\", \"Sierra Leone\", \"Congo (Brazzaville)\", \"Bangladesh\", \"Sri Lanka\", \"Iraq\", \"Mali\", \"Namibia\", \"Cambodia\", \"Burkina Faso\", \"Egypt\", \"Mozambique\", \"Kenya\", \"Zambia\", \"Mauritania\", \"Ethiopia\", \"Georgia\", \"Armenia\", \"Myanmar\", \"Chad\", \"Congo (Kinshasa)\", \"India\", \"Niger\", \"Uganda\", \"Benin\", \"Sudan\", \"Ukraine\", \"Togo\", \"Guinea\", \"Lesotho\", \"Angola\", \"Madagascar\", \"Zimbabwe\", \"Afghanistan\", \"Botswana\", \"Malawi\", \"Haiti\", \"Liberia\", \"Syria\", \"Rwanda\", \"Yemen\", \"Tanzania\", \"South Sudan\", \"Central African Republic\", \"Burundi\"], \"type\": \"scatter\", \"x\": [\"Switzerland\", \"Iceland\", \"Denmark\", \"Norway\", \"Canada\", \"Finland\", \"Netherlands\", \"Sweden\", \"New Zealand\", \"Australia\", \"Israel\", \"Costa Rica\", \"Austria\", \"Mexico\", \"United States\", \"Brazil\", \"Luxembourg\", \"Ireland\", \"Belgium\", \"United Arab Emirates\"], \"y\": [7.632, 7.594, 7.555, 7.495, 7.487, 7.441, 7.328, 7.324, 7.314, 7.272, 7.19, 7.139, 7.072, 6.977, 6.965, 6.927, 6.91, 6.886, 6.814, 6.774]}, {\"marker\": {\"color\": \"pink\"}, \"mode\": \"markers\", \"name\": \"2019\", \"text\": [\"Finland\", \"Denmark\", \"Norway\", \"Iceland\", \"Netherlands\", \"Switzerland\", \"Sweden\", \"New Zealand\", \"Canada\", \"Austria\", \"Australia\", \"Costa Rica\", \"Israel\", \"Luxembourg\", \"United Kingdom\", \"Ireland\", \"Germany\", \"Belgium\", \"United States\", \"Czech Republic\", \"United Arab Emirates\", \"Malta\", \"Mexico\", \"France\", \"Taiwan\", \"Chile\", \"Guatemala\", \"Saudi Arabia\", \"Qatar\", \"Spain\", \"Panama\", \"Brazil\", \"Uruguay\", \"Singapore\", \"El Salvador\", \"Italy\", \"Bahrain\", \"Slovakia\", \"Trinidad & Tobago\", \"Poland\", \"Uzbekistan\", \"Lithuania\", \"Colombia\", \"Slovenia\", \"Nicaragua\", \"Kosovo\", \"Argentina\", \"Romania\", \"Cyprus\", \"Ecuador\", \"Kuwait\", \"Thailand\", \"Latvia\", \"South Korea\", \"Estonia\", \"Jamaica\", \"Mauritius\", \"Japan\", \"Honduras\", \"Kazakhstan\", \"Bolivia\", \"Hungary\", \"Paraguay\", \"Northern Cyprus\", \"Peru\", \"Portugal\", \"Pakistan\", \"Russia\", \"Philippines\", \"Serbia\", \"Moldova\", \"Libya\", \"Montenegro\", \"Tajikistan\", \"Croatia\", \"Hong Kong\", \"Dominican Republic\", \"Bosnia and Herzegovina\", \"Turkey\", \"Malaysia\", \"Belarus\", \"Greece\", \"Mongolia\", \"North Macedonia\", \"Nigeria\", \"Kyrgyzstan\", \"Turkmenistan\", \"Algeria\", \"Morocco\", \"Azerbaijan\", \"Lebanon\", \"Indonesia\", \"China\", \"Vietnam\", \"Bhutan\", \"Cameroon\", \"Bulgaria\", \"Ghana\", \"Ivory Coast\", \"Nepal\", \"Jordan\", \"Benin\", \"Congo (Brazzaville)\", \"Gabon\", \"Laos\", \"South Africa\", \"Albania\", \"Venezuela\", \"Cambodia\", \"Palestinian Territories\", \"Senegal\", \"Somalia\", \"Namibia\", \"Niger\", \"Burkina Faso\", \"Armenia\", \"Iran\", \"Guinea\", \"Georgia\", \"Gambia\", \"Kenya\", \"Mauritania\", \"Mozambique\", \"Tunisia\", \"Bangladesh\", \"Iraq\", \"Congo (Kinshasa)\", \"Mali\", \"Sierra Leone\", \"Sri Lanka\", \"Myanmar\", \"Chad\", \"Ukraine\", \"Ethiopia\", \"Swaziland\", \"Uganda\", \"Egypt\", \"Zambia\", \"Togo\", \"India\", \"Liberia\", \"Comoros\", \"Madagascar\", \"Lesotho\", \"Burundi\", \"Zimbabwe\", \"Haiti\", \"Botswana\", \"Syria\", \"Malawi\", \"Yemen\", \"Rwanda\", \"Tanzania\", \"Afghanistan\", \"Central African Republic\", \"South Sudan\"], \"type\": \"scatter\", \"x\": [\"Switzerland\", \"Iceland\", \"Denmark\", \"Norway\", \"Canada\", \"Finland\", \"Netherlands\", \"Sweden\", \"New Zealand\", \"Australia\", \"Israel\", \"Costa Rica\", \"Austria\", \"Mexico\", \"United States\", \"Brazil\", \"Luxembourg\", \"Ireland\", \"Belgium\", \"United Arab Emirates\"], \"y\": [7.769, 7.6, 7.554, 7.494, 7.488, 7.48, 7.343, 7.307, 7.278, 7.246, 7.228, 7.167, 7.139, 7.09, 7.054, 7.021, 6.985, 6.923, 6.892, 6.852]}],                        {\"hovermode\": \"x unified\", \"template\": {\"data\": {\"bar\": [{\"error_x\": {\"color\": \"#2a3f5f\"}, \"error_y\": {\"color\": \"#2a3f5f\"}, \"marker\": {\"line\": {\"color\": \"#E5ECF6\", \"width\": 0.5}}, \"type\": \"bar\"}], \"barpolar\": [{\"marker\": {\"line\": {\"color\": \"#E5ECF6\", \"width\": 0.5}}, \"type\": \"barpolar\"}], \"carpet\": [{\"aaxis\": {\"endlinecolor\": \"#2a3f5f\", \"gridcolor\": \"white\", \"linecolor\": \"white\", \"minorgridcolor\": \"white\", \"startlinecolor\": \"#2a3f5f\"}, \"baxis\": {\"endlinecolor\": \"#2a3f5f\", \"gridcolor\": \"white\", \"linecolor\": \"white\", \"minorgridcolor\": \"white\", \"startlinecolor\": \"#2a3f5f\"}, \"type\": \"carpet\"}], \"choropleth\": [{\"colorbar\": {\"outlinewidth\": 0, \"ticks\": \"\"}, \"type\": \"choropleth\"}], \"contour\": [{\"colorbar\": {\"outlinewidth\": 0, \"ticks\": \"\"}, \"colorscale\": [[0.0, \"#0d0887\"], [0.1111111111111111, \"#46039f\"], [0.2222222222222222, \"#7201a8\"], [0.3333333333333333, \"#9c179e\"], [0.4444444444444444, \"#bd3786\"], [0.5555555555555556, \"#d8576b\"], [0.6666666666666666, \"#ed7953\"], [0.7777777777777778, \"#fb9f3a\"], [0.8888888888888888, \"#fdca26\"], [1.0, \"#f0f921\"]], \"type\": \"contour\"}], \"contourcarpet\": [{\"colorbar\": {\"outlinewidth\": 0, \"ticks\": \"\"}, \"type\": \"contourcarpet\"}], \"heatmap\": [{\"colorbar\": {\"outlinewidth\": 0, \"ticks\": \"\"}, \"colorscale\": [[0.0, \"#0d0887\"], [0.1111111111111111, \"#46039f\"], [0.2222222222222222, \"#7201a8\"], [0.3333333333333333, \"#9c179e\"], [0.4444444444444444, \"#bd3786\"], [0.5555555555555556, \"#d8576b\"], [0.6666666666666666, \"#ed7953\"], [0.7777777777777778, \"#fb9f3a\"], [0.8888888888888888, \"#fdca26\"], [1.0, \"#f0f921\"]], \"type\": \"heatmap\"}], \"heatmapgl\": [{\"colorbar\": {\"outlinewidth\": 0, \"ticks\": \"\"}, \"colorscale\": [[0.0, \"#0d0887\"], [0.1111111111111111, \"#46039f\"], [0.2222222222222222, \"#7201a8\"], [0.3333333333333333, \"#9c179e\"], [0.4444444444444444, \"#bd3786\"], [0.5555555555555556, \"#d8576b\"], [0.6666666666666666, \"#ed7953\"], [0.7777777777777778, \"#fb9f3a\"], [0.8888888888888888, \"#fdca26\"], [1.0, \"#f0f921\"]], \"type\": \"heatmapgl\"}], \"histogram\": [{\"marker\": {\"colorbar\": {\"outlinewidth\": 0, \"ticks\": \"\"}}, \"type\": \"histogram\"}], \"histogram2d\": [{\"colorbar\": {\"outlinewidth\": 0, \"ticks\": \"\"}, \"colorscale\": [[0.0, \"#0d0887\"], [0.1111111111111111, \"#46039f\"], [0.2222222222222222, \"#7201a8\"], [0.3333333333333333, \"#9c179e\"], [0.4444444444444444, \"#bd3786\"], [0.5555555555555556, \"#d8576b\"], [0.6666666666666666, \"#ed7953\"], [0.7777777777777778, \"#fb9f3a\"], [0.8888888888888888, \"#fdca26\"], [1.0, \"#f0f921\"]], \"type\": \"histogram2d\"}], \"histogram2dcontour\": [{\"colorbar\": {\"outlinewidth\": 0, \"ticks\": \"\"}, \"colorscale\": [[0.0, \"#0d0887\"], [0.1111111111111111, \"#46039f\"], [0.2222222222222222, \"#7201a8\"], [0.3333333333333333, \"#9c179e\"], [0.4444444444444444, \"#bd3786\"], [0.5555555555555556, \"#d8576b\"], [0.6666666666666666, \"#ed7953\"], [0.7777777777777778, \"#fb9f3a\"], [0.8888888888888888, \"#fdca26\"], [1.0, \"#f0f921\"]], \"type\": \"histogram2dcontour\"}], \"mesh3d\": [{\"colorbar\": {\"outlinewidth\": 0, \"ticks\": \"\"}, \"type\": \"mesh3d\"}], \"parcoords\": [{\"line\": {\"colorbar\": {\"outlinewidth\": 0, \"ticks\": \"\"}}, \"type\": \"parcoords\"}], \"pie\": [{\"automargin\": true, \"type\": \"pie\"}], \"scatter\": [{\"marker\": {\"colorbar\": {\"outlinewidth\": 0, \"ticks\": \"\"}}, \"type\": \"scatter\"}], \"scatter3d\": [{\"line\": {\"colorbar\": {\"outlinewidth\": 0, \"ticks\": \"\"}}, \"marker\": {\"colorbar\": {\"outlinewidth\": 0, \"ticks\": \"\"}}, \"type\": \"scatter3d\"}], \"scattercarpet\": [{\"marker\": {\"colorbar\": {\"outlinewidth\": 0, \"ticks\": \"\"}}, \"type\": \"scattercarpet\"}], \"scattergeo\": [{\"marker\": {\"colorbar\": {\"outlinewidth\": 0, \"ticks\": \"\"}}, \"type\": \"scattergeo\"}], \"scattergl\": [{\"marker\": {\"colorbar\": {\"outlinewidth\": 0, \"ticks\": \"\"}}, \"type\": \"scattergl\"}], \"scattermapbox\": [{\"marker\": {\"colorbar\": {\"outlinewidth\": 0, \"ticks\": \"\"}}, \"type\": \"scattermapbox\"}], \"scatterpolar\": [{\"marker\": {\"colorbar\": {\"outlinewidth\": 0, \"ticks\": \"\"}}, \"type\": \"scatterpolar\"}], \"scatterpolargl\": [{\"marker\": {\"colorbar\": {\"outlinewidth\": 0, \"ticks\": \"\"}}, \"type\": \"scatterpolargl\"}], \"scatterternary\": [{\"marker\": {\"colorbar\": {\"outlinewidth\": 0, \"ticks\": \"\"}}, \"type\": \"scatterternary\"}], \"surface\": [{\"colorbar\": {\"outlinewidth\": 0, \"ticks\": \"\"}, \"colorscale\": [[0.0, \"#0d0887\"], [0.1111111111111111, \"#46039f\"], [0.2222222222222222, \"#7201a8\"], [0.3333333333333333, \"#9c179e\"], [0.4444444444444444, \"#bd3786\"], [0.5555555555555556, \"#d8576b\"], [0.6666666666666666, \"#ed7953\"], [0.7777777777777778, \"#fb9f3a\"], [0.8888888888888888, \"#fdca26\"], [1.0, \"#f0f921\"]], \"type\": \"surface\"}], \"table\": [{\"cells\": {\"fill\": {\"color\": \"#EBF0F8\"}, \"line\": {\"color\": \"white\"}}, \"header\": {\"fill\": {\"color\": \"#C8D4E3\"}, \"line\": {\"color\": \"white\"}}, \"type\": \"table\"}]}, \"layout\": {\"annotationdefaults\": {\"arrowcolor\": \"#2a3f5f\", \"arrowhead\": 0, \"arrowwidth\": 1}, \"autotypenumbers\": \"strict\", \"coloraxis\": {\"colorbar\": {\"outlinewidth\": 0, \"ticks\": \"\"}}, \"colorscale\": {\"diverging\": [[0, \"#8e0152\"], [0.1, \"#c51b7d\"], [0.2, \"#de77ae\"], [0.3, \"#f1b6da\"], [0.4, \"#fde0ef\"], [0.5, \"#f7f7f7\"], [0.6, \"#e6f5d0\"], [0.7, \"#b8e186\"], [0.8, \"#7fbc41\"], [0.9, \"#4d9221\"], [1, \"#276419\"]], \"sequential\": [[0.0, \"#0d0887\"], [0.1111111111111111, \"#46039f\"], [0.2222222222222222, \"#7201a8\"], [0.3333333333333333, \"#9c179e\"], [0.4444444444444444, \"#bd3786\"], [0.5555555555555556, \"#d8576b\"], [0.6666666666666666, \"#ed7953\"], [0.7777777777777778, \"#fb9f3a\"], [0.8888888888888888, \"#fdca26\"], [1.0, \"#f0f921\"]], \"sequentialminus\": [[0.0, \"#0d0887\"], [0.1111111111111111, \"#46039f\"], [0.2222222222222222, \"#7201a8\"], [0.3333333333333333, \"#9c179e\"], [0.4444444444444444, \"#bd3786\"], [0.5555555555555556, \"#d8576b\"], [0.6666666666666666, \"#ed7953\"], [0.7777777777777778, \"#fb9f3a\"], [0.8888888888888888, \"#fdca26\"], [1.0, \"#f0f921\"]]}, \"colorway\": [\"#636efa\", \"#EF553B\", \"#00cc96\", \"#ab63fa\", \"#FFA15A\", \"#19d3f3\", \"#FF6692\", \"#B6E880\", \"#FF97FF\", \"#FECB52\"], \"font\": {\"color\": \"#2a3f5f\"}, \"geo\": {\"bgcolor\": \"white\", \"lakecolor\": \"white\", \"landcolor\": \"#E5ECF6\", \"showlakes\": true, \"showland\": true, \"subunitcolor\": \"white\"}, \"hoverlabel\": {\"align\": \"left\"}, \"hovermode\": \"closest\", \"mapbox\": {\"style\": \"light\"}, \"paper_bgcolor\": \"white\", \"plot_bgcolor\": \"#E5ECF6\", \"polar\": {\"angularaxis\": {\"gridcolor\": \"white\", \"linecolor\": \"white\", \"ticks\": \"\"}, \"bgcolor\": \"#E5ECF6\", \"radialaxis\": {\"gridcolor\": \"white\", \"linecolor\": \"white\", \"ticks\": \"\"}}, \"scene\": {\"xaxis\": {\"backgroundcolor\": \"#E5ECF6\", \"gridcolor\": \"white\", \"gridwidth\": 2, \"linecolor\": \"white\", \"showbackground\": true, \"ticks\": \"\", \"zerolinecolor\": \"white\"}, \"yaxis\": {\"backgroundcolor\": \"#E5ECF6\", \"gridcolor\": \"white\", \"gridwidth\": 2, \"linecolor\": \"white\", \"showbackground\": true, \"ticks\": \"\", \"zerolinecolor\": \"white\"}, \"zaxis\": {\"backgroundcolor\": \"#E5ECF6\", \"gridcolor\": \"white\", \"gridwidth\": 2, \"linecolor\": \"white\", \"showbackground\": true, \"ticks\": \"\", \"zerolinecolor\": \"white\"}}, \"shapedefaults\": {\"line\": {\"color\": \"#2a3f5f\"}}, \"ternary\": {\"aaxis\": {\"gridcolor\": \"white\", \"linecolor\": \"white\", \"ticks\": \"\"}, \"baxis\": {\"gridcolor\": \"white\", \"linecolor\": \"white\", \"ticks\": \"\"}, \"bgcolor\": \"#E5ECF6\", \"caxis\": {\"gridcolor\": \"white\", \"linecolor\": \"white\", \"ticks\": \"\"}}, \"title\": {\"x\": 0.05}, \"xaxis\": {\"automargin\": true, \"gridcolor\": \"white\", \"linecolor\": \"white\", \"ticks\": \"\", \"title\": {\"standoff\": 15}, \"zerolinecolor\": \"white\", \"zerolinewidth\": 2}, \"yaxis\": {\"automargin\": true, \"gridcolor\": \"white\", \"linecolor\": \"white\", \"ticks\": \"\", \"title\": {\"standoff\": 15}, \"zerolinecolor\": \"white\", \"zerolinewidth\": 2}}}, \"title\": {\"text\": \"Happiness Rate Changing 2015 to 2019 for Top 20 Countries\"}, \"xaxis\": {\"ticklen\": 5, \"title\": {\"text\": \"Country\"}, \"zeroline\": false}, \"yaxis\": {\"ticklen\": 5, \"title\": {\"text\": \"Happiness\"}, \"zeroline\": false}},                        {\"responsive\": true}                    ).then(function(){\n",
       "                            \n",
       "var gd = document.getElementById('4fdc353d-ad50-4491-b791-35127598e25b');\n",
       "var x = new MutationObserver(function (mutations, observer) {{\n",
       "        var display = window.getComputedStyle(gd).display;\n",
       "        if (!display || display === 'none') {{\n",
       "            console.log([gd, 'removed!']);\n",
       "            Plotly.purge(gd);\n",
       "            observer.disconnect();\n",
       "        }}\n",
       "}});\n",
       "\n",
       "// Listen for the removal of the full notebook cells\n",
       "var notebookContainer = gd.closest('#notebook-container');\n",
       "if (notebookContainer) {{\n",
       "    x.observe(notebookContainer, {childList: true});\n",
       "}}\n",
       "\n",
       "// Listen for the clearing of the current output cell\n",
       "var outputEl = gd.closest('.output');\n",
       "if (outputEl) {{\n",
       "    x.observe(outputEl, {childList: true});\n",
       "}}\n",
       "\n",
       "                        })                };                });            </script>        </div>"
      ]
     },
     "metadata": {},
     "output_type": "display_data"
    }
   ],
   "source": [
    "# import graph objects as \"go\"\n",
    "import plotly.graph_objs as go\n",
    "# creating trace1\n",
    "trace1 =go.Scatter(\n",
    "                    x = whr_data.loc[whr_data['Year'] == 2015].iloc[:20, :]['Country'],\n",
    "                    y = whr_data.loc[whr_data['Year'] == 2015].iloc[:20, :]['Happiness Score'],\n",
    "                    mode = \"markers\",\n",
    "                    name = \"2015\",\n",
    "                    marker = dict(color = 'red'),\n",
    "                    #line = dict(color='firebrick', width=4, dash='dot'),\n",
    "                    text= whr_data.loc[whr_data['Year'] == 2015].Country)\n",
    "# creating trace2\n",
    "trace2 =go.Scatter(\n",
    "                    x = whr_data.loc[whr_data['Year'] == 2015].iloc[:20, :]['Country'],\n",
    "                    y = whr_data.loc[whr_data['Year'] == 2016].iloc[:20, :]['Happiness Score'],\n",
    "                    mode = \"markers\",\n",
    "                    name = \"2016\",\n",
    "                    marker = dict(color = 'green'),\n",
    "                    text= whr_data.loc[whr_data['Year'] == 2016].Country)\n",
    "# creating trace3\n",
    "trace3 =go.Scatter(\n",
    "                    x = whr_data.loc[whr_data['Year'] == 2015].iloc[:20, :]['Country'],\n",
    "                    y = whr_data.loc[whr_data['Year'] == 2017].iloc[:20, :]['Happiness Score'],\n",
    "                    mode = \"markers\",\n",
    "                    name = \"2017\",\n",
    "                    marker = dict(color = 'blue'),\n",
    "                    text= whr_data.loc[whr_data['Year'] == 2017].Country)\n",
    "\n",
    "# creating trace4\n",
    "trace4 =go.Scatter(\n",
    "                    x = whr_data.loc[whr_data['Year'] == 2015].iloc[:20, :]['Country'],\n",
    "                    y = whr_data.loc[whr_data['Year'] == 2018].iloc[:20, :]['Happiness Score'],\n",
    "                    mode = \"markers\",\n",
    "                    name = \"2018\",\n",
    "                    marker = dict(color = 'black'),\n",
    "                    text= whr_data.loc[whr_data['Year'] == 2018].Country)\n",
    "\n",
    "# creating trace5\n",
    "trace5 =go.Scatter(\n",
    "                    x = whr_data.loc[whr_data['Year'] == 2015].iloc[:20, :]['Country'],\n",
    "                    y = whr_data.loc[whr_data['Year'] == 2019].iloc[:20, :]['Happiness Score'],\n",
    "                    mode = \"markers\",\n",
    "                    name = \"2019\",\n",
    "                    marker = dict(color = 'pink'),\n",
    "                    text= whr_data.loc[whr_data['Year'] == 2019].Country)\n",
    "\n",
    "\n",
    "data = [trace1, trace2, trace3, trace4, trace5]\n",
    "layout = dict(title = 'Happiness Rate Changing 2015 to 2019 for Top 20 Countries',\n",
    "              xaxis= dict(title= 'Country',ticklen= 5,zeroline= False),\n",
    "              yaxis= dict(title= 'Happiness',ticklen= 5,zeroline= False),\n",
    "              hovermode=\"x unified\"\n",
    "             )\n",
    "fig = dict(data = data, layout = layout)\n",
    "iplot(fig)"
   ]
  },
  {
   "cell_type": "markdown",
   "id": "intermediate-friday",
   "metadata": {},
   "source": [
    "# Map Plots\n",
    "These types of plots are used to understand geographical data and allows us to understand general trends of data across the globe! They offer a bunch of different methods to utilize this visualization; however, we won't be going through all of them. \n",
    "\n",
    "We will input our data in a dictionary as follows:\n",
    "* type --> type of the map\n",
    "* colorscale --> palette\n",
    "* marker_line_width --> width of border line of countries\n",
    "* locations --> locations from dataset\n",
    "* locationmode --> locations created via country names\n",
    "* z --> The column of the graph we want to display (in our case, the feature)\n",
    "* text --> hovertext\n",
    "* colorbar --> determining colorbar\n",
    "\n",
    "All we really care about here is `z`, everything else doesn't really matter - you can choose what to put for those other values based on what you want your graph to look like. As long as you have some list of country names, you will be able to visualize those scores by region as we do below!\n",
    "\n",
    "Note: Because there are different years' data in our dataset, we would have to do a little more tweaking in order to get the averaged value over the years which may lead to a slightly different visualization. In our case, we are technically looking at values from 2015 as they are the first values that appear for a country in our dataset."
   ]
  },
  {
   "cell_type": "code",
   "execution_count": 8,
   "id": "former-terry",
   "metadata": {},
   "outputs": [
    {
     "data": {
      "application/vnd.plotly.v1+json": {
       "config": {
        "linkText": "Export to plot.ly",
        "plotlyServerURL": "https://plot.ly",
        "showLink": false
       },
       "data": [
        {
         "colorbar": {
          "title": {
           "text": "Family"
          }
         },
         "colorscale": [
          [
           0,
           "#440154"
          ],
          [
           0.1111111111111111,
           "#482878"
          ],
          [
           0.2222222222222222,
           "#3e4989"
          ],
          [
           0.3333333333333333,
           "#31688e"
          ],
          [
           0.4444444444444444,
           "#26828e"
          ],
          [
           0.5555555555555556,
           "#1f9e89"
          ],
          [
           0.6666666666666666,
           "#35b779"
          ],
          [
           0.7777777777777778,
           "#6ece58"
          ],
          [
           0.8888888888888888,
           "#b5de2b"
          ],
          [
           1,
           "#fde725"
          ]
         ],
         "locationmode": "country names",
         "locations": [
          "Switzerland",
          "Iceland",
          "Denmark",
          "Norway",
          "Canada",
          "Finland",
          "Netherlands",
          "Sweden",
          "New Zealand",
          "Australia",
          "Israel",
          "Costa Rica",
          "Austria",
          "Mexico",
          "United States",
          "Brazil",
          "Luxembourg",
          "Ireland",
          "Belgium",
          "United Arab Emirates",
          "United Kingdom",
          "Oman",
          "Venezuela",
          "Singapore",
          "Panama",
          "Germany",
          "Chile",
          "Qatar",
          "France",
          "Argentina",
          "Czech Republic",
          "Uruguay",
          "Colombia",
          "Thailand",
          "Saudi Arabia",
          "Spain",
          "Malta",
          "Taiwan",
          "Kuwait",
          "Suriname",
          "Trinidad and Tobago",
          "El Salvador",
          "Guatemala",
          "Uzbekistan",
          "Slovakia",
          "Japan",
          "South Korea",
          "Ecuador",
          "Bahrain",
          "Italy",
          "Bolivia",
          "Moldova",
          "Paraguay",
          "Kazakhstan",
          "Slovenia",
          "Lithuania",
          "Nicaragua",
          "Peru",
          "Belarus",
          "Poland",
          "Malaysia",
          "Croatia",
          "Libya",
          "Russia",
          "Jamaica",
          "North Cyprus",
          "Cyprus",
          "Algeria",
          "Kosovo",
          "Turkmenistan",
          "Mauritius",
          "Hong Kong",
          "Estonia",
          "Indonesia",
          "Vietnam",
          "Turkey",
          "Kyrgyzstan",
          "Nigeria",
          "Bhutan",
          "Azerbaijan",
          "Pakistan",
          "Jordan",
          "Montenegro",
          "China",
          "Zambia",
          "Romania",
          "Serbia",
          "Portugal",
          "Latvia",
          "Philippines",
          "Somaliland region",
          "Morocco",
          "Macedonia",
          "Mozambique",
          "Albania",
          "Bosnia and Herzegovina",
          "Lesotho",
          "Dominican Republic",
          "Laos",
          "Mongolia",
          "Swaziland",
          "Greece",
          "Lebanon",
          "Hungary",
          "Honduras",
          "Tajikistan",
          "Tunisia",
          "Palestinian Territories",
          "Bangladesh",
          "Iran",
          "Ukraine",
          "Iraq",
          "South Africa",
          "Ghana",
          "Zimbabwe",
          "Liberia",
          "India",
          "Sudan",
          "Haiti",
          "Congo (Kinshasa)",
          "Nepal",
          "Ethiopia",
          "Sierra Leone",
          "Mauritania",
          "Kenya",
          "Djibouti",
          "Armenia",
          "Botswana",
          "Myanmar",
          "Georgia",
          "Malawi",
          "Sri Lanka",
          "Cameroon",
          "Bulgaria",
          "Egypt",
          "Yemen",
          "Angola",
          "Mali",
          "Congo (Brazzaville)",
          "Comoros",
          "Uganda",
          "Senegal",
          "Gabon",
          "Niger",
          "Cambodia",
          "Tanzania",
          "Madagascar",
          "Central African Republic",
          "Chad",
          "Guinea",
          "Ivory Coast",
          "Burkina Faso",
          "Afghanistan",
          "Rwanda",
          "Benin",
          "Syria",
          "Burundi",
          "Togo",
          "Denmark",
          "Switzerland",
          "Iceland",
          "Norway",
          "Finland",
          "Canada",
          "Netherlands",
          "New Zealand",
          "Australia",
          "Sweden",
          "Israel",
          "Austria",
          "United States",
          "Costa Rica",
          "Puerto Rico",
          "Germany",
          "Brazil",
          "Belgium",
          "Ireland",
          "Luxembourg",
          "Mexico",
          "Singapore",
          "United Kingdom",
          "Chile",
          "Panama",
          "Argentina",
          "Czech Republic",
          "United Arab Emirates",
          "Uruguay",
          "Malta",
          "Colombia",
          "France",
          "Thailand",
          "Saudi Arabia",
          "Taiwan",
          "Qatar",
          "Spain",
          "Algeria",
          "Guatemala",
          "Suriname",
          "Kuwait",
          "Bahrain",
          "Trinidad and Tobago",
          "Venezuela",
          "Slovakia",
          "El Salvador",
          "Malaysia",
          "Nicaragua",
          "Uzbekistan",
          "Italy",
          "Ecuador",
          "Belize",
          "Japan",
          "Kazakhstan",
          "Moldova",
          "Russia",
          "Poland",
          "South Korea",
          "Bolivia",
          "Lithuania",
          "Belarus",
          "North Cyprus",
          "Slovenia",
          "Peru",
          "Turkmenistan",
          "Mauritius",
          "Libya",
          "Latvia",
          "Cyprus",
          "Paraguay",
          "Romania",
          "Estonia",
          "Jamaica",
          "Croatia",
          "Hong Kong",
          "Somalia",
          "Kosovo",
          "Turkey",
          "Indonesia",
          "Jordan",
          "Azerbaijan",
          "Philippines",
          "China",
          "Bhutan",
          "Kyrgyzstan",
          "Serbia",
          "Bosnia and Herzegovina",
          "Montenegro",
          "Dominican Republic",
          "Morocco",
          "Hungary",
          "Pakistan",
          "Lebanon",
          "Portugal",
          "Macedonia",
          "Vietnam",
          "Somaliland Region",
          "Tunisia",
          "Greece",
          "Tajikistan",
          "Mongolia",
          "Laos",
          "Nigeria",
          "Honduras",
          "Iran",
          "Zambia",
          "Nepal",
          "Palestinian Territories",
          "Albania",
          "Bangladesh",
          "Sierra Leone",
          "Iraq",
          "Namibia",
          "Cameroon",
          "Ethiopia",
          "South Africa",
          "Sri Lanka",
          "India",
          "Myanmar",
          "Egypt",
          "Armenia",
          "Kenya",
          "Ukraine",
          "Ghana",
          "Congo (Kinshasa)",
          "Georgia",
          "Congo (Brazzaville)",
          "Senegal",
          "Bulgaria",
          "Mauritania",
          "Zimbabwe",
          "Malawi",
          "Sudan",
          "Gabon",
          "Mali",
          "Haiti",
          "Botswana",
          "Comoros",
          "Ivory Coast",
          "Cambodia",
          "Angola",
          "Niger",
          "South Sudan",
          "Chad",
          "Burkina Faso",
          "Uganda",
          "Yemen",
          "Madagascar",
          "Tanzania",
          "Liberia",
          "Guinea",
          "Rwanda",
          "Benin",
          "Afghanistan",
          "Togo",
          "Syria",
          "Burundi",
          "Norway",
          "Denmark",
          "Iceland",
          "Switzerland",
          "Finland",
          "Netherlands",
          "Canada",
          "New Zealand",
          "Sweden",
          "Australia",
          "Israel",
          "Costa Rica",
          "Austria",
          "United States",
          "Ireland",
          "Germany",
          "Belgium",
          "Luxembourg",
          "United Kingdom",
          "Chile",
          "United Arab Emirates",
          "Brazil",
          "Czech Republic",
          "Argentina",
          "Mexico",
          "Singapore",
          "Malta",
          "Uruguay",
          "Guatemala",
          "Panama",
          "France",
          "Thailand",
          "Taiwan Province of China",
          "Spain",
          "Qatar",
          "Colombia",
          "Saudi Arabia",
          "Trinidad and Tobago",
          "Kuwait",
          "Slovakia",
          "Bahrain",
          "Malaysia",
          "Nicaragua",
          "Ecuador",
          "El Salvador",
          "Poland",
          "Uzbekistan",
          "Italy",
          "Russia",
          "Belize",
          "Japan",
          "Lithuania",
          "Algeria",
          "Latvia",
          "South Korea",
          "Moldova",
          "Romania",
          "Bolivia",
          "Turkmenistan",
          "Kazakhstan",
          "North Cyprus",
          "Slovenia",
          "Peru",
          "Mauritius",
          "Cyprus",
          "Estonia",
          "Belarus",
          "Libya",
          "Turkey",
          "Paraguay",
          "Hong Kong S.A.R., China",
          "Philippines",
          "Serbia",
          "Jordan",
          "Hungary",
          "Jamaica",
          "Croatia",
          "Kosovo",
          "China",
          "Pakistan",
          "Indonesia",
          "Venezuela",
          "Montenegro",
          "Morocco",
          "Azerbaijan",
          "Dominican Republic",
          "Greece",
          "Lebanon",
          "Portugal",
          "Bosnia and Herzegovina",
          "Honduras",
          "Macedonia",
          "Somalia",
          "Vietnam",
          "Nigeria",
          "Tajikistan",
          "Bhutan",
          "Kyrgyzstan",
          "Nepal",
          "Mongolia",
          "South Africa",
          "Tunisia",
          "Palestinian Territories",
          "Egypt",
          "Bulgaria",
          "Sierra Leone",
          "Cameroon",
          "Iran",
          "Albania",
          "Bangladesh",
          "Namibia",
          "Kenya",
          "Mozambique",
          "Myanmar",
          "Senegal",
          "Zambia",
          "Iraq",
          "Gabon",
          "Ethiopia",
          "Sri Lanka",
          "Armenia",
          "India",
          "Mauritania",
          "Congo (Brazzaville)",
          "Georgia",
          "Congo (Kinshasa)",
          "Mali",
          "Ivory Coast",
          "Cambodia",
          "Sudan",
          "Ghana",
          "Ukraine",
          "Uganda",
          "Burkina Faso",
          "Niger",
          "Malawi",
          "Chad",
          "Zimbabwe",
          "Lesotho",
          "Angola",
          "Afghanistan",
          "Botswana",
          "Benin",
          "Madagascar",
          "Haiti",
          "Yemen",
          "South Sudan",
          "Liberia",
          "Guinea",
          "Togo",
          "Rwanda",
          "Syria",
          "Tanzania",
          "Burundi",
          "Central African Republic",
          "Finland",
          "Norway",
          "Denmark",
          "Iceland",
          "Switzerland",
          "Netherlands",
          "Canada",
          "New Zealand",
          "Sweden",
          "Australia",
          "United Kingdom",
          "Austria",
          "Costa Rica",
          "Ireland",
          "Germany",
          "Belgium",
          "Luxembourg",
          "United States",
          "Israel",
          "United Arab Emirates",
          "Czech Republic",
          "Malta",
          "France",
          "Mexico",
          "Chile",
          "Taiwan",
          "Panama",
          "Brazil",
          "Argentina",
          "Guatemala",
          "Uruguay",
          "Qatar",
          "Saudi Arabia",
          "Singapore",
          "Malaysia",
          "Spain",
          "Colombia",
          "Trinidad & Tobago",
          "Slovakia",
          "El Salvador",
          "Nicaragua",
          "Poland",
          "Bahrain",
          "Uzbekistan",
          "Kuwait",
          "Thailand",
          "Italy",
          "Ecuador",
          "Belize",
          "Lithuania",
          "Slovenia",
          "Romania",
          "Latvia",
          "Japan",
          "Mauritius",
          "Jamaica",
          "South Korea",
          "Northern Cyprus",
          "Russia",
          "Kazakhstan",
          "Cyprus",
          "Bolivia",
          "Estonia",
          "Paraguay",
          "Peru",
          "Kosovo",
          "Moldova",
          "Turkmenistan",
          "Hungary",
          "Libya",
          "Philippines",
          "Honduras",
          "Belarus",
          "Turkey",
          "Pakistan",
          "Hong Kong",
          "Portugal",
          "Serbia",
          "Greece",
          "Lebanon",
          "Montenegro",
          "Croatia",
          "Dominican Republic",
          "Algeria",
          "Morocco",
          "China",
          "Azerbaijan",
          "Tajikistan",
          "Macedonia",
          "Jordan",
          "Nigeria",
          "Kyrgyzstan",
          "Bosnia and Herzegovina",
          "Mongolia",
          "Vietnam",
          "Indonesia",
          "Bhutan",
          "Somalia",
          "Cameroon",
          "Bulgaria",
          "Nepal",
          "Venezuela",
          "Gabon",
          "Palestinian Territories",
          "South Africa",
          "Iran",
          "Ivory Coast",
          "Ghana",
          "Senegal",
          "Laos",
          "Tunisia",
          "Albania",
          "Sierra Leone",
          "Congo (Brazzaville)",
          "Bangladesh",
          "Sri Lanka",
          "Iraq",
          "Mali",
          "Namibia",
          "Cambodia",
          "Burkina Faso",
          "Egypt",
          "Mozambique",
          "Kenya",
          "Zambia",
          "Mauritania",
          "Ethiopia",
          "Georgia",
          "Armenia",
          "Myanmar",
          "Chad",
          "Congo (Kinshasa)",
          "India",
          "Niger",
          "Uganda",
          "Benin",
          "Sudan",
          "Ukraine",
          "Togo",
          "Guinea",
          "Lesotho",
          "Angola",
          "Madagascar",
          "Zimbabwe",
          "Afghanistan",
          "Botswana",
          "Malawi",
          "Haiti",
          "Liberia",
          "Syria",
          "Rwanda",
          "Yemen",
          "Tanzania",
          "South Sudan",
          "Central African Republic",
          "Burundi",
          "Finland",
          "Denmark",
          "Norway",
          "Iceland",
          "Netherlands",
          "Switzerland",
          "Sweden",
          "New Zealand",
          "Canada",
          "Austria",
          "Australia",
          "Costa Rica",
          "Israel",
          "Luxembourg",
          "United Kingdom",
          "Ireland",
          "Germany",
          "Belgium",
          "United States",
          "Czech Republic",
          "United Arab Emirates",
          "Malta",
          "Mexico",
          "France",
          "Taiwan",
          "Chile",
          "Guatemala",
          "Saudi Arabia",
          "Qatar",
          "Spain",
          "Panama",
          "Brazil",
          "Uruguay",
          "Singapore",
          "El Salvador",
          "Italy",
          "Bahrain",
          "Slovakia",
          "Trinidad & Tobago",
          "Poland",
          "Uzbekistan",
          "Lithuania",
          "Colombia",
          "Slovenia",
          "Nicaragua",
          "Kosovo",
          "Argentina",
          "Romania",
          "Cyprus",
          "Ecuador",
          "Kuwait",
          "Thailand",
          "Latvia",
          "South Korea",
          "Estonia",
          "Jamaica",
          "Mauritius",
          "Japan",
          "Honduras",
          "Kazakhstan",
          "Bolivia",
          "Hungary",
          "Paraguay",
          "Northern Cyprus",
          "Peru",
          "Portugal",
          "Pakistan",
          "Russia",
          "Philippines",
          "Serbia",
          "Moldova",
          "Libya",
          "Montenegro",
          "Tajikistan",
          "Croatia",
          "Hong Kong",
          "Dominican Republic",
          "Bosnia and Herzegovina",
          "Turkey",
          "Malaysia",
          "Belarus",
          "Greece",
          "Mongolia",
          "North Macedonia",
          "Nigeria",
          "Kyrgyzstan",
          "Turkmenistan",
          "Algeria",
          "Morocco",
          "Azerbaijan",
          "Lebanon",
          "Indonesia",
          "China",
          "Vietnam",
          "Bhutan",
          "Cameroon",
          "Bulgaria",
          "Ghana",
          "Ivory Coast",
          "Nepal",
          "Jordan",
          "Benin",
          "Congo (Brazzaville)",
          "Gabon",
          "Laos",
          "South Africa",
          "Albania",
          "Venezuela",
          "Cambodia",
          "Palestinian Territories",
          "Senegal",
          "Somalia",
          "Namibia",
          "Niger",
          "Burkina Faso",
          "Armenia",
          "Iran",
          "Guinea",
          "Georgia",
          "Gambia",
          "Kenya",
          "Mauritania",
          "Mozambique",
          "Tunisia",
          "Bangladesh",
          "Iraq",
          "Congo (Kinshasa)",
          "Mali",
          "Sierra Leone",
          "Sri Lanka",
          "Myanmar",
          "Chad",
          "Ukraine",
          "Ethiopia",
          "Swaziland",
          "Uganda",
          "Egypt",
          "Zambia",
          "Togo",
          "India",
          "Liberia",
          "Comoros",
          "Madagascar",
          "Lesotho",
          "Burundi",
          "Zimbabwe",
          "Haiti",
          "Botswana",
          "Syria",
          "Malawi",
          "Yemen",
          "Rwanda",
          "Tanzania",
          "Afghanistan",
          "Central African Republic",
          "South Sudan"
         ],
         "marker": {
          "line": {
           "width": 1
          }
         },
         "text": [
          "Switzerland",
          "Iceland",
          "Denmark",
          "Norway",
          "Canada",
          "Finland",
          "Netherlands",
          "Sweden",
          "New Zealand",
          "Australia",
          "Israel",
          "Costa Rica",
          "Austria",
          "Mexico",
          "United States",
          "Brazil",
          "Luxembourg",
          "Ireland",
          "Belgium",
          "United Arab Emirates",
          "United Kingdom",
          "Oman",
          "Venezuela",
          "Singapore",
          "Panama",
          "Germany",
          "Chile",
          "Qatar",
          "France",
          "Argentina",
          "Czech Republic",
          "Uruguay",
          "Colombia",
          "Thailand",
          "Saudi Arabia",
          "Spain",
          "Malta",
          "Taiwan",
          "Kuwait",
          "Suriname",
          "Trinidad and Tobago",
          "El Salvador",
          "Guatemala",
          "Uzbekistan",
          "Slovakia",
          "Japan",
          "South Korea",
          "Ecuador",
          "Bahrain",
          "Italy",
          "Bolivia",
          "Moldova",
          "Paraguay",
          "Kazakhstan",
          "Slovenia",
          "Lithuania",
          "Nicaragua",
          "Peru",
          "Belarus",
          "Poland",
          "Malaysia",
          "Croatia",
          "Libya",
          "Russia",
          "Jamaica",
          "North Cyprus",
          "Cyprus",
          "Algeria",
          "Kosovo",
          "Turkmenistan",
          "Mauritius",
          "Hong Kong",
          "Estonia",
          "Indonesia",
          "Vietnam",
          "Turkey",
          "Kyrgyzstan",
          "Nigeria",
          "Bhutan",
          "Azerbaijan",
          "Pakistan",
          "Jordan",
          "Montenegro",
          "China",
          "Zambia",
          "Romania",
          "Serbia",
          "Portugal",
          "Latvia",
          "Philippines",
          "Somaliland region",
          "Morocco",
          "Macedonia",
          "Mozambique",
          "Albania",
          "Bosnia and Herzegovina",
          "Lesotho",
          "Dominican Republic",
          "Laos",
          "Mongolia",
          "Swaziland",
          "Greece",
          "Lebanon",
          "Hungary",
          "Honduras",
          "Tajikistan",
          "Tunisia",
          "Palestinian Territories",
          "Bangladesh",
          "Iran",
          "Ukraine",
          "Iraq",
          "South Africa",
          "Ghana",
          "Zimbabwe",
          "Liberia",
          "India",
          "Sudan",
          "Haiti",
          "Congo (Kinshasa)",
          "Nepal",
          "Ethiopia",
          "Sierra Leone",
          "Mauritania",
          "Kenya",
          "Djibouti",
          "Armenia",
          "Botswana",
          "Myanmar",
          "Georgia",
          "Malawi",
          "Sri Lanka",
          "Cameroon",
          "Bulgaria",
          "Egypt",
          "Yemen",
          "Angola",
          "Mali",
          "Congo (Brazzaville)",
          "Comoros",
          "Uganda",
          "Senegal",
          "Gabon",
          "Niger",
          "Cambodia",
          "Tanzania",
          "Madagascar",
          "Central African Republic",
          "Chad",
          "Guinea",
          "Ivory Coast",
          "Burkina Faso",
          "Afghanistan",
          "Rwanda",
          "Benin",
          "Syria",
          "Burundi",
          "Togo",
          "Denmark",
          "Switzerland",
          "Iceland",
          "Norway",
          "Finland",
          "Canada",
          "Netherlands",
          "New Zealand",
          "Australia",
          "Sweden",
          "Israel",
          "Austria",
          "United States",
          "Costa Rica",
          "Puerto Rico",
          "Germany",
          "Brazil",
          "Belgium",
          "Ireland",
          "Luxembourg",
          "Mexico",
          "Singapore",
          "United Kingdom",
          "Chile",
          "Panama",
          "Argentina",
          "Czech Republic",
          "United Arab Emirates",
          "Uruguay",
          "Malta",
          "Colombia",
          "France",
          "Thailand",
          "Saudi Arabia",
          "Taiwan",
          "Qatar",
          "Spain",
          "Algeria",
          "Guatemala",
          "Suriname",
          "Kuwait",
          "Bahrain",
          "Trinidad and Tobago",
          "Venezuela",
          "Slovakia",
          "El Salvador",
          "Malaysia",
          "Nicaragua",
          "Uzbekistan",
          "Italy",
          "Ecuador",
          "Belize",
          "Japan",
          "Kazakhstan",
          "Moldova",
          "Russia",
          "Poland",
          "South Korea",
          "Bolivia",
          "Lithuania",
          "Belarus",
          "North Cyprus",
          "Slovenia",
          "Peru",
          "Turkmenistan",
          "Mauritius",
          "Libya",
          "Latvia",
          "Cyprus",
          "Paraguay",
          "Romania",
          "Estonia",
          "Jamaica",
          "Croatia",
          "Hong Kong",
          "Somalia",
          "Kosovo",
          "Turkey",
          "Indonesia",
          "Jordan",
          "Azerbaijan",
          "Philippines",
          "China",
          "Bhutan",
          "Kyrgyzstan",
          "Serbia",
          "Bosnia and Herzegovina",
          "Montenegro",
          "Dominican Republic",
          "Morocco",
          "Hungary",
          "Pakistan",
          "Lebanon",
          "Portugal",
          "Macedonia",
          "Vietnam",
          "Somaliland Region",
          "Tunisia",
          "Greece",
          "Tajikistan",
          "Mongolia",
          "Laos",
          "Nigeria",
          "Honduras",
          "Iran",
          "Zambia",
          "Nepal",
          "Palestinian Territories",
          "Albania",
          "Bangladesh",
          "Sierra Leone",
          "Iraq",
          "Namibia",
          "Cameroon",
          "Ethiopia",
          "South Africa",
          "Sri Lanka",
          "India",
          "Myanmar",
          "Egypt",
          "Armenia",
          "Kenya",
          "Ukraine",
          "Ghana",
          "Congo (Kinshasa)",
          "Georgia",
          "Congo (Brazzaville)",
          "Senegal",
          "Bulgaria",
          "Mauritania",
          "Zimbabwe",
          "Malawi",
          "Sudan",
          "Gabon",
          "Mali",
          "Haiti",
          "Botswana",
          "Comoros",
          "Ivory Coast",
          "Cambodia",
          "Angola",
          "Niger",
          "South Sudan",
          "Chad",
          "Burkina Faso",
          "Uganda",
          "Yemen",
          "Madagascar",
          "Tanzania",
          "Liberia",
          "Guinea",
          "Rwanda",
          "Benin",
          "Afghanistan",
          "Togo",
          "Syria",
          "Burundi",
          "Norway",
          "Denmark",
          "Iceland",
          "Switzerland",
          "Finland",
          "Netherlands",
          "Canada",
          "New Zealand",
          "Sweden",
          "Australia",
          "Israel",
          "Costa Rica",
          "Austria",
          "United States",
          "Ireland",
          "Germany",
          "Belgium",
          "Luxembourg",
          "United Kingdom",
          "Chile",
          "United Arab Emirates",
          "Brazil",
          "Czech Republic",
          "Argentina",
          "Mexico",
          "Singapore",
          "Malta",
          "Uruguay",
          "Guatemala",
          "Panama",
          "France",
          "Thailand",
          "Taiwan Province of China",
          "Spain",
          "Qatar",
          "Colombia",
          "Saudi Arabia",
          "Trinidad and Tobago",
          "Kuwait",
          "Slovakia",
          "Bahrain",
          "Malaysia",
          "Nicaragua",
          "Ecuador",
          "El Salvador",
          "Poland",
          "Uzbekistan",
          "Italy",
          "Russia",
          "Belize",
          "Japan",
          "Lithuania",
          "Algeria",
          "Latvia",
          "South Korea",
          "Moldova",
          "Romania",
          "Bolivia",
          "Turkmenistan",
          "Kazakhstan",
          "North Cyprus",
          "Slovenia",
          "Peru",
          "Mauritius",
          "Cyprus",
          "Estonia",
          "Belarus",
          "Libya",
          "Turkey",
          "Paraguay",
          "Hong Kong S.A.R., China",
          "Philippines",
          "Serbia",
          "Jordan",
          "Hungary",
          "Jamaica",
          "Croatia",
          "Kosovo",
          "China",
          "Pakistan",
          "Indonesia",
          "Venezuela",
          "Montenegro",
          "Morocco",
          "Azerbaijan",
          "Dominican Republic",
          "Greece",
          "Lebanon",
          "Portugal",
          "Bosnia and Herzegovina",
          "Honduras",
          "Macedonia",
          "Somalia",
          "Vietnam",
          "Nigeria",
          "Tajikistan",
          "Bhutan",
          "Kyrgyzstan",
          "Nepal",
          "Mongolia",
          "South Africa",
          "Tunisia",
          "Palestinian Territories",
          "Egypt",
          "Bulgaria",
          "Sierra Leone",
          "Cameroon",
          "Iran",
          "Albania",
          "Bangladesh",
          "Namibia",
          "Kenya",
          "Mozambique",
          "Myanmar",
          "Senegal",
          "Zambia",
          "Iraq",
          "Gabon",
          "Ethiopia",
          "Sri Lanka",
          "Armenia",
          "India",
          "Mauritania",
          "Congo (Brazzaville)",
          "Georgia",
          "Congo (Kinshasa)",
          "Mali",
          "Ivory Coast",
          "Cambodia",
          "Sudan",
          "Ghana",
          "Ukraine",
          "Uganda",
          "Burkina Faso",
          "Niger",
          "Malawi",
          "Chad",
          "Zimbabwe",
          "Lesotho",
          "Angola",
          "Afghanistan",
          "Botswana",
          "Benin",
          "Madagascar",
          "Haiti",
          "Yemen",
          "South Sudan",
          "Liberia",
          "Guinea",
          "Togo",
          "Rwanda",
          "Syria",
          "Tanzania",
          "Burundi",
          "Central African Republic",
          "Finland",
          "Norway",
          "Denmark",
          "Iceland",
          "Switzerland",
          "Netherlands",
          "Canada",
          "New Zealand",
          "Sweden",
          "Australia",
          "United Kingdom",
          "Austria",
          "Costa Rica",
          "Ireland",
          "Germany",
          "Belgium",
          "Luxembourg",
          "United States",
          "Israel",
          "United Arab Emirates",
          "Czech Republic",
          "Malta",
          "France",
          "Mexico",
          "Chile",
          "Taiwan",
          "Panama",
          "Brazil",
          "Argentina",
          "Guatemala",
          "Uruguay",
          "Qatar",
          "Saudi Arabia",
          "Singapore",
          "Malaysia",
          "Spain",
          "Colombia",
          "Trinidad & Tobago",
          "Slovakia",
          "El Salvador",
          "Nicaragua",
          "Poland",
          "Bahrain",
          "Uzbekistan",
          "Kuwait",
          "Thailand",
          "Italy",
          "Ecuador",
          "Belize",
          "Lithuania",
          "Slovenia",
          "Romania",
          "Latvia",
          "Japan",
          "Mauritius",
          "Jamaica",
          "South Korea",
          "Northern Cyprus",
          "Russia",
          "Kazakhstan",
          "Cyprus",
          "Bolivia",
          "Estonia",
          "Paraguay",
          "Peru",
          "Kosovo",
          "Moldova",
          "Turkmenistan",
          "Hungary",
          "Libya",
          "Philippines",
          "Honduras",
          "Belarus",
          "Turkey",
          "Pakistan",
          "Hong Kong",
          "Portugal",
          "Serbia",
          "Greece",
          "Lebanon",
          "Montenegro",
          "Croatia",
          "Dominican Republic",
          "Algeria",
          "Morocco",
          "China",
          "Azerbaijan",
          "Tajikistan",
          "Macedonia",
          "Jordan",
          "Nigeria",
          "Kyrgyzstan",
          "Bosnia and Herzegovina",
          "Mongolia",
          "Vietnam",
          "Indonesia",
          "Bhutan",
          "Somalia",
          "Cameroon",
          "Bulgaria",
          "Nepal",
          "Venezuela",
          "Gabon",
          "Palestinian Territories",
          "South Africa",
          "Iran",
          "Ivory Coast",
          "Ghana",
          "Senegal",
          "Laos",
          "Tunisia",
          "Albania",
          "Sierra Leone",
          "Congo (Brazzaville)",
          "Bangladesh",
          "Sri Lanka",
          "Iraq",
          "Mali",
          "Namibia",
          "Cambodia",
          "Burkina Faso",
          "Egypt",
          "Mozambique",
          "Kenya",
          "Zambia",
          "Mauritania",
          "Ethiopia",
          "Georgia",
          "Armenia",
          "Myanmar",
          "Chad",
          "Congo (Kinshasa)",
          "India",
          "Niger",
          "Uganda",
          "Benin",
          "Sudan",
          "Ukraine",
          "Togo",
          "Guinea",
          "Lesotho",
          "Angola",
          "Madagascar",
          "Zimbabwe",
          "Afghanistan",
          "Botswana",
          "Malawi",
          "Haiti",
          "Liberia",
          "Syria",
          "Rwanda",
          "Yemen",
          "Tanzania",
          "South Sudan",
          "Central African Republic",
          "Burundi",
          "Finland",
          "Denmark",
          "Norway",
          "Iceland",
          "Netherlands",
          "Switzerland",
          "Sweden",
          "New Zealand",
          "Canada",
          "Austria",
          "Australia",
          "Costa Rica",
          "Israel",
          "Luxembourg",
          "United Kingdom",
          "Ireland",
          "Germany",
          "Belgium",
          "United States",
          "Czech Republic",
          "United Arab Emirates",
          "Malta",
          "Mexico",
          "France",
          "Taiwan",
          "Chile",
          "Guatemala",
          "Saudi Arabia",
          "Qatar",
          "Spain",
          "Panama",
          "Brazil",
          "Uruguay",
          "Singapore",
          "El Salvador",
          "Italy",
          "Bahrain",
          "Slovakia",
          "Trinidad & Tobago",
          "Poland",
          "Uzbekistan",
          "Lithuania",
          "Colombia",
          "Slovenia",
          "Nicaragua",
          "Kosovo",
          "Argentina",
          "Romania",
          "Cyprus",
          "Ecuador",
          "Kuwait",
          "Thailand",
          "Latvia",
          "South Korea",
          "Estonia",
          "Jamaica",
          "Mauritius",
          "Japan",
          "Honduras",
          "Kazakhstan",
          "Bolivia",
          "Hungary",
          "Paraguay",
          "Northern Cyprus",
          "Peru",
          "Portugal",
          "Pakistan",
          "Russia",
          "Philippines",
          "Serbia",
          "Moldova",
          "Libya",
          "Montenegro",
          "Tajikistan",
          "Croatia",
          "Hong Kong",
          "Dominican Republic",
          "Bosnia and Herzegovina",
          "Turkey",
          "Malaysia",
          "Belarus",
          "Greece",
          "Mongolia",
          "North Macedonia",
          "Nigeria",
          "Kyrgyzstan",
          "Turkmenistan",
          "Algeria",
          "Morocco",
          "Azerbaijan",
          "Lebanon",
          "Indonesia",
          "China",
          "Vietnam",
          "Bhutan",
          "Cameroon",
          "Bulgaria",
          "Ghana",
          "Ivory Coast",
          "Nepal",
          "Jordan",
          "Benin",
          "Congo (Brazzaville)",
          "Gabon",
          "Laos",
          "South Africa",
          "Albania",
          "Venezuela",
          "Cambodia",
          "Palestinian Territories",
          "Senegal",
          "Somalia",
          "Namibia",
          "Niger",
          "Burkina Faso",
          "Armenia",
          "Iran",
          "Guinea",
          "Georgia",
          "Gambia",
          "Kenya",
          "Mauritania",
          "Mozambique",
          "Tunisia",
          "Bangladesh",
          "Iraq",
          "Congo (Kinshasa)",
          "Mali",
          "Sierra Leone",
          "Sri Lanka",
          "Myanmar",
          "Chad",
          "Ukraine",
          "Ethiopia",
          "Swaziland",
          "Uganda",
          "Egypt",
          "Zambia",
          "Togo",
          "India",
          "Liberia",
          "Comoros",
          "Madagascar",
          "Lesotho",
          "Burundi",
          "Zimbabwe",
          "Haiti",
          "Botswana",
          "Syria",
          "Malawi",
          "Yemen",
          "Rwanda",
          "Tanzania",
          "Afghanistan",
          "Central African Republic",
          "South Sudan"
         ],
         "type": "choropleth",
         "z": [
          1.34951,
          1.40223,
          1.36058,
          1.33095,
          1.32261,
          1.31826,
          1.28017,
          1.28907,
          1.31967,
          1.30923,
          1.22393,
          1.23788,
          1.29704,
          0.91451,
          1.24711,
          1.23287,
          1.21963,
          1.36948,
          1.28566,
          1.12575,
          1.28548,
          1.08182,
          1.25596,
          1.02,
          1.1985,
          1.29937,
          1.12447,
          1.0786,
          1.26038,
          1.24823,
          1.20643,
          1.2089,
          1.24018,
          1.26504,
          1.08393,
          1.31379,
          1.30203,
          1.07617,
          1.16594,
          0.972,
          1.18354,
          1.02507,
          1.04356,
          1.34043,
          1.26999,
          1.25712,
          0.95774,
          0.99903,
          1.21624,
          1.19777,
          0.97841,
          1.01528,
          1.30477,
          1.12241,
          1.27385,
          1.25745,
          1.14184,
          0.97459,
          1.23289,
          1.27948,
          1.07023,
          0.79624,
          1.11862,
          1.23617,
          1.15102,
          1.07008,
          0.89318,
          1.07772,
          0.81198,
          1.22668,
          0.98521,
          1.05818,
          1.22791,
          1.08708,
          0.91226,
          0.94632,
          1.15115,
          0.90432,
          1.10395,
          0.93793,
          0.41411,
          1.05392,
          0.90557,
          0.94675,
          0.91612,
          0.88588,
          1.00964,
          1.13935,
          1.09562,
          1.03516,
          0.95152,
          0.64095,
          1.00232,
          1.02626,
          0.80434,
          0.91916,
          1.04103,
          1.17202,
          0.73803,
          1.3006,
          1.07284,
          0.92933,
          0.80001,
          1.20215,
          0.95348,
          0.85563,
          0.60429,
          0.92558,
          0.43106,
          0.54447,
          1.20278,
          0.81889,
          1.18468,
          0.67954,
          1.03276,
          0.78968,
          0.38174,
          1.01404,
          0.74302,
          1.0012,
          0.86449,
          0.60406,
          0.95571,
          0.86908,
          0.99876,
          0.59207,
          0.77711,
          1.10464,
          0.70905,
          0.38562,
          0.41134,
          1.01905,
          0.88767,
          1.10614,
          0.747,
          0.68093,
          0.8604,
          1.03526,
          0.6629,
          0.79273,
          1.13299,
          0.97619,
          0.90528,
          0.77265,
          0.62736,
          1.00268,
          0.66801,
          0,
          0.76062,
          0.46475,
          0.77115,
          0.85188,
          0.30285,
          0.7737,
          0.35386,
          0.47489,
          0.41587,
          0.13995,
          1.16374,
          1.14524,
          1.18326,
          1.1269,
          1.13464,
          1.0961,
          1.02912,
          1.17278,
          1.10476,
          1.08764,
          0.99537,
          1.08383,
          1.04782,
          1.02152,
          1.08113,
          1.09774,
          1.03938,
          1.05249,
          1.16157,
          1.03999,
          0.7146,
          0.86758,
          1.08672,
          0.90587,
          0.98912,
          1.06612,
          1.00793,
          0.87114,
          1.03143,
          1.09879,
          1.02169,
          1.00508,
          1.04477,
          0.84829,
          0.92624,
          0.87964,
          1.12945,
          0.83309,
          0.87119,
          0.77866,
          0.87758,
          0.94397,
          0.98569,
          1.03302,
          1.08268,
          0.80975,
          0.88025,
          0.89521,
          1.1681,
          1.04167,
          0.85974,
          0.68655,
          1.06054,
          0.95544,
          0.83132,
          1.05261,
          1.04685,
          0.72194,
          0.83779,
          1.06411,
          1.04993,
          0.81826,
          1.05613,
          0.81255,
          1.03817,
          0.75695,
          0.95076,
          0.95025,
          0.70697,
          1.11111,
          0.72803,
          1.05163,
          0.96372,
          0.60809,
          0.87021,
          0.33613,
          0.66062,
          0.87717,
          0.87625,
          0.86216,
          0.76042,
          0.87877,
          0.79381,
          0.90836,
          0.95434,
          0.81329,
          0.64367,
          0.74173,
          0.99496,
          0.38595,
          0.93164,
          0.26135,
          0.64184,
          0.94367,
          0.78236,
          0.79117,
          0.75862,
          0.43165,
          0.75473,
          0.75602,
          1.08983,
          0.5497,
          0.64498,
          0.75596,
          0.38857,
          0.6376,
          0.69699,
          0.71629,
          0.50163,
          0.24749,
          0.628,
          0.59205,
          0.70362,
          0.62542,
          0.37932,
          0.96053,
          0.84783,
          0.29247,
          0.69981,
          0.49813,
          0.62477,
          0.7624,
          1.01413,
          0.49353,
          0.80676,
          0.19249,
          0.47799,
          0.77416,
          0.92542,
          0.84142,
          0.71478,
          0.147,
          0.81928,
          0.72368,
          0.86333,
          0.29561,
          0.89186,
          0.60323,
          0.57576,
          0.5375,
          0.66366,
          0.6053,
          0.18519,
          0.63178,
          0.63054,
          0.90981,
          0.47493,
          0.46115,
          0.77623,
          0.50353,
          0.3109,
          0.61586,
          0.10419,
          0.11037,
          0,
          0.14866,
          0.23442,
          1.53352355957031,
          1.55112159252167,
          1.6105740070343,
          1.51691174507141,
          1.5402467250824,
          1.42893922328949,
          1.48134899139404,
          1.54819512367249,
          1.47816216945648,
          1.51004195213318,
          1.37628996372223,
          1.41640365123749,
          1.4599449634552,
          1.41992056369781,
          1.55823111534119,
          1.47252035140991,
          1.46231269836426,
          1.45758366584778,
          1.49646008014679,
          1.28402495384216,
          1.26641023159027,
          1.43130600452423,
          1.43388521671295,
          1.44045114517212,
          1.210862159729,
          1.35381436347961,
          1.48841166496277,
          1.41222786903381,
          1.25558519363403,
          1.37319254875183,
          1.38777685165405,
          1.42579245567322,
          1.38456535339355,
          1.53209090232849,
          1.27429687976837,
          1.4021829366684,
          1.28667759895325,
          1.3802285194397,
          1.25969874858856,
          1.50505924224854,
          1.32311046123505,
          1.28464603424072,
          1.28721570968628,
          1.28616881370544,
          1.18212509155273,
          1.44571197032928,
          1.54896914958954,
          1.44492328166962,
          1.46928238868713,
          1.08141779899597,
          1.43633782863617,
          1.47351610660553,
          1.1462174654007,
          1.40471494197845,
          1.12827444076538,
          1.25182557106018,
          1.15009129047394,
          1.22761905193329,
          1.49314916133881,
          1.38436901569366,
          1.18630337715149,
          1.45251882076263,
          1.21877038478851,
          1.20956099033356,
          1.13136327266693,
          1.47667109966278,
          1.44494521617889,
          1.35756433010101,
          1.33775317668915,
          1.50728487968445,
          1.26279091835022,
          1.25391757488251,
          1.25818979740143,
          1.23908889293671,
          1.34313309192657,
          1.36821806430817,
          0.96798300743103,
          1.13785350322723,
          1.16083741188049,
          0.672690689563751,
          1.27444469928741,
          1.43133759498596,
          1.23837649822235,
          0.774864435195923,
          1.15240025520325,
          1.40241670608521,
          1.23941457271576,
          1.12962424755096,
          1.36704301834106,
          1.0693359375,
          1.14394497871399,
          1.20789301395416,
          0.721151351928711,
          1.27749133110046,
          1.21577048301697,
          1.27146327495575,
          1.34012651443481,
          1.39423859119415,
          1.17928326129913,
          1.4930112361908,
          1.38478863239288,
          0.868351459503174,
          1.15564715862274,
          0.997471392154694,
          1.43437945842743,
          0.984136044979095,
          0.946018218994141,
          0.711551249027252,
          0.803685247898102,
          0.735131740570068,
          1.0984708070755,
          1.06795072555542,
          0.870701014995575,
          1.12323594093323,
          1.17969191074371,
          1.00318729877472,
          0.978613197803497,
          1.1556202173233,
          0.86466920375824,
          1.25997638702393,
          1.00748372077942,
          0.754372596740723,
          1.2720308303833,
          0.832044363021851,
          0.57061493396759,
          1.22902345657349,
          1.28147339820862,
          0.904780030250549,
          1.00623834133148,
          1.21400856971741,
          0.873664736747742,
          1.39453756809235,
          1.12982773780823,
          1.04328000545502,
          0.993025004863739,
          0.512568831443787,
          0.953855872154236,
          1.08309590816498,
          1.19009518623352,
          1.10441195964813,
          0.581543326377869,
          1.22155499458313,
          0.435299843549728,
          0.913020372390747,
          0.640449821949005,
          0.93538224697113,
          0.601323127746582,
          0.872117936611176,
          0.791244685649872,
          0.431882530450821,
          0.945707023143768,
          0.396102607250214,
          1.04198980331421,
          0.629793584346771,
          0,
          1.592,
          1.582,
          1.59,
          1.644,
          1.549,
          1.488,
          1.532,
          1.601,
          1.501,
          1.573,
          1.433,
          1.504,
          1.459,
          1.583,
          1.474,
          1.483,
          1.52,
          1.471,
          1.559,
          0.776,
          1.489,
          1.525,
          1.466,
          1.252,
          1.331,
          1.436,
          1.438,
          1.474,
          1.468,
          1.268,
          1.459,
          1.303,
          1.331,
          1.451,
          1.258,
          1.538,
          1.439,
          1.492,
          1.537,
          1.231,
          1.319,
          1.448,
          1.366,
          1.584,
          1.301,
          1.417,
          1.501,
          1.33,
          1.101,
          1.527,
          1.506,
          1.219,
          1.454,
          1.462,
          1.387,
          1.493,
          1.204,
          1.211,
          1.479,
          1.516,
          1.191,
          1.223,
          1.532,
          1.522,
          1.249,
          1.23,
          1.301,
          1.533,
          1.401,
          1.35,
          1.312,
          1.205,
          1.498,
          1.38,
          0.81,
          1.29,
          1.429,
          1.369,
          1.202,
          1.179,
          1.279,
          1.161,
          1.441,
          1.154,
          0.797,
          1.142,
          1.161,
          1.166,
          1.239,
          1.265,
          1.172,
          1.416,
          1.078,
          1.517,
          1.365,
          1.215,
          1.335,
          0.712,
          0.891,
          1.515,
          1.228,
          1.469,
          1.164,
          1.217,
          1.41,
          0.771,
          0.872,
          0.896,
          1.117,
          1.034,
          0.906,
          0.817,
          0.813,
          0.811,
          0.85,
          1.314,
          0.971,
          1.233,
          1.281,
          1.088,
          1.097,
          1.025,
          0.902,
          1.048,
          1.047,
          1.245,
          0.95,
          0.592,
          0.99,
          1.174,
          0.907,
          1.136,
          0.747,
          0.867,
          1.09,
          0.372,
          1.24,
          1.413,
          0.474,
          0.792,
          1.215,
          1.125,
          0.908,
          1.094,
          0.537,
          1.174,
          0.541,
          0.714,
          0.858,
          0.382,
          0.896,
          1.073,
          0.991,
          0.608,
          0,
          0.627,
          1.587,
          1.573,
          1.582,
          1.624,
          1.522,
          1.526,
          1.487,
          1.557,
          1.505,
          1.475,
          1.548,
          1.441,
          1.455,
          1.479,
          1.538,
          1.553,
          1.454,
          1.504,
          1.457,
          1.487,
          1.31,
          1.52,
          1.323,
          1.472,
          1.43,
          1.369,
          1.269,
          1.357,
          1.313,
          1.484,
          1.442,
          1.439,
          1.465,
          1.463,
          1.242,
          1.488,
          1.368,
          1.504,
          1.477,
          1.438,
          1.529,
          1.515,
          1.41,
          1.523,
          1.325,
          1.232,
          1.432,
          1.232,
          1.223,
          1.312,
          1.319,
          1.409,
          1.465,
          1.219,
          1.528,
          1.478,
          1.402,
          1.419,
          1.236,
          1.508,
          1.209,
          1.41,
          1.475,
          1.252,
          1.274,
          1.431,
          0.886,
          1.452,
          1.293,
          1.383,
          1.328,
          1.303,
          1.361,
          1.098,
          1.266,
          1.277,
          1.401,
          1.212,
          1.36,
          1.171,
          1.465,
          1.156,
          1.531,
          1.294,
          1.111,
          1.438,
          1.538,
          1.16,
          0.782,
          1.147,
          1.224,
          1.203,
          1.125,
          1.346,
          1.321,
          0.91,
          1.513,
          0.868,
          0.808,
          1.226,
          1.225,
          0.437,
          0.799,
          1.183,
          1.03,
          1.351,
          0.848,
          1.427,
          1.122,
          1.247,
          1.134,
          0.698,
          1.313,
          0.774,
          1.056,
          1.055,
          0.842,
          0.829,
          0.666,
          0.939,
          0.983,
          1.167,
          0.986,
          1,
          0.928,
          0.98,
          1.125,
          1.105,
          0.841,
          1.265,
          1.181,
          0.766,
          1.39,
          1.033,
          1.149,
          1.069,
          1.039,
          1.058,
          0.572,
          0.765,
          0.922,
          0.757,
          0.916,
          1.169,
          0.447,
          1.114,
          0.688,
          1.145,
          0.378,
          0.56,
          1.163,
          0.711,
          0.885,
          0.517,
          0,
          0.575
         ]
        }
       ],
       "layout": {
        "geo": {
         "projection": {
          "type": "mercator"
         },
         "showlakes": true,
         "showocean": false,
         "showrivers": true
        },
        "template": {
         "data": {
          "bar": [
           {
            "error_x": {
             "color": "#2a3f5f"
            },
            "error_y": {
             "color": "#2a3f5f"
            },
            "marker": {
             "line": {
              "color": "#E5ECF6",
              "width": 0.5
             }
            },
            "type": "bar"
           }
          ],
          "barpolar": [
           {
            "marker": {
             "line": {
              "color": "#E5ECF6",
              "width": 0.5
             }
            },
            "type": "barpolar"
           }
          ],
          "carpet": [
           {
            "aaxis": {
             "endlinecolor": "#2a3f5f",
             "gridcolor": "white",
             "linecolor": "white",
             "minorgridcolor": "white",
             "startlinecolor": "#2a3f5f"
            },
            "baxis": {
             "endlinecolor": "#2a3f5f",
             "gridcolor": "white",
             "linecolor": "white",
             "minorgridcolor": "white",
             "startlinecolor": "#2a3f5f"
            },
            "type": "carpet"
           }
          ],
          "choropleth": [
           {
            "colorbar": {
             "outlinewidth": 0,
             "ticks": ""
            },
            "type": "choropleth"
           }
          ],
          "contour": [
           {
            "colorbar": {
             "outlinewidth": 0,
             "ticks": ""
            },
            "colorscale": [
             [
              0,
              "#0d0887"
             ],
             [
              0.1111111111111111,
              "#46039f"
             ],
             [
              0.2222222222222222,
              "#7201a8"
             ],
             [
              0.3333333333333333,
              "#9c179e"
             ],
             [
              0.4444444444444444,
              "#bd3786"
             ],
             [
              0.5555555555555556,
              "#d8576b"
             ],
             [
              0.6666666666666666,
              "#ed7953"
             ],
             [
              0.7777777777777778,
              "#fb9f3a"
             ],
             [
              0.8888888888888888,
              "#fdca26"
             ],
             [
              1,
              "#f0f921"
             ]
            ],
            "type": "contour"
           }
          ],
          "contourcarpet": [
           {
            "colorbar": {
             "outlinewidth": 0,
             "ticks": ""
            },
            "type": "contourcarpet"
           }
          ],
          "heatmap": [
           {
            "colorbar": {
             "outlinewidth": 0,
             "ticks": ""
            },
            "colorscale": [
             [
              0,
              "#0d0887"
             ],
             [
              0.1111111111111111,
              "#46039f"
             ],
             [
              0.2222222222222222,
              "#7201a8"
             ],
             [
              0.3333333333333333,
              "#9c179e"
             ],
             [
              0.4444444444444444,
              "#bd3786"
             ],
             [
              0.5555555555555556,
              "#d8576b"
             ],
             [
              0.6666666666666666,
              "#ed7953"
             ],
             [
              0.7777777777777778,
              "#fb9f3a"
             ],
             [
              0.8888888888888888,
              "#fdca26"
             ],
             [
              1,
              "#f0f921"
             ]
            ],
            "type": "heatmap"
           }
          ],
          "heatmapgl": [
           {
            "colorbar": {
             "outlinewidth": 0,
             "ticks": ""
            },
            "colorscale": [
             [
              0,
              "#0d0887"
             ],
             [
              0.1111111111111111,
              "#46039f"
             ],
             [
              0.2222222222222222,
              "#7201a8"
             ],
             [
              0.3333333333333333,
              "#9c179e"
             ],
             [
              0.4444444444444444,
              "#bd3786"
             ],
             [
              0.5555555555555556,
              "#d8576b"
             ],
             [
              0.6666666666666666,
              "#ed7953"
             ],
             [
              0.7777777777777778,
              "#fb9f3a"
             ],
             [
              0.8888888888888888,
              "#fdca26"
             ],
             [
              1,
              "#f0f921"
             ]
            ],
            "type": "heatmapgl"
           }
          ],
          "histogram": [
           {
            "marker": {
             "colorbar": {
              "outlinewidth": 0,
              "ticks": ""
             }
            },
            "type": "histogram"
           }
          ],
          "histogram2d": [
           {
            "colorbar": {
             "outlinewidth": 0,
             "ticks": ""
            },
            "colorscale": [
             [
              0,
              "#0d0887"
             ],
             [
              0.1111111111111111,
              "#46039f"
             ],
             [
              0.2222222222222222,
              "#7201a8"
             ],
             [
              0.3333333333333333,
              "#9c179e"
             ],
             [
              0.4444444444444444,
              "#bd3786"
             ],
             [
              0.5555555555555556,
              "#d8576b"
             ],
             [
              0.6666666666666666,
              "#ed7953"
             ],
             [
              0.7777777777777778,
              "#fb9f3a"
             ],
             [
              0.8888888888888888,
              "#fdca26"
             ],
             [
              1,
              "#f0f921"
             ]
            ],
            "type": "histogram2d"
           }
          ],
          "histogram2dcontour": [
           {
            "colorbar": {
             "outlinewidth": 0,
             "ticks": ""
            },
            "colorscale": [
             [
              0,
              "#0d0887"
             ],
             [
              0.1111111111111111,
              "#46039f"
             ],
             [
              0.2222222222222222,
              "#7201a8"
             ],
             [
              0.3333333333333333,
              "#9c179e"
             ],
             [
              0.4444444444444444,
              "#bd3786"
             ],
             [
              0.5555555555555556,
              "#d8576b"
             ],
             [
              0.6666666666666666,
              "#ed7953"
             ],
             [
              0.7777777777777778,
              "#fb9f3a"
             ],
             [
              0.8888888888888888,
              "#fdca26"
             ],
             [
              1,
              "#f0f921"
             ]
            ],
            "type": "histogram2dcontour"
           }
          ],
          "mesh3d": [
           {
            "colorbar": {
             "outlinewidth": 0,
             "ticks": ""
            },
            "type": "mesh3d"
           }
          ],
          "parcoords": [
           {
            "line": {
             "colorbar": {
              "outlinewidth": 0,
              "ticks": ""
             }
            },
            "type": "parcoords"
           }
          ],
          "pie": [
           {
            "automargin": true,
            "type": "pie"
           }
          ],
          "scatter": [
           {
            "marker": {
             "colorbar": {
              "outlinewidth": 0,
              "ticks": ""
             }
            },
            "type": "scatter"
           }
          ],
          "scatter3d": [
           {
            "line": {
             "colorbar": {
              "outlinewidth": 0,
              "ticks": ""
             }
            },
            "marker": {
             "colorbar": {
              "outlinewidth": 0,
              "ticks": ""
             }
            },
            "type": "scatter3d"
           }
          ],
          "scattercarpet": [
           {
            "marker": {
             "colorbar": {
              "outlinewidth": 0,
              "ticks": ""
             }
            },
            "type": "scattercarpet"
           }
          ],
          "scattergeo": [
           {
            "marker": {
             "colorbar": {
              "outlinewidth": 0,
              "ticks": ""
             }
            },
            "type": "scattergeo"
           }
          ],
          "scattergl": [
           {
            "marker": {
             "colorbar": {
              "outlinewidth": 0,
              "ticks": ""
             }
            },
            "type": "scattergl"
           }
          ],
          "scattermapbox": [
           {
            "marker": {
             "colorbar": {
              "outlinewidth": 0,
              "ticks": ""
             }
            },
            "type": "scattermapbox"
           }
          ],
          "scatterpolar": [
           {
            "marker": {
             "colorbar": {
              "outlinewidth": 0,
              "ticks": ""
             }
            },
            "type": "scatterpolar"
           }
          ],
          "scatterpolargl": [
           {
            "marker": {
             "colorbar": {
              "outlinewidth": 0,
              "ticks": ""
             }
            },
            "type": "scatterpolargl"
           }
          ],
          "scatterternary": [
           {
            "marker": {
             "colorbar": {
              "outlinewidth": 0,
              "ticks": ""
             }
            },
            "type": "scatterternary"
           }
          ],
          "surface": [
           {
            "colorbar": {
             "outlinewidth": 0,
             "ticks": ""
            },
            "colorscale": [
             [
              0,
              "#0d0887"
             ],
             [
              0.1111111111111111,
              "#46039f"
             ],
             [
              0.2222222222222222,
              "#7201a8"
             ],
             [
              0.3333333333333333,
              "#9c179e"
             ],
             [
              0.4444444444444444,
              "#bd3786"
             ],
             [
              0.5555555555555556,
              "#d8576b"
             ],
             [
              0.6666666666666666,
              "#ed7953"
             ],
             [
              0.7777777777777778,
              "#fb9f3a"
             ],
             [
              0.8888888888888888,
              "#fdca26"
             ],
             [
              1,
              "#f0f921"
             ]
            ],
            "type": "surface"
           }
          ],
          "table": [
           {
            "cells": {
             "fill": {
              "color": "#EBF0F8"
             },
             "line": {
              "color": "white"
             }
            },
            "header": {
             "fill": {
              "color": "#C8D4E3"
             },
             "line": {
              "color": "white"
             }
            },
            "type": "table"
           }
          ]
         },
         "layout": {
          "annotationdefaults": {
           "arrowcolor": "#2a3f5f",
           "arrowhead": 0,
           "arrowwidth": 1
          },
          "autotypenumbers": "strict",
          "coloraxis": {
           "colorbar": {
            "outlinewidth": 0,
            "ticks": ""
           }
          },
          "colorscale": {
           "diverging": [
            [
             0,
             "#8e0152"
            ],
            [
             0.1,
             "#c51b7d"
            ],
            [
             0.2,
             "#de77ae"
            ],
            [
             0.3,
             "#f1b6da"
            ],
            [
             0.4,
             "#fde0ef"
            ],
            [
             0.5,
             "#f7f7f7"
            ],
            [
             0.6,
             "#e6f5d0"
            ],
            [
             0.7,
             "#b8e186"
            ],
            [
             0.8,
             "#7fbc41"
            ],
            [
             0.9,
             "#4d9221"
            ],
            [
             1,
             "#276419"
            ]
           ],
           "sequential": [
            [
             0,
             "#0d0887"
            ],
            [
             0.1111111111111111,
             "#46039f"
            ],
            [
             0.2222222222222222,
             "#7201a8"
            ],
            [
             0.3333333333333333,
             "#9c179e"
            ],
            [
             0.4444444444444444,
             "#bd3786"
            ],
            [
             0.5555555555555556,
             "#d8576b"
            ],
            [
             0.6666666666666666,
             "#ed7953"
            ],
            [
             0.7777777777777778,
             "#fb9f3a"
            ],
            [
             0.8888888888888888,
             "#fdca26"
            ],
            [
             1,
             "#f0f921"
            ]
           ],
           "sequentialminus": [
            [
             0,
             "#0d0887"
            ],
            [
             0.1111111111111111,
             "#46039f"
            ],
            [
             0.2222222222222222,
             "#7201a8"
            ],
            [
             0.3333333333333333,
             "#9c179e"
            ],
            [
             0.4444444444444444,
             "#bd3786"
            ],
            [
             0.5555555555555556,
             "#d8576b"
            ],
            [
             0.6666666666666666,
             "#ed7953"
            ],
            [
             0.7777777777777778,
             "#fb9f3a"
            ],
            [
             0.8888888888888888,
             "#fdca26"
            ],
            [
             1,
             "#f0f921"
            ]
           ]
          },
          "colorway": [
           "#636efa",
           "#EF553B",
           "#00cc96",
           "#ab63fa",
           "#FFA15A",
           "#19d3f3",
           "#FF6692",
           "#B6E880",
           "#FF97FF",
           "#FECB52"
          ],
          "font": {
           "color": "#2a3f5f"
          },
          "geo": {
           "bgcolor": "white",
           "lakecolor": "white",
           "landcolor": "#E5ECF6",
           "showlakes": true,
           "showland": true,
           "subunitcolor": "white"
          },
          "hoverlabel": {
           "align": "left"
          },
          "hovermode": "closest",
          "mapbox": {
           "style": "light"
          },
          "paper_bgcolor": "white",
          "plot_bgcolor": "#E5ECF6",
          "polar": {
           "angularaxis": {
            "gridcolor": "white",
            "linecolor": "white",
            "ticks": ""
           },
           "bgcolor": "#E5ECF6",
           "radialaxis": {
            "gridcolor": "white",
            "linecolor": "white",
            "ticks": ""
           }
          },
          "scene": {
           "xaxis": {
            "backgroundcolor": "#E5ECF6",
            "gridcolor": "white",
            "gridwidth": 2,
            "linecolor": "white",
            "showbackground": true,
            "ticks": "",
            "zerolinecolor": "white"
           },
           "yaxis": {
            "backgroundcolor": "#E5ECF6",
            "gridcolor": "white",
            "gridwidth": 2,
            "linecolor": "white",
            "showbackground": true,
            "ticks": "",
            "zerolinecolor": "white"
           },
           "zaxis": {
            "backgroundcolor": "#E5ECF6",
            "gridcolor": "white",
            "gridwidth": 2,
            "linecolor": "white",
            "showbackground": true,
            "ticks": "",
            "zerolinecolor": "white"
           }
          },
          "shapedefaults": {
           "line": {
            "color": "#2a3f5f"
           }
          },
          "ternary": {
           "aaxis": {
            "gridcolor": "white",
            "linecolor": "white",
            "ticks": ""
           },
           "baxis": {
            "gridcolor": "white",
            "linecolor": "white",
            "ticks": ""
           },
           "bgcolor": "#E5ECF6",
           "caxis": {
            "gridcolor": "white",
            "linecolor": "white",
            "ticks": ""
           }
          },
          "title": {
           "x": 0.05
          },
          "xaxis": {
           "automargin": true,
           "gridcolor": "white",
           "linecolor": "white",
           "ticks": "",
           "title": {
            "standoff": 15
           },
           "zerolinecolor": "white",
           "zerolinewidth": 2
          },
          "yaxis": {
           "automargin": true,
           "gridcolor": "white",
           "linecolor": "white",
           "ticks": "",
           "title": {
            "standoff": 15
           },
           "zerolinecolor": "white",
           "zerolinewidth": 2
          }
         }
        },
        "title": {
         "text": "Map of Global Family Values "
        }
       }
      },
      "text/html": [
       "<div>                            <div id=\"893e4248-de40-46e9-947a-ae8899295f5f\" class=\"plotly-graph-div\" style=\"height:525px; width:100%;\"></div>            <script type=\"text/javascript\">                require([\"plotly\"], function(Plotly) {                    window.PLOTLYENV=window.PLOTLYENV || {};                                    if (document.getElementById(\"893e4248-de40-46e9-947a-ae8899295f5f\")) {                    Plotly.newPlot(                        \"893e4248-de40-46e9-947a-ae8899295f5f\",                        [{\"colorbar\": {\"title\": {\"text\": \"Family\"}}, \"colorscale\": [[0.0, \"#440154\"], [0.1111111111111111, \"#482878\"], [0.2222222222222222, \"#3e4989\"], [0.3333333333333333, \"#31688e\"], [0.4444444444444444, \"#26828e\"], [0.5555555555555556, \"#1f9e89\"], [0.6666666666666666, \"#35b779\"], [0.7777777777777778, \"#6ece58\"], [0.8888888888888888, \"#b5de2b\"], [1.0, \"#fde725\"]], \"locationmode\": \"country names\", \"locations\": [\"Switzerland\", \"Iceland\", \"Denmark\", \"Norway\", \"Canada\", \"Finland\", \"Netherlands\", \"Sweden\", \"New Zealand\", \"Australia\", \"Israel\", \"Costa Rica\", \"Austria\", \"Mexico\", \"United States\", \"Brazil\", \"Luxembourg\", \"Ireland\", \"Belgium\", \"United Arab Emirates\", \"United Kingdom\", \"Oman\", \"Venezuela\", \"Singapore\", \"Panama\", \"Germany\", \"Chile\", \"Qatar\", \"France\", \"Argentina\", \"Czech Republic\", \"Uruguay\", \"Colombia\", \"Thailand\", \"Saudi Arabia\", \"Spain\", \"Malta\", \"Taiwan\", \"Kuwait\", \"Suriname\", \"Trinidad and Tobago\", \"El Salvador\", \"Guatemala\", \"Uzbekistan\", \"Slovakia\", \"Japan\", \"South Korea\", \"Ecuador\", \"Bahrain\", \"Italy\", \"Bolivia\", \"Moldova\", \"Paraguay\", \"Kazakhstan\", \"Slovenia\", \"Lithuania\", \"Nicaragua\", \"Peru\", \"Belarus\", \"Poland\", \"Malaysia\", \"Croatia\", \"Libya\", \"Russia\", \"Jamaica\", \"North Cyprus\", \"Cyprus\", \"Algeria\", \"Kosovo\", \"Turkmenistan\", \"Mauritius\", \"Hong Kong\", \"Estonia\", \"Indonesia\", \"Vietnam\", \"Turkey\", \"Kyrgyzstan\", \"Nigeria\", \"Bhutan\", \"Azerbaijan\", \"Pakistan\", \"Jordan\", \"Montenegro\", \"China\", \"Zambia\", \"Romania\", \"Serbia\", \"Portugal\", \"Latvia\", \"Philippines\", \"Somaliland region\", \"Morocco\", \"Macedonia\", \"Mozambique\", \"Albania\", \"Bosnia and Herzegovina\", \"Lesotho\", \"Dominican Republic\", \"Laos\", \"Mongolia\", \"Swaziland\", \"Greece\", \"Lebanon\", \"Hungary\", \"Honduras\", \"Tajikistan\", \"Tunisia\", \"Palestinian Territories\", \"Bangladesh\", \"Iran\", \"Ukraine\", \"Iraq\", \"South Africa\", \"Ghana\", \"Zimbabwe\", \"Liberia\", \"India\", \"Sudan\", \"Haiti\", \"Congo (Kinshasa)\", \"Nepal\", \"Ethiopia\", \"Sierra Leone\", \"Mauritania\", \"Kenya\", \"Djibouti\", \"Armenia\", \"Botswana\", \"Myanmar\", \"Georgia\", \"Malawi\", \"Sri Lanka\", \"Cameroon\", \"Bulgaria\", \"Egypt\", \"Yemen\", \"Angola\", \"Mali\", \"Congo (Brazzaville)\", \"Comoros\", \"Uganda\", \"Senegal\", \"Gabon\", \"Niger\", \"Cambodia\", \"Tanzania\", \"Madagascar\", \"Central African Republic\", \"Chad\", \"Guinea\", \"Ivory Coast\", \"Burkina Faso\", \"Afghanistan\", \"Rwanda\", \"Benin\", \"Syria\", \"Burundi\", \"Togo\", \"Denmark\", \"Switzerland\", \"Iceland\", \"Norway\", \"Finland\", \"Canada\", \"Netherlands\", \"New Zealand\", \"Australia\", \"Sweden\", \"Israel\", \"Austria\", \"United States\", \"Costa Rica\", \"Puerto Rico\", \"Germany\", \"Brazil\", \"Belgium\", \"Ireland\", \"Luxembourg\", \"Mexico\", \"Singapore\", \"United Kingdom\", \"Chile\", \"Panama\", \"Argentina\", \"Czech Republic\", \"United Arab Emirates\", \"Uruguay\", \"Malta\", \"Colombia\", \"France\", \"Thailand\", \"Saudi Arabia\", \"Taiwan\", \"Qatar\", \"Spain\", \"Algeria\", \"Guatemala\", \"Suriname\", \"Kuwait\", \"Bahrain\", \"Trinidad and Tobago\", \"Venezuela\", \"Slovakia\", \"El Salvador\", \"Malaysia\", \"Nicaragua\", \"Uzbekistan\", \"Italy\", \"Ecuador\", \"Belize\", \"Japan\", \"Kazakhstan\", \"Moldova\", \"Russia\", \"Poland\", \"South Korea\", \"Bolivia\", \"Lithuania\", \"Belarus\", \"North Cyprus\", \"Slovenia\", \"Peru\", \"Turkmenistan\", \"Mauritius\", \"Libya\", \"Latvia\", \"Cyprus\", \"Paraguay\", \"Romania\", \"Estonia\", \"Jamaica\", \"Croatia\", \"Hong Kong\", \"Somalia\", \"Kosovo\", \"Turkey\", \"Indonesia\", \"Jordan\", \"Azerbaijan\", \"Philippines\", \"China\", \"Bhutan\", \"Kyrgyzstan\", \"Serbia\", \"Bosnia and Herzegovina\", \"Montenegro\", \"Dominican Republic\", \"Morocco\", \"Hungary\", \"Pakistan\", \"Lebanon\", \"Portugal\", \"Macedonia\", \"Vietnam\", \"Somaliland Region\", \"Tunisia\", \"Greece\", \"Tajikistan\", \"Mongolia\", \"Laos\", \"Nigeria\", \"Honduras\", \"Iran\", \"Zambia\", \"Nepal\", \"Palestinian Territories\", \"Albania\", \"Bangladesh\", \"Sierra Leone\", \"Iraq\", \"Namibia\", \"Cameroon\", \"Ethiopia\", \"South Africa\", \"Sri Lanka\", \"India\", \"Myanmar\", \"Egypt\", \"Armenia\", \"Kenya\", \"Ukraine\", \"Ghana\", \"Congo (Kinshasa)\", \"Georgia\", \"Congo (Brazzaville)\", \"Senegal\", \"Bulgaria\", \"Mauritania\", \"Zimbabwe\", \"Malawi\", \"Sudan\", \"Gabon\", \"Mali\", \"Haiti\", \"Botswana\", \"Comoros\", \"Ivory Coast\", \"Cambodia\", \"Angola\", \"Niger\", \"South Sudan\", \"Chad\", \"Burkina Faso\", \"Uganda\", \"Yemen\", \"Madagascar\", \"Tanzania\", \"Liberia\", \"Guinea\", \"Rwanda\", \"Benin\", \"Afghanistan\", \"Togo\", \"Syria\", \"Burundi\", \"Norway\", \"Denmark\", \"Iceland\", \"Switzerland\", \"Finland\", \"Netherlands\", \"Canada\", \"New Zealand\", \"Sweden\", \"Australia\", \"Israel\", \"Costa Rica\", \"Austria\", \"United States\", \"Ireland\", \"Germany\", \"Belgium\", \"Luxembourg\", \"United Kingdom\", \"Chile\", \"United Arab Emirates\", \"Brazil\", \"Czech Republic\", \"Argentina\", \"Mexico\", \"Singapore\", \"Malta\", \"Uruguay\", \"Guatemala\", \"Panama\", \"France\", \"Thailand\", \"Taiwan Province of China\", \"Spain\", \"Qatar\", \"Colombia\", \"Saudi Arabia\", \"Trinidad and Tobago\", \"Kuwait\", \"Slovakia\", \"Bahrain\", \"Malaysia\", \"Nicaragua\", \"Ecuador\", \"El Salvador\", \"Poland\", \"Uzbekistan\", \"Italy\", \"Russia\", \"Belize\", \"Japan\", \"Lithuania\", \"Algeria\", \"Latvia\", \"South Korea\", \"Moldova\", \"Romania\", \"Bolivia\", \"Turkmenistan\", \"Kazakhstan\", \"North Cyprus\", \"Slovenia\", \"Peru\", \"Mauritius\", \"Cyprus\", \"Estonia\", \"Belarus\", \"Libya\", \"Turkey\", \"Paraguay\", \"Hong Kong S.A.R., China\", \"Philippines\", \"Serbia\", \"Jordan\", \"Hungary\", \"Jamaica\", \"Croatia\", \"Kosovo\", \"China\", \"Pakistan\", \"Indonesia\", \"Venezuela\", \"Montenegro\", \"Morocco\", \"Azerbaijan\", \"Dominican Republic\", \"Greece\", \"Lebanon\", \"Portugal\", \"Bosnia and Herzegovina\", \"Honduras\", \"Macedonia\", \"Somalia\", \"Vietnam\", \"Nigeria\", \"Tajikistan\", \"Bhutan\", \"Kyrgyzstan\", \"Nepal\", \"Mongolia\", \"South Africa\", \"Tunisia\", \"Palestinian Territories\", \"Egypt\", \"Bulgaria\", \"Sierra Leone\", \"Cameroon\", \"Iran\", \"Albania\", \"Bangladesh\", \"Namibia\", \"Kenya\", \"Mozambique\", \"Myanmar\", \"Senegal\", \"Zambia\", \"Iraq\", \"Gabon\", \"Ethiopia\", \"Sri Lanka\", \"Armenia\", \"India\", \"Mauritania\", \"Congo (Brazzaville)\", \"Georgia\", \"Congo (Kinshasa)\", \"Mali\", \"Ivory Coast\", \"Cambodia\", \"Sudan\", \"Ghana\", \"Ukraine\", \"Uganda\", \"Burkina Faso\", \"Niger\", \"Malawi\", \"Chad\", \"Zimbabwe\", \"Lesotho\", \"Angola\", \"Afghanistan\", \"Botswana\", \"Benin\", \"Madagascar\", \"Haiti\", \"Yemen\", \"South Sudan\", \"Liberia\", \"Guinea\", \"Togo\", \"Rwanda\", \"Syria\", \"Tanzania\", \"Burundi\", \"Central African Republic\", \"Finland\", \"Norway\", \"Denmark\", \"Iceland\", \"Switzerland\", \"Netherlands\", \"Canada\", \"New Zealand\", \"Sweden\", \"Australia\", \"United Kingdom\", \"Austria\", \"Costa Rica\", \"Ireland\", \"Germany\", \"Belgium\", \"Luxembourg\", \"United States\", \"Israel\", \"United Arab Emirates\", \"Czech Republic\", \"Malta\", \"France\", \"Mexico\", \"Chile\", \"Taiwan\", \"Panama\", \"Brazil\", \"Argentina\", \"Guatemala\", \"Uruguay\", \"Qatar\", \"Saudi Arabia\", \"Singapore\", \"Malaysia\", \"Spain\", \"Colombia\", \"Trinidad & Tobago\", \"Slovakia\", \"El Salvador\", \"Nicaragua\", \"Poland\", \"Bahrain\", \"Uzbekistan\", \"Kuwait\", \"Thailand\", \"Italy\", \"Ecuador\", \"Belize\", \"Lithuania\", \"Slovenia\", \"Romania\", \"Latvia\", \"Japan\", \"Mauritius\", \"Jamaica\", \"South Korea\", \"Northern Cyprus\", \"Russia\", \"Kazakhstan\", \"Cyprus\", \"Bolivia\", \"Estonia\", \"Paraguay\", \"Peru\", \"Kosovo\", \"Moldova\", \"Turkmenistan\", \"Hungary\", \"Libya\", \"Philippines\", \"Honduras\", \"Belarus\", \"Turkey\", \"Pakistan\", \"Hong Kong\", \"Portugal\", \"Serbia\", \"Greece\", \"Lebanon\", \"Montenegro\", \"Croatia\", \"Dominican Republic\", \"Algeria\", \"Morocco\", \"China\", \"Azerbaijan\", \"Tajikistan\", \"Macedonia\", \"Jordan\", \"Nigeria\", \"Kyrgyzstan\", \"Bosnia and Herzegovina\", \"Mongolia\", \"Vietnam\", \"Indonesia\", \"Bhutan\", \"Somalia\", \"Cameroon\", \"Bulgaria\", \"Nepal\", \"Venezuela\", \"Gabon\", \"Palestinian Territories\", \"South Africa\", \"Iran\", \"Ivory Coast\", \"Ghana\", \"Senegal\", \"Laos\", \"Tunisia\", \"Albania\", \"Sierra Leone\", \"Congo (Brazzaville)\", \"Bangladesh\", \"Sri Lanka\", \"Iraq\", \"Mali\", \"Namibia\", \"Cambodia\", \"Burkina Faso\", \"Egypt\", \"Mozambique\", \"Kenya\", \"Zambia\", \"Mauritania\", \"Ethiopia\", \"Georgia\", \"Armenia\", \"Myanmar\", \"Chad\", \"Congo (Kinshasa)\", \"India\", \"Niger\", \"Uganda\", \"Benin\", \"Sudan\", \"Ukraine\", \"Togo\", \"Guinea\", \"Lesotho\", \"Angola\", \"Madagascar\", \"Zimbabwe\", \"Afghanistan\", \"Botswana\", \"Malawi\", \"Haiti\", \"Liberia\", \"Syria\", \"Rwanda\", \"Yemen\", \"Tanzania\", \"South Sudan\", \"Central African Republic\", \"Burundi\", \"Finland\", \"Denmark\", \"Norway\", \"Iceland\", \"Netherlands\", \"Switzerland\", \"Sweden\", \"New Zealand\", \"Canada\", \"Austria\", \"Australia\", \"Costa Rica\", \"Israel\", \"Luxembourg\", \"United Kingdom\", \"Ireland\", \"Germany\", \"Belgium\", \"United States\", \"Czech Republic\", \"United Arab Emirates\", \"Malta\", \"Mexico\", \"France\", \"Taiwan\", \"Chile\", \"Guatemala\", \"Saudi Arabia\", \"Qatar\", \"Spain\", \"Panama\", \"Brazil\", \"Uruguay\", \"Singapore\", \"El Salvador\", \"Italy\", \"Bahrain\", \"Slovakia\", \"Trinidad & Tobago\", \"Poland\", \"Uzbekistan\", \"Lithuania\", \"Colombia\", \"Slovenia\", \"Nicaragua\", \"Kosovo\", \"Argentina\", \"Romania\", \"Cyprus\", \"Ecuador\", \"Kuwait\", \"Thailand\", \"Latvia\", \"South Korea\", \"Estonia\", \"Jamaica\", \"Mauritius\", \"Japan\", \"Honduras\", \"Kazakhstan\", \"Bolivia\", \"Hungary\", \"Paraguay\", \"Northern Cyprus\", \"Peru\", \"Portugal\", \"Pakistan\", \"Russia\", \"Philippines\", \"Serbia\", \"Moldova\", \"Libya\", \"Montenegro\", \"Tajikistan\", \"Croatia\", \"Hong Kong\", \"Dominican Republic\", \"Bosnia and Herzegovina\", \"Turkey\", \"Malaysia\", \"Belarus\", \"Greece\", \"Mongolia\", \"North Macedonia\", \"Nigeria\", \"Kyrgyzstan\", \"Turkmenistan\", \"Algeria\", \"Morocco\", \"Azerbaijan\", \"Lebanon\", \"Indonesia\", \"China\", \"Vietnam\", \"Bhutan\", \"Cameroon\", \"Bulgaria\", \"Ghana\", \"Ivory Coast\", \"Nepal\", \"Jordan\", \"Benin\", \"Congo (Brazzaville)\", \"Gabon\", \"Laos\", \"South Africa\", \"Albania\", \"Venezuela\", \"Cambodia\", \"Palestinian Territories\", \"Senegal\", \"Somalia\", \"Namibia\", \"Niger\", \"Burkina Faso\", \"Armenia\", \"Iran\", \"Guinea\", \"Georgia\", \"Gambia\", \"Kenya\", \"Mauritania\", \"Mozambique\", \"Tunisia\", \"Bangladesh\", \"Iraq\", \"Congo (Kinshasa)\", \"Mali\", \"Sierra Leone\", \"Sri Lanka\", \"Myanmar\", \"Chad\", \"Ukraine\", \"Ethiopia\", \"Swaziland\", \"Uganda\", \"Egypt\", \"Zambia\", \"Togo\", \"India\", \"Liberia\", \"Comoros\", \"Madagascar\", \"Lesotho\", \"Burundi\", \"Zimbabwe\", \"Haiti\", \"Botswana\", \"Syria\", \"Malawi\", \"Yemen\", \"Rwanda\", \"Tanzania\", \"Afghanistan\", \"Central African Republic\", \"South Sudan\"], \"marker\": {\"line\": {\"width\": 1}}, \"text\": [\"Switzerland\", \"Iceland\", \"Denmark\", \"Norway\", \"Canada\", \"Finland\", \"Netherlands\", \"Sweden\", \"New Zealand\", \"Australia\", \"Israel\", \"Costa Rica\", \"Austria\", \"Mexico\", \"United States\", \"Brazil\", \"Luxembourg\", \"Ireland\", \"Belgium\", \"United Arab Emirates\", \"United Kingdom\", \"Oman\", \"Venezuela\", \"Singapore\", \"Panama\", \"Germany\", \"Chile\", \"Qatar\", \"France\", \"Argentina\", \"Czech Republic\", \"Uruguay\", \"Colombia\", \"Thailand\", \"Saudi Arabia\", \"Spain\", \"Malta\", \"Taiwan\", \"Kuwait\", \"Suriname\", \"Trinidad and Tobago\", \"El Salvador\", \"Guatemala\", \"Uzbekistan\", \"Slovakia\", \"Japan\", \"South Korea\", \"Ecuador\", \"Bahrain\", \"Italy\", \"Bolivia\", \"Moldova\", \"Paraguay\", \"Kazakhstan\", \"Slovenia\", \"Lithuania\", \"Nicaragua\", \"Peru\", \"Belarus\", \"Poland\", \"Malaysia\", \"Croatia\", \"Libya\", \"Russia\", \"Jamaica\", \"North Cyprus\", \"Cyprus\", \"Algeria\", \"Kosovo\", \"Turkmenistan\", \"Mauritius\", \"Hong Kong\", \"Estonia\", \"Indonesia\", \"Vietnam\", \"Turkey\", \"Kyrgyzstan\", \"Nigeria\", \"Bhutan\", \"Azerbaijan\", \"Pakistan\", \"Jordan\", \"Montenegro\", \"China\", \"Zambia\", \"Romania\", \"Serbia\", \"Portugal\", \"Latvia\", \"Philippines\", \"Somaliland region\", \"Morocco\", \"Macedonia\", \"Mozambique\", \"Albania\", \"Bosnia and Herzegovina\", \"Lesotho\", \"Dominican Republic\", \"Laos\", \"Mongolia\", \"Swaziland\", \"Greece\", \"Lebanon\", \"Hungary\", \"Honduras\", \"Tajikistan\", \"Tunisia\", \"Palestinian Territories\", \"Bangladesh\", \"Iran\", \"Ukraine\", \"Iraq\", \"South Africa\", \"Ghana\", \"Zimbabwe\", \"Liberia\", \"India\", \"Sudan\", \"Haiti\", \"Congo (Kinshasa)\", \"Nepal\", \"Ethiopia\", \"Sierra Leone\", \"Mauritania\", \"Kenya\", \"Djibouti\", \"Armenia\", \"Botswana\", \"Myanmar\", \"Georgia\", \"Malawi\", \"Sri Lanka\", \"Cameroon\", \"Bulgaria\", \"Egypt\", \"Yemen\", \"Angola\", \"Mali\", \"Congo (Brazzaville)\", \"Comoros\", \"Uganda\", \"Senegal\", \"Gabon\", \"Niger\", \"Cambodia\", \"Tanzania\", \"Madagascar\", \"Central African Republic\", \"Chad\", \"Guinea\", \"Ivory Coast\", \"Burkina Faso\", \"Afghanistan\", \"Rwanda\", \"Benin\", \"Syria\", \"Burundi\", \"Togo\", \"Denmark\", \"Switzerland\", \"Iceland\", \"Norway\", \"Finland\", \"Canada\", \"Netherlands\", \"New Zealand\", \"Australia\", \"Sweden\", \"Israel\", \"Austria\", \"United States\", \"Costa Rica\", \"Puerto Rico\", \"Germany\", \"Brazil\", \"Belgium\", \"Ireland\", \"Luxembourg\", \"Mexico\", \"Singapore\", \"United Kingdom\", \"Chile\", \"Panama\", \"Argentina\", \"Czech Republic\", \"United Arab Emirates\", \"Uruguay\", \"Malta\", \"Colombia\", \"France\", \"Thailand\", \"Saudi Arabia\", \"Taiwan\", \"Qatar\", \"Spain\", \"Algeria\", \"Guatemala\", \"Suriname\", \"Kuwait\", \"Bahrain\", \"Trinidad and Tobago\", \"Venezuela\", \"Slovakia\", \"El Salvador\", \"Malaysia\", \"Nicaragua\", \"Uzbekistan\", \"Italy\", \"Ecuador\", \"Belize\", \"Japan\", \"Kazakhstan\", \"Moldova\", \"Russia\", \"Poland\", \"South Korea\", \"Bolivia\", \"Lithuania\", \"Belarus\", \"North Cyprus\", \"Slovenia\", \"Peru\", \"Turkmenistan\", \"Mauritius\", \"Libya\", \"Latvia\", \"Cyprus\", \"Paraguay\", \"Romania\", \"Estonia\", \"Jamaica\", \"Croatia\", \"Hong Kong\", \"Somalia\", \"Kosovo\", \"Turkey\", \"Indonesia\", \"Jordan\", \"Azerbaijan\", \"Philippines\", \"China\", \"Bhutan\", \"Kyrgyzstan\", \"Serbia\", \"Bosnia and Herzegovina\", \"Montenegro\", \"Dominican Republic\", \"Morocco\", \"Hungary\", \"Pakistan\", \"Lebanon\", \"Portugal\", \"Macedonia\", \"Vietnam\", \"Somaliland Region\", \"Tunisia\", \"Greece\", \"Tajikistan\", \"Mongolia\", \"Laos\", \"Nigeria\", \"Honduras\", \"Iran\", \"Zambia\", \"Nepal\", \"Palestinian Territories\", \"Albania\", \"Bangladesh\", \"Sierra Leone\", \"Iraq\", \"Namibia\", \"Cameroon\", \"Ethiopia\", \"South Africa\", \"Sri Lanka\", \"India\", \"Myanmar\", \"Egypt\", \"Armenia\", \"Kenya\", \"Ukraine\", \"Ghana\", \"Congo (Kinshasa)\", \"Georgia\", \"Congo (Brazzaville)\", \"Senegal\", \"Bulgaria\", \"Mauritania\", \"Zimbabwe\", \"Malawi\", \"Sudan\", \"Gabon\", \"Mali\", \"Haiti\", \"Botswana\", \"Comoros\", \"Ivory Coast\", \"Cambodia\", \"Angola\", \"Niger\", \"South Sudan\", \"Chad\", \"Burkina Faso\", \"Uganda\", \"Yemen\", \"Madagascar\", \"Tanzania\", \"Liberia\", \"Guinea\", \"Rwanda\", \"Benin\", \"Afghanistan\", \"Togo\", \"Syria\", \"Burundi\", \"Norway\", \"Denmark\", \"Iceland\", \"Switzerland\", \"Finland\", \"Netherlands\", \"Canada\", \"New Zealand\", \"Sweden\", \"Australia\", \"Israel\", \"Costa Rica\", \"Austria\", \"United States\", \"Ireland\", \"Germany\", \"Belgium\", \"Luxembourg\", \"United Kingdom\", \"Chile\", \"United Arab Emirates\", \"Brazil\", \"Czech Republic\", \"Argentina\", \"Mexico\", \"Singapore\", \"Malta\", \"Uruguay\", \"Guatemala\", \"Panama\", \"France\", \"Thailand\", \"Taiwan Province of China\", \"Spain\", \"Qatar\", \"Colombia\", \"Saudi Arabia\", \"Trinidad and Tobago\", \"Kuwait\", \"Slovakia\", \"Bahrain\", \"Malaysia\", \"Nicaragua\", \"Ecuador\", \"El Salvador\", \"Poland\", \"Uzbekistan\", \"Italy\", \"Russia\", \"Belize\", \"Japan\", \"Lithuania\", \"Algeria\", \"Latvia\", \"South Korea\", \"Moldova\", \"Romania\", \"Bolivia\", \"Turkmenistan\", \"Kazakhstan\", \"North Cyprus\", \"Slovenia\", \"Peru\", \"Mauritius\", \"Cyprus\", \"Estonia\", \"Belarus\", \"Libya\", \"Turkey\", \"Paraguay\", \"Hong Kong S.A.R., China\", \"Philippines\", \"Serbia\", \"Jordan\", \"Hungary\", \"Jamaica\", \"Croatia\", \"Kosovo\", \"China\", \"Pakistan\", \"Indonesia\", \"Venezuela\", \"Montenegro\", \"Morocco\", \"Azerbaijan\", \"Dominican Republic\", \"Greece\", \"Lebanon\", \"Portugal\", \"Bosnia and Herzegovina\", \"Honduras\", \"Macedonia\", \"Somalia\", \"Vietnam\", \"Nigeria\", \"Tajikistan\", \"Bhutan\", \"Kyrgyzstan\", \"Nepal\", \"Mongolia\", \"South Africa\", \"Tunisia\", \"Palestinian Territories\", \"Egypt\", \"Bulgaria\", \"Sierra Leone\", \"Cameroon\", \"Iran\", \"Albania\", \"Bangladesh\", \"Namibia\", \"Kenya\", \"Mozambique\", \"Myanmar\", \"Senegal\", \"Zambia\", \"Iraq\", \"Gabon\", \"Ethiopia\", \"Sri Lanka\", \"Armenia\", \"India\", \"Mauritania\", \"Congo (Brazzaville)\", \"Georgia\", \"Congo (Kinshasa)\", \"Mali\", \"Ivory Coast\", \"Cambodia\", \"Sudan\", \"Ghana\", \"Ukraine\", \"Uganda\", \"Burkina Faso\", \"Niger\", \"Malawi\", \"Chad\", \"Zimbabwe\", \"Lesotho\", \"Angola\", \"Afghanistan\", \"Botswana\", \"Benin\", \"Madagascar\", \"Haiti\", \"Yemen\", \"South Sudan\", \"Liberia\", \"Guinea\", \"Togo\", \"Rwanda\", \"Syria\", \"Tanzania\", \"Burundi\", \"Central African Republic\", \"Finland\", \"Norway\", \"Denmark\", \"Iceland\", \"Switzerland\", \"Netherlands\", \"Canada\", \"New Zealand\", \"Sweden\", \"Australia\", \"United Kingdom\", \"Austria\", \"Costa Rica\", \"Ireland\", \"Germany\", \"Belgium\", \"Luxembourg\", \"United States\", \"Israel\", \"United Arab Emirates\", \"Czech Republic\", \"Malta\", \"France\", \"Mexico\", \"Chile\", \"Taiwan\", \"Panama\", \"Brazil\", \"Argentina\", \"Guatemala\", \"Uruguay\", \"Qatar\", \"Saudi Arabia\", \"Singapore\", \"Malaysia\", \"Spain\", \"Colombia\", \"Trinidad & Tobago\", \"Slovakia\", \"El Salvador\", \"Nicaragua\", \"Poland\", \"Bahrain\", \"Uzbekistan\", \"Kuwait\", \"Thailand\", \"Italy\", \"Ecuador\", \"Belize\", \"Lithuania\", \"Slovenia\", \"Romania\", \"Latvia\", \"Japan\", \"Mauritius\", \"Jamaica\", \"South Korea\", \"Northern Cyprus\", \"Russia\", \"Kazakhstan\", \"Cyprus\", \"Bolivia\", \"Estonia\", \"Paraguay\", \"Peru\", \"Kosovo\", \"Moldova\", \"Turkmenistan\", \"Hungary\", \"Libya\", \"Philippines\", \"Honduras\", \"Belarus\", \"Turkey\", \"Pakistan\", \"Hong Kong\", \"Portugal\", \"Serbia\", \"Greece\", \"Lebanon\", \"Montenegro\", \"Croatia\", \"Dominican Republic\", \"Algeria\", \"Morocco\", \"China\", \"Azerbaijan\", \"Tajikistan\", \"Macedonia\", \"Jordan\", \"Nigeria\", \"Kyrgyzstan\", \"Bosnia and Herzegovina\", \"Mongolia\", \"Vietnam\", \"Indonesia\", \"Bhutan\", \"Somalia\", \"Cameroon\", \"Bulgaria\", \"Nepal\", \"Venezuela\", \"Gabon\", \"Palestinian Territories\", \"South Africa\", \"Iran\", \"Ivory Coast\", \"Ghana\", \"Senegal\", \"Laos\", \"Tunisia\", \"Albania\", \"Sierra Leone\", \"Congo (Brazzaville)\", \"Bangladesh\", \"Sri Lanka\", \"Iraq\", \"Mali\", \"Namibia\", \"Cambodia\", \"Burkina Faso\", \"Egypt\", \"Mozambique\", \"Kenya\", \"Zambia\", \"Mauritania\", \"Ethiopia\", \"Georgia\", \"Armenia\", \"Myanmar\", \"Chad\", \"Congo (Kinshasa)\", \"India\", \"Niger\", \"Uganda\", \"Benin\", \"Sudan\", \"Ukraine\", \"Togo\", \"Guinea\", \"Lesotho\", \"Angola\", \"Madagascar\", \"Zimbabwe\", \"Afghanistan\", \"Botswana\", \"Malawi\", \"Haiti\", \"Liberia\", \"Syria\", \"Rwanda\", \"Yemen\", \"Tanzania\", \"South Sudan\", \"Central African Republic\", \"Burundi\", \"Finland\", \"Denmark\", \"Norway\", \"Iceland\", \"Netherlands\", \"Switzerland\", \"Sweden\", \"New Zealand\", \"Canada\", \"Austria\", \"Australia\", \"Costa Rica\", \"Israel\", \"Luxembourg\", \"United Kingdom\", \"Ireland\", \"Germany\", \"Belgium\", \"United States\", \"Czech Republic\", \"United Arab Emirates\", \"Malta\", \"Mexico\", \"France\", \"Taiwan\", \"Chile\", \"Guatemala\", \"Saudi Arabia\", \"Qatar\", \"Spain\", \"Panama\", \"Brazil\", \"Uruguay\", \"Singapore\", \"El Salvador\", \"Italy\", \"Bahrain\", \"Slovakia\", \"Trinidad & Tobago\", \"Poland\", \"Uzbekistan\", \"Lithuania\", \"Colombia\", \"Slovenia\", \"Nicaragua\", \"Kosovo\", \"Argentina\", \"Romania\", \"Cyprus\", \"Ecuador\", \"Kuwait\", \"Thailand\", \"Latvia\", \"South Korea\", \"Estonia\", \"Jamaica\", \"Mauritius\", \"Japan\", \"Honduras\", \"Kazakhstan\", \"Bolivia\", \"Hungary\", \"Paraguay\", \"Northern Cyprus\", \"Peru\", \"Portugal\", \"Pakistan\", \"Russia\", \"Philippines\", \"Serbia\", \"Moldova\", \"Libya\", \"Montenegro\", \"Tajikistan\", \"Croatia\", \"Hong Kong\", \"Dominican Republic\", \"Bosnia and Herzegovina\", \"Turkey\", \"Malaysia\", \"Belarus\", \"Greece\", \"Mongolia\", \"North Macedonia\", \"Nigeria\", \"Kyrgyzstan\", \"Turkmenistan\", \"Algeria\", \"Morocco\", \"Azerbaijan\", \"Lebanon\", \"Indonesia\", \"China\", \"Vietnam\", \"Bhutan\", \"Cameroon\", \"Bulgaria\", \"Ghana\", \"Ivory Coast\", \"Nepal\", \"Jordan\", \"Benin\", \"Congo (Brazzaville)\", \"Gabon\", \"Laos\", \"South Africa\", \"Albania\", \"Venezuela\", \"Cambodia\", \"Palestinian Territories\", \"Senegal\", \"Somalia\", \"Namibia\", \"Niger\", \"Burkina Faso\", \"Armenia\", \"Iran\", \"Guinea\", \"Georgia\", \"Gambia\", \"Kenya\", \"Mauritania\", \"Mozambique\", \"Tunisia\", \"Bangladesh\", \"Iraq\", \"Congo (Kinshasa)\", \"Mali\", \"Sierra Leone\", \"Sri Lanka\", \"Myanmar\", \"Chad\", \"Ukraine\", \"Ethiopia\", \"Swaziland\", \"Uganda\", \"Egypt\", \"Zambia\", \"Togo\", \"India\", \"Liberia\", \"Comoros\", \"Madagascar\", \"Lesotho\", \"Burundi\", \"Zimbabwe\", \"Haiti\", \"Botswana\", \"Syria\", \"Malawi\", \"Yemen\", \"Rwanda\", \"Tanzania\", \"Afghanistan\", \"Central African Republic\", \"South Sudan\"], \"type\": \"choropleth\", \"z\": [1.34951, 1.40223, 1.36058, 1.33095, 1.32261, 1.31826, 1.28017, 1.28907, 1.31967, 1.30923, 1.22393, 1.23788, 1.29704, 0.91451, 1.24711, 1.23287, 1.21963, 1.36948, 1.28566, 1.12575, 1.28548, 1.08182, 1.25596, 1.02, 1.1985, 1.29937, 1.12447, 1.0786, 1.26038, 1.24823, 1.20643, 1.2089, 1.24018, 1.26504, 1.08393, 1.31379, 1.30203, 1.07617, 1.16594, 0.972, 1.18354, 1.02507, 1.04356, 1.34043, 1.26999, 1.25712, 0.95774, 0.99903, 1.21624, 1.19777, 0.97841, 1.01528, 1.30477, 1.12241, 1.27385, 1.25745, 1.14184, 0.97459, 1.23289, 1.27948, 1.07023, 0.79624, 1.11862, 1.23617, 1.15102, 1.07008, 0.89318, 1.07772, 0.81198, 1.22668, 0.98521, 1.05818, 1.22791, 1.08708, 0.91226, 0.94632, 1.15115, 0.90432, 1.10395, 0.93793, 0.41411, 1.05392, 0.90557, 0.94675, 0.91612, 0.88588, 1.00964, 1.13935, 1.09562, 1.03516, 0.95152, 0.64095, 1.00232, 1.02626, 0.80434, 0.91916, 1.04103, 1.17202, 0.73803, 1.3006, 1.07284, 0.92933, 0.80001, 1.20215, 0.95348, 0.85563, 0.60429, 0.92558, 0.43106, 0.54447, 1.20278, 0.81889, 1.18468, 0.67954, 1.03276, 0.78968, 0.38174, 1.01404, 0.74302, 1.0012, 0.86449, 0.60406, 0.95571, 0.86908, 0.99876, 0.59207, 0.77711, 1.10464, 0.70905, 0.38562, 0.41134, 1.01905, 0.88767, 1.10614, 0.747, 0.68093, 0.8604, 1.03526, 0.6629, 0.79273, 1.13299, 0.97619, 0.90528, 0.77265, 0.62736, 1.00268, 0.66801, 0.0, 0.76062, 0.46475, 0.77115, 0.85188, 0.30285, 0.7737, 0.35386, 0.47489, 0.41587, 0.13995, 1.16374, 1.14524, 1.18326, 1.1269, 1.13464, 1.0961, 1.02912, 1.17278, 1.10476, 1.08764, 0.99537, 1.08383, 1.04782, 1.02152, 1.08113, 1.09774, 1.03938, 1.05249, 1.16157, 1.03999, 0.7146, 0.86758, 1.08672, 0.90587, 0.98912, 1.06612, 1.00793, 0.87114, 1.03143, 1.09879, 1.02169, 1.00508, 1.04477, 0.84829, 0.92624, 0.87964, 1.12945, 0.83309, 0.87119, 0.77866, 0.87758, 0.94397, 0.98569, 1.03302, 1.08268, 0.80975, 0.88025, 0.89521, 1.1681, 1.04167, 0.85974, 0.68655, 1.06054, 0.95544, 0.83132, 1.05261, 1.04685, 0.72194, 0.83779, 1.06411, 1.04993, 0.81826, 1.05613, 0.81255, 1.03817, 0.75695, 0.95076, 0.95025, 0.70697, 1.11111, 0.72803, 1.05163, 0.96372, 0.60809, 0.87021, 0.33613, 0.66062, 0.87717, 0.87625, 0.86216, 0.76042, 0.87877, 0.79381, 0.90836, 0.95434, 0.81329, 0.64367, 0.74173, 0.99496, 0.38595, 0.93164, 0.26135, 0.64184, 0.94367, 0.78236, 0.79117, 0.75862, 0.43165, 0.75473, 0.75602, 1.08983, 0.5497, 0.64498, 0.75596, 0.38857, 0.6376, 0.69699, 0.71629, 0.50163, 0.24749, 0.628, 0.59205, 0.70362, 0.62542, 0.37932, 0.96053, 0.84783, 0.29247, 0.69981, 0.49813, 0.62477, 0.7624, 1.01413, 0.49353, 0.80676, 0.19249, 0.47799, 0.77416, 0.92542, 0.84142, 0.71478, 0.147, 0.81928, 0.72368, 0.86333, 0.29561, 0.89186, 0.60323, 0.57576, 0.5375, 0.66366, 0.6053, 0.18519, 0.63178, 0.63054, 0.90981, 0.47493, 0.46115, 0.77623, 0.50353, 0.3109, 0.61586, 0.10419, 0.11037, 0.0, 0.14866, 0.23442, 1.53352355957031, 1.55112159252167, 1.6105740070343, 1.51691174507141, 1.5402467250824, 1.42893922328949, 1.48134899139404, 1.54819512367249, 1.47816216945648, 1.51004195213318, 1.37628996372223, 1.41640365123749, 1.4599449634552, 1.41992056369781, 1.55823111534119, 1.47252035140991, 1.46231269836426, 1.45758366584778, 1.49646008014679, 1.28402495384216, 1.26641023159027, 1.43130600452423, 1.43388521671295, 1.44045114517212, 1.210862159729, 1.35381436347961, 1.48841166496277, 1.41222786903381, 1.25558519363403, 1.37319254875183, 1.38777685165405, 1.42579245567322, 1.38456535339355, 1.53209090232849, 1.27429687976837, 1.4021829366684, 1.28667759895325, 1.3802285194397, 1.25969874858856, 1.50505924224854, 1.32311046123505, 1.28464603424072, 1.28721570968628, 1.28616881370544, 1.18212509155273, 1.44571197032928, 1.54896914958954, 1.44492328166962, 1.46928238868713, 1.08141779899597, 1.43633782863617, 1.47351610660553, 1.1462174654007, 1.40471494197845, 1.12827444076538, 1.25182557106018, 1.15009129047394, 1.22761905193329, 1.49314916133881, 1.38436901569366, 1.18630337715149, 1.45251882076263, 1.21877038478851, 1.20956099033356, 1.13136327266693, 1.47667109966278, 1.44494521617889, 1.35756433010101, 1.33775317668915, 1.50728487968445, 1.26279091835022, 1.25391757488251, 1.25818979740143, 1.23908889293671, 1.34313309192657, 1.36821806430817, 0.96798300743103, 1.13785350322723, 1.16083741188049, 0.672690689563751, 1.27444469928741, 1.43133759498596, 1.23837649822235, 0.774864435195923, 1.15240025520325, 1.40241670608521, 1.23941457271576, 1.12962424755096, 1.36704301834106, 1.0693359375, 1.14394497871399, 1.20789301395416, 0.721151351928711, 1.27749133110046, 1.21577048301697, 1.27146327495575, 1.34012651443481, 1.39423859119415, 1.17928326129913, 1.4930112361908, 1.38478863239288, 0.868351459503174, 1.15564715862274, 0.997471392154694, 1.43437945842743, 0.984136044979095, 0.946018218994141, 0.711551249027252, 0.803685247898102, 0.735131740570068, 1.0984708070755, 1.06795072555542, 0.870701014995575, 1.12323594093323, 1.17969191074371, 1.00318729877472, 0.978613197803497, 1.1556202173233, 0.86466920375824, 1.25997638702393, 1.00748372077942, 0.754372596740723, 1.2720308303833, 0.832044363021851, 0.57061493396759, 1.22902345657349, 1.28147339820862, 0.904780030250549, 1.00623834133148, 1.21400856971741, 0.873664736747742, 1.39453756809235, 1.12982773780823, 1.04328000545502, 0.993025004863739, 0.512568831443787, 0.953855872154236, 1.08309590816498, 1.19009518623352, 1.10441195964813, 0.581543326377869, 1.22155499458313, 0.435299843549728, 0.913020372390747, 0.640449821949005, 0.93538224697113, 0.601323127746582, 0.872117936611176, 0.791244685649872, 0.431882530450821, 0.945707023143768, 0.396102607250214, 1.04198980331421, 0.629793584346771, 0.0, 1.592, 1.582, 1.59, 1.644, 1.549, 1.488, 1.532, 1.601, 1.501, 1.573, 1.433, 1.504, 1.459, 1.583, 1.474, 1.483, 1.52, 1.471, 1.559, 0.776, 1.489, 1.525, 1.466, 1.252, 1.331, 1.436, 1.438, 1.474, 1.468, 1.268, 1.459, 1.303, 1.331, 1.451, 1.258, 1.538, 1.439, 1.492, 1.537, 1.231, 1.319, 1.448, 1.366, 1.584, 1.301, 1.417, 1.501, 1.33, 1.101, 1.527, 1.506, 1.219, 1.454, 1.462, 1.387, 1.493, 1.204, 1.211, 1.479, 1.516, 1.191, 1.223, 1.532, 1.522, 1.249, 1.23, 1.301, 1.533, 1.401, 1.35, 1.312, 1.205, 1.498, 1.38, 0.81, 1.29, 1.429, 1.369, 1.202, 1.179, 1.279, 1.161, 1.441, 1.154, 0.797, 1.142, 1.161, 1.166, 1.239, 1.265, 1.172, 1.416, 1.078, 1.517, 1.365, 1.215, 1.335, 0.712, 0.891, 1.515, 1.228, 1.469, 1.164, 1.217, 1.41, 0.771, 0.872, 0.896, 1.117, 1.034, 0.906, 0.817, 0.813, 0.811, 0.85, 1.314, 0.971, 1.233, 1.281, 1.088, 1.097, 1.025, 0.902, 1.048, 1.047, 1.245, 0.95, 0.592, 0.99, 1.174, 0.907, 1.136, 0.747, 0.867, 1.09, 0.372, 1.24, 1.413, 0.474, 0.792, 1.215, 1.125, 0.908, 1.094, 0.537, 1.174, 0.541, 0.714, 0.858, 0.382, 0.896, 1.073, 0.991, 0.608, 0.0, 0.627, 1.587, 1.573, 1.582, 1.624, 1.522, 1.526, 1.487, 1.557, 1.505, 1.475, 1.548, 1.441, 1.455, 1.479, 1.538, 1.553, 1.454, 1.504, 1.457, 1.487, 1.31, 1.52, 1.323, 1.472, 1.43, 1.369, 1.269, 1.357, 1.313, 1.484, 1.442, 1.439, 1.465, 1.463, 1.242, 1.488, 1.368, 1.504, 1.477, 1.438, 1.529, 1.515, 1.41, 1.523, 1.325, 1.232, 1.432, 1.232, 1.223, 1.312, 1.319, 1.409, 1.465, 1.219, 1.528, 1.478, 1.402, 1.419, 1.236, 1.508, 1.209, 1.41, 1.475, 1.252, 1.274, 1.431, 0.886, 1.452, 1.293, 1.383, 1.328, 1.303, 1.361, 1.098, 1.266, 1.277, 1.401, 1.212, 1.36, 1.171, 1.465, 1.156, 1.531, 1.294, 1.111, 1.438, 1.538, 1.16, 0.782, 1.147, 1.224, 1.203, 1.125, 1.346, 1.321, 0.91, 1.513, 0.868, 0.808, 1.226, 1.225, 0.437, 0.799, 1.183, 1.03, 1.351, 0.848, 1.427, 1.122, 1.247, 1.134, 0.698, 1.313, 0.774, 1.056, 1.055, 0.842, 0.829, 0.666, 0.939, 0.983, 1.167, 0.986, 1.0, 0.928, 0.98, 1.125, 1.105, 0.841, 1.265, 1.181, 0.766, 1.39, 1.033, 1.149, 1.069, 1.039, 1.058, 0.572, 0.765, 0.922, 0.757, 0.916, 1.169, 0.447, 1.114, 0.688, 1.145, 0.378, 0.56, 1.163, 0.711, 0.885, 0.517, 0.0, 0.575]}],                        {\"geo\": {\"projection\": {\"type\": \"mercator\"}, \"showlakes\": true, \"showocean\": false, \"showrivers\": true}, \"template\": {\"data\": {\"bar\": [{\"error_x\": {\"color\": \"#2a3f5f\"}, \"error_y\": {\"color\": \"#2a3f5f\"}, \"marker\": {\"line\": {\"color\": \"#E5ECF6\", \"width\": 0.5}}, \"type\": \"bar\"}], \"barpolar\": [{\"marker\": {\"line\": {\"color\": \"#E5ECF6\", \"width\": 0.5}}, \"type\": \"barpolar\"}], \"carpet\": [{\"aaxis\": {\"endlinecolor\": \"#2a3f5f\", \"gridcolor\": \"white\", \"linecolor\": \"white\", \"minorgridcolor\": \"white\", \"startlinecolor\": \"#2a3f5f\"}, \"baxis\": {\"endlinecolor\": \"#2a3f5f\", \"gridcolor\": \"white\", \"linecolor\": \"white\", \"minorgridcolor\": \"white\", \"startlinecolor\": \"#2a3f5f\"}, \"type\": \"carpet\"}], \"choropleth\": [{\"colorbar\": {\"outlinewidth\": 0, \"ticks\": \"\"}, \"type\": \"choropleth\"}], \"contour\": [{\"colorbar\": {\"outlinewidth\": 0, \"ticks\": \"\"}, \"colorscale\": [[0.0, \"#0d0887\"], [0.1111111111111111, \"#46039f\"], [0.2222222222222222, \"#7201a8\"], [0.3333333333333333, \"#9c179e\"], [0.4444444444444444, \"#bd3786\"], [0.5555555555555556, \"#d8576b\"], [0.6666666666666666, \"#ed7953\"], [0.7777777777777778, \"#fb9f3a\"], [0.8888888888888888, \"#fdca26\"], [1.0, \"#f0f921\"]], \"type\": \"contour\"}], \"contourcarpet\": [{\"colorbar\": {\"outlinewidth\": 0, \"ticks\": \"\"}, \"type\": \"contourcarpet\"}], \"heatmap\": [{\"colorbar\": {\"outlinewidth\": 0, \"ticks\": \"\"}, \"colorscale\": [[0.0, \"#0d0887\"], [0.1111111111111111, \"#46039f\"], [0.2222222222222222, \"#7201a8\"], [0.3333333333333333, \"#9c179e\"], [0.4444444444444444, \"#bd3786\"], [0.5555555555555556, \"#d8576b\"], [0.6666666666666666, \"#ed7953\"], [0.7777777777777778, \"#fb9f3a\"], [0.8888888888888888, \"#fdca26\"], [1.0, \"#f0f921\"]], \"type\": \"heatmap\"}], \"heatmapgl\": [{\"colorbar\": {\"outlinewidth\": 0, \"ticks\": \"\"}, \"colorscale\": [[0.0, \"#0d0887\"], [0.1111111111111111, \"#46039f\"], [0.2222222222222222, \"#7201a8\"], [0.3333333333333333, \"#9c179e\"], [0.4444444444444444, \"#bd3786\"], [0.5555555555555556, \"#d8576b\"], [0.6666666666666666, \"#ed7953\"], [0.7777777777777778, \"#fb9f3a\"], [0.8888888888888888, \"#fdca26\"], [1.0, \"#f0f921\"]], \"type\": \"heatmapgl\"}], \"histogram\": [{\"marker\": {\"colorbar\": {\"outlinewidth\": 0, \"ticks\": \"\"}}, \"type\": \"histogram\"}], \"histogram2d\": [{\"colorbar\": {\"outlinewidth\": 0, \"ticks\": \"\"}, \"colorscale\": [[0.0, \"#0d0887\"], [0.1111111111111111, \"#46039f\"], [0.2222222222222222, \"#7201a8\"], [0.3333333333333333, \"#9c179e\"], [0.4444444444444444, \"#bd3786\"], [0.5555555555555556, \"#d8576b\"], [0.6666666666666666, \"#ed7953\"], [0.7777777777777778, \"#fb9f3a\"], [0.8888888888888888, \"#fdca26\"], [1.0, \"#f0f921\"]], \"type\": \"histogram2d\"}], \"histogram2dcontour\": [{\"colorbar\": {\"outlinewidth\": 0, \"ticks\": \"\"}, \"colorscale\": [[0.0, \"#0d0887\"], [0.1111111111111111, \"#46039f\"], [0.2222222222222222, \"#7201a8\"], [0.3333333333333333, \"#9c179e\"], [0.4444444444444444, \"#bd3786\"], [0.5555555555555556, \"#d8576b\"], [0.6666666666666666, \"#ed7953\"], [0.7777777777777778, \"#fb9f3a\"], [0.8888888888888888, \"#fdca26\"], [1.0, \"#f0f921\"]], \"type\": \"histogram2dcontour\"}], \"mesh3d\": [{\"colorbar\": {\"outlinewidth\": 0, \"ticks\": \"\"}, \"type\": \"mesh3d\"}], \"parcoords\": [{\"line\": {\"colorbar\": {\"outlinewidth\": 0, \"ticks\": \"\"}}, \"type\": \"parcoords\"}], \"pie\": [{\"automargin\": true, \"type\": \"pie\"}], \"scatter\": [{\"marker\": {\"colorbar\": {\"outlinewidth\": 0, \"ticks\": \"\"}}, \"type\": \"scatter\"}], \"scatter3d\": [{\"line\": {\"colorbar\": {\"outlinewidth\": 0, \"ticks\": \"\"}}, \"marker\": {\"colorbar\": {\"outlinewidth\": 0, \"ticks\": \"\"}}, \"type\": \"scatter3d\"}], \"scattercarpet\": [{\"marker\": {\"colorbar\": {\"outlinewidth\": 0, \"ticks\": \"\"}}, \"type\": \"scattercarpet\"}], \"scattergeo\": [{\"marker\": {\"colorbar\": {\"outlinewidth\": 0, \"ticks\": \"\"}}, \"type\": \"scattergeo\"}], \"scattergl\": [{\"marker\": {\"colorbar\": {\"outlinewidth\": 0, \"ticks\": \"\"}}, \"type\": \"scattergl\"}], \"scattermapbox\": [{\"marker\": {\"colorbar\": {\"outlinewidth\": 0, \"ticks\": \"\"}}, \"type\": \"scattermapbox\"}], \"scatterpolar\": [{\"marker\": {\"colorbar\": {\"outlinewidth\": 0, \"ticks\": \"\"}}, \"type\": \"scatterpolar\"}], \"scatterpolargl\": [{\"marker\": {\"colorbar\": {\"outlinewidth\": 0, \"ticks\": \"\"}}, \"type\": \"scatterpolargl\"}], \"scatterternary\": [{\"marker\": {\"colorbar\": {\"outlinewidth\": 0, \"ticks\": \"\"}}, \"type\": \"scatterternary\"}], \"surface\": [{\"colorbar\": {\"outlinewidth\": 0, \"ticks\": \"\"}, \"colorscale\": [[0.0, \"#0d0887\"], [0.1111111111111111, \"#46039f\"], [0.2222222222222222, \"#7201a8\"], [0.3333333333333333, \"#9c179e\"], [0.4444444444444444, \"#bd3786\"], [0.5555555555555556, \"#d8576b\"], [0.6666666666666666, \"#ed7953\"], [0.7777777777777778, \"#fb9f3a\"], [0.8888888888888888, \"#fdca26\"], [1.0, \"#f0f921\"]], \"type\": \"surface\"}], \"table\": [{\"cells\": {\"fill\": {\"color\": \"#EBF0F8\"}, \"line\": {\"color\": \"white\"}}, \"header\": {\"fill\": {\"color\": \"#C8D4E3\"}, \"line\": {\"color\": \"white\"}}, \"type\": \"table\"}]}, \"layout\": {\"annotationdefaults\": {\"arrowcolor\": \"#2a3f5f\", \"arrowhead\": 0, \"arrowwidth\": 1}, \"autotypenumbers\": \"strict\", \"coloraxis\": {\"colorbar\": {\"outlinewidth\": 0, \"ticks\": \"\"}}, \"colorscale\": {\"diverging\": [[0, \"#8e0152\"], [0.1, \"#c51b7d\"], [0.2, \"#de77ae\"], [0.3, \"#f1b6da\"], [0.4, \"#fde0ef\"], [0.5, \"#f7f7f7\"], [0.6, \"#e6f5d0\"], [0.7, \"#b8e186\"], [0.8, \"#7fbc41\"], [0.9, \"#4d9221\"], [1, \"#276419\"]], \"sequential\": [[0.0, \"#0d0887\"], [0.1111111111111111, \"#46039f\"], [0.2222222222222222, \"#7201a8\"], [0.3333333333333333, \"#9c179e\"], [0.4444444444444444, \"#bd3786\"], [0.5555555555555556, \"#d8576b\"], [0.6666666666666666, \"#ed7953\"], [0.7777777777777778, \"#fb9f3a\"], [0.8888888888888888, \"#fdca26\"], [1.0, \"#f0f921\"]], \"sequentialminus\": [[0.0, \"#0d0887\"], [0.1111111111111111, \"#46039f\"], [0.2222222222222222, \"#7201a8\"], [0.3333333333333333, \"#9c179e\"], [0.4444444444444444, \"#bd3786\"], [0.5555555555555556, \"#d8576b\"], [0.6666666666666666, \"#ed7953\"], [0.7777777777777778, \"#fb9f3a\"], [0.8888888888888888, \"#fdca26\"], [1.0, \"#f0f921\"]]}, \"colorway\": [\"#636efa\", \"#EF553B\", \"#00cc96\", \"#ab63fa\", \"#FFA15A\", \"#19d3f3\", \"#FF6692\", \"#B6E880\", \"#FF97FF\", \"#FECB52\"], \"font\": {\"color\": \"#2a3f5f\"}, \"geo\": {\"bgcolor\": \"white\", \"lakecolor\": \"white\", \"landcolor\": \"#E5ECF6\", \"showlakes\": true, \"showland\": true, \"subunitcolor\": \"white\"}, \"hoverlabel\": {\"align\": \"left\"}, \"hovermode\": \"closest\", \"mapbox\": {\"style\": \"light\"}, \"paper_bgcolor\": \"white\", \"plot_bgcolor\": \"#E5ECF6\", \"polar\": {\"angularaxis\": {\"gridcolor\": \"white\", \"linecolor\": \"white\", \"ticks\": \"\"}, \"bgcolor\": \"#E5ECF6\", \"radialaxis\": {\"gridcolor\": \"white\", \"linecolor\": \"white\", \"ticks\": \"\"}}, \"scene\": {\"xaxis\": {\"backgroundcolor\": \"#E5ECF6\", \"gridcolor\": \"white\", \"gridwidth\": 2, \"linecolor\": \"white\", \"showbackground\": true, \"ticks\": \"\", \"zerolinecolor\": \"white\"}, \"yaxis\": {\"backgroundcolor\": \"#E5ECF6\", \"gridcolor\": \"white\", \"gridwidth\": 2, \"linecolor\": \"white\", \"showbackground\": true, \"ticks\": \"\", \"zerolinecolor\": \"white\"}, \"zaxis\": {\"backgroundcolor\": \"#E5ECF6\", \"gridcolor\": \"white\", \"gridwidth\": 2, \"linecolor\": \"white\", \"showbackground\": true, \"ticks\": \"\", \"zerolinecolor\": \"white\"}}, \"shapedefaults\": {\"line\": {\"color\": \"#2a3f5f\"}}, \"ternary\": {\"aaxis\": {\"gridcolor\": \"white\", \"linecolor\": \"white\", \"ticks\": \"\"}, \"baxis\": {\"gridcolor\": \"white\", \"linecolor\": \"white\", \"ticks\": \"\"}, \"bgcolor\": \"#E5ECF6\", \"caxis\": {\"gridcolor\": \"white\", \"linecolor\": \"white\", \"ticks\": \"\"}}, \"title\": {\"x\": 0.05}, \"xaxis\": {\"automargin\": true, \"gridcolor\": \"white\", \"linecolor\": \"white\", \"ticks\": \"\", \"title\": {\"standoff\": 15}, \"zerolinecolor\": \"white\", \"zerolinewidth\": 2}, \"yaxis\": {\"automargin\": true, \"gridcolor\": \"white\", \"linecolor\": \"white\", \"ticks\": \"\", \"title\": {\"standoff\": 15}, \"zerolinecolor\": \"white\", \"zerolinewidth\": 2}}}, \"title\": {\"text\": \"Map of Global Family Values \"}},                        {\"responsive\": true}                    ).then(function(){\n",
       "                            \n",
       "var gd = document.getElementById('893e4248-de40-46e9-947a-ae8899295f5f');\n",
       "var x = new MutationObserver(function (mutations, observer) {{\n",
       "        var display = window.getComputedStyle(gd).display;\n",
       "        if (!display || display === 'none') {{\n",
       "            console.log([gd, 'removed!']);\n",
       "            Plotly.purge(gd);\n",
       "            observer.disconnect();\n",
       "        }}\n",
       "}});\n",
       "\n",
       "// Listen for the removal of the full notebook cells\n",
       "var notebookContainer = gd.closest('#notebook-container');\n",
       "if (notebookContainer) {{\n",
       "    x.observe(notebookContainer, {childList: true});\n",
       "}}\n",
       "\n",
       "// Listen for the clearing of the current output cell\n",
       "var outputEl = gd.closest('.output');\n",
       "if (outputEl) {{\n",
       "    x.observe(outputEl, {childList: true});\n",
       "}}\n",
       "\n",
       "                        })                };                });            </script>        </div>"
      ]
     },
     "metadata": {},
     "output_type": "display_data"
    }
   ],
   "source": [
    "feature_name = 'Family'\n",
    "data = dict(\n",
    "        type = 'choropleth',\n",
    "        colorscale = 'Viridis',\n",
    "         marker_line_width=1,\n",
    "        locations = whr_data['Country'],\n",
    "        locationmode = \"country names\",\n",
    "        z = whr_data[feature_name],\n",
    "        text = whr_data['Country'],\n",
    "        colorbar = {'title' : feature_name})\n",
    "\n",
    "layout = dict(title = f'Map of Global {feature_name} Values ',\n",
    "              geo = dict(projection = {'type':'mercator'}, showocean = False, showlakes = True, showrivers = True, )\n",
    "             )\n",
    "choromap = go.Figure(data = [data],layout = layout)\n",
    "iplot(choromap,validate=False)"
   ]
  },
  {
   "cell_type": "markdown",
   "id": "laughing-slide",
   "metadata": {},
   "source": [
    "### Policy Problem\n",
    "Okay, so I'm going to introduce these types of questions where I propose certain policy decisions - or ask you to propose your own - and you use your visualization to try and figure out what you'd want to implement!\n",
    "\n",
    "This first one will be a pretty easy one to get us started:\n",
    "If we were ONLY using the visualization of Happiness Scores, what c would we likely want to focus our international policy decisions on in order to have equity in everyone's happiness? (AKA which region has, on average, the lowest happiness scores?)\n",
    "\n",
    "\n",
    "\n",
    "This second one is a bit more tricky:\n",
    "Given the distribution of 'Family' values across the globe, let us choose the country with the lowest score. What policy do you believe would be the most effective and why?\n",
    "1. Offering income subsidies to the working class of this country to decrease their working hours per week\n",
    "2. Enacting children's rights laws to ensure proper education and growth for children ages 1-12\n",
    "\n",
    "Feel free to do a bit of research on this country and their position on family values, and how each of these policy decisions could impact norms in this country!"
   ]
  },
  {
   "cell_type": "markdown",
   "id": "structural-azerbaijan",
   "metadata": {},
   "source": [
    "# Bubble Charts\n",
    "A bubble chart is a bit of a step up from a scatterplot as discussed above. Here, we can also change the size of bubbles to reflect yet another, third variable! And we can even change the color to reflect another,,, FOURTH variable! That's a lot of variables. This can be useful if we have something like our happiness score, and then multiple features that may affect that score. We can see if the largest bubbles are also largest in regards to certain features.\n",
    "Also these are some of the most aesthetically pleasing visualizations to look at, the pastel colors are all nice and pretty\n",
    "\n",
    "Our data will be input in the form:\n",
    "\n",
    "**Important:**\n",
    "* x --> x axis\n",
    "* y --> y axis\n",
    "* marker --> color represents 3rd dimension of graph, size represents 4th dimension of graph\n",
    "\n",
    "**Not as important:**\n",
    "* mode --> how points are displayed\n",
    "* name --> name of the color (i.e.: red for 2015, green for 2016..)\n",
    "* showscale --> colorbar\n",
    "* text --> Text that show when yo came on to a dot. (In this ex: Country name)"
   ]
  },
  {
   "cell_type": "markdown",
   "id": "coastal-marsh",
   "metadata": {},
   "source": [
    "We will be plotting two features against each other with Happiness Score as the size of the bubbles and color (this will only be 3 variables). Feel free to play around with changing this by changing the `size` and `color` attribute in the `marker` key of the dictionary."
   ]
  },
  {
   "cell_type": "code",
   "execution_count": 114,
   "id": "powered-dancing",
   "metadata": {},
   "outputs": [
    {
     "data": {
      "application/vnd.plotly.v1+json": {
       "config": {
        "linkText": "Export to plot.ly",
        "plotlyServerURL": "https://plot.ly",
        "showLink": false
       },
       "data": [
        {
         "marker": {
          "color": [
           7.587,
           7.561,
           7.527,
           7.522,
           7.427,
           7.406,
           7.378,
           7.364,
           7.286,
           7.284,
           7.278,
           7.226,
           7.2,
           7.187,
           7.119,
           6.983,
           6.946,
           6.94,
           6.937,
           6.901,
           6.867,
           6.853,
           6.81,
           6.798,
           6.786,
           6.75,
           6.67,
           6.611,
           6.575,
           6.574,
           6.505,
           6.485,
           6.477,
           6.455,
           6.411,
           6.329,
           6.302,
           6.298,
           6.295,
           6.269,
           6.168,
           6.13,
           6.123,
           6.003,
           5.995,
           5.987,
           5.984,
           5.975,
           5.96,
           5.948,
           5.89,
           5.889,
           5.878,
           5.855,
           5.848,
           5.833,
           5.828,
           5.824,
           5.813,
           5.791,
           5.77,
           5.759,
           5.754,
           5.716,
           5.709,
           5.695,
           5.689,
           5.605,
           5.589,
           5.548,
           5.477,
           5.474,
           5.429,
           5.399,
           5.36,
           5.332,
           5.286,
           5.268,
           5.253,
           5.212,
           5.194,
           5.192,
           5.192,
           5.14,
           5.129,
           5.124,
           5.123,
           5.102,
           5.098,
           5.073,
           5.057,
           5.013,
           5.007,
           4.971,
           4.959,
           4.949,
           4.898,
           4.885,
           4.876,
           4.874,
           4.867,
           4.857,
           4.839,
           4.8,
           4.788,
           4.786,
           4.739,
           4.715,
           4.694,
           4.686,
           4.681,
           4.677,
           4.642,
           4.633,
           4.61,
           4.571,
           4.565,
           4.55,
           4.518,
           4.517,
           4.514,
           4.512,
           4.507,
           4.436,
           4.419,
           4.369,
           4.35,
           4.332,
           4.307,
           4.297,
           4.292,
           4.271,
           4.252,
           4.218,
           4.194,
           4.077,
           4.033,
           3.995,
           3.989,
           3.956,
           3.931,
           3.904,
           3.896,
           3.845,
           3.819,
           3.781,
           3.681,
           3.678,
           3.667,
           3.656,
           3.655,
           3.587,
           3.575,
           3.465,
           3.34,
           3.006,
           2.905,
           2.839,
           7.526,
           7.509,
           7.501,
           7.498,
           7.413,
           7.404,
           7.339,
           7.334,
           7.313,
           7.291,
           7.267,
           7.119,
           7.104,
           7.087,
           7.039,
           6.994,
           6.952,
           6.929,
           6.907,
           6.871,
           6.778,
           6.739,
           6.725,
           6.705,
           6.701,
           6.65,
           6.596,
           6.573,
           6.545,
           6.488,
           6.481,
           6.478,
           6.474,
           6.379,
           6.379,
           6.375,
           6.361,
           6.355,
           6.324,
           6.269,
           6.239,
           6.218,
           6.168,
           6.084,
           6.078,
           6.068,
           6.005,
           5.992,
           5.987,
           5.977,
           5.976,
           5.956,
           5.921,
           5.919,
           5.897,
           5.856,
           5.835,
           5.835,
           5.822,
           5.813,
           5.802,
           5.771,
           5.768,
           5.743,
           5.658,
           5.648,
           5.615,
           5.56,
           5.546,
           5.538,
           5.528,
           5.517,
           5.51,
           5.488,
           5.458,
           5.44,
           5.401,
           5.389,
           5.314,
           5.303,
           5.291,
           5.279,
           5.245,
           5.196,
           5.185,
           5.177,
           5.163,
           5.161,
           5.155,
           5.151,
           5.145,
           5.132,
           5.129,
           5.123,
           5.121,
           5.061,
           5.057,
           5.045,
           5.033,
           4.996,
           4.907,
           4.876,
           4.875,
           4.871,
           4.813,
           4.795,
           4.793,
           4.754,
           4.655,
           4.643,
           4.635,
           4.575,
           4.574,
           4.513,
           4.508,
           4.459,
           4.415,
           4.404,
           4.395,
           4.362,
           4.36,
           4.356,
           4.324,
           4.276,
           4.272,
           4.252,
           4.236,
           4.219,
           4.217,
           4.201,
           4.193,
           4.156,
           4.139,
           4.121,
           4.073,
           4.028,
           3.974,
           3.956,
           3.916,
           3.907,
           3.866,
           3.856,
           3.832,
           3.763,
           3.739,
           3.739,
           3.724,
           3.695,
           3.666,
           3.622,
           3.607,
           3.515,
           3.484,
           3.36,
           3.303,
           3.069,
           2.905,
           7.53700017929077,
           7.52199983596802,
           7.50400018692017,
           7.49399995803833,
           7.4689998626709,
           7.3769998550415,
           7.31599998474121,
           7.31400012969971,
           7.28399991989136,
           7.28399991989136,
           7.21299982070923,
           7.0789999961853,
           7.00600004196167,
           6.99300003051758,
           6.97700023651123,
           6.95100021362305,
           6.89099979400635,
           6.86299991607666,
           6.71400022506714,
           6.65199995040894,
           6.64799976348877,
           6.63500022888184,
           6.60900020599365,
           6.59899997711182,
           6.57800006866455,
           6.57200002670288,
           6.52699995040894,
           6.4539999961853,
           6.4539999961853,
           6.4520001411438,
           6.44199991226196,
           6.42399978637695,
           6.42199993133545,
           6.40299987792969,
           6.375,
           6.35699987411499,
           6.3439998626709,
           6.16800022125244,
           6.10500001907349,
           6.09800004959106,
           6.08699989318848,
           6.08400011062622,
           6.07100009918213,
           6.00799989700317,
           6.00299978256226,
           5.97300004959106,
           5.97100019454956,
           5.96400022506714,
           5.96299982070923,
           5.95599985122681,
           5.92000007629395,
           5.90199995040894,
           5.87200021743774,
           5.84999990463257,
           5.83799982070923,
           5.83799982070923,
           5.82499980926514,
           5.82299995422363,
           5.82200002670288,
           5.81899976730347,
           5.80999994277954,
           5.75799989700317,
           5.71500015258789,
           5.62900018692017,
           5.62099981307983,
           5.61100006103516,
           5.56899976730347,
           5.52500009536743,
           5.5,
           5.49300003051758,
           5.47200012207031,
           5.42999982833862,
           5.39499998092651,
           5.33599996566772,
           5.32399988174438,
           5.31099987030029,
           5.29300022125244,
           5.27899980545044,
           5.27299976348877,
           5.26900005340576,
           5.26200008392334,
           5.25,
           5.23699998855591,
           5.2350001335144,
           5.23400020599365,
           5.23000001907349,
           5.22700023651123,
           5.22499990463257,
           5.19500017166138,
           5.18200016021729,
           5.18100023269653,
           5.17500019073486,
           5.15100002288818,
           5.07399988174438,
           5.07399988174438,
           5.04099988937378,
           5.01100015640259,
           5.00400018692017,
           4.96199989318848,
           4.95499992370605,
           4.8289999961853,
           4.80499982833862,
           4.77500009536743,
           4.7350001335144,
           4.71400022506714,
           4.70900011062622,
           4.69500017166138,
           4.69199991226196,
           4.64400005340576,
           4.60799980163574,
           4.57399988174438,
           4.55299997329712,
           4.55000019073486,
           4.54500007629395,
           4.53499984741211,
           4.51399993896484,
           4.49700021743774,
           4.46500015258789,
           4.46000003814697,
           4.44000005722046,
           4.37599992752075,
           4.31500005722046,
           4.29199981689453,
           4.29099988937378,
           4.28599977493286,
           4.28000020980835,
           4.19000005722046,
           4.17999982833862,
           4.16800022125244,
           4.13899993896484,
           4.11999988555908,
           4.09600019454956,
           4.08099985122681,
           4.03200006484985,
           4.02799987792969,
           3.97000002861023,
           3.93600010871887,
           3.875,
           3.80800008773804,
           3.79500007629395,
           3.79399991035461,
           3.76600003242493,
           3.65700006484985,
           3.64400005340576,
           3.6029999256134,
           3.59299993515015,
           3.59100008010864,
           3.53299999237061,
           3.50699996948242,
           3.49499988555908,
           3.47099995613098,
           3.46199989318848,
           3.34899997711182,
           2.90499997138977,
           2.69300007820129,
           7.632,
           7.594,
           7.555,
           7.495,
           7.487,
           7.441,
           7.328,
           7.324,
           7.314,
           7.272,
           7.19,
           7.139,
           7.072,
           6.977,
           6.965,
           6.927,
           6.91,
           6.886,
           6.814,
           6.774,
           6.711,
           6.627,
           6.489,
           6.488,
           6.476,
           6.441,
           6.43,
           6.419,
           6.388,
           6.382,
           6.379,
           6.374,
           6.371,
           6.343,
           6.322,
           6.31,
           6.26,
           6.192,
           6.173,
           6.167,
           6.141,
           6.123,
           6.105,
           6.096,
           6.083,
           6.072,
           6,
           5.973,
           5.956,
           5.952,
           5.948,
           5.945,
           5.933,
           5.915,
           5.891,
           5.89,
           5.875,
           5.835,
           5.81,
           5.79,
           5.762,
           5.752,
           5.739,
           5.681,
           5.663,
           5.662,
           5.64,
           5.636,
           5.62,
           5.566,
           5.524,
           5.504,
           5.483,
           5.483,
           5.472,
           5.43,
           5.41,
           5.398,
           5.358,
           5.358,
           5.347,
           5.321,
           5.302,
           5.295,
           5.254,
           5.246,
           5.201,
           5.199,
           5.185,
           5.161,
           5.155,
           5.131,
           5.129,
           5.125,
           5.103,
           5.093,
           5.082,
           4.982,
           4.975,
           4.933,
           4.88,
           4.806,
           4.758,
           4.743,
           4.724,
           4.707,
           4.671,
           4.657,
           4.631,
           4.623,
           4.592,
           4.586,
           4.571,
           4.559,
           4.5,
           4.471,
           4.456,
           4.447,
           4.441,
           4.433,
           4.424,
           4.419,
           4.417,
           4.41,
           4.377,
           4.356,
           4.35,
           4.34,
           4.321,
           4.308,
           4.301,
           4.245,
           4.19,
           4.166,
           4.161,
           4.141,
           4.139,
           4.103,
           3.999,
           3.964,
           3.808,
           3.795,
           3.774,
           3.692,
           3.632,
           3.59,
           3.587,
           3.582,
           3.495,
           3.462,
           3.408,
           3.355,
           3.303,
           3.254,
           3.083,
           2.905,
           7.769,
           7.6,
           7.554,
           7.494,
           7.488,
           7.48,
           7.343,
           7.307,
           7.278,
           7.246,
           7.228,
           7.167,
           7.139,
           7.09,
           7.054,
           7.021,
           6.985,
           6.923,
           6.892,
           6.852,
           6.825,
           6.726,
           6.595,
           6.592,
           6.446,
           6.444,
           6.436,
           6.375,
           6.374,
           6.354,
           6.321,
           6.3,
           6.293,
           6.262,
           6.253,
           6.223,
           6.199,
           6.198,
           6.192,
           6.182,
           6.174,
           6.149,
           6.125,
           6.118,
           6.105,
           6.1,
           6.086,
           6.07,
           6.046,
           6.028,
           6.021,
           6.008,
           5.94,
           5.895,
           5.893,
           5.89,
           5.888,
           5.886,
           5.86,
           5.809,
           5.779,
           5.758,
           5.743,
           5.718,
           5.697,
           5.693,
           5.653,
           5.648,
           5.631,
           5.603,
           5.529,
           5.525,
           5.523,
           5.467,
           5.432,
           5.43,
           5.425,
           5.386,
           5.373,
           5.339,
           5.323,
           5.287,
           5.285,
           5.274,
           5.265,
           5.261,
           5.247,
           5.211,
           5.208,
           5.208,
           5.197,
           5.192,
           5.191,
           5.175,
           5.082,
           5.044,
           5.011,
           4.996,
           4.944,
           4.913,
           4.906,
           4.883,
           4.812,
           4.799,
           4.796,
           4.722,
           4.719,
           4.707,
           4.7,
           4.696,
           4.681,
           4.668,
           4.639,
           4.628,
           4.587,
           4.559,
           4.548,
           4.534,
           4.519,
           4.516,
           4.509,
           4.49,
           4.466,
           4.461,
           4.456,
           4.437,
           4.418,
           4.39,
           4.374,
           4.366,
           4.36,
           4.35,
           4.332,
           4.286,
           4.212,
           4.189,
           4.166,
           4.107,
           4.085,
           4.015,
           3.975,
           3.973,
           3.933,
           3.802,
           3.775,
           3.663,
           3.597,
           3.488,
           3.462,
           3.41,
           3.38,
           3.334,
           3.231,
           3.203,
           3.083,
           2.853
          ],
          "showscale": true,
          "size": [
           7.587,
           7.561,
           7.527,
           7.522,
           7.427,
           7.406,
           7.378,
           7.364,
           7.286,
           7.284,
           7.278,
           7.226,
           7.2,
           7.187,
           7.119,
           6.983,
           6.946,
           6.94,
           6.937,
           6.901,
           6.867,
           6.853,
           6.81,
           6.798,
           6.786,
           6.75,
           6.67,
           6.611,
           6.575,
           6.574,
           6.505,
           6.485,
           6.477,
           6.455,
           6.411,
           6.329,
           6.302,
           6.298,
           6.295,
           6.269,
           6.168,
           6.13,
           6.123,
           6.003,
           5.995,
           5.987,
           5.984,
           5.975,
           5.96,
           5.948,
           5.89,
           5.889,
           5.878,
           5.855,
           5.848,
           5.833,
           5.828,
           5.824,
           5.813,
           5.791,
           5.77,
           5.759,
           5.754,
           5.716,
           5.709,
           5.695,
           5.689,
           5.605,
           5.589,
           5.548,
           5.477,
           5.474,
           5.429,
           5.399,
           5.36,
           5.332,
           5.286,
           5.268,
           5.253,
           5.212,
           5.194,
           5.192,
           5.192,
           5.14,
           5.129,
           5.124,
           5.123,
           5.102,
           5.098,
           5.073,
           5.057,
           5.013,
           5.007,
           4.971,
           4.959,
           4.949,
           4.898,
           4.885,
           4.876,
           4.874,
           4.867,
           4.857,
           4.839,
           4.8,
           4.788,
           4.786,
           4.739,
           4.715,
           4.694,
           4.686,
           4.681,
           4.677,
           4.642,
           4.633,
           4.61,
           4.571,
           4.565,
           4.55,
           4.518,
           4.517,
           4.514,
           4.512,
           4.507,
           4.436,
           4.419,
           4.369,
           4.35,
           4.332,
           4.307,
           4.297,
           4.292,
           4.271,
           4.252,
           4.218,
           4.194,
           4.077,
           4.033,
           3.995,
           3.989,
           3.956,
           3.931,
           3.904,
           3.896,
           3.845,
           3.819,
           3.781,
           3.681,
           3.678,
           3.667,
           3.656,
           3.655,
           3.587,
           3.575,
           3.465,
           3.34,
           3.006,
           2.905,
           2.839,
           7.526,
           7.509,
           7.501,
           7.498,
           7.413,
           7.404,
           7.339,
           7.334,
           7.313,
           7.291,
           7.267,
           7.119,
           7.104,
           7.087,
           7.039,
           6.994,
           6.952,
           6.929,
           6.907,
           6.871,
           6.778,
           6.739,
           6.725,
           6.705,
           6.701,
           6.65,
           6.596,
           6.573,
           6.545,
           6.488,
           6.481,
           6.478,
           6.474,
           6.379,
           6.379,
           6.375,
           6.361,
           6.355,
           6.324,
           6.269,
           6.239,
           6.218,
           6.168,
           6.084,
           6.078,
           6.068,
           6.005,
           5.992,
           5.987,
           5.977,
           5.976,
           5.956,
           5.921,
           5.919,
           5.897,
           5.856,
           5.835,
           5.835,
           5.822,
           5.813,
           5.802,
           5.771,
           5.768,
           5.743,
           5.658,
           5.648,
           5.615,
           5.56,
           5.546,
           5.538,
           5.528,
           5.517,
           5.51,
           5.488,
           5.458,
           5.44,
           5.401,
           5.389,
           5.314,
           5.303,
           5.291,
           5.279,
           5.245,
           5.196,
           5.185,
           5.177,
           5.163,
           5.161,
           5.155,
           5.151,
           5.145,
           5.132,
           5.129,
           5.123,
           5.121,
           5.061,
           5.057,
           5.045,
           5.033,
           4.996,
           4.907,
           4.876,
           4.875,
           4.871,
           4.813,
           4.795,
           4.793,
           4.754,
           4.655,
           4.643,
           4.635,
           4.575,
           4.574,
           4.513,
           4.508,
           4.459,
           4.415,
           4.404,
           4.395,
           4.362,
           4.36,
           4.356,
           4.324,
           4.276,
           4.272,
           4.252,
           4.236,
           4.219,
           4.217,
           4.201,
           4.193,
           4.156,
           4.139,
           4.121,
           4.073,
           4.028,
           3.974,
           3.956,
           3.916,
           3.907,
           3.866,
           3.856,
           3.832,
           3.763,
           3.739,
           3.739,
           3.724,
           3.695,
           3.666,
           3.622,
           3.607,
           3.515,
           3.484,
           3.36,
           3.303,
           3.069,
           2.905,
           7.53700017929077,
           7.52199983596802,
           7.50400018692017,
           7.49399995803833,
           7.4689998626709,
           7.3769998550415,
           7.31599998474121,
           7.31400012969971,
           7.28399991989136,
           7.28399991989136,
           7.21299982070923,
           7.0789999961853,
           7.00600004196167,
           6.99300003051758,
           6.97700023651123,
           6.95100021362305,
           6.89099979400635,
           6.86299991607666,
           6.71400022506714,
           6.65199995040894,
           6.64799976348877,
           6.63500022888184,
           6.60900020599365,
           6.59899997711182,
           6.57800006866455,
           6.57200002670288,
           6.52699995040894,
           6.4539999961853,
           6.4539999961853,
           6.4520001411438,
           6.44199991226196,
           6.42399978637695,
           6.42199993133545,
           6.40299987792969,
           6.375,
           6.35699987411499,
           6.3439998626709,
           6.16800022125244,
           6.10500001907349,
           6.09800004959106,
           6.08699989318848,
           6.08400011062622,
           6.07100009918213,
           6.00799989700317,
           6.00299978256226,
           5.97300004959106,
           5.97100019454956,
           5.96400022506714,
           5.96299982070923,
           5.95599985122681,
           5.92000007629395,
           5.90199995040894,
           5.87200021743774,
           5.84999990463257,
           5.83799982070923,
           5.83799982070923,
           5.82499980926514,
           5.82299995422363,
           5.82200002670288,
           5.81899976730347,
           5.80999994277954,
           5.75799989700317,
           5.71500015258789,
           5.62900018692017,
           5.62099981307983,
           5.61100006103516,
           5.56899976730347,
           5.52500009536743,
           5.5,
           5.49300003051758,
           5.47200012207031,
           5.42999982833862,
           5.39499998092651,
           5.33599996566772,
           5.32399988174438,
           5.31099987030029,
           5.29300022125244,
           5.27899980545044,
           5.27299976348877,
           5.26900005340576,
           5.26200008392334,
           5.25,
           5.23699998855591,
           5.2350001335144,
           5.23400020599365,
           5.23000001907349,
           5.22700023651123,
           5.22499990463257,
           5.19500017166138,
           5.18200016021729,
           5.18100023269653,
           5.17500019073486,
           5.15100002288818,
           5.07399988174438,
           5.07399988174438,
           5.04099988937378,
           5.01100015640259,
           5.00400018692017,
           4.96199989318848,
           4.95499992370605,
           4.8289999961853,
           4.80499982833862,
           4.77500009536743,
           4.7350001335144,
           4.71400022506714,
           4.70900011062622,
           4.69500017166138,
           4.69199991226196,
           4.64400005340576,
           4.60799980163574,
           4.57399988174438,
           4.55299997329712,
           4.55000019073486,
           4.54500007629395,
           4.53499984741211,
           4.51399993896484,
           4.49700021743774,
           4.46500015258789,
           4.46000003814697,
           4.44000005722046,
           4.37599992752075,
           4.31500005722046,
           4.29199981689453,
           4.29099988937378,
           4.28599977493286,
           4.28000020980835,
           4.19000005722046,
           4.17999982833862,
           4.16800022125244,
           4.13899993896484,
           4.11999988555908,
           4.09600019454956,
           4.08099985122681,
           4.03200006484985,
           4.02799987792969,
           3.97000002861023,
           3.93600010871887,
           3.875,
           3.80800008773804,
           3.79500007629395,
           3.79399991035461,
           3.76600003242493,
           3.65700006484985,
           3.64400005340576,
           3.6029999256134,
           3.59299993515015,
           3.59100008010864,
           3.53299999237061,
           3.50699996948242,
           3.49499988555908,
           3.47099995613098,
           3.46199989318848,
           3.34899997711182,
           2.90499997138977,
           2.69300007820129,
           7.632,
           7.594,
           7.555,
           7.495,
           7.487,
           7.441,
           7.328,
           7.324,
           7.314,
           7.272,
           7.19,
           7.139,
           7.072,
           6.977,
           6.965,
           6.927,
           6.91,
           6.886,
           6.814,
           6.774,
           6.711,
           6.627,
           6.489,
           6.488,
           6.476,
           6.441,
           6.43,
           6.419,
           6.388,
           6.382,
           6.379,
           6.374,
           6.371,
           6.343,
           6.322,
           6.31,
           6.26,
           6.192,
           6.173,
           6.167,
           6.141,
           6.123,
           6.105,
           6.096,
           6.083,
           6.072,
           6,
           5.973,
           5.956,
           5.952,
           5.948,
           5.945,
           5.933,
           5.915,
           5.891,
           5.89,
           5.875,
           5.835,
           5.81,
           5.79,
           5.762,
           5.752,
           5.739,
           5.681,
           5.663,
           5.662,
           5.64,
           5.636,
           5.62,
           5.566,
           5.524,
           5.504,
           5.483,
           5.483,
           5.472,
           5.43,
           5.41,
           5.398,
           5.358,
           5.358,
           5.347,
           5.321,
           5.302,
           5.295,
           5.254,
           5.246,
           5.201,
           5.199,
           5.185,
           5.161,
           5.155,
           5.131,
           5.129,
           5.125,
           5.103,
           5.093,
           5.082,
           4.982,
           4.975,
           4.933,
           4.88,
           4.806,
           4.758,
           4.743,
           4.724,
           4.707,
           4.671,
           4.657,
           4.631,
           4.623,
           4.592,
           4.586,
           4.571,
           4.559,
           4.5,
           4.471,
           4.456,
           4.447,
           4.441,
           4.433,
           4.424,
           4.419,
           4.417,
           4.41,
           4.377,
           4.356,
           4.35,
           4.34,
           4.321,
           4.308,
           4.301,
           4.245,
           4.19,
           4.166,
           4.161,
           4.141,
           4.139,
           4.103,
           3.999,
           3.964,
           3.808,
           3.795,
           3.774,
           3.692,
           3.632,
           3.59,
           3.587,
           3.582,
           3.495,
           3.462,
           3.408,
           3.355,
           3.303,
           3.254,
           3.083,
           2.905,
           7.769,
           7.6,
           7.554,
           7.494,
           7.488,
           7.48,
           7.343,
           7.307,
           7.278,
           7.246,
           7.228,
           7.167,
           7.139,
           7.09,
           7.054,
           7.021,
           6.985,
           6.923,
           6.892,
           6.852,
           6.825,
           6.726,
           6.595,
           6.592,
           6.446,
           6.444,
           6.436,
           6.375,
           6.374,
           6.354,
           6.321,
           6.3,
           6.293,
           6.262,
           6.253,
           6.223,
           6.199,
           6.198,
           6.192,
           6.182,
           6.174,
           6.149,
           6.125,
           6.118,
           6.105,
           6.1,
           6.086,
           6.07,
           6.046,
           6.028,
           6.021,
           6.008,
           5.94,
           5.895,
           5.893,
           5.89,
           5.888,
           5.886,
           5.86,
           5.809,
           5.779,
           5.758,
           5.743,
           5.718,
           5.697,
           5.693,
           5.653,
           5.648,
           5.631,
           5.603,
           5.529,
           5.525,
           5.523,
           5.467,
           5.432,
           5.43,
           5.425,
           5.386,
           5.373,
           5.339,
           5.323,
           5.287,
           5.285,
           5.274,
           5.265,
           5.261,
           5.247,
           5.211,
           5.208,
           5.208,
           5.197,
           5.192,
           5.191,
           5.175,
           5.082,
           5.044,
           5.011,
           4.996,
           4.944,
           4.913,
           4.906,
           4.883,
           4.812,
           4.799,
           4.796,
           4.722,
           4.719,
           4.707,
           4.7,
           4.696,
           4.681,
           4.668,
           4.639,
           4.628,
           4.587,
           4.559,
           4.548,
           4.534,
           4.519,
           4.516,
           4.509,
           4.49,
           4.466,
           4.461,
           4.456,
           4.437,
           4.418,
           4.39,
           4.374,
           4.366,
           4.36,
           4.35,
           4.332,
           4.286,
           4.212,
           4.189,
           4.166,
           4.107,
           4.085,
           4.015,
           3.975,
           3.973,
           3.933,
           3.802,
           3.775,
           3.663,
           3.597,
           3.488,
           3.462,
           3.41,
           3.38,
           3.334,
           3.231,
           3.203,
           3.083,
           2.853
          ]
         },
         "mode": "markers",
         "text": [
          "Switzerland",
          "Iceland",
          "Denmark",
          "Norway",
          "Canada",
          "Finland",
          "Netherlands",
          "Sweden",
          "New Zealand",
          "Australia",
          "Israel",
          "Costa Rica",
          "Austria",
          "Mexico",
          "United States",
          "Brazil",
          "Luxembourg",
          "Ireland",
          "Belgium",
          "United Arab Emirates",
          "United Kingdom",
          "Oman",
          "Venezuela",
          "Singapore",
          "Panama",
          "Germany",
          "Chile",
          "Qatar",
          "France",
          "Argentina",
          "Czech Republic",
          "Uruguay",
          "Colombia",
          "Thailand",
          "Saudi Arabia",
          "Spain",
          "Malta",
          "Taiwan",
          "Kuwait",
          "Suriname",
          "Trinidad and Tobago",
          "El Salvador",
          "Guatemala",
          "Uzbekistan",
          "Slovakia",
          "Japan",
          "South Korea",
          "Ecuador",
          "Bahrain",
          "Italy",
          "Bolivia",
          "Moldova",
          "Paraguay",
          "Kazakhstan",
          "Slovenia",
          "Lithuania",
          "Nicaragua",
          "Peru",
          "Belarus",
          "Poland",
          "Malaysia",
          "Croatia",
          "Libya",
          "Russia",
          "Jamaica",
          "North Cyprus",
          "Cyprus",
          "Algeria",
          "Kosovo",
          "Turkmenistan",
          "Mauritius",
          "Hong Kong",
          "Estonia",
          "Indonesia",
          "Vietnam",
          "Turkey",
          "Kyrgyzstan",
          "Nigeria",
          "Bhutan",
          "Azerbaijan",
          "Pakistan",
          "Jordan",
          "Montenegro",
          "China",
          "Zambia",
          "Romania",
          "Serbia",
          "Portugal",
          "Latvia",
          "Philippines",
          "Somaliland region",
          "Morocco",
          "Macedonia",
          "Mozambique",
          "Albania",
          "Bosnia and Herzegovina",
          "Lesotho",
          "Dominican Republic",
          "Laos",
          "Mongolia",
          "Swaziland",
          "Greece",
          "Lebanon",
          "Hungary",
          "Honduras",
          "Tajikistan",
          "Tunisia",
          "Palestinian Territories",
          "Bangladesh",
          "Iran",
          "Ukraine",
          "Iraq",
          "South Africa",
          "Ghana",
          "Zimbabwe",
          "Liberia",
          "India",
          "Sudan",
          "Haiti",
          "Congo (Kinshasa)",
          "Nepal",
          "Ethiopia",
          "Sierra Leone",
          "Mauritania",
          "Kenya",
          "Djibouti",
          "Armenia",
          "Botswana",
          "Myanmar",
          "Georgia",
          "Malawi",
          "Sri Lanka",
          "Cameroon",
          "Bulgaria",
          "Egypt",
          "Yemen",
          "Angola",
          "Mali",
          "Congo (Brazzaville)",
          "Comoros",
          "Uganda",
          "Senegal",
          "Gabon",
          "Niger",
          "Cambodia",
          "Tanzania",
          "Madagascar",
          "Central African Republic",
          "Chad",
          "Guinea",
          "Ivory Coast",
          "Burkina Faso",
          "Afghanistan",
          "Rwanda",
          "Benin",
          "Syria",
          "Burundi",
          "Togo",
          "Denmark",
          "Switzerland",
          "Iceland",
          "Norway",
          "Finland",
          "Canada",
          "Netherlands",
          "New Zealand",
          "Australia",
          "Sweden",
          "Israel",
          "Austria",
          "United States",
          "Costa Rica",
          "Puerto Rico",
          "Germany",
          "Brazil",
          "Belgium",
          "Ireland",
          "Luxembourg",
          "Mexico",
          "Singapore",
          "United Kingdom",
          "Chile",
          "Panama",
          "Argentina",
          "Czech Republic",
          "United Arab Emirates",
          "Uruguay",
          "Malta",
          "Colombia",
          "France",
          "Thailand",
          "Saudi Arabia",
          "Taiwan",
          "Qatar",
          "Spain",
          "Algeria",
          "Guatemala",
          "Suriname",
          "Kuwait",
          "Bahrain",
          "Trinidad and Tobago",
          "Venezuela",
          "Slovakia",
          "El Salvador",
          "Malaysia",
          "Nicaragua",
          "Uzbekistan",
          "Italy",
          "Ecuador",
          "Belize",
          "Japan",
          "Kazakhstan",
          "Moldova",
          "Russia",
          "Poland",
          "South Korea",
          "Bolivia",
          "Lithuania",
          "Belarus",
          "North Cyprus",
          "Slovenia",
          "Peru",
          "Turkmenistan",
          "Mauritius",
          "Libya",
          "Latvia",
          "Cyprus",
          "Paraguay",
          "Romania",
          "Estonia",
          "Jamaica",
          "Croatia",
          "Hong Kong",
          "Somalia",
          "Kosovo",
          "Turkey",
          "Indonesia",
          "Jordan",
          "Azerbaijan",
          "Philippines",
          "China",
          "Bhutan",
          "Kyrgyzstan",
          "Serbia",
          "Bosnia and Herzegovina",
          "Montenegro",
          "Dominican Republic",
          "Morocco",
          "Hungary",
          "Pakistan",
          "Lebanon",
          "Portugal",
          "Macedonia",
          "Vietnam",
          "Somaliland Region",
          "Tunisia",
          "Greece",
          "Tajikistan",
          "Mongolia",
          "Laos",
          "Nigeria",
          "Honduras",
          "Iran",
          "Zambia",
          "Nepal",
          "Palestinian Territories",
          "Albania",
          "Bangladesh",
          "Sierra Leone",
          "Iraq",
          "Namibia",
          "Cameroon",
          "Ethiopia",
          "South Africa",
          "Sri Lanka",
          "India",
          "Myanmar",
          "Egypt",
          "Armenia",
          "Kenya",
          "Ukraine",
          "Ghana",
          "Congo (Kinshasa)",
          "Georgia",
          "Congo (Brazzaville)",
          "Senegal",
          "Bulgaria",
          "Mauritania",
          "Zimbabwe",
          "Malawi",
          "Sudan",
          "Gabon",
          "Mali",
          "Haiti",
          "Botswana",
          "Comoros",
          "Ivory Coast",
          "Cambodia",
          "Angola",
          "Niger",
          "South Sudan",
          "Chad",
          "Burkina Faso",
          "Uganda",
          "Yemen",
          "Madagascar",
          "Tanzania",
          "Liberia",
          "Guinea",
          "Rwanda",
          "Benin",
          "Afghanistan",
          "Togo",
          "Syria",
          "Burundi",
          "Norway",
          "Denmark",
          "Iceland",
          "Switzerland",
          "Finland",
          "Netherlands",
          "Canada",
          "New Zealand",
          "Sweden",
          "Australia",
          "Israel",
          "Costa Rica",
          "Austria",
          "United States",
          "Ireland",
          "Germany",
          "Belgium",
          "Luxembourg",
          "United Kingdom",
          "Chile",
          "United Arab Emirates",
          "Brazil",
          "Czech Republic",
          "Argentina",
          "Mexico",
          "Singapore",
          "Malta",
          "Uruguay",
          "Guatemala",
          "Panama",
          "France",
          "Thailand",
          "Taiwan Province of China",
          "Spain",
          "Qatar",
          "Colombia",
          "Saudi Arabia",
          "Trinidad and Tobago",
          "Kuwait",
          "Slovakia",
          "Bahrain",
          "Malaysia",
          "Nicaragua",
          "Ecuador",
          "El Salvador",
          "Poland",
          "Uzbekistan",
          "Italy",
          "Russia",
          "Belize",
          "Japan",
          "Lithuania",
          "Algeria",
          "Latvia",
          "South Korea",
          "Moldova",
          "Romania",
          "Bolivia",
          "Turkmenistan",
          "Kazakhstan",
          "North Cyprus",
          "Slovenia",
          "Peru",
          "Mauritius",
          "Cyprus",
          "Estonia",
          "Belarus",
          "Libya",
          "Turkey",
          "Paraguay",
          "Hong Kong S.A.R., China",
          "Philippines",
          "Serbia",
          "Jordan",
          "Hungary",
          "Jamaica",
          "Croatia",
          "Kosovo",
          "China",
          "Pakistan",
          "Indonesia",
          "Venezuela",
          "Montenegro",
          "Morocco",
          "Azerbaijan",
          "Dominican Republic",
          "Greece",
          "Lebanon",
          "Portugal",
          "Bosnia and Herzegovina",
          "Honduras",
          "Macedonia",
          "Somalia",
          "Vietnam",
          "Nigeria",
          "Tajikistan",
          "Bhutan",
          "Kyrgyzstan",
          "Nepal",
          "Mongolia",
          "South Africa",
          "Tunisia",
          "Palestinian Territories",
          "Egypt",
          "Bulgaria",
          "Sierra Leone",
          "Cameroon",
          "Iran",
          "Albania",
          "Bangladesh",
          "Namibia",
          "Kenya",
          "Mozambique",
          "Myanmar",
          "Senegal",
          "Zambia",
          "Iraq",
          "Gabon",
          "Ethiopia",
          "Sri Lanka",
          "Armenia",
          "India",
          "Mauritania",
          "Congo (Brazzaville)",
          "Georgia",
          "Congo (Kinshasa)",
          "Mali",
          "Ivory Coast",
          "Cambodia",
          "Sudan",
          "Ghana",
          "Ukraine",
          "Uganda",
          "Burkina Faso",
          "Niger",
          "Malawi",
          "Chad",
          "Zimbabwe",
          "Lesotho",
          "Angola",
          "Afghanistan",
          "Botswana",
          "Benin",
          "Madagascar",
          "Haiti",
          "Yemen",
          "South Sudan",
          "Liberia",
          "Guinea",
          "Togo",
          "Rwanda",
          "Syria",
          "Tanzania",
          "Burundi",
          "Central African Republic",
          "Finland",
          "Norway",
          "Denmark",
          "Iceland",
          "Switzerland",
          "Netherlands",
          "Canada",
          "New Zealand",
          "Sweden",
          "Australia",
          "United Kingdom",
          "Austria",
          "Costa Rica",
          "Ireland",
          "Germany",
          "Belgium",
          "Luxembourg",
          "United States",
          "Israel",
          "United Arab Emirates",
          "Czech Republic",
          "Malta",
          "France",
          "Mexico",
          "Chile",
          "Taiwan",
          "Panama",
          "Brazil",
          "Argentina",
          "Guatemala",
          "Uruguay",
          "Qatar",
          "Saudi Arabia",
          "Singapore",
          "Malaysia",
          "Spain",
          "Colombia",
          "Trinidad & Tobago",
          "Slovakia",
          "El Salvador",
          "Nicaragua",
          "Poland",
          "Bahrain",
          "Uzbekistan",
          "Kuwait",
          "Thailand",
          "Italy",
          "Ecuador",
          "Belize",
          "Lithuania",
          "Slovenia",
          "Romania",
          "Latvia",
          "Japan",
          "Mauritius",
          "Jamaica",
          "South Korea",
          "Northern Cyprus",
          "Russia",
          "Kazakhstan",
          "Cyprus",
          "Bolivia",
          "Estonia",
          "Paraguay",
          "Peru",
          "Kosovo",
          "Moldova",
          "Turkmenistan",
          "Hungary",
          "Libya",
          "Philippines",
          "Honduras",
          "Belarus",
          "Turkey",
          "Pakistan",
          "Hong Kong",
          "Portugal",
          "Serbia",
          "Greece",
          "Lebanon",
          "Montenegro",
          "Croatia",
          "Dominican Republic",
          "Algeria",
          "Morocco",
          "China",
          "Azerbaijan",
          "Tajikistan",
          "Macedonia",
          "Jordan",
          "Nigeria",
          "Kyrgyzstan",
          "Bosnia and Herzegovina",
          "Mongolia",
          "Vietnam",
          "Indonesia",
          "Bhutan",
          "Somalia",
          "Cameroon",
          "Bulgaria",
          "Nepal",
          "Venezuela",
          "Gabon",
          "Palestinian Territories",
          "South Africa",
          "Iran",
          "Ivory Coast",
          "Ghana",
          "Senegal",
          "Laos",
          "Tunisia",
          "Albania",
          "Sierra Leone",
          "Congo (Brazzaville)",
          "Bangladesh",
          "Sri Lanka",
          "Iraq",
          "Mali",
          "Namibia",
          "Cambodia",
          "Burkina Faso",
          "Egypt",
          "Mozambique",
          "Kenya",
          "Zambia",
          "Mauritania",
          "Ethiopia",
          "Georgia",
          "Armenia",
          "Myanmar",
          "Chad",
          "Congo (Kinshasa)",
          "India",
          "Niger",
          "Uganda",
          "Benin",
          "Sudan",
          "Ukraine",
          "Togo",
          "Guinea",
          "Lesotho",
          "Angola",
          "Madagascar",
          "Zimbabwe",
          "Afghanistan",
          "Botswana",
          "Malawi",
          "Haiti",
          "Liberia",
          "Syria",
          "Rwanda",
          "Yemen",
          "Tanzania",
          "South Sudan",
          "Central African Republic",
          "Burundi",
          "Finland",
          "Denmark",
          "Norway",
          "Iceland",
          "Netherlands",
          "Switzerland",
          "Sweden",
          "New Zealand",
          "Canada",
          "Austria",
          "Australia",
          "Costa Rica",
          "Israel",
          "Luxembourg",
          "United Kingdom",
          "Ireland",
          "Germany",
          "Belgium",
          "United States",
          "Czech Republic",
          "United Arab Emirates",
          "Malta",
          "Mexico",
          "France",
          "Taiwan",
          "Chile",
          "Guatemala",
          "Saudi Arabia",
          "Qatar",
          "Spain",
          "Panama",
          "Brazil",
          "Uruguay",
          "Singapore",
          "El Salvador",
          "Italy",
          "Bahrain",
          "Slovakia",
          "Trinidad & Tobago",
          "Poland",
          "Uzbekistan",
          "Lithuania",
          "Colombia",
          "Slovenia",
          "Nicaragua",
          "Kosovo",
          "Argentina",
          "Romania",
          "Cyprus",
          "Ecuador",
          "Kuwait",
          "Thailand",
          "Latvia",
          "South Korea",
          "Estonia",
          "Jamaica",
          "Mauritius",
          "Japan",
          "Honduras",
          "Kazakhstan",
          "Bolivia",
          "Hungary",
          "Paraguay",
          "Northern Cyprus",
          "Peru",
          "Portugal",
          "Pakistan",
          "Russia",
          "Philippines",
          "Serbia",
          "Moldova",
          "Libya",
          "Montenegro",
          "Tajikistan",
          "Croatia",
          "Hong Kong",
          "Dominican Republic",
          "Bosnia and Herzegovina",
          "Turkey",
          "Malaysia",
          "Belarus",
          "Greece",
          "Mongolia",
          "North Macedonia",
          "Nigeria",
          "Kyrgyzstan",
          "Turkmenistan",
          "Algeria",
          "Morocco",
          "Azerbaijan",
          "Lebanon",
          "Indonesia",
          "China",
          "Vietnam",
          "Bhutan",
          "Cameroon",
          "Bulgaria",
          "Ghana",
          "Ivory Coast",
          "Nepal",
          "Jordan",
          "Benin",
          "Congo (Brazzaville)",
          "Gabon",
          "Laos",
          "South Africa",
          "Albania",
          "Venezuela",
          "Cambodia",
          "Palestinian Territories",
          "Senegal",
          "Somalia",
          "Namibia",
          "Niger",
          "Burkina Faso",
          "Armenia",
          "Iran",
          "Guinea",
          "Georgia",
          "Gambia",
          "Kenya",
          "Mauritania",
          "Mozambique",
          "Tunisia",
          "Bangladesh",
          "Iraq",
          "Congo (Kinshasa)",
          "Mali",
          "Sierra Leone",
          "Sri Lanka",
          "Myanmar",
          "Chad",
          "Ukraine",
          "Ethiopia",
          "Swaziland",
          "Uganda",
          "Egypt",
          "Zambia",
          "Togo",
          "India",
          "Liberia",
          "Comoros",
          "Madagascar",
          "Lesotho",
          "Burundi",
          "Zimbabwe",
          "Haiti",
          "Botswana",
          "Syria",
          "Malawi",
          "Yemen",
          "Rwanda",
          "Tanzania",
          "Afghanistan",
          "Central African Republic",
          "South Sudan"
         ],
         "type": "scatter",
         "x": [
          0.153,
          0.252,
          0.271,
          0.354,
          0.322,
          0.263,
          0.267,
          0.33,
          0.285,
          0.244,
          0.332,
          0.144,
          0.261,
          0.194,
          0.348,
          0.298,
          0.261,
          0.16,
          0.28,
          0.046,
          0.262,
          0.375,
          0.074,
          0.111,
          0.242,
          0.187,
          0.175,
          0.08,
          0.22,
          0.153,
          0.109,
          0.099,
          0.127,
          0.271,
          0.093,
          0.158,
          0.255,
          0.121,
          0.185,
          0.117,
          0.322,
          0.043,
          0.099,
          0.144,
          0.2,
          0.262,
          0.066,
          0.083,
          0.19,
          0.126,
          0.142,
          0.359,
          0.075,
          0.175,
          0.103,
          0.107,
          0.215,
          0.069,
          0.246,
          0.146,
          0.137,
          0.081,
          0.184,
          0.191,
          0.083,
          0.047,
          0.22,
          0.082,
          0.117,
          0.137,
          0.181,
          0.133,
          0.142,
          0.23,
          0.119,
          0.258,
          0.113,
          0.263,
          0.083,
          0.26,
          0.094,
          0,
          0.235,
          0.185,
          0.215,
          0.3,
          0.244,
          0.073,
          0.036,
          0.035,
          0.166,
          0.498,
          0.058,
          0.147,
          0.37,
          0.187,
          0.081,
          0.245,
          0.154,
          0.285,
          0.11,
          0.175,
          0.105,
          0.043,
          0.266,
          0.13,
          0.178,
          0.064,
          0.232,
          0.103,
          0.153,
          0.243,
          0.07,
          0.188,
          0.177,
          0.095,
          0.27,
          0.207,
          0.043,
          0.269,
          0.372,
          0.106,
          0.197,
          0.059,
          0.166,
          0.148,
          0.212,
          0.153,
          0.252,
          0.244,
          0.566,
          0.198,
          0.187,
          0.209,
          0.074,
          0.252,
          0.076,
          0.247,
          0.177,
          0.2,
          0.233,
          0.275,
          0.169,
          0.107,
          0.176,
          0.151,
          0.419,
          0.025,
          0.331,
          0.218,
          0.108,
          0.217,
          0.276,
          0.158,
          0.235,
          0.202
         ],
         "y": [
          1.587,
          1.573,
          1.582,
          1.624,
          1.522,
          1.526,
          1.487,
          1.557,
          1.505,
          1.475,
          1.548,
          1.441,
          1.455,
          1.479,
          1.538,
          1.553,
          1.454,
          1.504,
          1.457,
          1.487,
          1.31,
          1.52,
          1.323,
          1.472,
          1.43,
          1.369,
          1.269,
          1.357,
          1.313,
          1.484,
          1.442,
          1.439,
          1.465,
          1.463,
          1.242,
          1.488,
          1.368,
          1.504,
          1.477,
          1.438,
          1.529,
          1.515,
          1.41,
          1.523,
          1.325,
          1.232,
          1.432,
          1.232,
          1.223,
          1.312,
          1.319,
          1.409,
          1.465,
          1.219,
          1.528,
          1.478,
          1.402,
          1.419,
          1.236,
          1.508,
          1.209,
          1.41,
          1.475,
          1.252,
          1.274,
          1.431,
          0.886,
          1.452,
          1.293,
          1.383,
          1.328,
          1.303,
          1.361,
          1.098,
          1.266,
          1.277,
          1.401,
          1.212,
          1.36,
          1.171,
          1.465,
          1.156,
          1.531,
          1.294,
          1.111,
          1.438,
          1.538,
          1.16,
          0.782,
          1.147,
          1.224,
          1.203,
          1.125,
          1.346,
          1.321,
          0.91,
          1.513,
          0.868,
          0.808,
          1.226,
          1.225,
          0.437,
          0.799,
          1.183,
          1.03,
          1.351,
          0.848,
          1.427,
          1.122,
          1.247,
          1.134,
          0.698,
          1.313,
          0.774,
          1.056,
          1.055,
          0.842,
          0.829,
          0.666,
          0.939,
          0.983,
          1.167,
          0.986,
          1,
          0.928,
          0.98,
          1.125,
          1.105,
          0.841,
          1.265,
          1.181,
          0.766,
          1.39,
          1.033,
          1.149,
          1.069,
          1.039,
          1.058,
          0.572,
          0.765,
          0.922,
          0.757,
          0.916,
          1.169,
          0.447,
          1.114,
          0.688,
          1.145,
          0.378,
          0.56,
          1.163,
          0.711,
          0.885,
          0.517,
          0,
          0.575
         ]
        }
       ],
       "layout": {
        "barmode": "group",
        "hovermode": "x",
        "template": {
         "data": {
          "bar": [
           {
            "error_x": {
             "color": "#2a3f5f"
            },
            "error_y": {
             "color": "#2a3f5f"
            },
            "marker": {
             "line": {
              "color": "#E5ECF6",
              "width": 0.5
             }
            },
            "type": "bar"
           }
          ],
          "barpolar": [
           {
            "marker": {
             "line": {
              "color": "#E5ECF6",
              "width": 0.5
             }
            },
            "type": "barpolar"
           }
          ],
          "carpet": [
           {
            "aaxis": {
             "endlinecolor": "#2a3f5f",
             "gridcolor": "white",
             "linecolor": "white",
             "minorgridcolor": "white",
             "startlinecolor": "#2a3f5f"
            },
            "baxis": {
             "endlinecolor": "#2a3f5f",
             "gridcolor": "white",
             "linecolor": "white",
             "minorgridcolor": "white",
             "startlinecolor": "#2a3f5f"
            },
            "type": "carpet"
           }
          ],
          "choropleth": [
           {
            "colorbar": {
             "outlinewidth": 0,
             "ticks": ""
            },
            "type": "choropleth"
           }
          ],
          "contour": [
           {
            "colorbar": {
             "outlinewidth": 0,
             "ticks": ""
            },
            "colorscale": [
             [
              0,
              "#0d0887"
             ],
             [
              0.1111111111111111,
              "#46039f"
             ],
             [
              0.2222222222222222,
              "#7201a8"
             ],
             [
              0.3333333333333333,
              "#9c179e"
             ],
             [
              0.4444444444444444,
              "#bd3786"
             ],
             [
              0.5555555555555556,
              "#d8576b"
             ],
             [
              0.6666666666666666,
              "#ed7953"
             ],
             [
              0.7777777777777778,
              "#fb9f3a"
             ],
             [
              0.8888888888888888,
              "#fdca26"
             ],
             [
              1,
              "#f0f921"
             ]
            ],
            "type": "contour"
           }
          ],
          "contourcarpet": [
           {
            "colorbar": {
             "outlinewidth": 0,
             "ticks": ""
            },
            "type": "contourcarpet"
           }
          ],
          "heatmap": [
           {
            "colorbar": {
             "outlinewidth": 0,
             "ticks": ""
            },
            "colorscale": [
             [
              0,
              "#0d0887"
             ],
             [
              0.1111111111111111,
              "#46039f"
             ],
             [
              0.2222222222222222,
              "#7201a8"
             ],
             [
              0.3333333333333333,
              "#9c179e"
             ],
             [
              0.4444444444444444,
              "#bd3786"
             ],
             [
              0.5555555555555556,
              "#d8576b"
             ],
             [
              0.6666666666666666,
              "#ed7953"
             ],
             [
              0.7777777777777778,
              "#fb9f3a"
             ],
             [
              0.8888888888888888,
              "#fdca26"
             ],
             [
              1,
              "#f0f921"
             ]
            ],
            "type": "heatmap"
           }
          ],
          "heatmapgl": [
           {
            "colorbar": {
             "outlinewidth": 0,
             "ticks": ""
            },
            "colorscale": [
             [
              0,
              "#0d0887"
             ],
             [
              0.1111111111111111,
              "#46039f"
             ],
             [
              0.2222222222222222,
              "#7201a8"
             ],
             [
              0.3333333333333333,
              "#9c179e"
             ],
             [
              0.4444444444444444,
              "#bd3786"
             ],
             [
              0.5555555555555556,
              "#d8576b"
             ],
             [
              0.6666666666666666,
              "#ed7953"
             ],
             [
              0.7777777777777778,
              "#fb9f3a"
             ],
             [
              0.8888888888888888,
              "#fdca26"
             ],
             [
              1,
              "#f0f921"
             ]
            ],
            "type": "heatmapgl"
           }
          ],
          "histogram": [
           {
            "marker": {
             "colorbar": {
              "outlinewidth": 0,
              "ticks": ""
             }
            },
            "type": "histogram"
           }
          ],
          "histogram2d": [
           {
            "colorbar": {
             "outlinewidth": 0,
             "ticks": ""
            },
            "colorscale": [
             [
              0,
              "#0d0887"
             ],
             [
              0.1111111111111111,
              "#46039f"
             ],
             [
              0.2222222222222222,
              "#7201a8"
             ],
             [
              0.3333333333333333,
              "#9c179e"
             ],
             [
              0.4444444444444444,
              "#bd3786"
             ],
             [
              0.5555555555555556,
              "#d8576b"
             ],
             [
              0.6666666666666666,
              "#ed7953"
             ],
             [
              0.7777777777777778,
              "#fb9f3a"
             ],
             [
              0.8888888888888888,
              "#fdca26"
             ],
             [
              1,
              "#f0f921"
             ]
            ],
            "type": "histogram2d"
           }
          ],
          "histogram2dcontour": [
           {
            "colorbar": {
             "outlinewidth": 0,
             "ticks": ""
            },
            "colorscale": [
             [
              0,
              "#0d0887"
             ],
             [
              0.1111111111111111,
              "#46039f"
             ],
             [
              0.2222222222222222,
              "#7201a8"
             ],
             [
              0.3333333333333333,
              "#9c179e"
             ],
             [
              0.4444444444444444,
              "#bd3786"
             ],
             [
              0.5555555555555556,
              "#d8576b"
             ],
             [
              0.6666666666666666,
              "#ed7953"
             ],
             [
              0.7777777777777778,
              "#fb9f3a"
             ],
             [
              0.8888888888888888,
              "#fdca26"
             ],
             [
              1,
              "#f0f921"
             ]
            ],
            "type": "histogram2dcontour"
           }
          ],
          "mesh3d": [
           {
            "colorbar": {
             "outlinewidth": 0,
             "ticks": ""
            },
            "type": "mesh3d"
           }
          ],
          "parcoords": [
           {
            "line": {
             "colorbar": {
              "outlinewidth": 0,
              "ticks": ""
             }
            },
            "type": "parcoords"
           }
          ],
          "pie": [
           {
            "automargin": true,
            "type": "pie"
           }
          ],
          "scatter": [
           {
            "marker": {
             "colorbar": {
              "outlinewidth": 0,
              "ticks": ""
             }
            },
            "type": "scatter"
           }
          ],
          "scatter3d": [
           {
            "line": {
             "colorbar": {
              "outlinewidth": 0,
              "ticks": ""
             }
            },
            "marker": {
             "colorbar": {
              "outlinewidth": 0,
              "ticks": ""
             }
            },
            "type": "scatter3d"
           }
          ],
          "scattercarpet": [
           {
            "marker": {
             "colorbar": {
              "outlinewidth": 0,
              "ticks": ""
             }
            },
            "type": "scattercarpet"
           }
          ],
          "scattergeo": [
           {
            "marker": {
             "colorbar": {
              "outlinewidth": 0,
              "ticks": ""
             }
            },
            "type": "scattergeo"
           }
          ],
          "scattergl": [
           {
            "marker": {
             "colorbar": {
              "outlinewidth": 0,
              "ticks": ""
             }
            },
            "type": "scattergl"
           }
          ],
          "scattermapbox": [
           {
            "marker": {
             "colorbar": {
              "outlinewidth": 0,
              "ticks": ""
             }
            },
            "type": "scattermapbox"
           }
          ],
          "scatterpolar": [
           {
            "marker": {
             "colorbar": {
              "outlinewidth": 0,
              "ticks": ""
             }
            },
            "type": "scatterpolar"
           }
          ],
          "scatterpolargl": [
           {
            "marker": {
             "colorbar": {
              "outlinewidth": 0,
              "ticks": ""
             }
            },
            "type": "scatterpolargl"
           }
          ],
          "scatterternary": [
           {
            "marker": {
             "colorbar": {
              "outlinewidth": 0,
              "ticks": ""
             }
            },
            "type": "scatterternary"
           }
          ],
          "surface": [
           {
            "colorbar": {
             "outlinewidth": 0,
             "ticks": ""
            },
            "colorscale": [
             [
              0,
              "#0d0887"
             ],
             [
              0.1111111111111111,
              "#46039f"
             ],
             [
              0.2222222222222222,
              "#7201a8"
             ],
             [
              0.3333333333333333,
              "#9c179e"
             ],
             [
              0.4444444444444444,
              "#bd3786"
             ],
             [
              0.5555555555555556,
              "#d8576b"
             ],
             [
              0.6666666666666666,
              "#ed7953"
             ],
             [
              0.7777777777777778,
              "#fb9f3a"
             ],
             [
              0.8888888888888888,
              "#fdca26"
             ],
             [
              1,
              "#f0f921"
             ]
            ],
            "type": "surface"
           }
          ],
          "table": [
           {
            "cells": {
             "fill": {
              "color": "#EBF0F8"
             },
             "line": {
              "color": "white"
             }
            },
            "header": {
             "fill": {
              "color": "#C8D4E3"
             },
             "line": {
              "color": "white"
             }
            },
            "type": "table"
           }
          ]
         },
         "layout": {
          "annotationdefaults": {
           "arrowcolor": "#2a3f5f",
           "arrowhead": 0,
           "arrowwidth": 1
          },
          "autotypenumbers": "strict",
          "coloraxis": {
           "colorbar": {
            "outlinewidth": 0,
            "ticks": ""
           }
          },
          "colorscale": {
           "diverging": [
            [
             0,
             "#8e0152"
            ],
            [
             0.1,
             "#c51b7d"
            ],
            [
             0.2,
             "#de77ae"
            ],
            [
             0.3,
             "#f1b6da"
            ],
            [
             0.4,
             "#fde0ef"
            ],
            [
             0.5,
             "#f7f7f7"
            ],
            [
             0.6,
             "#e6f5d0"
            ],
            [
             0.7,
             "#b8e186"
            ],
            [
             0.8,
             "#7fbc41"
            ],
            [
             0.9,
             "#4d9221"
            ],
            [
             1,
             "#276419"
            ]
           ],
           "sequential": [
            [
             0,
             "#0d0887"
            ],
            [
             0.1111111111111111,
             "#46039f"
            ],
            [
             0.2222222222222222,
             "#7201a8"
            ],
            [
             0.3333333333333333,
             "#9c179e"
            ],
            [
             0.4444444444444444,
             "#bd3786"
            ],
            [
             0.5555555555555556,
             "#d8576b"
            ],
            [
             0.6666666666666666,
             "#ed7953"
            ],
            [
             0.7777777777777778,
             "#fb9f3a"
            ],
            [
             0.8888888888888888,
             "#fdca26"
            ],
            [
             1,
             "#f0f921"
            ]
           ],
           "sequentialminus": [
            [
             0,
             "#0d0887"
            ],
            [
             0.1111111111111111,
             "#46039f"
            ],
            [
             0.2222222222222222,
             "#7201a8"
            ],
            [
             0.3333333333333333,
             "#9c179e"
            ],
            [
             0.4444444444444444,
             "#bd3786"
            ],
            [
             0.5555555555555556,
             "#d8576b"
            ],
            [
             0.6666666666666666,
             "#ed7953"
            ],
            [
             0.7777777777777778,
             "#fb9f3a"
            ],
            [
             0.8888888888888888,
             "#fdca26"
            ],
            [
             1,
             "#f0f921"
            ]
           ]
          },
          "colorway": [
           "#636efa",
           "#EF553B",
           "#00cc96",
           "#ab63fa",
           "#FFA15A",
           "#19d3f3",
           "#FF6692",
           "#B6E880",
           "#FF97FF",
           "#FECB52"
          ],
          "font": {
           "color": "#2a3f5f"
          },
          "geo": {
           "bgcolor": "white",
           "lakecolor": "white",
           "landcolor": "#E5ECF6",
           "showlakes": true,
           "showland": true,
           "subunitcolor": "white"
          },
          "hoverlabel": {
           "align": "left"
          },
          "hovermode": "closest",
          "mapbox": {
           "style": "light"
          },
          "paper_bgcolor": "white",
          "plot_bgcolor": "#E5ECF6",
          "polar": {
           "angularaxis": {
            "gridcolor": "white",
            "linecolor": "white",
            "ticks": ""
           },
           "bgcolor": "#E5ECF6",
           "radialaxis": {
            "gridcolor": "white",
            "linecolor": "white",
            "ticks": ""
           }
          },
          "scene": {
           "xaxis": {
            "backgroundcolor": "#E5ECF6",
            "gridcolor": "white",
            "gridwidth": 2,
            "linecolor": "white",
            "showbackground": true,
            "ticks": "",
            "zerolinecolor": "white"
           },
           "yaxis": {
            "backgroundcolor": "#E5ECF6",
            "gridcolor": "white",
            "gridwidth": 2,
            "linecolor": "white",
            "showbackground": true,
            "ticks": "",
            "zerolinecolor": "white"
           },
           "zaxis": {
            "backgroundcolor": "#E5ECF6",
            "gridcolor": "white",
            "gridwidth": 2,
            "linecolor": "white",
            "showbackground": true,
            "ticks": "",
            "zerolinecolor": "white"
           }
          },
          "shapedefaults": {
           "line": {
            "color": "#2a3f5f"
           }
          },
          "ternary": {
           "aaxis": {
            "gridcolor": "white",
            "linecolor": "white",
            "ticks": ""
           },
           "baxis": {
            "gridcolor": "white",
            "linecolor": "white",
            "ticks": ""
           },
           "bgcolor": "#E5ECF6",
           "caxis": {
            "gridcolor": "white",
            "linecolor": "white",
            "ticks": ""
           }
          },
          "title": {
           "x": 0.05
          },
          "xaxis": {
           "automargin": true,
           "gridcolor": "white",
           "linecolor": "white",
           "ticks": "",
           "title": {
            "standoff": 15
           },
           "zerolinecolor": "white",
           "zerolinewidth": 2
          },
          "yaxis": {
           "automargin": true,
           "gridcolor": "white",
           "linecolor": "white",
           "ticks": "",
           "title": {
            "standoff": 15
           },
           "zerolinecolor": "white",
           "zerolinewidth": 2
          }
         }
        },
        "title": {
         "text": "Bubble Chart: x = Family, y = Generosity, Size = Happiness Score, Color = Happiness Score, Year = 2019"
        },
        "xaxis": {
         "title": {
          "text": "Freedom"
         }
        },
        "yaxis": {
         "title": {
          "text": "Trust"
         }
        }
       }
      },
      "text/html": [
       "<div>                            <div id=\"f1b20738-33ef-47cc-bcfe-cf61bf9de5cc\" class=\"plotly-graph-div\" style=\"height:525px; width:100%;\"></div>            <script type=\"text/javascript\">                require([\"plotly\"], function(Plotly) {                    window.PLOTLYENV=window.PLOTLYENV || {};                                    if (document.getElementById(\"f1b20738-33ef-47cc-bcfe-cf61bf9de5cc\")) {                    Plotly.newPlot(                        \"f1b20738-33ef-47cc-bcfe-cf61bf9de5cc\",                        [{\"marker\": {\"color\": [7.587, 7.561, 7.527, 7.522, 7.427, 7.406, 7.378, 7.364, 7.286, 7.284, 7.278, 7.226, 7.2, 7.187, 7.119, 6.983, 6.946, 6.94, 6.937, 6.901, 6.867, 6.853, 6.81, 6.798, 6.786, 6.75, 6.67, 6.611, 6.575, 6.574, 6.505, 6.485, 6.477, 6.455, 6.411, 6.329, 6.302, 6.298, 6.295, 6.269, 6.168, 6.13, 6.123, 6.003, 5.995, 5.987, 5.984, 5.975, 5.96, 5.948, 5.89, 5.889, 5.878, 5.855, 5.848, 5.833, 5.828, 5.824, 5.813, 5.791, 5.77, 5.759, 5.754, 5.716, 5.709, 5.695, 5.689, 5.605, 5.589, 5.548, 5.477, 5.474, 5.429, 5.399, 5.36, 5.332, 5.286, 5.268, 5.253, 5.212, 5.194, 5.192, 5.192, 5.14, 5.129, 5.124, 5.123, 5.102, 5.098, 5.073, 5.057, 5.013, 5.007, 4.971, 4.959, 4.949, 4.898, 4.885, 4.876, 4.874, 4.867, 4.857, 4.839, 4.8, 4.788, 4.786, 4.739, 4.715, 4.694, 4.686, 4.681, 4.677, 4.642, 4.633, 4.61, 4.571, 4.565, 4.55, 4.518, 4.517, 4.514, 4.512, 4.507, 4.436, 4.419, 4.369, 4.35, 4.332, 4.307, 4.297, 4.292, 4.271, 4.252, 4.218, 4.194, 4.077, 4.033, 3.995, 3.989, 3.956, 3.931, 3.904, 3.896, 3.845, 3.819, 3.781, 3.681, 3.678, 3.667, 3.656, 3.655, 3.587, 3.575, 3.465, 3.34, 3.006, 2.905, 2.839, 7.526, 7.509, 7.501, 7.498, 7.413, 7.404, 7.339, 7.334, 7.313, 7.291, 7.267, 7.119, 7.104, 7.087, 7.039, 6.994, 6.952, 6.929, 6.907, 6.871, 6.778, 6.739, 6.725, 6.705, 6.701, 6.65, 6.596, 6.573, 6.545, 6.488, 6.481, 6.478, 6.474, 6.379, 6.379, 6.375, 6.361, 6.355, 6.324, 6.269, 6.239, 6.218, 6.168, 6.084, 6.078, 6.068, 6.005, 5.992, 5.987, 5.977, 5.976, 5.956, 5.921, 5.919, 5.897, 5.856, 5.835, 5.835, 5.822, 5.813, 5.802, 5.771, 5.768, 5.743, 5.658, 5.648, 5.615, 5.56, 5.546, 5.538, 5.528, 5.517, 5.51, 5.488, 5.458, 5.44, 5.401, 5.389, 5.314, 5.303, 5.291, 5.279, 5.245, 5.196, 5.185, 5.177, 5.163, 5.161, 5.155, 5.151, 5.145, 5.132, 5.129, 5.123, 5.121, 5.061, 5.057, 5.045, 5.033, 4.996, 4.907, 4.876, 4.875, 4.871, 4.813, 4.795, 4.793, 4.754, 4.655, 4.643, 4.635, 4.575, 4.574, 4.513, 4.508, 4.459, 4.415, 4.404, 4.395, 4.362, 4.36, 4.356, 4.324, 4.276, 4.272, 4.252, 4.236, 4.219, 4.217, 4.201, 4.193, 4.156, 4.139, 4.121, 4.073, 4.028, 3.974, 3.956, 3.916, 3.907, 3.866, 3.856, 3.832, 3.763, 3.739, 3.739, 3.724, 3.695, 3.666, 3.622, 3.607, 3.515, 3.484, 3.36, 3.303, 3.069, 2.905, 7.53700017929077, 7.52199983596802, 7.50400018692017, 7.49399995803833, 7.4689998626709, 7.3769998550415, 7.31599998474121, 7.31400012969971, 7.28399991989136, 7.28399991989136, 7.21299982070923, 7.0789999961853, 7.00600004196167, 6.99300003051758, 6.97700023651123, 6.95100021362305, 6.89099979400635, 6.86299991607666, 6.71400022506714, 6.65199995040894, 6.64799976348877, 6.63500022888184, 6.60900020599365, 6.59899997711182, 6.57800006866455, 6.57200002670288, 6.52699995040894, 6.4539999961853, 6.4539999961853, 6.4520001411438, 6.44199991226196, 6.42399978637695, 6.42199993133545, 6.40299987792969, 6.375, 6.35699987411499, 6.3439998626709, 6.16800022125244, 6.10500001907349, 6.09800004959106, 6.08699989318848, 6.08400011062622, 6.07100009918213, 6.00799989700317, 6.00299978256226, 5.97300004959106, 5.97100019454956, 5.96400022506714, 5.96299982070923, 5.95599985122681, 5.92000007629395, 5.90199995040894, 5.87200021743774, 5.84999990463257, 5.83799982070923, 5.83799982070923, 5.82499980926514, 5.82299995422363, 5.82200002670288, 5.81899976730347, 5.80999994277954, 5.75799989700317, 5.71500015258789, 5.62900018692017, 5.62099981307983, 5.61100006103516, 5.56899976730347, 5.52500009536743, 5.5, 5.49300003051758, 5.47200012207031, 5.42999982833862, 5.39499998092651, 5.33599996566772, 5.32399988174438, 5.31099987030029, 5.29300022125244, 5.27899980545044, 5.27299976348877, 5.26900005340576, 5.26200008392334, 5.25, 5.23699998855591, 5.2350001335144, 5.23400020599365, 5.23000001907349, 5.22700023651123, 5.22499990463257, 5.19500017166138, 5.18200016021729, 5.18100023269653, 5.17500019073486, 5.15100002288818, 5.07399988174438, 5.07399988174438, 5.04099988937378, 5.01100015640259, 5.00400018692017, 4.96199989318848, 4.95499992370605, 4.8289999961853, 4.80499982833862, 4.77500009536743, 4.7350001335144, 4.71400022506714, 4.70900011062622, 4.69500017166138, 4.69199991226196, 4.64400005340576, 4.60799980163574, 4.57399988174438, 4.55299997329712, 4.55000019073486, 4.54500007629395, 4.53499984741211, 4.51399993896484, 4.49700021743774, 4.46500015258789, 4.46000003814697, 4.44000005722046, 4.37599992752075, 4.31500005722046, 4.29199981689453, 4.29099988937378, 4.28599977493286, 4.28000020980835, 4.19000005722046, 4.17999982833862, 4.16800022125244, 4.13899993896484, 4.11999988555908, 4.09600019454956, 4.08099985122681, 4.03200006484985, 4.02799987792969, 3.97000002861023, 3.93600010871887, 3.875, 3.80800008773804, 3.79500007629395, 3.79399991035461, 3.76600003242493, 3.65700006484985, 3.64400005340576, 3.6029999256134, 3.59299993515015, 3.59100008010864, 3.53299999237061, 3.50699996948242, 3.49499988555908, 3.47099995613098, 3.46199989318848, 3.34899997711182, 2.90499997138977, 2.69300007820129, 7.632, 7.594, 7.555, 7.495, 7.487, 7.441, 7.328, 7.324, 7.314, 7.272, 7.19, 7.139, 7.072, 6.977, 6.965, 6.927, 6.91, 6.886, 6.814, 6.774, 6.711, 6.627, 6.489, 6.488, 6.476, 6.441, 6.43, 6.419, 6.388, 6.382, 6.379, 6.374, 6.371, 6.343, 6.322, 6.31, 6.26, 6.192, 6.173, 6.167, 6.141, 6.123, 6.105, 6.096, 6.083, 6.072, 6.0, 5.973, 5.956, 5.952, 5.948, 5.945, 5.933, 5.915, 5.891, 5.89, 5.875, 5.835, 5.81, 5.79, 5.762, 5.752, 5.739, 5.681, 5.663, 5.662, 5.64, 5.636, 5.62, 5.566, 5.524, 5.504, 5.483, 5.483, 5.472, 5.43, 5.41, 5.398, 5.358, 5.358, 5.347, 5.321, 5.302, 5.295, 5.254, 5.246, 5.201, 5.199, 5.185, 5.161, 5.155, 5.131, 5.129, 5.125, 5.103, 5.093, 5.082, 4.982, 4.975, 4.933, 4.88, 4.806, 4.758, 4.743, 4.724, 4.707, 4.671, 4.657, 4.631, 4.623, 4.592, 4.586, 4.571, 4.559, 4.5, 4.471, 4.456, 4.447, 4.441, 4.433, 4.424, 4.419, 4.417, 4.41, 4.377, 4.356, 4.35, 4.34, 4.321, 4.308, 4.301, 4.245, 4.19, 4.166, 4.161, 4.141, 4.139, 4.103, 3.999, 3.964, 3.808, 3.795, 3.774, 3.692, 3.632, 3.59, 3.587, 3.582, 3.495, 3.462, 3.408, 3.355, 3.303, 3.254, 3.083, 2.905, 7.769, 7.6, 7.554, 7.494, 7.488, 7.48, 7.343, 7.307, 7.278, 7.246, 7.228, 7.167, 7.139, 7.09, 7.054, 7.021, 6.985, 6.923, 6.892, 6.852, 6.825, 6.726, 6.595, 6.592, 6.446, 6.444, 6.436, 6.375, 6.374, 6.354, 6.321, 6.3, 6.293, 6.262, 6.253, 6.223, 6.199, 6.198, 6.192, 6.182, 6.174, 6.149, 6.125, 6.118, 6.105, 6.1, 6.086, 6.07, 6.046, 6.028, 6.021, 6.008, 5.94, 5.895, 5.893, 5.89, 5.888, 5.886, 5.86, 5.809, 5.779, 5.758, 5.743, 5.718, 5.697, 5.693, 5.653, 5.648, 5.631, 5.603, 5.529, 5.525, 5.523, 5.467, 5.432, 5.43, 5.425, 5.386, 5.373, 5.339, 5.323, 5.287, 5.285, 5.274, 5.265, 5.261, 5.247, 5.211, 5.208, 5.208, 5.197, 5.192, 5.191, 5.175, 5.082, 5.044, 5.011, 4.996, 4.944, 4.913, 4.906, 4.883, 4.812, 4.799, 4.796, 4.722, 4.719, 4.707, 4.7, 4.696, 4.681, 4.668, 4.639, 4.628, 4.587, 4.559, 4.548, 4.534, 4.519, 4.516, 4.509, 4.49, 4.466, 4.461, 4.456, 4.437, 4.418, 4.39, 4.374, 4.366, 4.36, 4.35, 4.332, 4.286, 4.212, 4.189, 4.166, 4.107, 4.085, 4.015, 3.975, 3.973, 3.933, 3.802, 3.775, 3.663, 3.597, 3.488, 3.462, 3.41, 3.38, 3.334, 3.231, 3.203, 3.083, 2.853], \"showscale\": true, \"size\": [7.587, 7.561, 7.527, 7.522, 7.427, 7.406, 7.378, 7.364, 7.286, 7.284, 7.278, 7.226, 7.2, 7.187, 7.119, 6.983, 6.946, 6.94, 6.937, 6.901, 6.867, 6.853, 6.81, 6.798, 6.786, 6.75, 6.67, 6.611, 6.575, 6.574, 6.505, 6.485, 6.477, 6.455, 6.411, 6.329, 6.302, 6.298, 6.295, 6.269, 6.168, 6.13, 6.123, 6.003, 5.995, 5.987, 5.984, 5.975, 5.96, 5.948, 5.89, 5.889, 5.878, 5.855, 5.848, 5.833, 5.828, 5.824, 5.813, 5.791, 5.77, 5.759, 5.754, 5.716, 5.709, 5.695, 5.689, 5.605, 5.589, 5.548, 5.477, 5.474, 5.429, 5.399, 5.36, 5.332, 5.286, 5.268, 5.253, 5.212, 5.194, 5.192, 5.192, 5.14, 5.129, 5.124, 5.123, 5.102, 5.098, 5.073, 5.057, 5.013, 5.007, 4.971, 4.959, 4.949, 4.898, 4.885, 4.876, 4.874, 4.867, 4.857, 4.839, 4.8, 4.788, 4.786, 4.739, 4.715, 4.694, 4.686, 4.681, 4.677, 4.642, 4.633, 4.61, 4.571, 4.565, 4.55, 4.518, 4.517, 4.514, 4.512, 4.507, 4.436, 4.419, 4.369, 4.35, 4.332, 4.307, 4.297, 4.292, 4.271, 4.252, 4.218, 4.194, 4.077, 4.033, 3.995, 3.989, 3.956, 3.931, 3.904, 3.896, 3.845, 3.819, 3.781, 3.681, 3.678, 3.667, 3.656, 3.655, 3.587, 3.575, 3.465, 3.34, 3.006, 2.905, 2.839, 7.526, 7.509, 7.501, 7.498, 7.413, 7.404, 7.339, 7.334, 7.313, 7.291, 7.267, 7.119, 7.104, 7.087, 7.039, 6.994, 6.952, 6.929, 6.907, 6.871, 6.778, 6.739, 6.725, 6.705, 6.701, 6.65, 6.596, 6.573, 6.545, 6.488, 6.481, 6.478, 6.474, 6.379, 6.379, 6.375, 6.361, 6.355, 6.324, 6.269, 6.239, 6.218, 6.168, 6.084, 6.078, 6.068, 6.005, 5.992, 5.987, 5.977, 5.976, 5.956, 5.921, 5.919, 5.897, 5.856, 5.835, 5.835, 5.822, 5.813, 5.802, 5.771, 5.768, 5.743, 5.658, 5.648, 5.615, 5.56, 5.546, 5.538, 5.528, 5.517, 5.51, 5.488, 5.458, 5.44, 5.401, 5.389, 5.314, 5.303, 5.291, 5.279, 5.245, 5.196, 5.185, 5.177, 5.163, 5.161, 5.155, 5.151, 5.145, 5.132, 5.129, 5.123, 5.121, 5.061, 5.057, 5.045, 5.033, 4.996, 4.907, 4.876, 4.875, 4.871, 4.813, 4.795, 4.793, 4.754, 4.655, 4.643, 4.635, 4.575, 4.574, 4.513, 4.508, 4.459, 4.415, 4.404, 4.395, 4.362, 4.36, 4.356, 4.324, 4.276, 4.272, 4.252, 4.236, 4.219, 4.217, 4.201, 4.193, 4.156, 4.139, 4.121, 4.073, 4.028, 3.974, 3.956, 3.916, 3.907, 3.866, 3.856, 3.832, 3.763, 3.739, 3.739, 3.724, 3.695, 3.666, 3.622, 3.607, 3.515, 3.484, 3.36, 3.303, 3.069, 2.905, 7.53700017929077, 7.52199983596802, 7.50400018692017, 7.49399995803833, 7.4689998626709, 7.3769998550415, 7.31599998474121, 7.31400012969971, 7.28399991989136, 7.28399991989136, 7.21299982070923, 7.0789999961853, 7.00600004196167, 6.99300003051758, 6.97700023651123, 6.95100021362305, 6.89099979400635, 6.86299991607666, 6.71400022506714, 6.65199995040894, 6.64799976348877, 6.63500022888184, 6.60900020599365, 6.59899997711182, 6.57800006866455, 6.57200002670288, 6.52699995040894, 6.4539999961853, 6.4539999961853, 6.4520001411438, 6.44199991226196, 6.42399978637695, 6.42199993133545, 6.40299987792969, 6.375, 6.35699987411499, 6.3439998626709, 6.16800022125244, 6.10500001907349, 6.09800004959106, 6.08699989318848, 6.08400011062622, 6.07100009918213, 6.00799989700317, 6.00299978256226, 5.97300004959106, 5.97100019454956, 5.96400022506714, 5.96299982070923, 5.95599985122681, 5.92000007629395, 5.90199995040894, 5.87200021743774, 5.84999990463257, 5.83799982070923, 5.83799982070923, 5.82499980926514, 5.82299995422363, 5.82200002670288, 5.81899976730347, 5.80999994277954, 5.75799989700317, 5.71500015258789, 5.62900018692017, 5.62099981307983, 5.61100006103516, 5.56899976730347, 5.52500009536743, 5.5, 5.49300003051758, 5.47200012207031, 5.42999982833862, 5.39499998092651, 5.33599996566772, 5.32399988174438, 5.31099987030029, 5.29300022125244, 5.27899980545044, 5.27299976348877, 5.26900005340576, 5.26200008392334, 5.25, 5.23699998855591, 5.2350001335144, 5.23400020599365, 5.23000001907349, 5.22700023651123, 5.22499990463257, 5.19500017166138, 5.18200016021729, 5.18100023269653, 5.17500019073486, 5.15100002288818, 5.07399988174438, 5.07399988174438, 5.04099988937378, 5.01100015640259, 5.00400018692017, 4.96199989318848, 4.95499992370605, 4.8289999961853, 4.80499982833862, 4.77500009536743, 4.7350001335144, 4.71400022506714, 4.70900011062622, 4.69500017166138, 4.69199991226196, 4.64400005340576, 4.60799980163574, 4.57399988174438, 4.55299997329712, 4.55000019073486, 4.54500007629395, 4.53499984741211, 4.51399993896484, 4.49700021743774, 4.46500015258789, 4.46000003814697, 4.44000005722046, 4.37599992752075, 4.31500005722046, 4.29199981689453, 4.29099988937378, 4.28599977493286, 4.28000020980835, 4.19000005722046, 4.17999982833862, 4.16800022125244, 4.13899993896484, 4.11999988555908, 4.09600019454956, 4.08099985122681, 4.03200006484985, 4.02799987792969, 3.97000002861023, 3.93600010871887, 3.875, 3.80800008773804, 3.79500007629395, 3.79399991035461, 3.76600003242493, 3.65700006484985, 3.64400005340576, 3.6029999256134, 3.59299993515015, 3.59100008010864, 3.53299999237061, 3.50699996948242, 3.49499988555908, 3.47099995613098, 3.46199989318848, 3.34899997711182, 2.90499997138977, 2.69300007820129, 7.632, 7.594, 7.555, 7.495, 7.487, 7.441, 7.328, 7.324, 7.314, 7.272, 7.19, 7.139, 7.072, 6.977, 6.965, 6.927, 6.91, 6.886, 6.814, 6.774, 6.711, 6.627, 6.489, 6.488, 6.476, 6.441, 6.43, 6.419, 6.388, 6.382, 6.379, 6.374, 6.371, 6.343, 6.322, 6.31, 6.26, 6.192, 6.173, 6.167, 6.141, 6.123, 6.105, 6.096, 6.083, 6.072, 6.0, 5.973, 5.956, 5.952, 5.948, 5.945, 5.933, 5.915, 5.891, 5.89, 5.875, 5.835, 5.81, 5.79, 5.762, 5.752, 5.739, 5.681, 5.663, 5.662, 5.64, 5.636, 5.62, 5.566, 5.524, 5.504, 5.483, 5.483, 5.472, 5.43, 5.41, 5.398, 5.358, 5.358, 5.347, 5.321, 5.302, 5.295, 5.254, 5.246, 5.201, 5.199, 5.185, 5.161, 5.155, 5.131, 5.129, 5.125, 5.103, 5.093, 5.082, 4.982, 4.975, 4.933, 4.88, 4.806, 4.758, 4.743, 4.724, 4.707, 4.671, 4.657, 4.631, 4.623, 4.592, 4.586, 4.571, 4.559, 4.5, 4.471, 4.456, 4.447, 4.441, 4.433, 4.424, 4.419, 4.417, 4.41, 4.377, 4.356, 4.35, 4.34, 4.321, 4.308, 4.301, 4.245, 4.19, 4.166, 4.161, 4.141, 4.139, 4.103, 3.999, 3.964, 3.808, 3.795, 3.774, 3.692, 3.632, 3.59, 3.587, 3.582, 3.495, 3.462, 3.408, 3.355, 3.303, 3.254, 3.083, 2.905, 7.769, 7.6, 7.554, 7.494, 7.488, 7.48, 7.343, 7.307, 7.278, 7.246, 7.228, 7.167, 7.139, 7.09, 7.054, 7.021, 6.985, 6.923, 6.892, 6.852, 6.825, 6.726, 6.595, 6.592, 6.446, 6.444, 6.436, 6.375, 6.374, 6.354, 6.321, 6.3, 6.293, 6.262, 6.253, 6.223, 6.199, 6.198, 6.192, 6.182, 6.174, 6.149, 6.125, 6.118, 6.105, 6.1, 6.086, 6.07, 6.046, 6.028, 6.021, 6.008, 5.94, 5.895, 5.893, 5.89, 5.888, 5.886, 5.86, 5.809, 5.779, 5.758, 5.743, 5.718, 5.697, 5.693, 5.653, 5.648, 5.631, 5.603, 5.529, 5.525, 5.523, 5.467, 5.432, 5.43, 5.425, 5.386, 5.373, 5.339, 5.323, 5.287, 5.285, 5.274, 5.265, 5.261, 5.247, 5.211, 5.208, 5.208, 5.197, 5.192, 5.191, 5.175, 5.082, 5.044, 5.011, 4.996, 4.944, 4.913, 4.906, 4.883, 4.812, 4.799, 4.796, 4.722, 4.719, 4.707, 4.7, 4.696, 4.681, 4.668, 4.639, 4.628, 4.587, 4.559, 4.548, 4.534, 4.519, 4.516, 4.509, 4.49, 4.466, 4.461, 4.456, 4.437, 4.418, 4.39, 4.374, 4.366, 4.36, 4.35, 4.332, 4.286, 4.212, 4.189, 4.166, 4.107, 4.085, 4.015, 3.975, 3.973, 3.933, 3.802, 3.775, 3.663, 3.597, 3.488, 3.462, 3.41, 3.38, 3.334, 3.231, 3.203, 3.083, 2.853]}, \"mode\": \"markers\", \"text\": [\"Switzerland\", \"Iceland\", \"Denmark\", \"Norway\", \"Canada\", \"Finland\", \"Netherlands\", \"Sweden\", \"New Zealand\", \"Australia\", \"Israel\", \"Costa Rica\", \"Austria\", \"Mexico\", \"United States\", \"Brazil\", \"Luxembourg\", \"Ireland\", \"Belgium\", \"United Arab Emirates\", \"United Kingdom\", \"Oman\", \"Venezuela\", \"Singapore\", \"Panama\", \"Germany\", \"Chile\", \"Qatar\", \"France\", \"Argentina\", \"Czech Republic\", \"Uruguay\", \"Colombia\", \"Thailand\", \"Saudi Arabia\", \"Spain\", \"Malta\", \"Taiwan\", \"Kuwait\", \"Suriname\", \"Trinidad and Tobago\", \"El Salvador\", \"Guatemala\", \"Uzbekistan\", \"Slovakia\", \"Japan\", \"South Korea\", \"Ecuador\", \"Bahrain\", \"Italy\", \"Bolivia\", \"Moldova\", \"Paraguay\", \"Kazakhstan\", \"Slovenia\", \"Lithuania\", \"Nicaragua\", \"Peru\", \"Belarus\", \"Poland\", \"Malaysia\", \"Croatia\", \"Libya\", \"Russia\", \"Jamaica\", \"North Cyprus\", \"Cyprus\", \"Algeria\", \"Kosovo\", \"Turkmenistan\", \"Mauritius\", \"Hong Kong\", \"Estonia\", \"Indonesia\", \"Vietnam\", \"Turkey\", \"Kyrgyzstan\", \"Nigeria\", \"Bhutan\", \"Azerbaijan\", \"Pakistan\", \"Jordan\", \"Montenegro\", \"China\", \"Zambia\", \"Romania\", \"Serbia\", \"Portugal\", \"Latvia\", \"Philippines\", \"Somaliland region\", \"Morocco\", \"Macedonia\", \"Mozambique\", \"Albania\", \"Bosnia and Herzegovina\", \"Lesotho\", \"Dominican Republic\", \"Laos\", \"Mongolia\", \"Swaziland\", \"Greece\", \"Lebanon\", \"Hungary\", \"Honduras\", \"Tajikistan\", \"Tunisia\", \"Palestinian Territories\", \"Bangladesh\", \"Iran\", \"Ukraine\", \"Iraq\", \"South Africa\", \"Ghana\", \"Zimbabwe\", \"Liberia\", \"India\", \"Sudan\", \"Haiti\", \"Congo (Kinshasa)\", \"Nepal\", \"Ethiopia\", \"Sierra Leone\", \"Mauritania\", \"Kenya\", \"Djibouti\", \"Armenia\", \"Botswana\", \"Myanmar\", \"Georgia\", \"Malawi\", \"Sri Lanka\", \"Cameroon\", \"Bulgaria\", \"Egypt\", \"Yemen\", \"Angola\", \"Mali\", \"Congo (Brazzaville)\", \"Comoros\", \"Uganda\", \"Senegal\", \"Gabon\", \"Niger\", \"Cambodia\", \"Tanzania\", \"Madagascar\", \"Central African Republic\", \"Chad\", \"Guinea\", \"Ivory Coast\", \"Burkina Faso\", \"Afghanistan\", \"Rwanda\", \"Benin\", \"Syria\", \"Burundi\", \"Togo\", \"Denmark\", \"Switzerland\", \"Iceland\", \"Norway\", \"Finland\", \"Canada\", \"Netherlands\", \"New Zealand\", \"Australia\", \"Sweden\", \"Israel\", \"Austria\", \"United States\", \"Costa Rica\", \"Puerto Rico\", \"Germany\", \"Brazil\", \"Belgium\", \"Ireland\", \"Luxembourg\", \"Mexico\", \"Singapore\", \"United Kingdom\", \"Chile\", \"Panama\", \"Argentina\", \"Czech Republic\", \"United Arab Emirates\", \"Uruguay\", \"Malta\", \"Colombia\", \"France\", \"Thailand\", \"Saudi Arabia\", \"Taiwan\", \"Qatar\", \"Spain\", \"Algeria\", \"Guatemala\", \"Suriname\", \"Kuwait\", \"Bahrain\", \"Trinidad and Tobago\", \"Venezuela\", \"Slovakia\", \"El Salvador\", \"Malaysia\", \"Nicaragua\", \"Uzbekistan\", \"Italy\", \"Ecuador\", \"Belize\", \"Japan\", \"Kazakhstan\", \"Moldova\", \"Russia\", \"Poland\", \"South Korea\", \"Bolivia\", \"Lithuania\", \"Belarus\", \"North Cyprus\", \"Slovenia\", \"Peru\", \"Turkmenistan\", \"Mauritius\", \"Libya\", \"Latvia\", \"Cyprus\", \"Paraguay\", \"Romania\", \"Estonia\", \"Jamaica\", \"Croatia\", \"Hong Kong\", \"Somalia\", \"Kosovo\", \"Turkey\", \"Indonesia\", \"Jordan\", \"Azerbaijan\", \"Philippines\", \"China\", \"Bhutan\", \"Kyrgyzstan\", \"Serbia\", \"Bosnia and Herzegovina\", \"Montenegro\", \"Dominican Republic\", \"Morocco\", \"Hungary\", \"Pakistan\", \"Lebanon\", \"Portugal\", \"Macedonia\", \"Vietnam\", \"Somaliland Region\", \"Tunisia\", \"Greece\", \"Tajikistan\", \"Mongolia\", \"Laos\", \"Nigeria\", \"Honduras\", \"Iran\", \"Zambia\", \"Nepal\", \"Palestinian Territories\", \"Albania\", \"Bangladesh\", \"Sierra Leone\", \"Iraq\", \"Namibia\", \"Cameroon\", \"Ethiopia\", \"South Africa\", \"Sri Lanka\", \"India\", \"Myanmar\", \"Egypt\", \"Armenia\", \"Kenya\", \"Ukraine\", \"Ghana\", \"Congo (Kinshasa)\", \"Georgia\", \"Congo (Brazzaville)\", \"Senegal\", \"Bulgaria\", \"Mauritania\", \"Zimbabwe\", \"Malawi\", \"Sudan\", \"Gabon\", \"Mali\", \"Haiti\", \"Botswana\", \"Comoros\", \"Ivory Coast\", \"Cambodia\", \"Angola\", \"Niger\", \"South Sudan\", \"Chad\", \"Burkina Faso\", \"Uganda\", \"Yemen\", \"Madagascar\", \"Tanzania\", \"Liberia\", \"Guinea\", \"Rwanda\", \"Benin\", \"Afghanistan\", \"Togo\", \"Syria\", \"Burundi\", \"Norway\", \"Denmark\", \"Iceland\", \"Switzerland\", \"Finland\", \"Netherlands\", \"Canada\", \"New Zealand\", \"Sweden\", \"Australia\", \"Israel\", \"Costa Rica\", \"Austria\", \"United States\", \"Ireland\", \"Germany\", \"Belgium\", \"Luxembourg\", \"United Kingdom\", \"Chile\", \"United Arab Emirates\", \"Brazil\", \"Czech Republic\", \"Argentina\", \"Mexico\", \"Singapore\", \"Malta\", \"Uruguay\", \"Guatemala\", \"Panama\", \"France\", \"Thailand\", \"Taiwan Province of China\", \"Spain\", \"Qatar\", \"Colombia\", \"Saudi Arabia\", \"Trinidad and Tobago\", \"Kuwait\", \"Slovakia\", \"Bahrain\", \"Malaysia\", \"Nicaragua\", \"Ecuador\", \"El Salvador\", \"Poland\", \"Uzbekistan\", \"Italy\", \"Russia\", \"Belize\", \"Japan\", \"Lithuania\", \"Algeria\", \"Latvia\", \"South Korea\", \"Moldova\", \"Romania\", \"Bolivia\", \"Turkmenistan\", \"Kazakhstan\", \"North Cyprus\", \"Slovenia\", \"Peru\", \"Mauritius\", \"Cyprus\", \"Estonia\", \"Belarus\", \"Libya\", \"Turkey\", \"Paraguay\", \"Hong Kong S.A.R., China\", \"Philippines\", \"Serbia\", \"Jordan\", \"Hungary\", \"Jamaica\", \"Croatia\", \"Kosovo\", \"China\", \"Pakistan\", \"Indonesia\", \"Venezuela\", \"Montenegro\", \"Morocco\", \"Azerbaijan\", \"Dominican Republic\", \"Greece\", \"Lebanon\", \"Portugal\", \"Bosnia and Herzegovina\", \"Honduras\", \"Macedonia\", \"Somalia\", \"Vietnam\", \"Nigeria\", \"Tajikistan\", \"Bhutan\", \"Kyrgyzstan\", \"Nepal\", \"Mongolia\", \"South Africa\", \"Tunisia\", \"Palestinian Territories\", \"Egypt\", \"Bulgaria\", \"Sierra Leone\", \"Cameroon\", \"Iran\", \"Albania\", \"Bangladesh\", \"Namibia\", \"Kenya\", \"Mozambique\", \"Myanmar\", \"Senegal\", \"Zambia\", \"Iraq\", \"Gabon\", \"Ethiopia\", \"Sri Lanka\", \"Armenia\", \"India\", \"Mauritania\", \"Congo (Brazzaville)\", \"Georgia\", \"Congo (Kinshasa)\", \"Mali\", \"Ivory Coast\", \"Cambodia\", \"Sudan\", \"Ghana\", \"Ukraine\", \"Uganda\", \"Burkina Faso\", \"Niger\", \"Malawi\", \"Chad\", \"Zimbabwe\", \"Lesotho\", \"Angola\", \"Afghanistan\", \"Botswana\", \"Benin\", \"Madagascar\", \"Haiti\", \"Yemen\", \"South Sudan\", \"Liberia\", \"Guinea\", \"Togo\", \"Rwanda\", \"Syria\", \"Tanzania\", \"Burundi\", \"Central African Republic\", \"Finland\", \"Norway\", \"Denmark\", \"Iceland\", \"Switzerland\", \"Netherlands\", \"Canada\", \"New Zealand\", \"Sweden\", \"Australia\", \"United Kingdom\", \"Austria\", \"Costa Rica\", \"Ireland\", \"Germany\", \"Belgium\", \"Luxembourg\", \"United States\", \"Israel\", \"United Arab Emirates\", \"Czech Republic\", \"Malta\", \"France\", \"Mexico\", \"Chile\", \"Taiwan\", \"Panama\", \"Brazil\", \"Argentina\", \"Guatemala\", \"Uruguay\", \"Qatar\", \"Saudi Arabia\", \"Singapore\", \"Malaysia\", \"Spain\", \"Colombia\", \"Trinidad & Tobago\", \"Slovakia\", \"El Salvador\", \"Nicaragua\", \"Poland\", \"Bahrain\", \"Uzbekistan\", \"Kuwait\", \"Thailand\", \"Italy\", \"Ecuador\", \"Belize\", \"Lithuania\", \"Slovenia\", \"Romania\", \"Latvia\", \"Japan\", \"Mauritius\", \"Jamaica\", \"South Korea\", \"Northern Cyprus\", \"Russia\", \"Kazakhstan\", \"Cyprus\", \"Bolivia\", \"Estonia\", \"Paraguay\", \"Peru\", \"Kosovo\", \"Moldova\", \"Turkmenistan\", \"Hungary\", \"Libya\", \"Philippines\", \"Honduras\", \"Belarus\", \"Turkey\", \"Pakistan\", \"Hong Kong\", \"Portugal\", \"Serbia\", \"Greece\", \"Lebanon\", \"Montenegro\", \"Croatia\", \"Dominican Republic\", \"Algeria\", \"Morocco\", \"China\", \"Azerbaijan\", \"Tajikistan\", \"Macedonia\", \"Jordan\", \"Nigeria\", \"Kyrgyzstan\", \"Bosnia and Herzegovina\", \"Mongolia\", \"Vietnam\", \"Indonesia\", \"Bhutan\", \"Somalia\", \"Cameroon\", \"Bulgaria\", \"Nepal\", \"Venezuela\", \"Gabon\", \"Palestinian Territories\", \"South Africa\", \"Iran\", \"Ivory Coast\", \"Ghana\", \"Senegal\", \"Laos\", \"Tunisia\", \"Albania\", \"Sierra Leone\", \"Congo (Brazzaville)\", \"Bangladesh\", \"Sri Lanka\", \"Iraq\", \"Mali\", \"Namibia\", \"Cambodia\", \"Burkina Faso\", \"Egypt\", \"Mozambique\", \"Kenya\", \"Zambia\", \"Mauritania\", \"Ethiopia\", \"Georgia\", \"Armenia\", \"Myanmar\", \"Chad\", \"Congo (Kinshasa)\", \"India\", \"Niger\", \"Uganda\", \"Benin\", \"Sudan\", \"Ukraine\", \"Togo\", \"Guinea\", \"Lesotho\", \"Angola\", \"Madagascar\", \"Zimbabwe\", \"Afghanistan\", \"Botswana\", \"Malawi\", \"Haiti\", \"Liberia\", \"Syria\", \"Rwanda\", \"Yemen\", \"Tanzania\", \"South Sudan\", \"Central African Republic\", \"Burundi\", \"Finland\", \"Denmark\", \"Norway\", \"Iceland\", \"Netherlands\", \"Switzerland\", \"Sweden\", \"New Zealand\", \"Canada\", \"Austria\", \"Australia\", \"Costa Rica\", \"Israel\", \"Luxembourg\", \"United Kingdom\", \"Ireland\", \"Germany\", \"Belgium\", \"United States\", \"Czech Republic\", \"United Arab Emirates\", \"Malta\", \"Mexico\", \"France\", \"Taiwan\", \"Chile\", \"Guatemala\", \"Saudi Arabia\", \"Qatar\", \"Spain\", \"Panama\", \"Brazil\", \"Uruguay\", \"Singapore\", \"El Salvador\", \"Italy\", \"Bahrain\", \"Slovakia\", \"Trinidad & Tobago\", \"Poland\", \"Uzbekistan\", \"Lithuania\", \"Colombia\", \"Slovenia\", \"Nicaragua\", \"Kosovo\", \"Argentina\", \"Romania\", \"Cyprus\", \"Ecuador\", \"Kuwait\", \"Thailand\", \"Latvia\", \"South Korea\", \"Estonia\", \"Jamaica\", \"Mauritius\", \"Japan\", \"Honduras\", \"Kazakhstan\", \"Bolivia\", \"Hungary\", \"Paraguay\", \"Northern Cyprus\", \"Peru\", \"Portugal\", \"Pakistan\", \"Russia\", \"Philippines\", \"Serbia\", \"Moldova\", \"Libya\", \"Montenegro\", \"Tajikistan\", \"Croatia\", \"Hong Kong\", \"Dominican Republic\", \"Bosnia and Herzegovina\", \"Turkey\", \"Malaysia\", \"Belarus\", \"Greece\", \"Mongolia\", \"North Macedonia\", \"Nigeria\", \"Kyrgyzstan\", \"Turkmenistan\", \"Algeria\", \"Morocco\", \"Azerbaijan\", \"Lebanon\", \"Indonesia\", \"China\", \"Vietnam\", \"Bhutan\", \"Cameroon\", \"Bulgaria\", \"Ghana\", \"Ivory Coast\", \"Nepal\", \"Jordan\", \"Benin\", \"Congo (Brazzaville)\", \"Gabon\", \"Laos\", \"South Africa\", \"Albania\", \"Venezuela\", \"Cambodia\", \"Palestinian Territories\", \"Senegal\", \"Somalia\", \"Namibia\", \"Niger\", \"Burkina Faso\", \"Armenia\", \"Iran\", \"Guinea\", \"Georgia\", \"Gambia\", \"Kenya\", \"Mauritania\", \"Mozambique\", \"Tunisia\", \"Bangladesh\", \"Iraq\", \"Congo (Kinshasa)\", \"Mali\", \"Sierra Leone\", \"Sri Lanka\", \"Myanmar\", \"Chad\", \"Ukraine\", \"Ethiopia\", \"Swaziland\", \"Uganda\", \"Egypt\", \"Zambia\", \"Togo\", \"India\", \"Liberia\", \"Comoros\", \"Madagascar\", \"Lesotho\", \"Burundi\", \"Zimbabwe\", \"Haiti\", \"Botswana\", \"Syria\", \"Malawi\", \"Yemen\", \"Rwanda\", \"Tanzania\", \"Afghanistan\", \"Central African Republic\", \"South Sudan\"], \"type\": \"scatter\", \"x\": [0.153, 0.252, 0.271, 0.354, 0.322, 0.263, 0.267, 0.33, 0.285, 0.244, 0.332, 0.144, 0.261, 0.194, 0.348, 0.298, 0.261, 0.16, 0.28, 0.046, 0.262, 0.375, 0.074, 0.111, 0.242, 0.187, 0.175, 0.08, 0.22, 0.153, 0.109, 0.099, 0.127, 0.271, 0.093, 0.158, 0.255, 0.121, 0.185, 0.117, 0.322, 0.043, 0.099, 0.144, 0.2, 0.262, 0.066, 0.083, 0.19, 0.126, 0.142, 0.359, 0.075, 0.175, 0.103, 0.107, 0.215, 0.069, 0.246, 0.146, 0.137, 0.081, 0.184, 0.191, 0.083, 0.047, 0.22, 0.082, 0.117, 0.137, 0.181, 0.133, 0.142, 0.23, 0.119, 0.258, 0.113, 0.263, 0.083, 0.26, 0.094, 0.0, 0.235, 0.185, 0.215, 0.3, 0.244, 0.073, 0.036, 0.035, 0.166, 0.498, 0.058, 0.147, 0.37, 0.187, 0.081, 0.245, 0.154, 0.285, 0.11, 0.175, 0.105, 0.043, 0.266, 0.13, 0.178, 0.064, 0.232, 0.103, 0.153, 0.243, 0.07, 0.188, 0.177, 0.095, 0.27, 0.207, 0.043, 0.269, 0.372, 0.106, 0.197, 0.059, 0.166, 0.148, 0.212, 0.153, 0.252, 0.244, 0.566, 0.198, 0.187, 0.209, 0.074, 0.252, 0.076, 0.247, 0.177, 0.2, 0.233, 0.275, 0.169, 0.107, 0.176, 0.151, 0.419, 0.025, 0.331, 0.218, 0.108, 0.217, 0.276, 0.158, 0.235, 0.202], \"y\": [1.587, 1.573, 1.582, 1.624, 1.522, 1.526, 1.487, 1.557, 1.505, 1.475, 1.548, 1.441, 1.455, 1.479, 1.538, 1.553, 1.454, 1.504, 1.457, 1.487, 1.31, 1.52, 1.323, 1.472, 1.43, 1.369, 1.269, 1.357, 1.313, 1.484, 1.442, 1.439, 1.465, 1.463, 1.242, 1.488, 1.368, 1.504, 1.477, 1.438, 1.529, 1.515, 1.41, 1.523, 1.325, 1.232, 1.432, 1.232, 1.223, 1.312, 1.319, 1.409, 1.465, 1.219, 1.528, 1.478, 1.402, 1.419, 1.236, 1.508, 1.209, 1.41, 1.475, 1.252, 1.274, 1.431, 0.886, 1.452, 1.293, 1.383, 1.328, 1.303, 1.361, 1.098, 1.266, 1.277, 1.401, 1.212, 1.36, 1.171, 1.465, 1.156, 1.531, 1.294, 1.111, 1.438, 1.538, 1.16, 0.782, 1.147, 1.224, 1.203, 1.125, 1.346, 1.321, 0.91, 1.513, 0.868, 0.808, 1.226, 1.225, 0.437, 0.799, 1.183, 1.03, 1.351, 0.848, 1.427, 1.122, 1.247, 1.134, 0.698, 1.313, 0.774, 1.056, 1.055, 0.842, 0.829, 0.666, 0.939, 0.983, 1.167, 0.986, 1.0, 0.928, 0.98, 1.125, 1.105, 0.841, 1.265, 1.181, 0.766, 1.39, 1.033, 1.149, 1.069, 1.039, 1.058, 0.572, 0.765, 0.922, 0.757, 0.916, 1.169, 0.447, 1.114, 0.688, 1.145, 0.378, 0.56, 1.163, 0.711, 0.885, 0.517, 0.0, 0.575]}],                        {\"barmode\": \"group\", \"hovermode\": \"x\", \"template\": {\"data\": {\"bar\": [{\"error_x\": {\"color\": \"#2a3f5f\"}, \"error_y\": {\"color\": \"#2a3f5f\"}, \"marker\": {\"line\": {\"color\": \"#E5ECF6\", \"width\": 0.5}}, \"type\": \"bar\"}], \"barpolar\": [{\"marker\": {\"line\": {\"color\": \"#E5ECF6\", \"width\": 0.5}}, \"type\": \"barpolar\"}], \"carpet\": [{\"aaxis\": {\"endlinecolor\": \"#2a3f5f\", \"gridcolor\": \"white\", \"linecolor\": \"white\", \"minorgridcolor\": \"white\", \"startlinecolor\": \"#2a3f5f\"}, \"baxis\": {\"endlinecolor\": \"#2a3f5f\", \"gridcolor\": \"white\", \"linecolor\": \"white\", \"minorgridcolor\": \"white\", \"startlinecolor\": \"#2a3f5f\"}, \"type\": \"carpet\"}], \"choropleth\": [{\"colorbar\": {\"outlinewidth\": 0, \"ticks\": \"\"}, \"type\": \"choropleth\"}], \"contour\": [{\"colorbar\": {\"outlinewidth\": 0, \"ticks\": \"\"}, \"colorscale\": [[0.0, \"#0d0887\"], [0.1111111111111111, \"#46039f\"], [0.2222222222222222, \"#7201a8\"], [0.3333333333333333, \"#9c179e\"], [0.4444444444444444, \"#bd3786\"], [0.5555555555555556, \"#d8576b\"], [0.6666666666666666, \"#ed7953\"], [0.7777777777777778, \"#fb9f3a\"], [0.8888888888888888, \"#fdca26\"], [1.0, \"#f0f921\"]], \"type\": \"contour\"}], \"contourcarpet\": [{\"colorbar\": {\"outlinewidth\": 0, \"ticks\": \"\"}, \"type\": \"contourcarpet\"}], \"heatmap\": [{\"colorbar\": {\"outlinewidth\": 0, \"ticks\": \"\"}, \"colorscale\": [[0.0, \"#0d0887\"], [0.1111111111111111, \"#46039f\"], [0.2222222222222222, \"#7201a8\"], [0.3333333333333333, \"#9c179e\"], [0.4444444444444444, \"#bd3786\"], [0.5555555555555556, \"#d8576b\"], [0.6666666666666666, \"#ed7953\"], [0.7777777777777778, \"#fb9f3a\"], [0.8888888888888888, \"#fdca26\"], [1.0, \"#f0f921\"]], \"type\": \"heatmap\"}], \"heatmapgl\": [{\"colorbar\": {\"outlinewidth\": 0, \"ticks\": \"\"}, \"colorscale\": [[0.0, \"#0d0887\"], [0.1111111111111111, \"#46039f\"], [0.2222222222222222, \"#7201a8\"], [0.3333333333333333, \"#9c179e\"], [0.4444444444444444, \"#bd3786\"], [0.5555555555555556, \"#d8576b\"], [0.6666666666666666, \"#ed7953\"], [0.7777777777777778, \"#fb9f3a\"], [0.8888888888888888, \"#fdca26\"], [1.0, \"#f0f921\"]], \"type\": \"heatmapgl\"}], \"histogram\": [{\"marker\": {\"colorbar\": {\"outlinewidth\": 0, \"ticks\": \"\"}}, \"type\": \"histogram\"}], \"histogram2d\": [{\"colorbar\": {\"outlinewidth\": 0, \"ticks\": \"\"}, \"colorscale\": [[0.0, \"#0d0887\"], [0.1111111111111111, \"#46039f\"], [0.2222222222222222, \"#7201a8\"], [0.3333333333333333, \"#9c179e\"], [0.4444444444444444, \"#bd3786\"], [0.5555555555555556, \"#d8576b\"], [0.6666666666666666, \"#ed7953\"], [0.7777777777777778, \"#fb9f3a\"], [0.8888888888888888, \"#fdca26\"], [1.0, \"#f0f921\"]], \"type\": \"histogram2d\"}], \"histogram2dcontour\": [{\"colorbar\": {\"outlinewidth\": 0, \"ticks\": \"\"}, \"colorscale\": [[0.0, \"#0d0887\"], [0.1111111111111111, \"#46039f\"], [0.2222222222222222, \"#7201a8\"], [0.3333333333333333, \"#9c179e\"], [0.4444444444444444, \"#bd3786\"], [0.5555555555555556, \"#d8576b\"], [0.6666666666666666, \"#ed7953\"], [0.7777777777777778, \"#fb9f3a\"], [0.8888888888888888, \"#fdca26\"], [1.0, \"#f0f921\"]], \"type\": \"histogram2dcontour\"}], \"mesh3d\": [{\"colorbar\": {\"outlinewidth\": 0, \"ticks\": \"\"}, \"type\": \"mesh3d\"}], \"parcoords\": [{\"line\": {\"colorbar\": {\"outlinewidth\": 0, \"ticks\": \"\"}}, \"type\": \"parcoords\"}], \"pie\": [{\"automargin\": true, \"type\": \"pie\"}], \"scatter\": [{\"marker\": {\"colorbar\": {\"outlinewidth\": 0, \"ticks\": \"\"}}, \"type\": \"scatter\"}], \"scatter3d\": [{\"line\": {\"colorbar\": {\"outlinewidth\": 0, \"ticks\": \"\"}}, \"marker\": {\"colorbar\": {\"outlinewidth\": 0, \"ticks\": \"\"}}, \"type\": \"scatter3d\"}], \"scattercarpet\": [{\"marker\": {\"colorbar\": {\"outlinewidth\": 0, \"ticks\": \"\"}}, \"type\": \"scattercarpet\"}], \"scattergeo\": [{\"marker\": {\"colorbar\": {\"outlinewidth\": 0, \"ticks\": \"\"}}, \"type\": \"scattergeo\"}], \"scattergl\": [{\"marker\": {\"colorbar\": {\"outlinewidth\": 0, \"ticks\": \"\"}}, \"type\": \"scattergl\"}], \"scattermapbox\": [{\"marker\": {\"colorbar\": {\"outlinewidth\": 0, \"ticks\": \"\"}}, \"type\": \"scattermapbox\"}], \"scatterpolar\": [{\"marker\": {\"colorbar\": {\"outlinewidth\": 0, \"ticks\": \"\"}}, \"type\": \"scatterpolar\"}], \"scatterpolargl\": [{\"marker\": {\"colorbar\": {\"outlinewidth\": 0, \"ticks\": \"\"}}, \"type\": \"scatterpolargl\"}], \"scatterternary\": [{\"marker\": {\"colorbar\": {\"outlinewidth\": 0, \"ticks\": \"\"}}, \"type\": \"scatterternary\"}], \"surface\": [{\"colorbar\": {\"outlinewidth\": 0, \"ticks\": \"\"}, \"colorscale\": [[0.0, \"#0d0887\"], [0.1111111111111111, \"#46039f\"], [0.2222222222222222, \"#7201a8\"], [0.3333333333333333, \"#9c179e\"], [0.4444444444444444, \"#bd3786\"], [0.5555555555555556, \"#d8576b\"], [0.6666666666666666, \"#ed7953\"], [0.7777777777777778, \"#fb9f3a\"], [0.8888888888888888, \"#fdca26\"], [1.0, \"#f0f921\"]], \"type\": \"surface\"}], \"table\": [{\"cells\": {\"fill\": {\"color\": \"#EBF0F8\"}, \"line\": {\"color\": \"white\"}}, \"header\": {\"fill\": {\"color\": \"#C8D4E3\"}, \"line\": {\"color\": \"white\"}}, \"type\": \"table\"}]}, \"layout\": {\"annotationdefaults\": {\"arrowcolor\": \"#2a3f5f\", \"arrowhead\": 0, \"arrowwidth\": 1}, \"autotypenumbers\": \"strict\", \"coloraxis\": {\"colorbar\": {\"outlinewidth\": 0, \"ticks\": \"\"}}, \"colorscale\": {\"diverging\": [[0, \"#8e0152\"], [0.1, \"#c51b7d\"], [0.2, \"#de77ae\"], [0.3, \"#f1b6da\"], [0.4, \"#fde0ef\"], [0.5, \"#f7f7f7\"], [0.6, \"#e6f5d0\"], [0.7, \"#b8e186\"], [0.8, \"#7fbc41\"], [0.9, \"#4d9221\"], [1, \"#276419\"]], \"sequential\": [[0.0, \"#0d0887\"], [0.1111111111111111, \"#46039f\"], [0.2222222222222222, \"#7201a8\"], [0.3333333333333333, \"#9c179e\"], [0.4444444444444444, \"#bd3786\"], [0.5555555555555556, \"#d8576b\"], [0.6666666666666666, \"#ed7953\"], [0.7777777777777778, \"#fb9f3a\"], [0.8888888888888888, \"#fdca26\"], [1.0, \"#f0f921\"]], \"sequentialminus\": [[0.0, \"#0d0887\"], [0.1111111111111111, \"#46039f\"], [0.2222222222222222, \"#7201a8\"], [0.3333333333333333, \"#9c179e\"], [0.4444444444444444, \"#bd3786\"], [0.5555555555555556, \"#d8576b\"], [0.6666666666666666, \"#ed7953\"], [0.7777777777777778, \"#fb9f3a\"], [0.8888888888888888, \"#fdca26\"], [1.0, \"#f0f921\"]]}, \"colorway\": [\"#636efa\", \"#EF553B\", \"#00cc96\", \"#ab63fa\", \"#FFA15A\", \"#19d3f3\", \"#FF6692\", \"#B6E880\", \"#FF97FF\", \"#FECB52\"], \"font\": {\"color\": \"#2a3f5f\"}, \"geo\": {\"bgcolor\": \"white\", \"lakecolor\": \"white\", \"landcolor\": \"#E5ECF6\", \"showlakes\": true, \"showland\": true, \"subunitcolor\": \"white\"}, \"hoverlabel\": {\"align\": \"left\"}, \"hovermode\": \"closest\", \"mapbox\": {\"style\": \"light\"}, \"paper_bgcolor\": \"white\", \"plot_bgcolor\": \"#E5ECF6\", \"polar\": {\"angularaxis\": {\"gridcolor\": \"white\", \"linecolor\": \"white\", \"ticks\": \"\"}, \"bgcolor\": \"#E5ECF6\", \"radialaxis\": {\"gridcolor\": \"white\", \"linecolor\": \"white\", \"ticks\": \"\"}}, \"scene\": {\"xaxis\": {\"backgroundcolor\": \"#E5ECF6\", \"gridcolor\": \"white\", \"gridwidth\": 2, \"linecolor\": \"white\", \"showbackground\": true, \"ticks\": \"\", \"zerolinecolor\": \"white\"}, \"yaxis\": {\"backgroundcolor\": \"#E5ECF6\", \"gridcolor\": \"white\", \"gridwidth\": 2, \"linecolor\": \"white\", \"showbackground\": true, \"ticks\": \"\", \"zerolinecolor\": \"white\"}, \"zaxis\": {\"backgroundcolor\": \"#E5ECF6\", \"gridcolor\": \"white\", \"gridwidth\": 2, \"linecolor\": \"white\", \"showbackground\": true, \"ticks\": \"\", \"zerolinecolor\": \"white\"}}, \"shapedefaults\": {\"line\": {\"color\": \"#2a3f5f\"}}, \"ternary\": {\"aaxis\": {\"gridcolor\": \"white\", \"linecolor\": \"white\", \"ticks\": \"\"}, \"baxis\": {\"gridcolor\": \"white\", \"linecolor\": \"white\", \"ticks\": \"\"}, \"bgcolor\": \"#E5ECF6\", \"caxis\": {\"gridcolor\": \"white\", \"linecolor\": \"white\", \"ticks\": \"\"}}, \"title\": {\"x\": 0.05}, \"xaxis\": {\"automargin\": true, \"gridcolor\": \"white\", \"linecolor\": \"white\", \"ticks\": \"\", \"title\": {\"standoff\": 15}, \"zerolinecolor\": \"white\", \"zerolinewidth\": 2}, \"yaxis\": {\"automargin\": true, \"gridcolor\": \"white\", \"linecolor\": \"white\", \"ticks\": \"\", \"title\": {\"standoff\": 15}, \"zerolinecolor\": \"white\", \"zerolinewidth\": 2}}}, \"title\": {\"text\": \"Bubble Chart: x = Family, y = Generosity, Size = Happiness Score, Color = Happiness Score, Year = 2019\"}, \"xaxis\": {\"title\": {\"text\": \"Freedom\"}}, \"yaxis\": {\"title\": {\"text\": \"Trust\"}}},                        {\"responsive\": true}                    ).then(function(){\n",
       "                            \n",
       "var gd = document.getElementById('f1b20738-33ef-47cc-bcfe-cf61bf9de5cc');\n",
       "var x = new MutationObserver(function (mutations, observer) {{\n",
       "        var display = window.getComputedStyle(gd).display;\n",
       "        if (!display || display === 'none') {{\n",
       "            console.log([gd, 'removed!']);\n",
       "            Plotly.purge(gd);\n",
       "            observer.disconnect();\n",
       "        }}\n",
       "}});\n",
       "\n",
       "// Listen for the removal of the full notebook cells\n",
       "var notebookContainer = gd.closest('#notebook-container');\n",
       "if (notebookContainer) {{\n",
       "    x.observe(notebookContainer, {childList: true});\n",
       "}}\n",
       "\n",
       "// Listen for the clearing of the current output cell\n",
       "var outputEl = gd.closest('.output');\n",
       "if (outputEl) {{\n",
       "    x.observe(outputEl, {childList: true});\n",
       "}}\n",
       "\n",
       "                        })                };                });            </script>        </div>"
      ]
     },
     "metadata": {},
     "output_type": "display_data"
    }
   ],
   "source": [
    "bubble_x = 'Family'\n",
    "bubble_y = 'Generosity'\n",
    "bubble_color = 'Happiness Score'\n",
    "bubble_size = 'Happiness Score'\n",
    "data = dict(y = whr_data.loc[whr_data['Year'] == 2019][bubble_x],\n",
    "            x = whr_data.loc[whr_data['Year'] == 2019][bubble_y],\n",
    "            mode = 'markers',\n",
    "            marker = {\n",
    "                'color': whr_data[bubble_color],\n",
    "                'size': whr_data[bubble_size],\n",
    "                'showscale': True,\n",
    "            },\n",
    "            text = whr_data.Country)\n",
    "\n",
    "layout = go.Layout(barmode='group', hovermode=\"x\",\n",
    "                   title=f'Bubble Chart: x = {bubble_x}, y = {bubble_y}, Size = {bubble_size}, Color = {bubble_color}, Year = 2019',\n",
    "                   xaxis=dict(title='Freedom'),\n",
    "                   yaxis=dict(title='Trust'))\n",
    "\n",
    "fig = go.Figure(data=data, layout=layout)\n",
    "iplot(fig)"
   ]
  },
  {
   "cell_type": "markdown",
   "id": "fluid-crash",
   "metadata": {},
   "source": [
    "Conceptual understanding questions bc bubble charts can be confusing as hell\n",
    "\n",
    "1. Given:\n",
    "\n",
    "    `bubble_x = 'Family'\n",
    "    bubble_y = 'Freedom'\n",
    "    bubble_size = 'Happiness Score'\n",
    "    bubble_color = 'Happiness Score'`\n",
    "    \n",
    "If I see a small bubble with low x value and high y value, what does that mean?"
   ]
  },
  {
   "cell_type": "markdown",
   "id": "supported-consequence",
   "metadata": {},
   "source": []
  },
  {
   "cell_type": "markdown",
   "id": "bacterial-stations",
   "metadata": {},
   "source": [
    "2. Given:\n",
    "\n",
    "    `bubble_x = 'Family'\n",
    "    bubble_y = 'Economy'\n",
    "    bubble_size = 'Happiness Score'\n",
    "    bubble_color = 'Trust (Government Corruption)'`\n",
    "    \n",
    "If I see a large, yellow bubble with high x value and high y value, what does that mean?\n",
    "\n",
    "\n",
    "*Hint: Denmark is a country that is associated with the above characteristics*"
   ]
  },
  {
   "cell_type": "markdown",
   "id": "promotional-northwest",
   "metadata": {},
   "source": []
  },
  {
   "cell_type": "markdown",
   "id": "informed-effectiveness",
   "metadata": {},
   "source": [
    "# Intro to Outliers\n",
    "\n",
    "What are outliers and why are they important to understand when doing data analysis? They're lil' data points that diverge from what all other data points are doing. They are the quirky ones that are out of place in what we expect the data to show. For example, let's say Health is highly correlated with Happiness Score. But what if there's a country, let's say it's called ShalinLand where they only eat Trader Joe's Frozen Pizzas because they're a monster. But what if their happiness is at its peak? It's intriguing, we're thinking how the heck is this country of insanely unhealthy maniacs still finding happiness? It lets us ask more questions and consider alternate hypotheses, etc. \n",
    "\n",
    "We can find outliers via visualizations (if you look at the visualizations above, I'm sure you can find a few points that stick out) or calculate them *mathematically*.\n",
    "\n",
    "In order to calculate the outliers, there's this process where you find the interquartile ranges, find the mean, do a lil mathematics, and out pops what you're looking for. Instead of that *slightly* annoying process, right now we can simply use the `zcore` function that the scipy library so conveniently has for us. \n",
    "\n",
    "This will calculate how far some value is from the mean/average of the data in terms of standard deviations. (If this language is confusing to you, data8 will clear it up but for now, think of it as how far a certain datapoint is from the average of all the data. If it's a certain distance away, it's considered an outlier)"
   ]
  },
  {
   "cell_type": "markdown",
   "id": "bulgarian-failing",
   "metadata": {},
   "source": [
    "#### Find outliers in the `whr_data` table where the absolute value of the zscore for Happiness Score is larger than 2:\n",
    "\n",
    "*Hint 1: stats.zscore(...) will return an array of zscores*\n",
    "\n",
    "*Hint 2: np.abs(...) will come in handy*\n",
    "\n",
    "*Hint 3: If we want to filter a dataframe, we can do somehting like `df[array > threshold]`*"
   ]
  },
  {
   "cell_type": "code",
   "execution_count": 57,
   "id": "hundred-plastic",
   "metadata": {},
   "outputs": [
    {
     "data": {
      "text/html": [
       "<div>\n",
       "<style scoped>\n",
       "    .dataframe tbody tr th:only-of-type {\n",
       "        vertical-align: middle;\n",
       "    }\n",
       "\n",
       "    .dataframe tbody tr th {\n",
       "        vertical-align: top;\n",
       "    }\n",
       "\n",
       "    .dataframe thead th {\n",
       "        text-align: right;\n",
       "    }\n",
       "</style>\n",
       "<table border=\"1\" class=\"dataframe\">\n",
       "  <thead>\n",
       "    <tr style=\"text-align: right;\">\n",
       "      <th></th>\n",
       "      <th>Country</th>\n",
       "      <th>Region</th>\n",
       "      <th>Happiness Rank</th>\n",
       "      <th>Happiness Score</th>\n",
       "      <th>Economy (GDP per Capita)</th>\n",
       "      <th>Family</th>\n",
       "      <th>Health (Life Expectancy)</th>\n",
       "      <th>Freedom</th>\n",
       "      <th>Trust (Government Corruption)</th>\n",
       "      <th>Generosity</th>\n",
       "      <th>Dystopia Residual</th>\n",
       "      <th>Year</th>\n",
       "    </tr>\n",
       "  </thead>\n",
       "  <tbody>\n",
       "    <tr>\n",
       "      <th>155</th>\n",
       "      <td>Syria</td>\n",
       "      <td>Middle East and Northern Africa</td>\n",
       "      <td>156</td>\n",
       "      <td>3.006</td>\n",
       "      <td>0.663200</td>\n",
       "      <td>0.474890</td>\n",
       "      <td>0.721930</td>\n",
       "      <td>0.156840</td>\n",
       "      <td>0.189060</td>\n",
       "      <td>0.471790</td>\n",
       "      <td>0.328580</td>\n",
       "      <td>2015</td>\n",
       "    </tr>\n",
       "    <tr>\n",
       "      <th>156</th>\n",
       "      <td>Burundi</td>\n",
       "      <td>Sub-Saharan Africa</td>\n",
       "      <td>157</td>\n",
       "      <td>2.905</td>\n",
       "      <td>0.015300</td>\n",
       "      <td>0.415870</td>\n",
       "      <td>0.223960</td>\n",
       "      <td>0.118500</td>\n",
       "      <td>0.100620</td>\n",
       "      <td>0.197270</td>\n",
       "      <td>1.833020</td>\n",
       "      <td>2015</td>\n",
       "    </tr>\n",
       "    <tr>\n",
       "      <th>157</th>\n",
       "      <td>Togo</td>\n",
       "      <td>Sub-Saharan Africa</td>\n",
       "      <td>158</td>\n",
       "      <td>2.839</td>\n",
       "      <td>0.208680</td>\n",
       "      <td>0.139950</td>\n",
       "      <td>0.284430</td>\n",
       "      <td>0.364530</td>\n",
       "      <td>0.107310</td>\n",
       "      <td>0.166810</td>\n",
       "      <td>1.567260</td>\n",
       "      <td>2015</td>\n",
       "    </tr>\n",
       "    <tr>\n",
       "      <th>313</th>\n",
       "      <td>Syria</td>\n",
       "      <td>Middle East and Northern Africa</td>\n",
       "      <td>156</td>\n",
       "      <td>3.069</td>\n",
       "      <td>0.747190</td>\n",
       "      <td>0.148660</td>\n",
       "      <td>0.629940</td>\n",
       "      <td>0.069120</td>\n",
       "      <td>0.172330</td>\n",
       "      <td>0.483970</td>\n",
       "      <td>0.817890</td>\n",
       "      <td>2016</td>\n",
       "    </tr>\n",
       "    <tr>\n",
       "      <th>314</th>\n",
       "      <td>Burundi</td>\n",
       "      <td>Sub-Saharan Africa</td>\n",
       "      <td>157</td>\n",
       "      <td>2.905</td>\n",
       "      <td>0.068310</td>\n",
       "      <td>0.234420</td>\n",
       "      <td>0.157470</td>\n",
       "      <td>0.043200</td>\n",
       "      <td>0.094190</td>\n",
       "      <td>0.202900</td>\n",
       "      <td>2.104040</td>\n",
       "      <td>2016</td>\n",
       "    </tr>\n",
       "    <tr>\n",
       "      <th>468</th>\n",
       "      <td>Burundi</td>\n",
       "      <td>Sub-Saharan Africa</td>\n",
       "      <td>154</td>\n",
       "      <td>2.905</td>\n",
       "      <td>0.091623</td>\n",
       "      <td>0.629794</td>\n",
       "      <td>0.151611</td>\n",
       "      <td>0.059901</td>\n",
       "      <td>0.084148</td>\n",
       "      <td>0.204435</td>\n",
       "      <td>1.683024</td>\n",
       "      <td>2017</td>\n",
       "    </tr>\n",
       "    <tr>\n",
       "      <th>469</th>\n",
       "      <td>Central African Republic</td>\n",
       "      <td>Sub-Saharan Africa</td>\n",
       "      <td>155</td>\n",
       "      <td>2.693</td>\n",
       "      <td>0.000000</td>\n",
       "      <td>0.000000</td>\n",
       "      <td>0.018773</td>\n",
       "      <td>0.270842</td>\n",
       "      <td>0.056565</td>\n",
       "      <td>0.280876</td>\n",
       "      <td>2.066005</td>\n",
       "      <td>2017</td>\n",
       "    </tr>\n",
       "    <tr>\n",
       "      <th>624</th>\n",
       "      <td>Central African Republic</td>\n",
       "      <td>Sub-Saharan Africa</td>\n",
       "      <td>155</td>\n",
       "      <td>3.083</td>\n",
       "      <td>0.024000</td>\n",
       "      <td>0.000000</td>\n",
       "      <td>0.010000</td>\n",
       "      <td>0.305000</td>\n",
       "      <td>0.038000</td>\n",
       "      <td>0.218000</td>\n",
       "      <td>0.000000</td>\n",
       "      <td>2018</td>\n",
       "    </tr>\n",
       "    <tr>\n",
       "      <th>625</th>\n",
       "      <td>Burundi</td>\n",
       "      <td>Sub-Saharan Africa</td>\n",
       "      <td>156</td>\n",
       "      <td>2.905</td>\n",
       "      <td>0.091000</td>\n",
       "      <td>0.627000</td>\n",
       "      <td>0.145000</td>\n",
       "      <td>0.065000</td>\n",
       "      <td>0.076000</td>\n",
       "      <td>0.149000</td>\n",
       "      <td>0.000000</td>\n",
       "      <td>2018</td>\n",
       "    </tr>\n",
       "    <tr>\n",
       "      <th>626</th>\n",
       "      <td>Finland</td>\n",
       "      <td>Western Europe</td>\n",
       "      <td>1</td>\n",
       "      <td>7.769</td>\n",
       "      <td>1.340000</td>\n",
       "      <td>1.587000</td>\n",
       "      <td>0.986000</td>\n",
       "      <td>0.596000</td>\n",
       "      <td>0.393000</td>\n",
       "      <td>0.153000</td>\n",
       "      <td>0.000000</td>\n",
       "      <td>2019</td>\n",
       "    </tr>\n",
       "    <tr>\n",
       "      <th>780</th>\n",
       "      <td>Central African Republic</td>\n",
       "      <td>Sub-Saharan Africa</td>\n",
       "      <td>155</td>\n",
       "      <td>3.083</td>\n",
       "      <td>0.026000</td>\n",
       "      <td>0.000000</td>\n",
       "      <td>0.105000</td>\n",
       "      <td>0.225000</td>\n",
       "      <td>0.035000</td>\n",
       "      <td>0.235000</td>\n",
       "      <td>0.000000</td>\n",
       "      <td>2019</td>\n",
       "    </tr>\n",
       "    <tr>\n",
       "      <th>781</th>\n",
       "      <td>South Sudan</td>\n",
       "      <td>Sub-Saharan Africa</td>\n",
       "      <td>156</td>\n",
       "      <td>2.853</td>\n",
       "      <td>0.306000</td>\n",
       "      <td>0.575000</td>\n",
       "      <td>0.295000</td>\n",
       "      <td>0.010000</td>\n",
       "      <td>0.091000</td>\n",
       "      <td>0.202000</td>\n",
       "      <td>0.000000</td>\n",
       "      <td>2019</td>\n",
       "    </tr>\n",
       "  </tbody>\n",
       "</table>\n",
       "</div>"
      ],
      "text/plain": [
       "                      Country                           Region  \\\n",
       "155                     Syria  Middle East and Northern Africa   \n",
       "156                   Burundi               Sub-Saharan Africa   \n",
       "157                      Togo               Sub-Saharan Africa   \n",
       "313                     Syria  Middle East and Northern Africa   \n",
       "314                   Burundi               Sub-Saharan Africa   \n",
       "468                   Burundi               Sub-Saharan Africa   \n",
       "469  Central African Republic               Sub-Saharan Africa   \n",
       "624  Central African Republic               Sub-Saharan Africa   \n",
       "625                   Burundi               Sub-Saharan Africa   \n",
       "626                   Finland                   Western Europe   \n",
       "780  Central African Republic               Sub-Saharan Africa   \n",
       "781               South Sudan               Sub-Saharan Africa   \n",
       "\n",
       "     Happiness Rank  Happiness Score  Economy (GDP per Capita)    Family  \\\n",
       "155             156            3.006                  0.663200  0.474890   \n",
       "156             157            2.905                  0.015300  0.415870   \n",
       "157             158            2.839                  0.208680  0.139950   \n",
       "313             156            3.069                  0.747190  0.148660   \n",
       "314             157            2.905                  0.068310  0.234420   \n",
       "468             154            2.905                  0.091623  0.629794   \n",
       "469             155            2.693                  0.000000  0.000000   \n",
       "624             155            3.083                  0.024000  0.000000   \n",
       "625             156            2.905                  0.091000  0.627000   \n",
       "626               1            7.769                  1.340000  1.587000   \n",
       "780             155            3.083                  0.026000  0.000000   \n",
       "781             156            2.853                  0.306000  0.575000   \n",
       "\n",
       "     Health (Life Expectancy)   Freedom  Trust (Government Corruption)  \\\n",
       "155                  0.721930  0.156840                       0.189060   \n",
       "156                  0.223960  0.118500                       0.100620   \n",
       "157                  0.284430  0.364530                       0.107310   \n",
       "313                  0.629940  0.069120                       0.172330   \n",
       "314                  0.157470  0.043200                       0.094190   \n",
       "468                  0.151611  0.059901                       0.084148   \n",
       "469                  0.018773  0.270842                       0.056565   \n",
       "624                  0.010000  0.305000                       0.038000   \n",
       "625                  0.145000  0.065000                       0.076000   \n",
       "626                  0.986000  0.596000                       0.393000   \n",
       "780                  0.105000  0.225000                       0.035000   \n",
       "781                  0.295000  0.010000                       0.091000   \n",
       "\n",
       "     Generosity  Dystopia Residual  Year  \n",
       "155    0.471790           0.328580  2015  \n",
       "156    0.197270           1.833020  2015  \n",
       "157    0.166810           1.567260  2015  \n",
       "313    0.483970           0.817890  2016  \n",
       "314    0.202900           2.104040  2016  \n",
       "468    0.204435           1.683024  2017  \n",
       "469    0.280876           2.066005  2017  \n",
       "624    0.218000           0.000000  2018  \n",
       "625    0.149000           0.000000  2018  \n",
       "626    0.153000           0.000000  2019  \n",
       "780    0.235000           0.000000  2019  \n",
       "781    0.202000           0.000000  2019  "
      ]
     },
     "execution_count": 57,
     "metadata": {},
     "output_type": "execute_result"
    }
   ],
   "source": [
    "happiness_score_column = whr_data['Happiness Score']\n",
    "abs_zscores = np.abs(stats.zscore(happiness_score_column))\n",
    "filtered_whr_data = whr_data[abs_zscores > 2]\n",
    "\n",
    "filtered_whr_data"
   ]
  },
  {
   "cell_type": "markdown",
   "id": "julian-abortion",
   "metadata": {},
   "source": [
    "What do you notice about these outliers? Are there more outliers that have a low happiness score or high happiness score? Try playing around with what the feature you're trying to find an outlier for to see how the outlier countries change!"
   ]
  },
  {
   "cell_type": "markdown",
   "id": "charged-documentary",
   "metadata": {},
   "source": []
  },
  {
   "cell_type": "markdown",
   "id": "broke-advertiser",
   "metadata": {},
   "source": [
    "For multivariate datasets (i.e. we are trying to find outliers when plotting two variables against each other) we can use what is known as the Mahalanobis Distance (feel free to read up on it [here](https://towardsdatascience.com/multivariate-outlier-detection-in-python-e946cfc843b3)). This concept is incredibly out of scope for most classes you may take except for EECS 127 and CS 189. The main idea is that it finds outliers in situations where there are multiple variables. Use the above linked reading to find out more if you are interested in the math behind it. We can use this, along with scipy's `scipy.spatial.distance.mahalanobis` function in order to calculate that distance and find outliers in an n-dimensional space."
   ]
  },
  {
   "cell_type": "markdown",
   "id": "touched-complement",
   "metadata": {},
   "source": [
    "### NOTE: This next part might be slightly more challenging. Feel free to ask any questions and talk together with your partner to research the different ways to fill in the code!"
   ]
  },
  {
   "cell_type": "markdown",
   "id": "single-california",
   "metadata": {},
   "source": [
    "First, we want to choose two features for us to find outliers for. Then, we will find the centerpoint of the data which will allow us to do some advanced math (covariance matrix and Mahalanobis distance) in order to find out which countries are outliers for these two features specifically! Again, I highly recommend playing around with pairs of features to see what outliers you can find."
   ]
  },
  {
   "cell_type": "code",
   "execution_count": 131,
   "id": "legitimate-thermal",
   "metadata": {
    "scrolled": true
   },
   "outputs": [
    {
     "name": "stdout",
     "output_type": "stream",
     "text": [
      "[5.40709615 0.39257051]\n"
     ]
    }
   ],
   "source": [
    "from scipy.spatial import distance\n",
    "from scipy.stats import chi2\n",
    "\n",
    "# take two features and isolate them in the dataframe\n",
    "feat1 = 'Happiness Score'\n",
    "feat2 = 'Freedom'\n",
    "\n",
    "isolated_whr_data = whr_data.loc[whr_data['Year'] == 2019][[feat1, feat2]]\n",
    "\n",
    "# find the centerpoint (hint: simply using np.mean on the dataframe will work here)\n",
    "centerpoint = np.array(np.mean(isolated_whr_data))\n",
    "print(centerpoint) # you should get [5.40709615 0.39257051]\n",
    "\n",
    "# finding covariance matrix (very out of scope)\n",
    "covariance = np.cov(isolated_whr_data, rowvar=False)\n",
    "covaraince_inv = np.linalg.matrix_power(covariance, -1)"
   ]
  },
  {
   "cell_type": "markdown",
   "id": "third-medium",
   "metadata": {},
   "source": [
    "Next, we are going to create a list of tuples from the two columns we chose above. This is a pretty tricky task and requires the use of the [zip](https://www.programiz.com/python-programming/methods/built-in/zip) function in Python. Moreover, our goal should be to end up with a list of tuples that looks something like...\n",
    "\n",
    "`[(value, value), (value, value)...]`\n",
    "\n",
    "Then, we will be able to calculate the distance from our (x, y) point and the center of the data, which will give us an indication of where outliers may be!"
   ]
  },
  {
   "cell_type": "code",
   "execution_count": 132,
   "id": "disciplinary-subscription",
   "metadata": {
    "scrolled": true
   },
   "outputs": [
    {
     "data": {
      "text/plain": [
       "array([2.13818431, 1.99818504, 1.98183601, 1.91519467, 1.87248581,\n",
       "       1.87750411, 1.77218282, 1.7666644 , 1.74400477, 1.65263014,\n",
       "       1.65758951, 1.61187712, 1.99770071, 1.51457044, 1.57203621,\n",
       "       1.4506921 , 1.42161855, 1.38561274, 1.39190522, 1.34368777,\n",
       "       1.53911673, 1.34527459, 1.13677571, 1.12512264, 1.36360536,\n",
       "       1.32486597, 1.08628769, 0.89334661, 1.16634919, 1.19840587,\n",
       "       0.9514251 , 0.98612591, 0.97162387, 1.1500684 , 0.78728638,\n",
       "       2.01113753, 1.01614911, 1.21443469, 0.77928646, 0.75303999,\n",
       "       1.69230542, 1.47769203, 0.67896782, 1.19734035, 0.63108737,\n",
       "       0.73383553, 0.65720414, 0.62169817, 0.63910033, 0.75536768,\n",
       "       0.72547386, 1.15534719, 1.49700646, 2.32174309, 0.71585785,\n",
       "       0.68248938, 0.736006  , 0.45503126, 0.80051504, 0.37484811,\n",
       "       0.84242744, 1.88308098, 0.87470176, 0.2797004 , 0.43599682,\n",
       "       0.84124393, 0.85500423, 0.68034022, 1.27883677, 1.07220402,\n",
       "       1.32985981, 0.16430092, 1.73135713, 0.08614263, 0.83369936,\n",
       "       0.38814746, 0.87366322, 1.51662015, 1.65275194, 1.02167072,\n",
       "       1.28496863, 2.68572559, 0.57522919, 0.34226545, 0.39232856,\n",
       "       1.07607387, 0.18170541, 2.48191044, 0.38279652, 0.29064472,\n",
       "       1.37880186, 0.98580456, 1.23674757, 1.43290792, 0.80174504,\n",
       "       0.34982155, 0.5706964 , 0.40092937, 0.41998558, 0.82771318,\n",
       "       0.50488825, 0.47299892, 0.56856385, 0.70821259, 1.77289353,\n",
       "       0.73031354, 0.7075154 , 1.70819399, 2.35745153, 1.16981562,\n",
       "       0.76685095, 1.98108467, 0.87996781, 0.71585462, 0.98814717,\n",
       "       0.86240421, 0.80008083, 0.78481548, 0.81263565, 0.92385633,\n",
       "       1.19427378, 2.34874737, 1.67048986, 1.57506381, 1.92631877,\n",
       "       1.10811964, 0.98955322, 0.91665556, 0.93070446, 1.6008798 ,\n",
       "       2.00341434, 1.52887656, 1.50419932, 1.04573541, 1.07558307,\n",
       "       1.18056825, 1.22897149, 1.62440418, 1.18803256, 2.15365604,\n",
       "       1.46171715, 1.78554277, 1.76095921, 1.60621586, 1.53467198,\n",
       "       1.76401795, 2.56718305, 2.43163491, 2.66577054, 2.44518832,\n",
       "       2.0145087 , 3.24472405, 2.49592272, 2.78838302, 2.08797954,\n",
       "       2.83335682])"
      ]
     },
     "execution_count": 132,
     "metadata": {},
     "output_type": "execute_result"
    }
   ],
   "source": [
    "feature_tuples = list(zip(isolated_whr_data[feat1], isolated_whr_data[feat2]))\n",
    "distances = []\n",
    "for feature_pair in feature_tuples:\n",
    "    distances.append(distance.mahalanobis(feature_pair, centerpoint, covaraince_inv))\n",
    "distances = np.array(distances)\n",
    "\n",
    "distances"
   ]
  },
  {
   "cell_type": "markdown",
   "id": "discrete-mattress",
   "metadata": {},
   "source": [
    "Below is a bit beyond our current level of understanding, but what I'm doing here is calculating outliers based on the Chi-Square Distribution and finding them in our original dataset. Then, I am plotting a 2-D ellipse on our dataset for us to try and estimate where the outliers are. Unfortunately, Plotly hates ellipses and me so I cannot plot it the way I would've wanted to but it's okay I am definitely not emailing the CEO expressing my anger right now"
   ]
  },
  {
   "cell_type": "code",
   "execution_count": 133,
   "id": "democratic-flush",
   "metadata": {},
   "outputs": [
    {
     "data": {
      "text/html": [
       "<div>\n",
       "<style scoped>\n",
       "    .dataframe tbody tr th:only-of-type {\n",
       "        vertical-align: middle;\n",
       "    }\n",
       "\n",
       "    .dataframe tbody tr th {\n",
       "        vertical-align: top;\n",
       "    }\n",
       "\n",
       "    .dataframe thead th {\n",
       "        text-align: right;\n",
       "    }\n",
       "</style>\n",
       "<table border=\"1\" class=\"dataframe\">\n",
       "  <thead>\n",
       "    <tr style=\"text-align: right;\">\n",
       "      <th></th>\n",
       "      <th>Country</th>\n",
       "      <th>Region</th>\n",
       "      <th>Happiness Rank</th>\n",
       "      <th>Happiness Score</th>\n",
       "      <th>Economy (GDP per Capita)</th>\n",
       "      <th>Family</th>\n",
       "      <th>Health (Life Expectancy)</th>\n",
       "      <th>Freedom</th>\n",
       "      <th>Trust (Government Corruption)</th>\n",
       "      <th>Generosity</th>\n",
       "      <th>Dystopia Residual</th>\n",
       "      <th>Year</th>\n",
       "    </tr>\n",
       "  </thead>\n",
       "  <tbody>\n",
       "    <tr>\n",
       "      <th>707</th>\n",
       "      <td>Greece</td>\n",
       "      <td>Western Europe</td>\n",
       "      <td>82</td>\n",
       "      <td>5.287</td>\n",
       "      <td>1.181</td>\n",
       "      <td>1.156</td>\n",
       "      <td>0.999</td>\n",
       "      <td>0.067</td>\n",
       "      <td>0.034</td>\n",
       "      <td>0.000</td>\n",
       "      <td>0.0</td>\n",
       "      <td>2019</td>\n",
       "    </tr>\n",
       "    <tr>\n",
       "      <th>713</th>\n",
       "      <td>Algeria</td>\n",
       "      <td>Middle East and Northern Africa</td>\n",
       "      <td>88</td>\n",
       "      <td>5.211</td>\n",
       "      <td>1.002</td>\n",
       "      <td>1.160</td>\n",
       "      <td>0.785</td>\n",
       "      <td>0.086</td>\n",
       "      <td>0.114</td>\n",
       "      <td>0.073</td>\n",
       "      <td>0.0</td>\n",
       "      <td>2019</td>\n",
       "    </tr>\n",
       "    <tr>\n",
       "      <th>772</th>\n",
       "      <td>Haiti</td>\n",
       "      <td>Latin America and Caribbean</td>\n",
       "      <td>147</td>\n",
       "      <td>3.597</td>\n",
       "      <td>0.323</td>\n",
       "      <td>0.688</td>\n",
       "      <td>0.449</td>\n",
       "      <td>0.026</td>\n",
       "      <td>0.110</td>\n",
       "      <td>0.419</td>\n",
       "      <td>0.0</td>\n",
       "      <td>2019</td>\n",
       "    </tr>\n",
       "    <tr>\n",
       "      <th>773</th>\n",
       "      <td>Botswana</td>\n",
       "      <td>Sub-Saharan Africa</td>\n",
       "      <td>148</td>\n",
       "      <td>3.488</td>\n",
       "      <td>1.041</td>\n",
       "      <td>1.145</td>\n",
       "      <td>0.538</td>\n",
       "      <td>0.455</td>\n",
       "      <td>0.100</td>\n",
       "      <td>0.025</td>\n",
       "      <td>0.0</td>\n",
       "      <td>2019</td>\n",
       "    </tr>\n",
       "    <tr>\n",
       "      <th>774</th>\n",
       "      <td>Syria</td>\n",
       "      <td>Middle East and Northern Africa</td>\n",
       "      <td>149</td>\n",
       "      <td>3.462</td>\n",
       "      <td>0.619</td>\n",
       "      <td>0.378</td>\n",
       "      <td>0.440</td>\n",
       "      <td>0.013</td>\n",
       "      <td>0.141</td>\n",
       "      <td>0.331</td>\n",
       "      <td>0.0</td>\n",
       "      <td>2019</td>\n",
       "    </tr>\n",
       "    <tr>\n",
       "      <th>775</th>\n",
       "      <td>Malawi</td>\n",
       "      <td>Sub-Saharan Africa</td>\n",
       "      <td>150</td>\n",
       "      <td>3.410</td>\n",
       "      <td>0.191</td>\n",
       "      <td>0.560</td>\n",
       "      <td>0.495</td>\n",
       "      <td>0.443</td>\n",
       "      <td>0.089</td>\n",
       "      <td>0.218</td>\n",
       "      <td>0.0</td>\n",
       "      <td>2019</td>\n",
       "    </tr>\n",
       "    <tr>\n",
       "      <th>777</th>\n",
       "      <td>Rwanda</td>\n",
       "      <td>Sub-Saharan Africa</td>\n",
       "      <td>152</td>\n",
       "      <td>3.334</td>\n",
       "      <td>0.359</td>\n",
       "      <td>0.711</td>\n",
       "      <td>0.614</td>\n",
       "      <td>0.555</td>\n",
       "      <td>0.411</td>\n",
       "      <td>0.217</td>\n",
       "      <td>0.0</td>\n",
       "      <td>2019</td>\n",
       "    </tr>\n",
       "    <tr>\n",
       "      <th>778</th>\n",
       "      <td>Tanzania</td>\n",
       "      <td>Sub-Saharan Africa</td>\n",
       "      <td>153</td>\n",
       "      <td>3.231</td>\n",
       "      <td>0.476</td>\n",
       "      <td>0.885</td>\n",
       "      <td>0.499</td>\n",
       "      <td>0.417</td>\n",
       "      <td>0.147</td>\n",
       "      <td>0.276</td>\n",
       "      <td>0.0</td>\n",
       "      <td>2019</td>\n",
       "    </tr>\n",
       "    <tr>\n",
       "      <th>779</th>\n",
       "      <td>Afghanistan</td>\n",
       "      <td>Southern Asia</td>\n",
       "      <td>154</td>\n",
       "      <td>3.203</td>\n",
       "      <td>0.350</td>\n",
       "      <td>0.517</td>\n",
       "      <td>0.361</td>\n",
       "      <td>0.000</td>\n",
       "      <td>0.025</td>\n",
       "      <td>0.158</td>\n",
       "      <td>0.0</td>\n",
       "      <td>2019</td>\n",
       "    </tr>\n",
       "    <tr>\n",
       "      <th>781</th>\n",
       "      <td>South Sudan</td>\n",
       "      <td>Sub-Saharan Africa</td>\n",
       "      <td>156</td>\n",
       "      <td>2.853</td>\n",
       "      <td>0.306</td>\n",
       "      <td>0.575</td>\n",
       "      <td>0.295</td>\n",
       "      <td>0.010</td>\n",
       "      <td>0.091</td>\n",
       "      <td>0.202</td>\n",
       "      <td>0.0</td>\n",
       "      <td>2019</td>\n",
       "    </tr>\n",
       "  </tbody>\n",
       "</table>\n",
       "</div>"
      ],
      "text/plain": [
       "         Country                           Region  Happiness Rank  \\\n",
       "707       Greece                   Western Europe              82   \n",
       "713      Algeria  Middle East and Northern Africa              88   \n",
       "772        Haiti      Latin America and Caribbean             147   \n",
       "773     Botswana               Sub-Saharan Africa             148   \n",
       "774        Syria  Middle East and Northern Africa             149   \n",
       "775       Malawi               Sub-Saharan Africa             150   \n",
       "777       Rwanda               Sub-Saharan Africa             152   \n",
       "778     Tanzania               Sub-Saharan Africa             153   \n",
       "779  Afghanistan                    Southern Asia             154   \n",
       "781  South Sudan               Sub-Saharan Africa             156   \n",
       "\n",
       "     Happiness Score  Economy (GDP per Capita)  Family  \\\n",
       "707            5.287                     1.181   1.156   \n",
       "713            5.211                     1.002   1.160   \n",
       "772            3.597                     0.323   0.688   \n",
       "773            3.488                     1.041   1.145   \n",
       "774            3.462                     0.619   0.378   \n",
       "775            3.410                     0.191   0.560   \n",
       "777            3.334                     0.359   0.711   \n",
       "778            3.231                     0.476   0.885   \n",
       "779            3.203                     0.350   0.517   \n",
       "781            2.853                     0.306   0.575   \n",
       "\n",
       "     Health (Life Expectancy)  Freedom  Trust (Government Corruption)  \\\n",
       "707                     0.999    0.067                          0.034   \n",
       "713                     0.785    0.086                          0.114   \n",
       "772                     0.449    0.026                          0.110   \n",
       "773                     0.538    0.455                          0.100   \n",
       "774                     0.440    0.013                          0.141   \n",
       "775                     0.495    0.443                          0.089   \n",
       "777                     0.614    0.555                          0.411   \n",
       "778                     0.499    0.417                          0.147   \n",
       "779                     0.361    0.000                          0.025   \n",
       "781                     0.295    0.010                          0.091   \n",
       "\n",
       "     Generosity  Dystopia Residual  Year  \n",
       "707       0.000                0.0  2019  \n",
       "713       0.073                0.0  2019  \n",
       "772       0.419                0.0  2019  \n",
       "773       0.025                0.0  2019  \n",
       "774       0.331                0.0  2019  \n",
       "775       0.218                0.0  2019  \n",
       "777       0.217                0.0  2019  \n",
       "778       0.276                0.0  2019  \n",
       "779       0.158                0.0  2019  \n",
       "781       0.202                0.0  2019  "
      ]
     },
     "execution_count": 133,
     "metadata": {},
     "output_type": "execute_result"
    }
   ],
   "source": [
    "# Cutoff (threshold) value from Chi-Sqaure Distribution for detecting outliers \n",
    "cutoff = chi2.ppf(0.95, isolated_whr_data.shape[1]) / 2.5\n",
    "\n",
    "# Index of outliers\n",
    "outlierIndexes = np.where(distances > cutoff )\n",
    "\n",
    "\n",
    "whr_data.loc[whr_data['Year'] == 2019].iloc[outlierIndexes]\n"
   ]
  },
  {
   "cell_type": "code",
   "execution_count": 134,
   "id": "normal-consideration",
   "metadata": {},
   "outputs": [
    {
     "data": {
      "application/vnd.plotly.v1+json": {
       "config": {
        "linkText": "Export to plot.ly",
        "plotlyServerURL": "https://plot.ly",
        "showLink": false
       },
       "data": [
        {
         "marker": {
          "color": "blue"
         },
         "mode": "markers",
         "name": "2019",
         "text": [
          "Finland",
          "Denmark",
          "Norway",
          "Iceland",
          "Netherlands",
          "Switzerland",
          "Sweden",
          "New Zealand",
          "Canada",
          "Austria",
          "Australia",
          "Costa Rica",
          "Israel",
          "Luxembourg",
          "United Kingdom",
          "Ireland",
          "Germany",
          "Belgium",
          "United States",
          "Czech Republic",
          "United Arab Emirates",
          "Malta",
          "Mexico",
          "France",
          "Taiwan",
          "Chile",
          "Guatemala",
          "Saudi Arabia",
          "Qatar",
          "Spain",
          "Panama",
          "Brazil",
          "Uruguay",
          "Singapore",
          "El Salvador",
          "Italy",
          "Bahrain",
          "Slovakia",
          "Trinidad & Tobago",
          "Poland",
          "Uzbekistan",
          "Lithuania",
          "Colombia",
          "Slovenia",
          "Nicaragua",
          "Kosovo",
          "Argentina",
          "Romania",
          "Cyprus",
          "Ecuador",
          "Kuwait",
          "Thailand",
          "Latvia",
          "South Korea",
          "Estonia",
          "Jamaica",
          "Mauritius",
          "Japan",
          "Honduras",
          "Kazakhstan",
          "Bolivia",
          "Hungary",
          "Paraguay",
          "Northern Cyprus",
          "Peru",
          "Portugal",
          "Pakistan",
          "Russia",
          "Philippines",
          "Serbia",
          "Moldova",
          "Libya",
          "Montenegro",
          "Tajikistan",
          "Croatia",
          "Hong Kong",
          "Dominican Republic",
          "Bosnia and Herzegovina",
          "Turkey",
          "Malaysia",
          "Belarus",
          "Greece",
          "Mongolia",
          "North Macedonia",
          "Nigeria",
          "Kyrgyzstan",
          "Turkmenistan",
          "Algeria",
          "Morocco",
          "Azerbaijan",
          "Lebanon",
          "Indonesia",
          "China",
          "Vietnam",
          "Bhutan",
          "Cameroon",
          "Bulgaria",
          "Ghana",
          "Ivory Coast",
          "Nepal",
          "Jordan",
          "Benin",
          "Congo (Brazzaville)",
          "Gabon",
          "Laos",
          "South Africa",
          "Albania",
          "Venezuela",
          "Cambodia",
          "Palestinian Territories",
          "Senegal",
          "Somalia",
          "Namibia",
          "Niger",
          "Burkina Faso",
          "Armenia",
          "Iran",
          "Guinea",
          "Georgia",
          "Gambia",
          "Kenya",
          "Mauritania",
          "Mozambique",
          "Tunisia",
          "Bangladesh",
          "Iraq",
          "Congo (Kinshasa)",
          "Mali",
          "Sierra Leone",
          "Sri Lanka",
          "Myanmar",
          "Chad",
          "Ukraine",
          "Ethiopia",
          "Swaziland",
          "Uganda",
          "Egypt",
          "Zambia",
          "Togo",
          "India",
          "Liberia",
          "Comoros",
          "Madagascar",
          "Lesotho",
          "Burundi",
          "Zimbabwe",
          "Haiti",
          "Botswana",
          "Syria",
          "Malawi",
          "Yemen",
          "Rwanda",
          "Tanzania",
          "Afghanistan",
          "Central African Republic",
          "South Sudan"
         ],
         "type": "scatter",
         "x": [
          7.769,
          7.6,
          7.554,
          7.494,
          7.488,
          7.48,
          7.343,
          7.307,
          7.278,
          7.246,
          7.228,
          7.167,
          7.139,
          7.09,
          7.054,
          7.021,
          6.985,
          6.923,
          6.892,
          6.852,
          6.825,
          6.726,
          6.595,
          6.592,
          6.446,
          6.444,
          6.436,
          6.375,
          6.374,
          6.354,
          6.321,
          6.3,
          6.293,
          6.262,
          6.253,
          6.223,
          6.199,
          6.198,
          6.192,
          6.182,
          6.174,
          6.149,
          6.125,
          6.118,
          6.105,
          6.1,
          6.086,
          6.07,
          6.046,
          6.028,
          6.021,
          6.008,
          5.94,
          5.895,
          5.893,
          5.89,
          5.888,
          5.886,
          5.86,
          5.809,
          5.779,
          5.758,
          5.743,
          5.718,
          5.697,
          5.693,
          5.653,
          5.648,
          5.631,
          5.603,
          5.529,
          5.525,
          5.523,
          5.467,
          5.432,
          5.43,
          5.425,
          5.386,
          5.373,
          5.339,
          5.323,
          5.287,
          5.285,
          5.274,
          5.265,
          5.261,
          5.247,
          5.211,
          5.208,
          5.208,
          5.197,
          5.192,
          5.191,
          5.175,
          5.082,
          5.044,
          5.011,
          4.996,
          4.944,
          4.913,
          4.906,
          4.883,
          4.812,
          4.799,
          4.796,
          4.722,
          4.719,
          4.707,
          4.7,
          4.696,
          4.681,
          4.668,
          4.639,
          4.628,
          4.587,
          4.559,
          4.548,
          4.534,
          4.519,
          4.516,
          4.509,
          4.49,
          4.466,
          4.461,
          4.456,
          4.437,
          4.418,
          4.39,
          4.374,
          4.366,
          4.36,
          4.35,
          4.332,
          4.286,
          4.212,
          4.189,
          4.166,
          4.107,
          4.085,
          4.015,
          3.975,
          3.973,
          3.933,
          3.802,
          3.775,
          3.663,
          3.597,
          3.488,
          3.462,
          3.41,
          3.38,
          3.334,
          3.231,
          3.203,
          3.083,
          2.853
         ],
         "y": [
          0.596,
          0.592,
          0.603,
          0.591,
          0.557,
          0.572,
          0.574,
          0.585,
          0.584,
          0.532,
          0.557,
          0.558,
          0.371,
          0.526,
          0.45,
          0.516,
          0.495,
          0.473,
          0.454,
          0.457,
          0.598,
          0.564,
          0.433,
          0.436,
          0.351,
          0.357,
          0.535,
          0.439,
          0.555,
          0.362,
          0.516,
          0.39,
          0.523,
          0.556,
          0.43,
          0.231,
          0.536,
          0.334,
          0.489,
          0.483,
          0.631,
          0.291,
          0.47,
          0.564,
          0.435,
          0.489,
          0.471,
          0.462,
          0.406,
          0.498,
          0.493,
          0.557,
          0.264,
          0.159,
          0.495,
          0.49,
          0.498,
          0.445,
          0.507,
          0.41,
          0.511,
          0.199,
          0.514,
          0.417,
          0.455,
          0.508,
          0.313,
          0.334,
          0.558,
          0.282,
          0.245,
          0.416,
          0.197,
          0.389,
          0.296,
          0.44,
          0.497,
          0.212,
          0.195,
          0.508,
          0.235,
          0.067,
          0.317,
          0.345,
          0.426,
          0.508,
          0.394,
          0.086,
          0.418,
          0.351,
          0.216,
          0.491,
          0.521,
          0.543,
          0.457,
          0.381,
          0.311,
          0.381,
          0.352,
          0.439,
          0.383,
          0.349,
          0.372,
          0.295,
          0.547,
          0.389,
          0.383,
          0.154,
          0.609,
          0.225,
          0.292,
          0.559,
          0.401,
          0.318,
          0.255,
          0.283,
          0.305,
          0.332,
          0.346,
          0.382,
          0.431,
          0.066,
          0.494,
          0.167,
          0.527,
          0.241,
          0.269,
          0.327,
          0.309,
          0.47,
          0.525,
          0.174,
          0.178,
          0.344,
          0.313,
          0.356,
          0.241,
          0.431,
          0.293,
          0.498,
          0.37,
          0.142,
          0.148,
          0.359,
          0.22,
          0.361,
          0.026,
          0.455,
          0.013,
          0.443,
          0.143,
          0.555,
          0.417,
          0,
          0.225,
          0.01
         ]
        }
       ],
       "layout": {
        "hovermode": "x",
        "shapes": [
         {
          "fillcolor": "blue",
          "line": {
           "color": "blue"
          },
          "opacity": 0.2,
          "type": "circle",
          "x0": 2.6751373929536,
          "x1": 8.13905491473871,
          "xref": "x",
          "y0": 0.10437503015889454,
          "y1": 0.6807659954821312,
          "yref": "y"
         }
        ],
        "template": {
         "data": {
          "bar": [
           {
            "error_x": {
             "color": "#2a3f5f"
            },
            "error_y": {
             "color": "#2a3f5f"
            },
            "marker": {
             "line": {
              "color": "#E5ECF6",
              "width": 0.5
             }
            },
            "type": "bar"
           }
          ],
          "barpolar": [
           {
            "marker": {
             "line": {
              "color": "#E5ECF6",
              "width": 0.5
             }
            },
            "type": "barpolar"
           }
          ],
          "carpet": [
           {
            "aaxis": {
             "endlinecolor": "#2a3f5f",
             "gridcolor": "white",
             "linecolor": "white",
             "minorgridcolor": "white",
             "startlinecolor": "#2a3f5f"
            },
            "baxis": {
             "endlinecolor": "#2a3f5f",
             "gridcolor": "white",
             "linecolor": "white",
             "minorgridcolor": "white",
             "startlinecolor": "#2a3f5f"
            },
            "type": "carpet"
           }
          ],
          "choropleth": [
           {
            "colorbar": {
             "outlinewidth": 0,
             "ticks": ""
            },
            "type": "choropleth"
           }
          ],
          "contour": [
           {
            "colorbar": {
             "outlinewidth": 0,
             "ticks": ""
            },
            "colorscale": [
             [
              0,
              "#0d0887"
             ],
             [
              0.1111111111111111,
              "#46039f"
             ],
             [
              0.2222222222222222,
              "#7201a8"
             ],
             [
              0.3333333333333333,
              "#9c179e"
             ],
             [
              0.4444444444444444,
              "#bd3786"
             ],
             [
              0.5555555555555556,
              "#d8576b"
             ],
             [
              0.6666666666666666,
              "#ed7953"
             ],
             [
              0.7777777777777778,
              "#fb9f3a"
             ],
             [
              0.8888888888888888,
              "#fdca26"
             ],
             [
              1,
              "#f0f921"
             ]
            ],
            "type": "contour"
           }
          ],
          "contourcarpet": [
           {
            "colorbar": {
             "outlinewidth": 0,
             "ticks": ""
            },
            "type": "contourcarpet"
           }
          ],
          "heatmap": [
           {
            "colorbar": {
             "outlinewidth": 0,
             "ticks": ""
            },
            "colorscale": [
             [
              0,
              "#0d0887"
             ],
             [
              0.1111111111111111,
              "#46039f"
             ],
             [
              0.2222222222222222,
              "#7201a8"
             ],
             [
              0.3333333333333333,
              "#9c179e"
             ],
             [
              0.4444444444444444,
              "#bd3786"
             ],
             [
              0.5555555555555556,
              "#d8576b"
             ],
             [
              0.6666666666666666,
              "#ed7953"
             ],
             [
              0.7777777777777778,
              "#fb9f3a"
             ],
             [
              0.8888888888888888,
              "#fdca26"
             ],
             [
              1,
              "#f0f921"
             ]
            ],
            "type": "heatmap"
           }
          ],
          "heatmapgl": [
           {
            "colorbar": {
             "outlinewidth": 0,
             "ticks": ""
            },
            "colorscale": [
             [
              0,
              "#0d0887"
             ],
             [
              0.1111111111111111,
              "#46039f"
             ],
             [
              0.2222222222222222,
              "#7201a8"
             ],
             [
              0.3333333333333333,
              "#9c179e"
             ],
             [
              0.4444444444444444,
              "#bd3786"
             ],
             [
              0.5555555555555556,
              "#d8576b"
             ],
             [
              0.6666666666666666,
              "#ed7953"
             ],
             [
              0.7777777777777778,
              "#fb9f3a"
             ],
             [
              0.8888888888888888,
              "#fdca26"
             ],
             [
              1,
              "#f0f921"
             ]
            ],
            "type": "heatmapgl"
           }
          ],
          "histogram": [
           {
            "marker": {
             "colorbar": {
              "outlinewidth": 0,
              "ticks": ""
             }
            },
            "type": "histogram"
           }
          ],
          "histogram2d": [
           {
            "colorbar": {
             "outlinewidth": 0,
             "ticks": ""
            },
            "colorscale": [
             [
              0,
              "#0d0887"
             ],
             [
              0.1111111111111111,
              "#46039f"
             ],
             [
              0.2222222222222222,
              "#7201a8"
             ],
             [
              0.3333333333333333,
              "#9c179e"
             ],
             [
              0.4444444444444444,
              "#bd3786"
             ],
             [
              0.5555555555555556,
              "#d8576b"
             ],
             [
              0.6666666666666666,
              "#ed7953"
             ],
             [
              0.7777777777777778,
              "#fb9f3a"
             ],
             [
              0.8888888888888888,
              "#fdca26"
             ],
             [
              1,
              "#f0f921"
             ]
            ],
            "type": "histogram2d"
           }
          ],
          "histogram2dcontour": [
           {
            "colorbar": {
             "outlinewidth": 0,
             "ticks": ""
            },
            "colorscale": [
             [
              0,
              "#0d0887"
             ],
             [
              0.1111111111111111,
              "#46039f"
             ],
             [
              0.2222222222222222,
              "#7201a8"
             ],
             [
              0.3333333333333333,
              "#9c179e"
             ],
             [
              0.4444444444444444,
              "#bd3786"
             ],
             [
              0.5555555555555556,
              "#d8576b"
             ],
             [
              0.6666666666666666,
              "#ed7953"
             ],
             [
              0.7777777777777778,
              "#fb9f3a"
             ],
             [
              0.8888888888888888,
              "#fdca26"
             ],
             [
              1,
              "#f0f921"
             ]
            ],
            "type": "histogram2dcontour"
           }
          ],
          "mesh3d": [
           {
            "colorbar": {
             "outlinewidth": 0,
             "ticks": ""
            },
            "type": "mesh3d"
           }
          ],
          "parcoords": [
           {
            "line": {
             "colorbar": {
              "outlinewidth": 0,
              "ticks": ""
             }
            },
            "type": "parcoords"
           }
          ],
          "pie": [
           {
            "automargin": true,
            "type": "pie"
           }
          ],
          "scatter": [
           {
            "marker": {
             "colorbar": {
              "outlinewidth": 0,
              "ticks": ""
             }
            },
            "type": "scatter"
           }
          ],
          "scatter3d": [
           {
            "line": {
             "colorbar": {
              "outlinewidth": 0,
              "ticks": ""
             }
            },
            "marker": {
             "colorbar": {
              "outlinewidth": 0,
              "ticks": ""
             }
            },
            "type": "scatter3d"
           }
          ],
          "scattercarpet": [
           {
            "marker": {
             "colorbar": {
              "outlinewidth": 0,
              "ticks": ""
             }
            },
            "type": "scattercarpet"
           }
          ],
          "scattergeo": [
           {
            "marker": {
             "colorbar": {
              "outlinewidth": 0,
              "ticks": ""
             }
            },
            "type": "scattergeo"
           }
          ],
          "scattergl": [
           {
            "marker": {
             "colorbar": {
              "outlinewidth": 0,
              "ticks": ""
             }
            },
            "type": "scattergl"
           }
          ],
          "scattermapbox": [
           {
            "marker": {
             "colorbar": {
              "outlinewidth": 0,
              "ticks": ""
             }
            },
            "type": "scattermapbox"
           }
          ],
          "scatterpolar": [
           {
            "marker": {
             "colorbar": {
              "outlinewidth": 0,
              "ticks": ""
             }
            },
            "type": "scatterpolar"
           }
          ],
          "scatterpolargl": [
           {
            "marker": {
             "colorbar": {
              "outlinewidth": 0,
              "ticks": ""
             }
            },
            "type": "scatterpolargl"
           }
          ],
          "scatterternary": [
           {
            "marker": {
             "colorbar": {
              "outlinewidth": 0,
              "ticks": ""
             }
            },
            "type": "scatterternary"
           }
          ],
          "surface": [
           {
            "colorbar": {
             "outlinewidth": 0,
             "ticks": ""
            },
            "colorscale": [
             [
              0,
              "#0d0887"
             ],
             [
              0.1111111111111111,
              "#46039f"
             ],
             [
              0.2222222222222222,
              "#7201a8"
             ],
             [
              0.3333333333333333,
              "#9c179e"
             ],
             [
              0.4444444444444444,
              "#bd3786"
             ],
             [
              0.5555555555555556,
              "#d8576b"
             ],
             [
              0.6666666666666666,
              "#ed7953"
             ],
             [
              0.7777777777777778,
              "#fb9f3a"
             ],
             [
              0.8888888888888888,
              "#fdca26"
             ],
             [
              1,
              "#f0f921"
             ]
            ],
            "type": "surface"
           }
          ],
          "table": [
           {
            "cells": {
             "fill": {
              "color": "#EBF0F8"
             },
             "line": {
              "color": "white"
             }
            },
            "header": {
             "fill": {
              "color": "#C8D4E3"
             },
             "line": {
              "color": "white"
             }
            },
            "type": "table"
           }
          ]
         },
         "layout": {
          "annotationdefaults": {
           "arrowcolor": "#2a3f5f",
           "arrowhead": 0,
           "arrowwidth": 1
          },
          "autotypenumbers": "strict",
          "coloraxis": {
           "colorbar": {
            "outlinewidth": 0,
            "ticks": ""
           }
          },
          "colorscale": {
           "diverging": [
            [
             0,
             "#8e0152"
            ],
            [
             0.1,
             "#c51b7d"
            ],
            [
             0.2,
             "#de77ae"
            ],
            [
             0.3,
             "#f1b6da"
            ],
            [
             0.4,
             "#fde0ef"
            ],
            [
             0.5,
             "#f7f7f7"
            ],
            [
             0.6,
             "#e6f5d0"
            ],
            [
             0.7,
             "#b8e186"
            ],
            [
             0.8,
             "#7fbc41"
            ],
            [
             0.9,
             "#4d9221"
            ],
            [
             1,
             "#276419"
            ]
           ],
           "sequential": [
            [
             0,
             "#0d0887"
            ],
            [
             0.1111111111111111,
             "#46039f"
            ],
            [
             0.2222222222222222,
             "#7201a8"
            ],
            [
             0.3333333333333333,
             "#9c179e"
            ],
            [
             0.4444444444444444,
             "#bd3786"
            ],
            [
             0.5555555555555556,
             "#d8576b"
            ],
            [
             0.6666666666666666,
             "#ed7953"
            ],
            [
             0.7777777777777778,
             "#fb9f3a"
            ],
            [
             0.8888888888888888,
             "#fdca26"
            ],
            [
             1,
             "#f0f921"
            ]
           ],
           "sequentialminus": [
            [
             0,
             "#0d0887"
            ],
            [
             0.1111111111111111,
             "#46039f"
            ],
            [
             0.2222222222222222,
             "#7201a8"
            ],
            [
             0.3333333333333333,
             "#9c179e"
            ],
            [
             0.4444444444444444,
             "#bd3786"
            ],
            [
             0.5555555555555556,
             "#d8576b"
            ],
            [
             0.6666666666666666,
             "#ed7953"
            ],
            [
             0.7777777777777778,
             "#fb9f3a"
            ],
            [
             0.8888888888888888,
             "#fdca26"
            ],
            [
             1,
             "#f0f921"
            ]
           ]
          },
          "colorway": [
           "#636efa",
           "#EF553B",
           "#00cc96",
           "#ab63fa",
           "#FFA15A",
           "#19d3f3",
           "#FF6692",
           "#B6E880",
           "#FF97FF",
           "#FECB52"
          ],
          "font": {
           "color": "#2a3f5f"
          },
          "geo": {
           "bgcolor": "white",
           "lakecolor": "white",
           "landcolor": "#E5ECF6",
           "showlakes": true,
           "showland": true,
           "subunitcolor": "white"
          },
          "hoverlabel": {
           "align": "left"
          },
          "hovermode": "closest",
          "mapbox": {
           "style": "light"
          },
          "paper_bgcolor": "white",
          "plot_bgcolor": "#E5ECF6",
          "polar": {
           "angularaxis": {
            "gridcolor": "white",
            "linecolor": "white",
            "ticks": ""
           },
           "bgcolor": "#E5ECF6",
           "radialaxis": {
            "gridcolor": "white",
            "linecolor": "white",
            "ticks": ""
           }
          },
          "scene": {
           "xaxis": {
            "backgroundcolor": "#E5ECF6",
            "gridcolor": "white",
            "gridwidth": 2,
            "linecolor": "white",
            "showbackground": true,
            "ticks": "",
            "zerolinecolor": "white"
           },
           "yaxis": {
            "backgroundcolor": "#E5ECF6",
            "gridcolor": "white",
            "gridwidth": 2,
            "linecolor": "white",
            "showbackground": true,
            "ticks": "",
            "zerolinecolor": "white"
           },
           "zaxis": {
            "backgroundcolor": "#E5ECF6",
            "gridcolor": "white",
            "gridwidth": 2,
            "linecolor": "white",
            "showbackground": true,
            "ticks": "",
            "zerolinecolor": "white"
           }
          },
          "shapedefaults": {
           "line": {
            "color": "#2a3f5f"
           }
          },
          "ternary": {
           "aaxis": {
            "gridcolor": "white",
            "linecolor": "white",
            "ticks": ""
           },
           "baxis": {
            "gridcolor": "white",
            "linecolor": "white",
            "ticks": ""
           },
           "bgcolor": "#E5ECF6",
           "caxis": {
            "gridcolor": "white",
            "linecolor": "white",
            "ticks": ""
           }
          },
          "title": {
           "x": 0.05
          },
          "xaxis": {
           "automargin": true,
           "gridcolor": "white",
           "linecolor": "white",
           "ticks": "",
           "title": {
            "standoff": 15
           },
           "zerolinecolor": "white",
           "zerolinewidth": 2
          },
          "yaxis": {
           "automargin": true,
           "gridcolor": "white",
           "linecolor": "white",
           "ticks": "",
           "title": {
            "standoff": 15
           },
           "zerolinecolor": "white",
           "zerolinewidth": 2
          }
         }
        },
        "title": {
         "text": "Happiness Rate Changing 2015 to 2019 for Top 20 Countries"
        },
        "xaxis": {
         "ticklen": 5,
         "title": {
          "text": "Happiness Score"
         },
         "zeroline": false
        },
        "yaxis": {
         "ticklen": 5,
         "title": {
          "text": "Freedom"
         },
         "zeroline": false
        }
       }
      },
      "text/html": [
       "<div>                            <div id=\"d2cda161-38f1-4c4a-9068-e0cb6abbbc6b\" class=\"plotly-graph-div\" style=\"height:525px; width:100%;\"></div>            <script type=\"text/javascript\">                require([\"plotly\"], function(Plotly) {                    window.PLOTLYENV=window.PLOTLYENV || {};                                    if (document.getElementById(\"d2cda161-38f1-4c4a-9068-e0cb6abbbc6b\")) {                    Plotly.newPlot(                        \"d2cda161-38f1-4c4a-9068-e0cb6abbbc6b\",                        [{\"marker\": {\"color\": \"blue\"}, \"mode\": \"markers\", \"name\": \"2019\", \"text\": [\"Finland\", \"Denmark\", \"Norway\", \"Iceland\", \"Netherlands\", \"Switzerland\", \"Sweden\", \"New Zealand\", \"Canada\", \"Austria\", \"Australia\", \"Costa Rica\", \"Israel\", \"Luxembourg\", \"United Kingdom\", \"Ireland\", \"Germany\", \"Belgium\", \"United States\", \"Czech Republic\", \"United Arab Emirates\", \"Malta\", \"Mexico\", \"France\", \"Taiwan\", \"Chile\", \"Guatemala\", \"Saudi Arabia\", \"Qatar\", \"Spain\", \"Panama\", \"Brazil\", \"Uruguay\", \"Singapore\", \"El Salvador\", \"Italy\", \"Bahrain\", \"Slovakia\", \"Trinidad & Tobago\", \"Poland\", \"Uzbekistan\", \"Lithuania\", \"Colombia\", \"Slovenia\", \"Nicaragua\", \"Kosovo\", \"Argentina\", \"Romania\", \"Cyprus\", \"Ecuador\", \"Kuwait\", \"Thailand\", \"Latvia\", \"South Korea\", \"Estonia\", \"Jamaica\", \"Mauritius\", \"Japan\", \"Honduras\", \"Kazakhstan\", \"Bolivia\", \"Hungary\", \"Paraguay\", \"Northern Cyprus\", \"Peru\", \"Portugal\", \"Pakistan\", \"Russia\", \"Philippines\", \"Serbia\", \"Moldova\", \"Libya\", \"Montenegro\", \"Tajikistan\", \"Croatia\", \"Hong Kong\", \"Dominican Republic\", \"Bosnia and Herzegovina\", \"Turkey\", \"Malaysia\", \"Belarus\", \"Greece\", \"Mongolia\", \"North Macedonia\", \"Nigeria\", \"Kyrgyzstan\", \"Turkmenistan\", \"Algeria\", \"Morocco\", \"Azerbaijan\", \"Lebanon\", \"Indonesia\", \"China\", \"Vietnam\", \"Bhutan\", \"Cameroon\", \"Bulgaria\", \"Ghana\", \"Ivory Coast\", \"Nepal\", \"Jordan\", \"Benin\", \"Congo (Brazzaville)\", \"Gabon\", \"Laos\", \"South Africa\", \"Albania\", \"Venezuela\", \"Cambodia\", \"Palestinian Territories\", \"Senegal\", \"Somalia\", \"Namibia\", \"Niger\", \"Burkina Faso\", \"Armenia\", \"Iran\", \"Guinea\", \"Georgia\", \"Gambia\", \"Kenya\", \"Mauritania\", \"Mozambique\", \"Tunisia\", \"Bangladesh\", \"Iraq\", \"Congo (Kinshasa)\", \"Mali\", \"Sierra Leone\", \"Sri Lanka\", \"Myanmar\", \"Chad\", \"Ukraine\", \"Ethiopia\", \"Swaziland\", \"Uganda\", \"Egypt\", \"Zambia\", \"Togo\", \"India\", \"Liberia\", \"Comoros\", \"Madagascar\", \"Lesotho\", \"Burundi\", \"Zimbabwe\", \"Haiti\", \"Botswana\", \"Syria\", \"Malawi\", \"Yemen\", \"Rwanda\", \"Tanzania\", \"Afghanistan\", \"Central African Republic\", \"South Sudan\"], \"type\": \"scatter\", \"x\": [7.769, 7.6, 7.554, 7.494, 7.488, 7.48, 7.343, 7.307, 7.278, 7.246, 7.228, 7.167, 7.139, 7.09, 7.054, 7.021, 6.985, 6.923, 6.892, 6.852, 6.825, 6.726, 6.595, 6.592, 6.446, 6.444, 6.436, 6.375, 6.374, 6.354, 6.321, 6.3, 6.293, 6.262, 6.253, 6.223, 6.199, 6.198, 6.192, 6.182, 6.174, 6.149, 6.125, 6.118, 6.105, 6.1, 6.086, 6.07, 6.046, 6.028, 6.021, 6.008, 5.94, 5.895, 5.893, 5.89, 5.888, 5.886, 5.86, 5.809, 5.779, 5.758, 5.743, 5.718, 5.697, 5.693, 5.653, 5.648, 5.631, 5.603, 5.529, 5.525, 5.523, 5.467, 5.432, 5.43, 5.425, 5.386, 5.373, 5.339, 5.323, 5.287, 5.285, 5.274, 5.265, 5.261, 5.247, 5.211, 5.208, 5.208, 5.197, 5.192, 5.191, 5.175, 5.082, 5.044, 5.011, 4.996, 4.944, 4.913, 4.906, 4.883, 4.812, 4.799, 4.796, 4.722, 4.719, 4.707, 4.7, 4.696, 4.681, 4.668, 4.639, 4.628, 4.587, 4.559, 4.548, 4.534, 4.519, 4.516, 4.509, 4.49, 4.466, 4.461, 4.456, 4.437, 4.418, 4.39, 4.374, 4.366, 4.36, 4.35, 4.332, 4.286, 4.212, 4.189, 4.166, 4.107, 4.085, 4.015, 3.975, 3.973, 3.933, 3.802, 3.775, 3.663, 3.597, 3.488, 3.462, 3.41, 3.38, 3.334, 3.231, 3.203, 3.083, 2.853], \"y\": [0.596, 0.592, 0.603, 0.591, 0.557, 0.572, 0.574, 0.585, 0.584, 0.532, 0.557, 0.558, 0.371, 0.526, 0.45, 0.516, 0.495, 0.473, 0.454, 0.457, 0.598, 0.564, 0.433, 0.436, 0.351, 0.357, 0.535, 0.439, 0.555, 0.362, 0.516, 0.39, 0.523, 0.556, 0.43, 0.231, 0.536, 0.334, 0.489, 0.483, 0.631, 0.291, 0.47, 0.564, 0.435, 0.489, 0.471, 0.462, 0.406, 0.498, 0.493, 0.557, 0.264, 0.159, 0.495, 0.49, 0.498, 0.445, 0.507, 0.41, 0.511, 0.199, 0.514, 0.417, 0.455, 0.508, 0.313, 0.334, 0.558, 0.282, 0.245, 0.416, 0.197, 0.389, 0.296, 0.44, 0.497, 0.212, 0.195, 0.508, 0.235, 0.067, 0.317, 0.345, 0.426, 0.508, 0.394, 0.086, 0.418, 0.351, 0.216, 0.491, 0.521, 0.543, 0.457, 0.381, 0.311, 0.381, 0.352, 0.439, 0.383, 0.349, 0.372, 0.295, 0.547, 0.389, 0.383, 0.154, 0.609, 0.225, 0.292, 0.559, 0.401, 0.318, 0.255, 0.283, 0.305, 0.332, 0.346, 0.382, 0.431, 0.066, 0.494, 0.167, 0.527, 0.241, 0.269, 0.327, 0.309, 0.47, 0.525, 0.174, 0.178, 0.344, 0.313, 0.356, 0.241, 0.431, 0.293, 0.498, 0.37, 0.142, 0.148, 0.359, 0.22, 0.361, 0.026, 0.455, 0.013, 0.443, 0.143, 0.555, 0.417, 0.0, 0.225, 0.01]}],                        {\"hovermode\": \"x\", \"shapes\": [{\"fillcolor\": \"blue\", \"line\": {\"color\": \"blue\"}, \"opacity\": 0.2, \"type\": \"circle\", \"x0\": 2.6751373929536, \"x1\": 8.13905491473871, \"xref\": \"x\", \"y0\": 0.10437503015889454, \"y1\": 0.6807659954821312, \"yref\": \"y\"}], \"template\": {\"data\": {\"bar\": [{\"error_x\": {\"color\": \"#2a3f5f\"}, \"error_y\": {\"color\": \"#2a3f5f\"}, \"marker\": {\"line\": {\"color\": \"#E5ECF6\", \"width\": 0.5}}, \"type\": \"bar\"}], \"barpolar\": [{\"marker\": {\"line\": {\"color\": \"#E5ECF6\", \"width\": 0.5}}, \"type\": \"barpolar\"}], \"carpet\": [{\"aaxis\": {\"endlinecolor\": \"#2a3f5f\", \"gridcolor\": \"white\", \"linecolor\": \"white\", \"minorgridcolor\": \"white\", \"startlinecolor\": \"#2a3f5f\"}, \"baxis\": {\"endlinecolor\": \"#2a3f5f\", \"gridcolor\": \"white\", \"linecolor\": \"white\", \"minorgridcolor\": \"white\", \"startlinecolor\": \"#2a3f5f\"}, \"type\": \"carpet\"}], \"choropleth\": [{\"colorbar\": {\"outlinewidth\": 0, \"ticks\": \"\"}, \"type\": \"choropleth\"}], \"contour\": [{\"colorbar\": {\"outlinewidth\": 0, \"ticks\": \"\"}, \"colorscale\": [[0.0, \"#0d0887\"], [0.1111111111111111, \"#46039f\"], [0.2222222222222222, \"#7201a8\"], [0.3333333333333333, \"#9c179e\"], [0.4444444444444444, \"#bd3786\"], [0.5555555555555556, \"#d8576b\"], [0.6666666666666666, \"#ed7953\"], [0.7777777777777778, \"#fb9f3a\"], [0.8888888888888888, \"#fdca26\"], [1.0, \"#f0f921\"]], \"type\": \"contour\"}], \"contourcarpet\": [{\"colorbar\": {\"outlinewidth\": 0, \"ticks\": \"\"}, \"type\": \"contourcarpet\"}], \"heatmap\": [{\"colorbar\": {\"outlinewidth\": 0, \"ticks\": \"\"}, \"colorscale\": [[0.0, \"#0d0887\"], [0.1111111111111111, \"#46039f\"], [0.2222222222222222, \"#7201a8\"], [0.3333333333333333, \"#9c179e\"], [0.4444444444444444, \"#bd3786\"], [0.5555555555555556, \"#d8576b\"], [0.6666666666666666, \"#ed7953\"], [0.7777777777777778, \"#fb9f3a\"], [0.8888888888888888, \"#fdca26\"], [1.0, \"#f0f921\"]], \"type\": \"heatmap\"}], \"heatmapgl\": [{\"colorbar\": {\"outlinewidth\": 0, \"ticks\": \"\"}, \"colorscale\": [[0.0, \"#0d0887\"], [0.1111111111111111, \"#46039f\"], [0.2222222222222222, \"#7201a8\"], [0.3333333333333333, \"#9c179e\"], [0.4444444444444444, \"#bd3786\"], [0.5555555555555556, \"#d8576b\"], [0.6666666666666666, \"#ed7953\"], [0.7777777777777778, \"#fb9f3a\"], [0.8888888888888888, \"#fdca26\"], [1.0, \"#f0f921\"]], \"type\": \"heatmapgl\"}], \"histogram\": [{\"marker\": {\"colorbar\": {\"outlinewidth\": 0, \"ticks\": \"\"}}, \"type\": \"histogram\"}], \"histogram2d\": [{\"colorbar\": {\"outlinewidth\": 0, \"ticks\": \"\"}, \"colorscale\": [[0.0, \"#0d0887\"], [0.1111111111111111, \"#46039f\"], [0.2222222222222222, \"#7201a8\"], [0.3333333333333333, \"#9c179e\"], [0.4444444444444444, \"#bd3786\"], [0.5555555555555556, \"#d8576b\"], [0.6666666666666666, \"#ed7953\"], [0.7777777777777778, \"#fb9f3a\"], [0.8888888888888888, \"#fdca26\"], [1.0, \"#f0f921\"]], \"type\": \"histogram2d\"}], \"histogram2dcontour\": [{\"colorbar\": {\"outlinewidth\": 0, \"ticks\": \"\"}, \"colorscale\": [[0.0, \"#0d0887\"], [0.1111111111111111, \"#46039f\"], [0.2222222222222222, \"#7201a8\"], [0.3333333333333333, \"#9c179e\"], [0.4444444444444444, \"#bd3786\"], [0.5555555555555556, \"#d8576b\"], [0.6666666666666666, \"#ed7953\"], [0.7777777777777778, \"#fb9f3a\"], [0.8888888888888888, \"#fdca26\"], [1.0, \"#f0f921\"]], \"type\": \"histogram2dcontour\"}], \"mesh3d\": [{\"colorbar\": {\"outlinewidth\": 0, \"ticks\": \"\"}, \"type\": \"mesh3d\"}], \"parcoords\": [{\"line\": {\"colorbar\": {\"outlinewidth\": 0, \"ticks\": \"\"}}, \"type\": \"parcoords\"}], \"pie\": [{\"automargin\": true, \"type\": \"pie\"}], \"scatter\": [{\"marker\": {\"colorbar\": {\"outlinewidth\": 0, \"ticks\": \"\"}}, \"type\": \"scatter\"}], \"scatter3d\": [{\"line\": {\"colorbar\": {\"outlinewidth\": 0, \"ticks\": \"\"}}, \"marker\": {\"colorbar\": {\"outlinewidth\": 0, \"ticks\": \"\"}}, \"type\": \"scatter3d\"}], \"scattercarpet\": [{\"marker\": {\"colorbar\": {\"outlinewidth\": 0, \"ticks\": \"\"}}, \"type\": \"scattercarpet\"}], \"scattergeo\": [{\"marker\": {\"colorbar\": {\"outlinewidth\": 0, \"ticks\": \"\"}}, \"type\": \"scattergeo\"}], \"scattergl\": [{\"marker\": {\"colorbar\": {\"outlinewidth\": 0, \"ticks\": \"\"}}, \"type\": \"scattergl\"}], \"scattermapbox\": [{\"marker\": {\"colorbar\": {\"outlinewidth\": 0, \"ticks\": \"\"}}, \"type\": \"scattermapbox\"}], \"scatterpolar\": [{\"marker\": {\"colorbar\": {\"outlinewidth\": 0, \"ticks\": \"\"}}, \"type\": \"scatterpolar\"}], \"scatterpolargl\": [{\"marker\": {\"colorbar\": {\"outlinewidth\": 0, \"ticks\": \"\"}}, \"type\": \"scatterpolargl\"}], \"scatterternary\": [{\"marker\": {\"colorbar\": {\"outlinewidth\": 0, \"ticks\": \"\"}}, \"type\": \"scatterternary\"}], \"surface\": [{\"colorbar\": {\"outlinewidth\": 0, \"ticks\": \"\"}, \"colorscale\": [[0.0, \"#0d0887\"], [0.1111111111111111, \"#46039f\"], [0.2222222222222222, \"#7201a8\"], [0.3333333333333333, \"#9c179e\"], [0.4444444444444444, \"#bd3786\"], [0.5555555555555556, \"#d8576b\"], [0.6666666666666666, \"#ed7953\"], [0.7777777777777778, \"#fb9f3a\"], [0.8888888888888888, \"#fdca26\"], [1.0, \"#f0f921\"]], \"type\": \"surface\"}], \"table\": [{\"cells\": {\"fill\": {\"color\": \"#EBF0F8\"}, \"line\": {\"color\": \"white\"}}, \"header\": {\"fill\": {\"color\": \"#C8D4E3\"}, \"line\": {\"color\": \"white\"}}, \"type\": \"table\"}]}, \"layout\": {\"annotationdefaults\": {\"arrowcolor\": \"#2a3f5f\", \"arrowhead\": 0, \"arrowwidth\": 1}, \"autotypenumbers\": \"strict\", \"coloraxis\": {\"colorbar\": {\"outlinewidth\": 0, \"ticks\": \"\"}}, \"colorscale\": {\"diverging\": [[0, \"#8e0152\"], [0.1, \"#c51b7d\"], [0.2, \"#de77ae\"], [0.3, \"#f1b6da\"], [0.4, \"#fde0ef\"], [0.5, \"#f7f7f7\"], [0.6, \"#e6f5d0\"], [0.7, \"#b8e186\"], [0.8, \"#7fbc41\"], [0.9, \"#4d9221\"], [1, \"#276419\"]], \"sequential\": [[0.0, \"#0d0887\"], [0.1111111111111111, \"#46039f\"], [0.2222222222222222, \"#7201a8\"], [0.3333333333333333, \"#9c179e\"], [0.4444444444444444, \"#bd3786\"], [0.5555555555555556, \"#d8576b\"], [0.6666666666666666, \"#ed7953\"], [0.7777777777777778, \"#fb9f3a\"], [0.8888888888888888, \"#fdca26\"], [1.0, \"#f0f921\"]], \"sequentialminus\": [[0.0, \"#0d0887\"], [0.1111111111111111, \"#46039f\"], [0.2222222222222222, \"#7201a8\"], [0.3333333333333333, \"#9c179e\"], [0.4444444444444444, \"#bd3786\"], [0.5555555555555556, \"#d8576b\"], [0.6666666666666666, \"#ed7953\"], [0.7777777777777778, \"#fb9f3a\"], [0.8888888888888888, \"#fdca26\"], [1.0, \"#f0f921\"]]}, \"colorway\": [\"#636efa\", \"#EF553B\", \"#00cc96\", \"#ab63fa\", \"#FFA15A\", \"#19d3f3\", \"#FF6692\", \"#B6E880\", \"#FF97FF\", \"#FECB52\"], \"font\": {\"color\": \"#2a3f5f\"}, \"geo\": {\"bgcolor\": \"white\", \"lakecolor\": \"white\", \"landcolor\": \"#E5ECF6\", \"showlakes\": true, \"showland\": true, \"subunitcolor\": \"white\"}, \"hoverlabel\": {\"align\": \"left\"}, \"hovermode\": \"closest\", \"mapbox\": {\"style\": \"light\"}, \"paper_bgcolor\": \"white\", \"plot_bgcolor\": \"#E5ECF6\", \"polar\": {\"angularaxis\": {\"gridcolor\": \"white\", \"linecolor\": \"white\", \"ticks\": \"\"}, \"bgcolor\": \"#E5ECF6\", \"radialaxis\": {\"gridcolor\": \"white\", \"linecolor\": \"white\", \"ticks\": \"\"}}, \"scene\": {\"xaxis\": {\"backgroundcolor\": \"#E5ECF6\", \"gridcolor\": \"white\", \"gridwidth\": 2, \"linecolor\": \"white\", \"showbackground\": true, \"ticks\": \"\", \"zerolinecolor\": \"white\"}, \"yaxis\": {\"backgroundcolor\": \"#E5ECF6\", \"gridcolor\": \"white\", \"gridwidth\": 2, \"linecolor\": \"white\", \"showbackground\": true, \"ticks\": \"\", \"zerolinecolor\": \"white\"}, \"zaxis\": {\"backgroundcolor\": \"#E5ECF6\", \"gridcolor\": \"white\", \"gridwidth\": 2, \"linecolor\": \"white\", \"showbackground\": true, \"ticks\": \"\", \"zerolinecolor\": \"white\"}}, \"shapedefaults\": {\"line\": {\"color\": \"#2a3f5f\"}}, \"ternary\": {\"aaxis\": {\"gridcolor\": \"white\", \"linecolor\": \"white\", \"ticks\": \"\"}, \"baxis\": {\"gridcolor\": \"white\", \"linecolor\": \"white\", \"ticks\": \"\"}, \"bgcolor\": \"#E5ECF6\", \"caxis\": {\"gridcolor\": \"white\", \"linecolor\": \"white\", \"ticks\": \"\"}}, \"title\": {\"x\": 0.05}, \"xaxis\": {\"automargin\": true, \"gridcolor\": \"white\", \"linecolor\": \"white\", \"ticks\": \"\", \"title\": {\"standoff\": 15}, \"zerolinecolor\": \"white\", \"zerolinewidth\": 2}, \"yaxis\": {\"automargin\": true, \"gridcolor\": \"white\", \"linecolor\": \"white\", \"ticks\": \"\", \"title\": {\"standoff\": 15}, \"zerolinecolor\": \"white\", \"zerolinewidth\": 2}}}, \"title\": {\"text\": \"Happiness Rate Changing 2015 to 2019 for Top 20 Countries\"}, \"xaxis\": {\"ticklen\": 5, \"title\": {\"text\": \"Happiness Score\"}, \"zeroline\": false}, \"yaxis\": {\"ticklen\": 5, \"title\": {\"text\": \"Freedom\"}, \"zeroline\": false}},                        {\"responsive\": true}                    ).then(function(){\n",
       "                            \n",
       "var gd = document.getElementById('d2cda161-38f1-4c4a-9068-e0cb6abbbc6b');\n",
       "var x = new MutationObserver(function (mutations, observer) {{\n",
       "        var display = window.getComputedStyle(gd).display;\n",
       "        if (!display || display === 'none') {{\n",
       "            console.log([gd, 'removed!']);\n",
       "            Plotly.purge(gd);\n",
       "            observer.disconnect();\n",
       "        }}\n",
       "}});\n",
       "\n",
       "// Listen for the removal of the full notebook cells\n",
       "var notebookContainer = gd.closest('#notebook-container');\n",
       "if (notebookContainer) {{\n",
       "    x.observe(notebookContainer, {childList: true});\n",
       "}}\n",
       "\n",
       "// Listen for the clearing of the current output cell\n",
       "var outputEl = gd.closest('.output');\n",
       "if (outputEl) {{\n",
       "    x.observe(outputEl, {childList: true});\n",
       "}}\n",
       "\n",
       "                        })                };                });            </script>        </div>"
      ]
     },
     "metadata": {},
     "output_type": "display_data"
    }
   ],
   "source": [
    "data = go.Scatter(  x = isolated_whr_data[feat1],\n",
    "                    y = isolated_whr_data[feat2],\n",
    "                    mode = \"markers\",\n",
    "                    name = \"2019\",\n",
    "                    marker = dict(color = 'blue'),\n",
    "                    #line = dict(color='firebrick', width=4, dash='dot'),\n",
    "                    text= whr_data.loc[whr_data['Year'] == 2019].Country)\n",
    "layout = dict(title = 'Happiness Rate Changing 2015 to 2019 for Top 20 Countries',\n",
    "              xaxis= dict(title= feat1,ticklen= 5,zeroline= False),\n",
    "              yaxis= dict(title= feat2,ticklen= 5,zeroline= False),\n",
    "              hovermode=\"x\"\n",
    "             )\n",
    "fig = go.Figure(data = data, layout = layout)\n",
    "\n",
    "fig.add_shape(type=\"circle\",\n",
    "    xref=\"x\", yref=\"y\",\n",
    "    x0=centerpoint[0]-lambda_[0]*np.sqrt(cutoff)*np.sqrt(2.5), y0=centerpoint[1]-lambda_[1]*np.sqrt(cutoff)*np.sqrt(2.5),\n",
    "    x1=centerpoint[0]+lambda_[0]*np.sqrt(cutoff)*np.sqrt(2.5), y1=centerpoint[1]+lambda_[1]*np.sqrt(cutoff)*np.sqrt(2.5),\n",
    "    opacity=0.2,\n",
    "    fillcolor=\"blue\",\n",
    "    line_color=\"blue\",\n",
    ")\n",
    "\n",
    "iplot(fig)"
   ]
  }
 ],
 "metadata": {
  "kernelspec": {
   "display_name": "Python 3",
   "language": "python",
   "name": "python3"
  },
  "language_info": {
   "codemirror_mode": {
    "name": "ipython",
    "version": 3
   },
   "file_extension": ".py",
   "mimetype": "text/x-python",
   "name": "python",
   "nbconvert_exporter": "python",
   "pygments_lexer": "ipython3",
   "version": "3.7.3"
  }
 },
 "nbformat": 4,
 "nbformat_minor": 5
}
