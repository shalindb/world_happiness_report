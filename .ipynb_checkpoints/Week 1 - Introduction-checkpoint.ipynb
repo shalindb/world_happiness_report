{
 "cells": [
  {
   "cell_type": "markdown",
   "id": "altered-footwear",
   "metadata": {},
   "source": [
    "# The World Happiness Report"
   ]
  },
  {
   "cell_type": "markdown",
   "id": "occupational-french",
   "metadata": {},
   "source": [
    "## Context\n",
    "\n",
    "The [World Happiness Report](https://worldhappiness.report/) is an annual landmark survey of the state of global happiness. As governments, civil society organizations, and policymakers continue to use the World Happiness Report to enact lasting societal change, we want to see what conclusions we can find from this data. \n",
    "We will be exploring what factors supposedly make individuals happy, the importance of criticism in making effective decisions, and how we can use data analysis to draw conclusions about grandiose topics like happiness!\n",
    "\n",
    "This dataset is not infallible, and at this point you may be thinking: how can we actually use this data to come to useful conclusions when it is very likely the survey data may not be an accurate representation of the country's actual happiness? (It's okay if you're not thinking of that, I'm just thinking of the orange chicken I just ate, so-). There are some interesting criticisms of the World Happiness Report, which we will explore in a few weeks after some analysis of the dataset. We will also explore issues of gender inequity and intergenerational poverty on a global scale through case studies.\n",
    "\n",
    "## Inspiration\n",
    "\n",
    "As Berkeley students, happiness may come as a rare concept to us. When exploring datasets on Kaggle, I found the World Happiness Report - which immediately caught my eye. This report has a treasure trove of history and the impact it has on real life policymaking decisions is quite large. I was curious as to the extent to which this report was accurate in presenting the world's happiness as a single number for each country, and what kinds of actions could be done to improve general global wellbeing.\n",
    "\n",
    "As we go throughout the content, I hope you are able to appreciate the capabilities of data science beyond simple regressions and plots. \n",
    "\n",
    "## This Week's Content\n",
    "\n",
    "This week is going to be a pretty relaxed one with little to no programming. As you get into the project, I want us to understand the meaning behind the data instead of just slapping some pandas and numpy over the numbers. What does it mean for a country to have a high or low happiness report? What countries have higher happiness on average, and why? What events cause happiness to rise or drop to statistically significant degrees? Does orange really rhyme with door hinge? These are all questions we hopefully ask ourselves as we work on this project over the next few weeks.\n",
    "\n",
    "I apologize for all the reading this week, I'll try to keep it lighter in future weeks but I thought it was necessary for this introduction."
   ]
  },
  {
   "cell_type": "code",
   "execution_count": 10,
   "id": "valid-northeast",
   "metadata": {},
   "outputs": [],
   "source": [
    "# Importing a quirky little library for the visualizations\n",
    "# Uncomment the below line if there is an issue with package downloading\n",
    "# !pip install pandas\n",
    "\n",
    "import pandas as pd"
   ]
  },
  {
   "cell_type": "markdown",
   "id": "square-individual",
   "metadata": {},
   "source": [
    "I'll be going through some pretty basic visualizations in preparation for our EDA next week, but this week you can just sit back and enjoy the pretty colors"
   ]
  },
  {
   "cell_type": "code",
   "execution_count": 16,
   "id": "major-australian",
   "metadata": {},
   "outputs": [],
   "source": [
    "whr_2015 = pd.read_csv('https://github.com/shalindb/world_happiness_report/blob/main/data/WHR_2015.csv?raw=true') # Going to use the 2015 dataset, but next week we will combine all of them"
   ]
  },
  {
   "cell_type": "code",
   "execution_count": 17,
   "id": "industrial-halloween",
   "metadata": {},
   "outputs": [
    {
     "data": {
      "text/html": [
       "<div>\n",
       "<style scoped>\n",
       "    .dataframe tbody tr th:only-of-type {\n",
       "        vertical-align: middle;\n",
       "    }\n",
       "\n",
       "    .dataframe tbody tr th {\n",
       "        vertical-align: top;\n",
       "    }\n",
       "\n",
       "    .dataframe thead th {\n",
       "        text-align: right;\n",
       "    }\n",
       "</style>\n",
       "<table border=\"1\" class=\"dataframe\">\n",
       "  <thead>\n",
       "    <tr style=\"text-align: right;\">\n",
       "      <th></th>\n",
       "      <th>Country</th>\n",
       "      <th>Region</th>\n",
       "      <th>Happiness Rank</th>\n",
       "      <th>Happiness Score</th>\n",
       "      <th>Standard Error</th>\n",
       "      <th>Economy (GDP per Capita)</th>\n",
       "      <th>Family</th>\n",
       "      <th>Health (Life Expectancy)</th>\n",
       "      <th>Freedom</th>\n",
       "      <th>Trust (Government Corruption)</th>\n",
       "      <th>Generosity</th>\n",
       "      <th>Dystopia Residual</th>\n",
       "    </tr>\n",
       "  </thead>\n",
       "  <tbody>\n",
       "    <tr>\n",
       "      <th>0</th>\n",
       "      <td>Switzerland</td>\n",
       "      <td>Western Europe</td>\n",
       "      <td>1</td>\n",
       "      <td>7.587</td>\n",
       "      <td>0.03411</td>\n",
       "      <td>1.39651</td>\n",
       "      <td>1.34951</td>\n",
       "      <td>0.94143</td>\n",
       "      <td>0.66557</td>\n",
       "      <td>0.41978</td>\n",
       "      <td>0.29678</td>\n",
       "      <td>2.51738</td>\n",
       "    </tr>\n",
       "    <tr>\n",
       "      <th>1</th>\n",
       "      <td>Iceland</td>\n",
       "      <td>Western Europe</td>\n",
       "      <td>2</td>\n",
       "      <td>7.561</td>\n",
       "      <td>0.04884</td>\n",
       "      <td>1.30232</td>\n",
       "      <td>1.40223</td>\n",
       "      <td>0.94784</td>\n",
       "      <td>0.62877</td>\n",
       "      <td>0.14145</td>\n",
       "      <td>0.43630</td>\n",
       "      <td>2.70201</td>\n",
       "    </tr>\n",
       "    <tr>\n",
       "      <th>2</th>\n",
       "      <td>Denmark</td>\n",
       "      <td>Western Europe</td>\n",
       "      <td>3</td>\n",
       "      <td>7.527</td>\n",
       "      <td>0.03328</td>\n",
       "      <td>1.32548</td>\n",
       "      <td>1.36058</td>\n",
       "      <td>0.87464</td>\n",
       "      <td>0.64938</td>\n",
       "      <td>0.48357</td>\n",
       "      <td>0.34139</td>\n",
       "      <td>2.49204</td>\n",
       "    </tr>\n",
       "    <tr>\n",
       "      <th>3</th>\n",
       "      <td>Norway</td>\n",
       "      <td>Western Europe</td>\n",
       "      <td>4</td>\n",
       "      <td>7.522</td>\n",
       "      <td>0.03880</td>\n",
       "      <td>1.45900</td>\n",
       "      <td>1.33095</td>\n",
       "      <td>0.88521</td>\n",
       "      <td>0.66973</td>\n",
       "      <td>0.36503</td>\n",
       "      <td>0.34699</td>\n",
       "      <td>2.46531</td>\n",
       "    </tr>\n",
       "    <tr>\n",
       "      <th>4</th>\n",
       "      <td>Canada</td>\n",
       "      <td>North America</td>\n",
       "      <td>5</td>\n",
       "      <td>7.427</td>\n",
       "      <td>0.03553</td>\n",
       "      <td>1.32629</td>\n",
       "      <td>1.32261</td>\n",
       "      <td>0.90563</td>\n",
       "      <td>0.63297</td>\n",
       "      <td>0.32957</td>\n",
       "      <td>0.45811</td>\n",
       "      <td>2.45176</td>\n",
       "    </tr>\n",
       "    <tr>\n",
       "      <th>...</th>\n",
       "      <td>...</td>\n",
       "      <td>...</td>\n",
       "      <td>...</td>\n",
       "      <td>...</td>\n",
       "      <td>...</td>\n",
       "      <td>...</td>\n",
       "      <td>...</td>\n",
       "      <td>...</td>\n",
       "      <td>...</td>\n",
       "      <td>...</td>\n",
       "      <td>...</td>\n",
       "      <td>...</td>\n",
       "    </tr>\n",
       "    <tr>\n",
       "      <th>153</th>\n",
       "      <td>Rwanda</td>\n",
       "      <td>Sub-Saharan Africa</td>\n",
       "      <td>154</td>\n",
       "      <td>3.465</td>\n",
       "      <td>0.03464</td>\n",
       "      <td>0.22208</td>\n",
       "      <td>0.77370</td>\n",
       "      <td>0.42864</td>\n",
       "      <td>0.59201</td>\n",
       "      <td>0.55191</td>\n",
       "      <td>0.22628</td>\n",
       "      <td>0.67042</td>\n",
       "    </tr>\n",
       "    <tr>\n",
       "      <th>154</th>\n",
       "      <td>Benin</td>\n",
       "      <td>Sub-Saharan Africa</td>\n",
       "      <td>155</td>\n",
       "      <td>3.340</td>\n",
       "      <td>0.03656</td>\n",
       "      <td>0.28665</td>\n",
       "      <td>0.35386</td>\n",
       "      <td>0.31910</td>\n",
       "      <td>0.48450</td>\n",
       "      <td>0.08010</td>\n",
       "      <td>0.18260</td>\n",
       "      <td>1.63328</td>\n",
       "    </tr>\n",
       "    <tr>\n",
       "      <th>155</th>\n",
       "      <td>Syria</td>\n",
       "      <td>Middle East and Northern Africa</td>\n",
       "      <td>156</td>\n",
       "      <td>3.006</td>\n",
       "      <td>0.05015</td>\n",
       "      <td>0.66320</td>\n",
       "      <td>0.47489</td>\n",
       "      <td>0.72193</td>\n",
       "      <td>0.15684</td>\n",
       "      <td>0.18906</td>\n",
       "      <td>0.47179</td>\n",
       "      <td>0.32858</td>\n",
       "    </tr>\n",
       "    <tr>\n",
       "      <th>156</th>\n",
       "      <td>Burundi</td>\n",
       "      <td>Sub-Saharan Africa</td>\n",
       "      <td>157</td>\n",
       "      <td>2.905</td>\n",
       "      <td>0.08658</td>\n",
       "      <td>0.01530</td>\n",
       "      <td>0.41587</td>\n",
       "      <td>0.22396</td>\n",
       "      <td>0.11850</td>\n",
       "      <td>0.10062</td>\n",
       "      <td>0.19727</td>\n",
       "      <td>1.83302</td>\n",
       "    </tr>\n",
       "    <tr>\n",
       "      <th>157</th>\n",
       "      <td>Togo</td>\n",
       "      <td>Sub-Saharan Africa</td>\n",
       "      <td>158</td>\n",
       "      <td>2.839</td>\n",
       "      <td>0.06727</td>\n",
       "      <td>0.20868</td>\n",
       "      <td>0.13995</td>\n",
       "      <td>0.28443</td>\n",
       "      <td>0.36453</td>\n",
       "      <td>0.10731</td>\n",
       "      <td>0.16681</td>\n",
       "      <td>1.56726</td>\n",
       "    </tr>\n",
       "  </tbody>\n",
       "</table>\n",
       "<p>158 rows × 12 columns</p>\n",
       "</div>"
      ],
      "text/plain": [
       "         Country                           Region  Happiness Rank  \\\n",
       "0    Switzerland                   Western Europe               1   \n",
       "1        Iceland                   Western Europe               2   \n",
       "2        Denmark                   Western Europe               3   \n",
       "3         Norway                   Western Europe               4   \n",
       "4         Canada                    North America               5   \n",
       "..           ...                              ...             ...   \n",
       "153       Rwanda               Sub-Saharan Africa             154   \n",
       "154        Benin               Sub-Saharan Africa             155   \n",
       "155        Syria  Middle East and Northern Africa             156   \n",
       "156      Burundi               Sub-Saharan Africa             157   \n",
       "157         Togo               Sub-Saharan Africa             158   \n",
       "\n",
       "     Happiness Score  Standard Error  Economy (GDP per Capita)   Family  \\\n",
       "0              7.587         0.03411                   1.39651  1.34951   \n",
       "1              7.561         0.04884                   1.30232  1.40223   \n",
       "2              7.527         0.03328                   1.32548  1.36058   \n",
       "3              7.522         0.03880                   1.45900  1.33095   \n",
       "4              7.427         0.03553                   1.32629  1.32261   \n",
       "..               ...             ...                       ...      ...   \n",
       "153            3.465         0.03464                   0.22208  0.77370   \n",
       "154            3.340         0.03656                   0.28665  0.35386   \n",
       "155            3.006         0.05015                   0.66320  0.47489   \n",
       "156            2.905         0.08658                   0.01530  0.41587   \n",
       "157            2.839         0.06727                   0.20868  0.13995   \n",
       "\n",
       "     Health (Life Expectancy)  Freedom  Trust (Government Corruption)  \\\n",
       "0                     0.94143  0.66557                        0.41978   \n",
       "1                     0.94784  0.62877                        0.14145   \n",
       "2                     0.87464  0.64938                        0.48357   \n",
       "3                     0.88521  0.66973                        0.36503   \n",
       "4                     0.90563  0.63297                        0.32957   \n",
       "..                        ...      ...                            ...   \n",
       "153                   0.42864  0.59201                        0.55191   \n",
       "154                   0.31910  0.48450                        0.08010   \n",
       "155                   0.72193  0.15684                        0.18906   \n",
       "156                   0.22396  0.11850                        0.10062   \n",
       "157                   0.28443  0.36453                        0.10731   \n",
       "\n",
       "     Generosity  Dystopia Residual  \n",
       "0       0.29678            2.51738  \n",
       "1       0.43630            2.70201  \n",
       "2       0.34139            2.49204  \n",
       "3       0.34699            2.46531  \n",
       "4       0.45811            2.45176  \n",
       "..          ...                ...  \n",
       "153     0.22628            0.67042  \n",
       "154     0.18260            1.63328  \n",
       "155     0.47179            0.32858  \n",
       "156     0.19727            1.83302  \n",
       "157     0.16681            1.56726  \n",
       "\n",
       "[158 rows x 12 columns]"
      ]
     },
     "execution_count": 17,
     "metadata": {},
     "output_type": "execute_result"
    }
   ],
   "source": [
    "whr_2015"
   ]
  },
  {
   "cell_type": "markdown",
   "id": "awful-genome",
   "metadata": {},
   "source": [
    "I'm interested in plotting the happiness score of each country so we can start thinking about happiness for each country and why it may be the way it is. We will go ahead and plot the top 20 countries in terms of happiness to see where they are and if the data makes sense at first glance"
   ]
  },
  {
   "cell_type": "code",
   "execution_count": 18,
   "id": "ecological-maria",
   "metadata": {
    "scrolled": false
   },
   "outputs": [
    {
     "data": {
      "text/plain": [
       "<matplotlib.axes._subplots.AxesSubplot at 0x7fa2efa6e358>"
      ]
     },
     "execution_count": 18,
     "metadata": {},
     "output_type": "execute_result"
    },
    {
     "data": {
      "image/png": "[encoded data removed]",
      "text/plain": [
       "<Figure size 432x288 with 1 Axes>"
      ]
     },
     "metadata": {
      "needs_background": "light"
     },
     "output_type": "display_data"
    }
   ],
   "source": [
    "whr_2015[:20].plot.barh('Country', 'Happiness Score', xlim=[6.5, 7.75], title='World Happiness, 2015')"
   ]
  },
  {
   "cell_type": "markdown",
   "id": "unsigned-bicycle",
   "metadata": {},
   "source": [
    "Cool cool cool so we see that a majority of the countries are developed countries in Europe. These are the types of questions we will be exploring through the lens of racial equity, poverty, economic development, and gender inequality. Among others, hopefully this content will help open our eyes to the importance of data science and the impacts we can have with a few lines of code."
   ]
  },
  {
   "cell_type": "markdown",
   "id": "threaded-dealer",
   "metadata": {},
   "source": [
    "Next, we will group the regions together and take a look at what each regions happiness scores are (and if they are different to a significant degree)"
   ]
  },
  {
   "cell_type": "code",
   "execution_count": 19,
   "id": "federal-competition",
   "metadata": {
    "scrolled": true
   },
   "outputs": [
    {
     "data": {
      "text/plain": [
       "<matplotlib.axes._subplots.AxesSubplot at 0x7fa2efcc9978>"
      ]
     },
     "execution_count": 19,
     "metadata": {},
     "output_type": "execute_result"
    },
    {
     "data": {
      "image/png": "[encoded data removed]",
      "text/plain": [
       "<Figure size 432x288 with 1 Axes>"
      ]
     },
     "metadata": {
      "needs_background": "light"
     },
     "output_type": "display_data"
    }
   ],
   "source": [
    "whr_2015_regions = whr_2015.groupby('Region').mean().reset_index()\n",
    "whr_2015_regions.plot.barh('Region', 'Happiness Score')"
   ]
  },
  {
   "cell_type": "markdown",
   "id": "impressive-hunter",
   "metadata": {},
   "source": [
    "So it seems like Europe and North America have the highest scores (along with Austrailia and New Zealand - interesting). It may seem obvious considering they are considered superpowers of the world, but it may also make us think of our own happiness living in the U.S. and how accurate we would consider the visualization to be."
   ]
  },
  {
   "cell_type": "markdown",
   "id": "indie-auction",
   "metadata": {},
   "source": [
    "### *Discussion* \n",
    "What about these countries makes them likely to have higher happiness scores? Think about their economic development, their placement on the global hierarchy, and anything you may know about their social structures (i.e. healthcare, safety nets, etc)"
   ]
  },
  {
   "cell_type": "markdown",
   "id": "upset-exercise",
   "metadata": {},
   "source": [
    "*Answer Here*"
   ]
  },
  {
   "cell_type": "markdown",
   "id": "supposed-indication",
   "metadata": {},
   "source": [
    "## Country vs. Feature\n",
    "\n",
    "Go ahead and plot the columns for Country against a given feature (any column after 'Standard Error') for the 2015 data and comment on the findings. I know this can seem like a bit of a trivial task, but I'll ramp it up for y'all starting next week. Like I said, I wanted this first week to be pretty chill and allow you to understand what kind of data we'll be playing with!\n",
    "\n",
    "Hint: You may also find [this](https://pandas.pydata.org/docs/reference/api/pandas.DataFrame.sort_values.html) function helpful for sorting values.\n",
    "\n",
    "Double click on this text box for the answer, if you get stuck (or are just lazy and don't want to write the line of code - it's okay, I'll only judge you a little bit)\n",
    "\n",
    "<!-- f\n",
    "feature = 'Family'\n",
    "whr_2015[:20].plot.barh('Country', feature, title=f'{feature} Scores, 2015')\n",
    "-->"
   ]
  },
  {
   "cell_type": "code",
   "execution_count": 20,
   "id": "hybrid-excess",
   "metadata": {},
   "outputs": [
    {
     "data": {
      "text/plain": [
       "Ellipsis"
      ]
     },
     "execution_count": 20,
     "metadata": {},
     "output_type": "execute_result"
    }
   ],
   "source": [
    "# If you're stuck at all, feel free to refer to the code for the above visualization. \n",
    "feature = ...\n",
    "..."
   ]
  },
  {
   "cell_type": "markdown",
   "id": "personal-coalition",
   "metadata": {},
   "source": [
    "### Thanks everyone, I hope this wasn't too much to take in. Looking forward to working with everyone for the duration of the project :) Feel free to reach out to me on Slack for any questions you may have."
   ]
  },
  {
   "cell_type": "code",
   "execution_count": null,
   "id": "ready-commercial",
   "metadata": {},
   "outputs": [],
   "source": []
  }
 ],
 "metadata": {
  "kernelspec": {
   "display_name": "Python 3",
   "language": "python",
   "name": "python3"
  },
  "language_info": {
   "codemirror_mode": {
    "name": "ipython",
    "version": 3
   },
   "file_extension": ".py",
   "mimetype": "text/x-python",
   "name": "python",
   "nbconvert_exporter": "python",
   "pygments_lexer": "ipython3",
   "version": "3.7.3"
  }
 },
 "nbformat": 4,
 "nbformat_minor": 5
}
